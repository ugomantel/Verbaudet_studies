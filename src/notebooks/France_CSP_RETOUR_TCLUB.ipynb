{
 "cells": [
  {
   "cell_type": "code",
   "execution_count": 1,
   "id": "e7a89b6a",
   "metadata": {},
   "outputs": [],
   "source": [
    "import os\n",
    "import pandas as pd\n",
    "import numpy as np\n",
    "from datetime import date, datetime, timedelta\n",
    "today = date.today().strftime(\"%Y%m%d\")\n",
    "import gc"
   ]
  },
  {
   "cell_type": "markdown",
   "id": "ac30548c",
   "metadata": {},
   "source": [
    "### Preliminar functions and imports"
   ]
  },
  {
   "cell_type": "code",
   "execution_count": 2,
   "id": "ec65ddaf",
   "metadata": {},
   "outputs": [],
   "source": [
    "def customer_category_attribution(x):\n",
    "    if x==1:\n",
    "        return 'One-timer'\n",
    "    if x==2:\n",
    "        return 'Two-timer'\n",
    "    else:\n",
    "        return 'Recurring'"
   ]
  },
  {
   "cell_type": "code",
   "execution_count": 3,
   "id": "d9bb2709",
   "metadata": {},
   "outputs": [],
   "source": [
    "def flatten (table):\n",
    "    if type(table.columns)==pd.MultiIndex:\n",
    "        columns_to_look = [name_tmp for name_tmp in table.columns]\n",
    "\n",
    "        columns_df = [ str(t[0])+'_'+str(t[1]) for t in columns_to_look]\n",
    "        columns_df.insert(0,table.index.name)\n",
    "\n",
    "        df = pd.DataFrame(columns = columns_df)\n",
    "\n",
    "        index = 0\n",
    "        for i in table.index:\n",
    "            row = [table[r][i] for r in columns_to_look]\n",
    "            row.insert(0,i)\n",
    "            df.loc[index] = row\n",
    "            index = index + 1\n",
    "        return(df)\n",
    "    else :\n",
    "        table = pd.DataFrame(table)\n",
    "        table.reset_index(level=0, inplace=True)\n",
    "        return table"
   ]
  },
  {
   "cell_type": "code",
   "execution_count": 4,
   "id": "416452fd",
   "metadata": {},
   "outputs": [
    {
     "name": "stderr",
     "output_type": "stream",
     "text": [
      "C:\\Users\\pierrick\\anaconda3\\lib\\site-packages\\IPython\\core\\interactiveshell.py:3165: DtypeWarning: Columns (0) have mixed types.Specify dtype option on import or set low_memory=False.\n",
      "  has_raised = await self.run_ast_nodes(code_ast.body, cell_name,\n"
     ]
    }
   ],
   "source": [
    "df_articles = pd.read_csv('./Vertbaudet/France/src/Original/Articles/Export_FR_Articles_Julie.csv',\n",
    "                                     usecols = [\"DEPARTEMENT_NIV2\",\"CODSAI\",\"REFSTK\", \"TOP_MN_Max\"])\n",
    "\n",
    "df_codsoc = pd.read_csv('./Vertbaudet/France/src/20210921_CODSOC.csv')\n",
    "\n",
    "df_client_dept = pd.read_csv('./20210923_Export_tab_FR/20210921_INDIVIDUS.tab', sep = '\\t',\n",
    "                 usecols = ['IDIND', 'CODPOST', \"DATPREMCDEWEB\"])\n",
    "\n",
    "clients_mag = pd.read_csv(\"./Vertbaudet/France/src/20211004_UNIQUE_IDIND_TICKET.csv\",sep=\",\")\n",
    "\n",
    "df_client = pd.read_csv('./Vertbaudet/France/Output_old/iris_med_rev_clients.csv', usecols = ['IDIND', 'Mediane'])\n",
    "\n",
    "df_IRIS_by_dep = pd.read_excel('./Vertbaudet/France/INSEE_data/INSEE_IRIS_by_dep.xlsx', usecols = ['CODGEO','MED18'])"
   ]
  },
  {
   "cell_type": "code",
   "execution_count": 5,
   "id": "0abfc666",
   "metadata": {
    "scrolled": true
   },
   "outputs": [
    {
     "data": {
      "text/plain": [
       "258"
      ]
     },
     "execution_count": 5,
     "metadata": {},
     "output_type": "execute_result"
    }
   ],
   "source": [
    "gc.collect()"
   ]
  },
  {
   "cell_type": "markdown",
   "id": "286df08a",
   "metadata": {},
   "source": [
    "# Import Client base and create fields"
   ]
  },
  {
   "cell_type": "code",
   "execution_count": 6,
   "id": "d4f2da35",
   "metadata": {
    "scrolled": true
   },
   "outputs": [
    {
     "name": "stdout",
     "output_type": "stream",
     "text": [
      "2017\n"
     ]
    },
    {
     "name": "stderr",
     "output_type": "stream",
     "text": [
      "C:\\Users\\pierrick\\anaconda3\\lib\\site-packages\\IPython\\core\\interactiveshell.py:3165: DtypeWarning: Columns (0,2) have mixed types.Specify dtype option on import or set low_memory=False.\n",
      "  has_raised = await self.run_ast_nodes(code_ast.body, cell_name,\n",
      "C:\\Users\\pierrick\\anaconda3\\lib\\site-packages\\IPython\\core\\interactiveshell.py:3165: DtypeWarning: Columns (7) have mixed types.Specify dtype option on import or set low_memory=False.\n",
      "  has_raised = await self.run_ast_nodes(code_ast.body, cell_name,\n"
     ]
    },
    {
     "name": "stdout",
     "output_type": "stream",
     "text": [
      "2018\n"
     ]
    },
    {
     "name": "stderr",
     "output_type": "stream",
     "text": [
      "C:\\Users\\pierrick\\anaconda3\\lib\\site-packages\\IPython\\core\\interactiveshell.py:3165: DtypeWarning: Columns (0,2) have mixed types.Specify dtype option on import or set low_memory=False.\n",
      "  has_raised = await self.run_ast_nodes(code_ast.body, cell_name,\n"
     ]
    },
    {
     "name": "stdout",
     "output_type": "stream",
     "text": [
      "2019\n"
     ]
    },
    {
     "name": "stderr",
     "output_type": "stream",
     "text": [
      "C:\\Users\\pierrick\\anaconda3\\lib\\site-packages\\IPython\\core\\interactiveshell.py:3165: DtypeWarning: Columns (0,2) have mixed types.Specify dtype option on import or set low_memory=False.\n",
      "  has_raised = await self.run_ast_nodes(code_ast.body, cell_name,\n"
     ]
    },
    {
     "name": "stdout",
     "output_type": "stream",
     "text": [
      "2020\n"
     ]
    },
    {
     "name": "stderr",
     "output_type": "stream",
     "text": [
      "C:\\Users\\pierrick\\anaconda3\\lib\\site-packages\\IPython\\core\\interactiveshell.py:3165: DtypeWarning: Columns (0,2) have mixed types.Specify dtype option on import or set low_memory=False.\n",
      "  has_raised = await self.run_ast_nodes(code_ast.body, cell_name,\n"
     ]
    },
    {
     "name": "stdout",
     "output_type": "stream",
     "text": [
      "2021\n"
     ]
    },
    {
     "name": "stderr",
     "output_type": "stream",
     "text": [
      "C:\\Users\\pierrick\\anaconda3\\lib\\site-packages\\IPython\\core\\interactiveshell.py:3165: DtypeWarning: Columns (0,2) have mixed types.Specify dtype option on import or set low_memory=False.\n",
      "  has_raised = await self.run_ast_nodes(code_ast.body, cell_name,\n"
     ]
    }
   ],
   "source": [
    "gc.collect()\n",
    "df = pd.DataFrame()\n",
    "for year in range(2017,2022):\n",
    "    print(year)\n",
    "    gc.collect()\n",
    "    df_tmp = pd.read_csv('./Vertbaudet/France/src/Original/Lignes_commandes/Export_FR_LIGNECOMMANDE_'+str(year)+'.csv', \n",
    "                              encoding = 'unicode_escape', \n",
    "                              usecols = ['IDIND', 'IDCLI', 'IDFOYER', 'DATCDE', 'DN', 'DBI', 'QTE', 'NUMCDE', 'CODSAI','REFSTK'])\n",
    "    \n",
    "    ### df_evt_tclub\n",
    "    df_evt_tclub = pd.read_csv('C:/Users/pierrick/eleven/Engagements - Vertbaudet/3. Data received/3. Extract/1. France/20211022_TYPEVT_'+str(year)[2:]+'.csv')\n",
    "    df_tmp = df_tmp.merge(df_evt_tclub, how = 'left', on = ['IDCLI', 'DATCDE', 'REFSTK', 'CODSAI', 'NUMCDE'])\n",
    "    del df_evt_tclub\n",
    "    gc.collect()\n",
    "    \n",
    "    \n",
    "    ### Merge with article table to get DEPARTEMENT_NIV2\n",
    "    df_tmp = df_tmp.merge(df_articles, how = 'left', on = [\"CODSAI\",\"REFSTK\"])\n",
    "    \n",
    "    ### Replace $null$\n",
    "    df_tmp = df_tmp.replace({'$null$': np.nan})\n",
    "    ### Clean IDIND index \n",
    "    df_tmp.IDIND = df_tmp.IDIND.astype(float)\n",
    "    df_tmp.IDFOYER = df_tmp.IDFOYER.astype(float)\n",
    "    \n",
    "    ### Filter mag clients\n",
    "    df_tmp = df_tmp[~df_tmp.IDIND.isin(clients_mag.IDIND)]\n",
    "\n",
    "    ### Filter non-french command with CODSOC\n",
    "    df_tmp = df_tmp.merge(df_codsoc, how = 'left', on = 'NUMCDE')\n",
    "    df_tmp = df_tmp[df_tmp.CODSOC==0]\n",
    "\n",
    "    #### Merge to get Mediane rev\n",
    "    df_tmp = df_tmp.merge(df_client, how = 'left', on = 'IDIND')\n",
    "\n",
    "    ### add departments and cohort\n",
    "    df_tmp = df_tmp.merge(df_client_dept.replace({'$null$': np.nan}), how = 'left', on = 'IDIND')\n",
    "    df_tmp = df_tmp[df_tmp.DATPREMCDEWEB != '$null$']\n",
    "    df_tmp['DATCDE'] = pd.to_datetime(df_tmp[\"DATCDE\"])\n",
    "    df_tmp['DATPREMCDEWEB'] = pd.to_datetime(df_tmp[\"DATPREMCDEWEB\"])\n",
    "    #df_tmp['DEPARTEMENT'] = df_tmp['CODPOST'].apply(lambda x : str(x)[:2])\n",
    "    df_tmp['COHORT'] = pd.to_datetime(df_tmp[\"DATPREMCDEWEB\"]).dt.year\n",
    "    \n",
    "    ### filter cohort\n",
    "    df_tmp = df_tmp[(df_tmp['COHORT'] >= 2017) & (df_tmp['COHORT'] < 2021)]\n",
    "    \n",
    "    ### filter on DN <= DB\n",
    "    df_tmp = df_tmp[df_tmp.DN <= df_tmp.DBI]\n",
    "    df_tmp = df_tmp[df_tmp.DN >= 0]\n",
    "\n",
    "    df = pd.concat([df,df_tmp[['IDIND', 'DN', 'DBI', 'NUMCDE', 'DATCDE', 'DATPREMCDEWEB', 'DEPARTEMENT_NIV2', 'QTE', 'Mediane', 'COHORT', 'TOP_MN_Max', 'TYPEVT', 'TCLUB']]])\n",
    "  \n",
    "    del df_tmp\n",
    "    gc.collect()"
   ]
  },
  {
   "cell_type": "markdown",
   "id": "620c4248",
   "metadata": {},
   "source": [
    "- Exclude B2B"
   ]
  },
  {
   "cell_type": "code",
   "execution_count": 7,
   "id": "00b4c750",
   "metadata": {},
   "outputs": [],
   "source": [
    "# Exclude B2B clients\n",
    "df_b2b = pd.read_csv('./Vertbaudet/France/src/20211012_TB2B.csv')\n",
    "df_b2b[['IDIND', 'TB2B']] = df_b2b[['IDIND', 'TB2B']].astype(float)\n",
    "df = df.merge(df_b2b, how = 'left', on = 'IDIND')\n",
    "df = df[df['TB2B']==0]\n",
    "df = df.drop(columns = ['TB2B'])\n",
    "del df_b2b"
   ]
  },
  {
   "cell_type": "markdown",
   "id": "ef2a9141",
   "metadata": {},
   "source": [
    "- Compte commande"
   ]
  },
  {
   "cell_type": "code",
   "execution_count": 8,
   "id": "fd658200",
   "metadata": {},
   "outputs": [],
   "source": [
    "nb_order =  flatten(df.sort_values(by='DATCDE',ascending=True).groupby(['NUMCDE']).agg({'IDIND':'first', 'DATCDE': 'first'}))\n",
    "nb_order['ORDER_NUMBER'] = nb_order.sort_values(by='DATCDE',ascending=True).groupby(['IDIND']).cumcount()+1\n",
    "df = pd.merge(df,nb_order[['NUMCDE','ORDER_NUMBER']],on='NUMCDE',how='left')"
   ]
  },
  {
   "cell_type": "markdown",
   "id": "43a832b5",
   "metadata": {},
   "source": [
    "- Client Category"
   ]
  },
  {
   "cell_type": "code",
   "execution_count": 9,
   "id": "deb86abf",
   "metadata": {},
   "outputs": [],
   "source": [
    "### Add CLIENT_CATEGORY\n",
    "nb_commande = flatten(df.groupby(['IDIND']).agg({'NUMCDE':pd.Series.nunique}))\n",
    "nb_commande.columns = ['IDIND','NB_ORDERS']\n",
    "df = pd.merge(df,nb_commande,on='IDIND',how='left',suffixes=(False,False))\n",
    "df['CLIENT_CATEGORY'] = df.NB_ORDERS.apply(lambda x: customer_category_attribution(x))"
   ]
  },
  {
   "cell_type": "markdown",
   "id": "4c6587b4",
   "metadata": {},
   "source": [
    "- New Department"
   ]
  },
  {
   "cell_type": "code",
   "execution_count": 10,
   "id": "4eb92520",
   "metadata": {},
   "outputs": [
    {
     "data": {
      "text/plain": [
       "0"
      ]
     },
     "execution_count": 10,
     "metadata": {},
     "output_type": "execute_result"
    }
   ],
   "source": [
    "### Create NEW_DEP field\n",
    "\n",
    "def dif(x,y):\n",
    "    return len(y.difference(x))\n",
    "\n",
    "df_list_dept_by_cmd = df[df['ORDER_NUMBER'].isin(range(1,3))].groupby(['IDIND', 'ORDER_NUMBER']).agg({'ORDER_NUMBER': 'first', 'DEPARTEMENT_NIV2': lambda x: list(pd.Series.unique(x))})\n",
    "df_cmd_1_2 = df_list_dept_by_cmd[df_list_dept_by_cmd['ORDER_NUMBER']==1].merge(df_list_dept_by_cmd[df_list_dept_by_cmd['ORDER_NUMBER']==2], how = 'left', on = 'IDIND').rename(columns = {'DEPARTEMENT_NIV2_x': 'DEPART_1', 'DEPARTEMENT_NIV2_y': 'DEPART_2'})\n",
    "df_cmd_1_2 = df_cmd_1_2[(df_cmd_1_2.DEPART_1.notna()) & (df_cmd_1_2.DEPART_2.notna())]\n",
    "df_cmd_1_2['NEW_DEP'] = df_cmd_1_2.apply(lambda x: dif(set(x.DEPART_1), set(x.DEPART_2)), axis = 1)\n",
    "df = df.merge(df_cmd_1_2['NEW_DEP'], how = 'left', left_on = 'IDIND', right_index = True)\n",
    "\n",
    "del df_cmd_1_2\n",
    "del df_list_dept_by_cmd\n",
    "gc.collect()"
   ]
  },
  {
   "cell_type": "markdown",
   "id": "783a66a2",
   "metadata": {},
   "source": [
    "- Churn Delay"
   ]
  },
  {
   "cell_type": "code",
   "execution_count": 12,
   "id": "28d0c39b",
   "metadata": {},
   "outputs": [
    {
     "data": {
      "text/plain": [
       "0"
      ]
     },
     "execution_count": 12,
     "metadata": {},
     "output_type": "execute_result"
    }
   ],
   "source": [
    "### Add churn_delay field\n",
    "df_churn = df.sort_values(by = 'DATCDE', ascending = True).groupby('IDIND').agg({'DATCDE': 'last', 'DATPREMCDEWEB': 'last', 'IDIND':'last'})\n",
    "df_second = df[df['ORDER_NUMBER'] == 2].drop_duplicates('IDIND')[['IDIND', 'DATCDE']].rename(columns = {'DATCDE': 'DATCDE_2'})\n",
    "df_churn = df_churn.merge(df_second, how = 'left', left_index = True,  right_on = 'IDIND')\n",
    "df_churn = df_churn.reset_index()\n",
    "df_churn['CHURN_DELAY'] = (df_churn['DATCDE'] + timedelta(days=365)) - df_churn['DATPREMCDEWEB']\n",
    "df_churn['CHURN_DELAY_2'] = (df_churn['DATCDE'] + timedelta(days=365)) - df_churn['DATCDE_2']\n",
    "df_churn = df_churn.drop(columns = 'index')\n",
    "\n",
    "df = df.merge(df_churn[['IDIND','CHURN_DELAY_2', 'CHURN_DELAY']], how = 'left', left_on = 'IDIND', right_on  = 'IDIND')\n",
    "\n",
    "del df_churn\n",
    "del df_second\n",
    "\n",
    "df['CHURN_DELAY'] = df['CHURN_DELAY'].apply(lambda x : x.days)\n",
    "df['CHURN_DELAY_2'] = df['CHURN_DELAY_2'].apply(lambda x : x.days)\n",
    "\n",
    "gc.collect()\n",
    "\n"
   ]
  },
  {
   "cell_type": "markdown",
   "id": "f7a8f020",
   "metadata": {},
   "source": [
    "- Discount category"
   ]
  },
  {
   "cell_type": "code",
   "execution_count": 38,
   "id": "352fa614",
   "metadata": {},
   "outputs": [
    {
     "data": {
      "text/plain": [
       "114"
      ]
     },
     "execution_count": 38,
     "metadata": {},
     "output_type": "execute_result"
    }
   ],
   "source": [
    "def categorize_distribution_discount(x):\n",
    "    if x==0.:\n",
    "        return('No discount')\n",
    "    if (x>0) & (x<=0.13):\n",
    "        return('0-13%')\n",
    "    if (x>0.13) & (x<=0.16):\n",
    "        return('13-16%')\n",
    "    if (x>0.16) & (x<=0.3):\n",
    "        return('16-30%')\n",
    "    if (x>0.3) & (x<=0.5):\n",
    "        return('30-50%')\n",
    "    if (x>0.5) & (x<=0.7):\n",
    "        return('50-70%')\n",
    "    if (x>0.7) & (x<=0.9):\n",
    "        return('70-90%')\n",
    "    if x>0.9:\n",
    "        return('>90%')\n",
    "    \n",
    "### Discount by article    \n",
    "df['DISCOUNT'] = df.DBI - df.DN\n",
    "df['DISCOUNT_PCT'] = 1 - df.DN/df.DBI\n",
    "df['DISCOUNT_CAT'] = df[\"DISCOUNT_PCT\"].apply(lambda x: categorize_distribution_discount(x))\n",
    "\n",
    "gc.collect()"
   ]
  },
  {
   "cell_type": "code",
   "execution_count": 40,
   "id": "dcf7f0ee",
   "metadata": {},
   "outputs": [
    {
     "data": {
      "text/plain": [
       "23"
      ]
     },
     "execution_count": 40,
     "metadata": {},
     "output_type": "execute_result"
    }
   ],
   "source": [
    "### Add DISCOUNT_CMD_CAT\n",
    "df_discount_cmd = df.groupby('NUMCDE').agg({'DN': sum, 'DBI':sum})\n",
    "df_discount_cmd['DISCOUNT_CMD_PCT'] = 1 - (df_discount_cmd.DN / df_discount_cmd.DBI)\n",
    "df_discount_cmd['DISCOUNT_CMD_CAT'] = df_discount_cmd[\"DISCOUNT_CMD_PCT\"].apply(lambda x: categorize_distribution_discount(x))\n",
    "df = df.merge(df_discount_cmd['DISCOUNT_CMD_CAT'], how = 'left', on = 'NUMCDE')\n",
    "\n",
    "gc.collect()"
   ]
  },
  {
   "cell_type": "markdown",
   "id": "54d6f8e2",
   "metadata": {},
   "source": [
    "- Departement commande"
   ]
  },
  {
   "cell_type": "code",
   "execution_count": 41,
   "id": "b8fd0ee3",
   "metadata": {},
   "outputs": [
    {
     "data": {
      "text/plain": [
       "15"
      ]
     },
     "execution_count": 41,
     "metadata": {},
     "output_type": "execute_result"
    }
   ],
   "source": [
    "### Add DEPARTEMENT_CMD field\n",
    "cat_order = df.groupby(['NUMCDE', 'DEPARTEMENT_NIV2']).agg({'DN': sum, 'DEPARTEMENT_NIV2': 'first'})\n",
    "cat_order = cat_order.sort_values(by='DN',ascending=False).groupby('NUMCDE').agg({'DEPARTEMENT_NIV2': 'first'})\n",
    "cat_order = cat_order.rename(columns = {'DEPARTEMENT_NIV2': 'DEPARTEMENT_CMD'})\n",
    "\n",
    "df = pd.merge(df,cat_order, how='left', on='NUMCDE', right_index = False,  suffixes=(False,False))\n",
    "\n",
    "del cat_order\n",
    "gc.collect()"
   ]
  },
  {
   "cell_type": "markdown",
   "id": "1cac6626",
   "metadata": {},
   "source": [
    "- Recruitment department"
   ]
  },
  {
   "cell_type": "code",
   "execution_count": 43,
   "id": "8298dbb8",
   "metadata": {},
   "outputs": [],
   "source": [
    "df_recruit = df[df.ORDER_NUMBER == 1][['IDIND', 'DEPARTEMENT_CMD']].drop_duplicates('IDIND').rename(columns = {'DEPARTEMENT_CMD': 'DEPARTEMENT_FIRST'})\n",
    "df = df.merge(df_recruit, how = 'left', on = 'IDIND')"
   ]
  },
  {
   "cell_type": "code",
   "execution_count": 44,
   "id": "54a2e847",
   "metadata": {
    "scrolled": true
   },
   "outputs": [
    {
     "data": {
      "text/plain": [
       "132"
      ]
     },
     "execution_count": 44,
     "metadata": {},
     "output_type": "execute_result"
    }
   ],
   "source": [
    "gc.collect()"
   ]
  },
  {
   "cell_type": "markdown",
   "id": "1e6483db",
   "metadata": {},
   "source": [
    "- Commande exclusivement MN"
   ]
  },
  {
   "cell_type": "code",
   "execution_count": 63,
   "id": "a99160f4",
   "metadata": {
    "scrolled": true
   },
   "outputs": [],
   "source": [
    "df_mn = df.groupby('NUMCDE')[['NUMCDE', 'TOP_MN_Max']].agg({'TOP_MN_Max': min}).rename(columns = {'TOP_MN_Max': 'CMD_MN'})\n",
    "df = df.merge(df_mn, how = 'left', on = 'NUMCDE')"
   ]
  },
  {
   "cell_type": "markdown",
   "id": "ff872d8c",
   "metadata": {},
   "source": [
    "- MN recruit"
   ]
  },
  {
   "cell_type": "code",
   "execution_count": 159,
   "id": "b4249bd3",
   "metadata": {},
   "outputs": [],
   "source": [
    "df_mn_recruit = df[df.ORDER_NUMBER == 1][['IDIND', 'CMD_MN']].drop_duplicates('IDIND').rename(columns = {'CMD_MN': 'MN_FIRST'})\n",
    "df = df.merge(df_mn_recruit, how = 'left', on = 'IDIND')"
   ]
  },
  {
   "cell_type": "markdown",
   "id": "81e27c2d",
   "metadata": {},
   "source": [
    "- LTV"
   ]
  },
  {
   "cell_type": "code",
   "execution_count": 77,
   "id": "d101615d",
   "metadata": {},
   "outputs": [
    {
     "name": "stdout",
     "output_type": "stream",
     "text": [
      "121.9110836696581\n",
      "150.33917873961332\n"
     ]
    },
    {
     "data": {
      "text/plain": [
       "64"
      ]
     },
     "execution_count": 77,
     "metadata": {},
     "output_type": "execute_result"
    }
   ],
   "source": [
    "import datetime\n",
    "from datetime import datetime, time ,date ,timedelta\n",
    "\n",
    "# Add DAT_12 and DAT_14 column\n",
    "df['DAT_12'] = df['DATPREMCDEWEB'] + timedelta(days=365)\n",
    "df['DAT_24'] = df['DATPREMCDEWEB'] + timedelta(days=730)\n",
    "\n",
    "### Add LTV_12 column\n",
    "df_ltv_12 = df[df['DATCDE']<=df['DAT_12']][['IDIND', 'DN']]\n",
    "df_ltv_12 = df_ltv_12.groupby('IDIND').agg({'DN': sum})\n",
    "df_ltv_12 = df_ltv_12.rename(columns = {'DN': 'LTV_12'})\n",
    "print(df_ltv_12['LTV_12'].mean())\n",
    "df = df.merge(df_ltv_12, how = 'left', on = 'IDIND')\n",
    "\n",
    "del df_ltv_12\n",
    "\n",
    "### Add LTV_24 column\n",
    "df_ltv_24 = df[df['DATCDE']<=df['DAT_24']][['IDIND', 'DN']]\n",
    "df_ltv_24 = df_ltv_24.groupby('IDIND').agg({'DN': sum})\n",
    "df_ltv_24 = df_ltv_24.rename(columns = {'DN': 'LTV_24'})\n",
    "print(df_ltv_24['LTV_24'].mean())\n",
    "df = df.merge(df_ltv_24, how = 'left', on = 'IDIND')\n",
    "\n",
    "del df_ltv_24\n",
    "\n",
    "gc.collect()"
   ]
  },
  {
   "cell_type": "code",
   "execution_count": 98,
   "id": "d9207e90",
   "metadata": {},
   "outputs": [
    {
     "name": "stdout",
     "output_type": "stream",
     "text": [
      "168.64949830975934\n"
     ]
    },
    {
     "data": {
      "text/plain": [
       "6026"
      ]
     },
     "execution_count": 98,
     "metadata": {},
     "output_type": "execute_result"
    }
   ],
   "source": [
    "df['DAT_36'] = df['DATPREMCDEWEB'] + timedelta(days=1095)\n",
    "\n",
    "### Add LTV_36 column\n",
    "df_ltv_36 = df[df['DATCDE']<=df['DAT_36']][['IDIND', 'DN']]\n",
    "df_ltv_36 = df_ltv_36.groupby('IDIND').agg({'DN': sum})\n",
    "df_ltv_36 = df_ltv_36.rename(columns = {'DN': 'LTV_36'})\n",
    "print(df_ltv_36['LTV_36'].mean())\n",
    "df = df.merge(df_ltv_36, how = 'left', on = 'IDIND')\n",
    "\n",
    "del df_ltv_36\n",
    "\n",
    "gc.collect()"
   ]
  },
  {
   "cell_type": "markdown",
   "id": "8211ea73",
   "metadata": {},
   "source": [
    "- Enfants"
   ]
  },
  {
   "cell_type": "code",
   "execution_count": 119,
   "id": "05e6ea84",
   "metadata": {
    "scrolled": true
   },
   "outputs": [
    {
     "name": "stderr",
     "output_type": "stream",
     "text": [
      "C:\\Users\\pierrick\\anaconda3\\lib\\site-packages\\IPython\\core\\interactiveshell.py:3165: DtypeWarning: Columns (4) have mixed types.Specify dtype option on import or set low_memory=False.\n",
      "  has_raised = await self.run_ast_nodes(code_ast.body, cell_name,\n"
     ]
    }
   ],
   "source": [
    "enfants = pd.read_csv(os.path.join(\"C:/Users/pierrick/eleven/Engagements - Vertbaudet/3. Data received/3. Extract/1. France/20211018_ENFANT.csv\"),sep=\",\")"
   ]
  },
  {
   "cell_type": "code",
   "execution_count": 90,
   "id": "6d43991c",
   "metadata": {},
   "outputs": [],
   "source": [
    "enfants = pd.read_csv(os.path.join(\"C:/Users/pierrick/eleven/Engagements - Vertbaudet/3. Data received/3. Extract/1. France/20211018_ENFANT.csv\"),sep=\",\")\n",
    "df_b2b = pd.read_csv('./Vertbaudet/France/src/20211012_TB2B.csv')\n",
    "\n",
    "enfants[\"IDIND\"] = enfants[\"IDIND\"].astype(float)\n",
    "enfants = enfants.merge(df_b2b, on=\"IDIND\", how='left')\n",
    "enfants = enfants[enfants.TB2B == 0.]\n",
    "enfants['DATNAIS'] = pd.to_datetime(enfants['DATNAIS'])\n",
    "nb_enfant = flatten(enfants.groupby('IDIND').agg({'DATNAIS': 'count'}))\n",
    "nb_enfant.columns = ['IDIND', 'NB_ENFANTS']\n",
    "\n",
    "eldest_child = flatten(enfants.groupby('IDIND').agg({'DATNAIS': 'min'}))\n",
    "eldest_child.columns = ['IDIND', 'DATNAIS_OLDEST']\n",
    "enfants = enfants.merge(nb_enfant, on='IDIND', how='left')\n",
    "enfants = enfants.merge(eldest_child, on='IDIND', how='left')\n",
    "\n",
    "enfants = enfants[enfants.TINFOREEL == 1.]\n",
    "enfants = enfants[enfants.NB_ENFANTS == 1]\n",
    "df = df.merge(enfants[['IDIND', 'NB_ENFANTS', 'DATNAIS_OLDEST']], on='IDIND', how='left')\n",
    "df['AGE_ENFANT_ACHAT_YEARS'] = np.floor((df.DATCDE - df.DATNAIS_OLDEST).dt.days/365)\n",
    "df['AGE_ENFANT_ACHAT_MONTHS'] = np.floor((df.DATCDE - df.DATNAIS_OLDEST).dt.days/30.437)\n",
    "\n",
    "cat_age = df.sort_values(by='DATCDE',ascending=True).drop_duplicates(subset='IDIND', keep='first', inplace=False)[['IDIND','AGE_ENFANT_ACHAT_YEARS', 'AGE_ENFANT_ACHAT_MONTHS']]\n",
    "cat_age.columns = ['IDIND','AGE_ENFANT_ACHAT_FIRST_YEARS','AGE_ENFANT_ACHAT_FIRST_MONTHS']\n",
    "df = pd.merge(df,cat_age,on='IDIND',how='left',suffixes=(False,False))"
   ]
  },
  {
   "cell_type": "markdown",
   "id": "03784a88",
   "metadata": {},
   "source": [
    "- Acquisition channel"
   ]
  },
  {
   "cell_type": "code",
   "execution_count": 97,
   "id": "9f4749ee",
   "metadata": {},
   "outputs": [],
   "source": [
    "df_code_tracking = pd.read_csv('./Vertbaudet/France/src/20210928_CodeTracking.tab', sep = '\\t')\n",
    "\n",
    "df_input_code_tracking = pd.read_excel('./Vertbaudet/France/src/INPUT_CODES_TRACKING.xlsx', sheet_name = 'CODES_TRACKING')\n",
    "\n",
    "df_code_tracking = df_code_tracking.merge(df_input_code_tracking, how = 'left', on = 'CODE_TRACKING')\n",
    "\n",
    "df = df.merge(df_code_tracking[['NUMCDE', 'LEVIER', 'NEW_LEVIER']], how = 'left', on = 'NUMCDE')"
   ]
  },
  {
   "cell_type": "code",
   "execution_count": 174,
   "id": "668f58f7",
   "metadata": {},
   "outputs": [],
   "source": [
    "df[df.NEW_LEVIER.isin(['COMPARATEURS', 'GOOGLE SHOPPING', 'AFFILIATION'])].drop_duplicates('IDIND').groupby('NEW_LEVIER').agg({'CHURN_DELAY': 'mean', 'LTV_12': 'mean', 'LTV_24': 'mean'}).to_excel('./Vertbaudet/France/Output/'+today+'_churn_ltv_bad_acq_channel.xlsx')"
   ]
  },
  {
   "cell_type": "code",
   "execution_count": 176,
   "id": "9fca2be5",
   "metadata": {},
   "outputs": [],
   "source": [
    "df[df.NEW_LEVIER.isin(['COMPARATEURS', 'GOOGLE SHOPPING', 'AFFILIATION'])].drop_duplicates('IDIND').groupby(['NEW_LEVIER', 'CLIENT_CATEGORY']).agg({'IDIND': pd.Series.nunique}).unstack().to_excel('./Vertbaudet/France/Output/'+today+'_client_cat_bad_acq_channel.xlsx')"
   ]
  },
  {
   "cell_type": "markdown",
   "id": "eb0933be",
   "metadata": {},
   "source": [
    "- Segmentation fréquence"
   ]
  },
  {
   "cell_type": "code",
   "execution_count": 13,
   "id": "9e0b750c",
   "metadata": {},
   "outputs": [],
   "source": [
    "def segmentation_small_freq(x):\n",
    "    if x < 7:\n",
    "        return '< 1 week'\n",
    "    elif x < 14:\n",
    "        return '1-2 weeks'\n",
    "    elif x < 21:\n",
    "        return '2-3 weeks'\n",
    "    elif x < 30:\n",
    "        return '3-4 weeks'\n",
    "    elif x < 90:\n",
    "        return '1-3 months'\n",
    "    elif x < 180:\n",
    "        return '3-6 months'\n",
    "    elif x < 270:\n",
    "        return '6-9 months'\n",
    "    elif x < 365 :\n",
    "        return '9-12 months'\n",
    "    elif x > 365 :\n",
    "        return '> 12 months'"
   ]
  },
  {
   "cell_type": "code",
   "execution_count": 14,
   "id": "0ec4bf47",
   "metadata": {},
   "outputs": [],
   "source": [
    "def segmentation_intraweek(x):\n",
    "    if x < 1:\n",
    "        return '< 1 day'\n",
    "    elif x < 2:\n",
    "        return '1-2 days'\n",
    "    elif x < 3:\n",
    "        return '2-3 days'\n",
    "    elif x < 4:\n",
    "        return '3-4 days'\n",
    "    elif x < 5:\n",
    "        return '4-5 days'\n",
    "    elif x < 6:\n",
    "        return '5-6 days'\n",
    "    elif x < 7:\n",
    "        return '6-7 days'\n",
    "    else:\n",
    "        return '>= 1 week'"
   ]
  },
  {
   "cell_type": "code",
   "execution_count": 16,
   "id": "b78acfa3",
   "metadata": {},
   "outputs": [
    {
     "name": "stdout",
     "output_type": "stream",
     "text": [
      "(15, 4)\n"
     ]
    },
    {
     "data": {
      "text/plain": [
       "15"
      ]
     },
     "execution_count": 16,
     "metadata": {},
     "output_type": "execute_result"
    }
   ],
   "source": [
    "df_first = df[df['ORDER_NUMBER'] == 1].drop_duplicates('IDIND')[['IDIND', 'DATCDE']]\n",
    "\n",
    "df_second = df[df['ORDER_NUMBER'] == 2].drop_duplicates('IDIND')[['IDIND', 'DATCDE']].rename(columns = {'DATCDE': 'DATCDE_2'})\n",
    "\n",
    "df_first = df_first.merge(df_second, how = 'left', on = 'IDIND')\n",
    "\n",
    "df_first['GAP'] = (df_first['DATCDE_2'] - df_first['DATCDE']).dt.days\n",
    "\n",
    "### Sanity check\n",
    "print(df_first[df_first.GAP < 0].shape)\n",
    "\n",
    "#df_first['FREQ_CAT_INTRAWEEK'] = df_first['GAP'].apply(segmentation_intraweek)\n",
    "df_first['FREQ_CAT_SMALL'] = df_first['GAP'].apply(segmentation_small_freq)\n",
    "\n",
    "#df = df.merge(df_first[['IDIND', 'FREQ_CAT_INTRAWEEK']], how = 'left', on = 'IDIND')\n",
    "df = df.merge(df_first[['IDIND', 'FREQ_CAT_SMALL']], how = 'left', on = 'IDIND')\n",
    "\n",
    "\n",
    "\n",
    "del df_first\n",
    "del df_second\n",
    "gc.collect()  "
   ]
  },
  {
   "cell_type": "markdown",
   "id": "7895ba05",
   "metadata": {},
   "source": [
    "- Add RETOUR field"
   ]
  },
  {
   "cell_type": "code",
   "execution_count": 17,
   "id": "8e94ca1e",
   "metadata": {},
   "outputs": [],
   "source": [
    "def map_retour(x):\n",
    "    if (x == 7) or (x == 15):\n",
    "        return 1\n",
    "    else:\n",
    "        return 0\n",
    "\n",
    "df['RETOUR'] = df['TYPEVT'].apply(map_retour)"
   ]
  },
  {
   "cell_type": "code",
   "execution_count": 18,
   "id": "a32affb8",
   "metadata": {},
   "outputs": [],
   "source": [
    "def map_retour_sec(x):\n",
    "    if x == 7 :\n",
    "        return 1\n",
    "    else:\n",
    "        return 0\n",
    "\n",
    "df['RETOUR_SEC'] = df['TYPEVT'].apply(map_retour_sec)"
   ]
  },
  {
   "cell_type": "markdown",
   "id": "0349f92c",
   "metadata": {},
   "source": [
    "# % RETOUR by REORDER DELAY"
   ]
  },
  {
   "cell_type": "code",
   "execution_count": 20,
   "id": "d4d07279",
   "metadata": {},
   "outputs": [],
   "source": [
    "df_retour_by_freq_cat_small = df[df['DATCDE']==df['DATPREMCDEWEB']].sort_values(by = 'RETOUR', ascending = False).drop_duplicates(['IDIND', 'NUMCDE']).groupby(['FREQ_CAT_SMALL', 'RETOUR']).agg({'IDIND': pd.Series.nunique})"
   ]
  },
  {
   "cell_type": "code",
   "execution_count": 30,
   "id": "97041f71",
   "metadata": {},
   "outputs": [],
   "source": [
    "df_retour_by_freq_cat_small.unstack().to_excel('./Vertbaudet/France/Output/'+today+'_retour_freq_cat_small.xlsx')"
   ]
  },
  {
   "cell_type": "code",
   "execution_count": 33,
   "id": "eedb7433",
   "metadata": {},
   "outputs": [],
   "source": [
    "df[df['DATCDE']==df['DATPREMCDEWEB']].sort_values(by = 'RETOUR_SEC', ascending = False).drop_duplicates(['IDIND', 'NUMCDE']).groupby(['FREQ_CAT_SMALL', 'RETOUR_SEC']).agg({'IDIND': pd.Series.nunique}).unstack().to_excel('./Vertbaudet/France/Output/'+today+'_retour_sec_freq_cat_small.xlsx')"
   ]
  },
  {
   "cell_type": "code",
   "execution_count": 42,
   "id": "79fcaf87",
   "metadata": {},
   "outputs": [],
   "source": [
    "df[df['DATCDE']==df['DATPREMCDEWEB']].sort_values(by = 'RETOUR_SEC', ascending = False).drop_duplicates(['IDIND', 'NUMCDE']).groupby(['FREQ_CAT_SMALL', 'TYPEVT']).agg({'IDIND': pd.Series.nunique}).unstack().to_excel('./Vertbaudet/France/Output/'+today+'_typevt_freq_cat_small.xlsx')"
   ]
  },
  {
   "cell_type": "code",
   "execution_count": 51,
   "id": "7cb2f1f4",
   "metadata": {},
   "outputs": [],
   "source": [
    "df[df['DATCDE']==df['DATPREMCDEWEB']].sort_values(by = 'RETOUR_SEC', ascending = False).drop_duplicates(['IDIND', 'NUMCDE']).groupby(['FREQ_CAT_INTRAWEEK', 'RETOUR_SEC']).agg({'IDIND': pd.Series.nunique}).unstack().to_excel('./Vertbaudet/France/Output/'+today+'_retour_sec_freq_cat_intraweek.xlsx')"
   ]
  },
  {
   "cell_type": "markdown",
   "id": "1ac08ea3",
   "metadata": {},
   "source": [
    "# % TCLUB"
   ]
  },
  {
   "cell_type": "code",
   "execution_count": 22,
   "id": "41a017be",
   "metadata": {},
   "outputs": [],
   "source": [
    "df['TCLUB'] = df['TCLUB'].astype(bool)"
   ]
  },
  {
   "cell_type": "code",
   "execution_count": 35,
   "id": "81707a29",
   "metadata": {
    "scrolled": false
   },
   "outputs": [],
   "source": [
    "df.drop_duplicates(['IDIND', 'NUMCDE']).groupby('TCLUB').agg({'NUMCDE': pd.Series.nunique}).to_excel('./Vertbaudet/France/Output/'+today+'_tclub.xlsx')"
   ]
  },
  {
   "cell_type": "markdown",
   "id": "b93e739a",
   "metadata": {},
   "source": [
    "# Two-timers / Freq cat"
   ]
  },
  {
   "cell_type": "code",
   "execution_count": 38,
   "id": "7752a2fe",
   "metadata": {},
   "outputs": [],
   "source": [
    "df[(df['CLIENT_CATEGORY'] == 'Two-timer') & (df['DATCDE']==df['DATPREMCDEWEB'])].groupby(['FREQ_CAT_SMALL', 'RETOUR_SEC']).agg({'IDIND': pd.Series.nunique}).unstack().to_excel('./Vertbaudet/France/Output/'+today+'two_timer_retour_freq_cat_small.xlsx')"
   ]
  },
  {
   "cell_type": "code",
   "execution_count": 39,
   "id": "9c2f0d5f",
   "metadata": {},
   "outputs": [],
   "source": [
    "df.groupby(['RETOUR_SEC', 'FREQ_CAT_SMALL']).agg({'IDIND': pd.Series.nunique}).unstack().to_excel('./Vertbaudet/France/Output/'+today+'freq_cat_small_by_retour.xlsx')"
   ]
  },
  {
   "cell_type": "code",
   "execution_count": 52,
   "id": "dd9b0d17",
   "metadata": {},
   "outputs": [],
   "source": [
    "df.groupby(['FREQ_CAT_INTRAWEEK', 'CLIENT_CATEGORY']).agg({'IDIND': pd.Series.nunique}).unstack().to_excel('./Vertbaudet/France/Output/'+today+'cat_cli_by_freq_cat_intraweek.xlsx')"
   ]
  },
  {
   "cell_type": "markdown",
   "id": "f7283336",
   "metadata": {},
   "source": [
    "### Client ever been club"
   ]
  },
  {
   "cell_type": "code",
   "execution_count": 74,
   "id": "e94c2e04",
   "metadata": {},
   "outputs": [],
   "source": [
    "df_club = df.sort_values(by = 'TCLUB', ascending = False).groupby('IDIND').agg({'TCLUB': 'first'}).rename(columns = {'TCLUB': 'CLUB_EVER'})\n",
    "df = df.merge(df_club, how = 'left', on = 'IDIND')"
   ]
  },
  {
   "cell_type": "code",
   "execution_count": 77,
   "id": "9dca005c",
   "metadata": {},
   "outputs": [],
   "source": [
    "df_club_by_freq_cat = df.groupby(['FREQ_CAT_SMALL', 'CLUB_EVER']).agg({'IDIND': pd.Series.nunique})"
   ]
  },
  {
   "cell_type": "code",
   "execution_count": 78,
   "id": "bcbb66fd",
   "metadata": {},
   "outputs": [],
   "source": [
    "df_club_by_client_cat = df.groupby(['CLIENT_CATEGORY', 'CLUB_EVER']).agg({'IDIND': pd.Series.nunique})"
   ]
  },
  {
   "cell_type": "code",
   "execution_count": 81,
   "id": "f6574f4f",
   "metadata": {},
   "outputs": [],
   "source": [
    "df_club_by_freq_cat.unstack().to_excel('./Vertbaudet/France/Output/'+today+'club_by_freq_cat_small.xlsx')"
   ]
  },
  {
   "cell_type": "code",
   "execution_count": 82,
   "id": "202d4fd6",
   "metadata": {},
   "outputs": [],
   "source": [
    "df_club_by_client_cat.unstack().to_excel('./Vertbaudet/France/Output/'+today+'club_by_client_cat.xlsx')"
   ]
  },
  {
   "cell_type": "markdown",
   "id": "6ae0f22e",
   "metadata": {},
   "source": [
    "### By freq cat and cat client, % of TCLUB command"
   ]
  },
  {
   "cell_type": "code",
   "execution_count": 23,
   "id": "8677769f",
   "metadata": {},
   "outputs": [],
   "source": [
    "df_tclub_cde_by_feq_cat_small = df.drop_duplicates(subset = ['IDIND', 'NUMCDE']).groupby(['FREQ_CAT_SMALL', 'TCLUB']).agg({'NUMCDE': pd.Series.nunique})"
   ]
  },
  {
   "cell_type": "code",
   "execution_count": 25,
   "id": "ef9d40e6",
   "metadata": {},
   "outputs": [],
   "source": [
    "df_tclub_cde_by_feq_cat_small.unstack().to_excel('./Vertbaudet/France/Output/'+today+'_df_tclub_cde_by_feq_cat_small.xlsx')"
   ]
  },
  {
   "cell_type": "code",
   "execution_count": 34,
   "id": "9c761a5c",
   "metadata": {},
   "outputs": [],
   "source": [
    "df_tclub_cde_by_client_cat = df.drop_duplicates(subset = ['IDIND', 'NUMCDE']).groupby(['CLIENT_CATEGORY', 'TCLUB']).agg({'NUMCDE': pd.Series.nunique})"
   ]
  },
  {
   "cell_type": "code",
   "execution_count": 35,
   "id": "10887dbf",
   "metadata": {},
   "outputs": [],
   "source": [
    "df_tclub_cde_by_client_cat.unstack().to_excel('./Vertbaudet/France/Output/'+today+'_df_tclub_cde_by_cat_client.xlsx')"
   ]
  }
 ],
 "metadata": {
  "kernelspec": {
   "display_name": "Python 3",
   "language": "python",
   "name": "python3"
  },
  "language_info": {
   "codemirror_mode": {
    "name": "ipython",
    "version": 3
   },
   "file_extension": ".py",
   "mimetype": "text/x-python",
   "name": "python",
   "nbconvert_exporter": "python",
   "pygments_lexer": "ipython3",
   "version": "3.8.8"
  }
 },
 "nbformat": 4,
 "nbformat_minor": 5
}
