{
 "cells": [
  {
   "cell_type": "code",
   "execution_count": null,
   "id": "067cbea4",
   "metadata": {},
   "outputs": [],
   "source": [
    "import pandas as pd\n",
    "import numpy as np\n",
    "import gc\n",
    "import os\n",
    "from datetime import date\n",
    "today = date.today().strftime(\"%Y%m%d\")\n",
    "\n",
    "france_rep = './Vertbaudet/France'"
   ]
  },
  {
   "cell_type": "markdown",
   "id": "6694d47e",
   "metadata": {},
   "source": [
    "# Compute number the INSEE number of household with children per zip and department"
   ]
  },
  {
   "cell_type": "code",
   "execution_count": null,
   "id": "4b215e9b",
   "metadata": {},
   "outputs": [],
   "source": [
    "### Load number of foyer by CODGEO via the INSEE Excel and our own calculation on the Excel columns\n",
    "df_insee_nb_foy = pd.read_excel(os.path.join(france_rep,'./INSEE_data/20211008_types_menages_clean.xlsx'), usecols = ['CODGEO', 'NBR_FOYER_ENF'])\n",
    "df_insee_nb_foy['NBR_FOYER_ENF'] = df_insee_nb_foy['NBR_FOYER_ENF'].astype(int)\n",
    "\n",
    "### Load the correspondance table between CODGEO(Code Insee) and ZIP code(Code Postal) obtained on Data.gouv\n",
    "df_corr = pd.read_excel(os.path.join(france_rep, './INSEE_data/correspondance-code-insee-code-postal.xlsx'), usecols = ['Code INSEE', 'Code Postal'])\n",
    "\n",
    "### Create the df nb foyer by zip by merging\n",
    "df_insee_foy_by_zip = df_insee_nb_foy.merge(df_corr, how = 'left', left_on = 'CODGEO', right_on = 'Code INSEE')\n",
    "\n",
    "### As one Code Postal can match several CODGEO, do an aggregation\n",
    "df_insee_foy_by_zip = df_insee_foy_by_zip.groupby('Code Postal').agg({'NBR_FOYER_ENF' : sum, 'Code Postal' : 'first'})\n",
    "\n",
    "### To Excel\n",
    "df_insee_foy_by_zip.to_excel(os.path.join(france_rep,'./INSEE_data/'+today+'_insee_foyer_with_children_by_zip.xlsx'))\n",
    "\n",
    "### Create the department column\n",
    "df_insee_foy_by_zip['DEPARTEMENT'] = df_insee_foy_by_zip['Code Postal'].apply(lambda x : x[:2])\n",
    "\n",
    "### Create the df nb foyer by department\n",
    "df_insee_foy_by_dep = df_insee_foy_by_zip.groupby('DEPARTEMENT').agg({'NBR_FOYER_ENF':sum})\n",
    "\n",
    "### To Excel\n",
    "df_insee_foy_by_dep.to_excel(os.path.join(france_rep,'./INSEE_data/'+today+'_insee_foyer_with_children_by_dep.xlsx'))"
   ]
  }
 ],
 "metadata": {
  "kernelspec": {
   "display_name": "Python 3",
   "language": "python",
   "name": "python3"
  },
  "language_info": {
   "codemirror_mode": {
    "name": "ipython",
    "version": 3
   },
   "file_extension": ".py",
   "mimetype": "text/x-python",
   "name": "python",
   "nbconvert_exporter": "python",
   "pygments_lexer": "ipython3",
   "version": "3.8.8"
  }
 },
 "nbformat": 4,
 "nbformat_minor": 5
}
