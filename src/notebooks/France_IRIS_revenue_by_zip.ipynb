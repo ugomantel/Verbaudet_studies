{
 "cells": [
  {
   "cell_type": "code",
   "execution_count": 1,
   "id": "540f2daf",
   "metadata": {},
   "outputs": [],
   "source": [
    "import pandas as pd\n",
    "import numpy as np"
   ]
  },
  {
   "cell_type": "code",
   "execution_count": 2,
   "id": "cd9aae20",
   "metadata": {},
   "outputs": [],
   "source": [
    "### Load median revenue by code INSEE (from INSEE)\n",
    "df_median_rev = pd.read_excel('./Vertbaudet/France/INSEE_data/IRIS_com_and_arr_2018.xlsx')"
   ]
  },
  {
   "cell_type": "code",
   "execution_count": 1,
   "id": "606fa7c2",
   "metadata": {
    "collapsed": true
   },
   "outputs": [
    {
     "ename": "NameError",
     "evalue": "name 'pd' is not defined",
     "output_type": "error",
     "traceback": [
      "\u001b[1;31m---------------------------------------------------------------------------\u001b[0m",
      "\u001b[1;31mNameError\u001b[0m                                 Traceback (most recent call last)",
      "\u001b[1;32m<ipython-input-1-56447f84270c>\u001b[0m in \u001b[0;36m<module>\u001b[1;34m\u001b[0m\n\u001b[0;32m      1\u001b[0m \u001b[1;31m### Load correspondance between ZIP code and INSEE code\u001b[0m\u001b[1;33m\u001b[0m\u001b[1;33m\u001b[0m\u001b[1;33m\u001b[0m\u001b[0m\n\u001b[1;32m----> 2\u001b[1;33m \u001b[0mdf_corresp\u001b[0m \u001b[1;33m=\u001b[0m \u001b[0mpd\u001b[0m\u001b[1;33m.\u001b[0m\u001b[0mread_excel\u001b[0m\u001b[1;33m(\u001b[0m\u001b[1;34m'./Vertbaudet/France/INSEE_data/rev_iris_by_zip.xlsx'\u001b[0m\u001b[1;33m,\u001b[0m \u001b[0msheet_name\u001b[0m \u001b[1;33m=\u001b[0m \u001b[1;34m'correspondance-code-insee-code-'\u001b[0m\u001b[1;33m,\u001b[0m \u001b[0musecols\u001b[0m \u001b[1;33m=\u001b[0m \u001b[1;33m[\u001b[0m\u001b[1;34m'Code INSEE'\u001b[0m\u001b[1;33m,\u001b[0m \u001b[1;34m'Code Postal'\u001b[0m\u001b[1;33m]\u001b[0m\u001b[1;33m)\u001b[0m\u001b[1;33m\u001b[0m\u001b[1;33m\u001b[0m\u001b[0m\n\u001b[0m",
      "\u001b[1;31mNameError\u001b[0m: name 'pd' is not defined"
     ]
    }
   ],
   "source": [
    "### Load correspondance between ZIP code and INSEE code (from Data.gouv)\n",
    "df_corresp = pd.read_excel('./Vertbaudet/France/INSEE_data/rev_iris_by_zip.xlsx', sheet_name = 'correspondance-code-insee-code-', usecols = ['Code INSEE', 'Code Postal'])"
   ]
  },
  {
   "cell_type": "code",
   "execution_count": 4,
   "id": "f4712c51",
   "metadata": {},
   "outputs": [],
   "source": [
    "### Take only numeric CODGEO (thus excluding Corsica)\n",
    "df_median_rev = df_median_rev[df_median_rev.CODGEO.str.isnumeric()]\n",
    "\n",
    "### Convert codes to int for merge\n",
    "df_median_rev['CODGEO'] = df_median_rev['CODGEO'].astype(int)\n",
    "df_corresp['Code INSEE'] = df_corresp['Code INSEE'].astype(int)\n",
    "\n",
    "### Merge\n",
    "df = df_median_rev.merge(df_corresp, how = 'left', left_on = 'CODGEO', right_on = 'Code INSEE')\n",
    "\n",
    "### Some Codepost are of the form 95000/95100, we choose then to only keep the first postcode\n",
    "def clean_codpost(x):\n",
    "    if len(str(x)) == 11:\n",
    "        return str(x)[:5]\n",
    "    else :\n",
    "        return x\n",
    "    \n",
    "df['Code Postal'] = df['Code Postal'].apply(clean_codpost)\n",
    "\n",
    "### If several CODGEO are under one Code Postal then take the mean revenue of the Code Postal\n",
    "df = df.groupby('Code Postal').agg({'MED18': 'mean'})"
   ]
  },
  {
   "cell_type": "code",
   "execution_count": 31,
   "id": "c7f6a0cf",
   "metadata": {},
   "outputs": [],
   "source": [
    "df.to_excel('./Vertbaudet/France/INSEE_data/Median_rev_by_zip.xlsx')"
   ]
  }
 ],
 "metadata": {
  "kernelspec": {
   "display_name": "Python 3",
   "language": "python",
   "name": "python3"
  },
  "language_info": {
   "codemirror_mode": {
    "name": "ipython",
    "version": 3
   },
   "file_extension": ".py",
   "mimetype": "text/x-python",
   "name": "python",
   "nbconvert_exporter": "python",
   "pygments_lexer": "ipython3",
   "version": "3.8.8"
  }
 },
 "nbformat": 4,
 "nbformat_minor": 5
}
