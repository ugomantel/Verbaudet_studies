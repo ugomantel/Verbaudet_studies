{
 "cells": [
  {
   "cell_type": "code",
   "execution_count": 14,
   "id": "b4cb77bc",
   "metadata": {},
   "outputs": [],
   "source": [
    "import os\n",
    "import pandas as pd\n",
    "import numpy as np\n",
    "from datetime import datetime, time ,date ,timedelta\n",
    "today = date.today().strftime(\"%Y%m%d\")"
   ]
  },
  {
   "cell_type": "code",
   "execution_count": 3,
   "id": "6ef1bda0",
   "metadata": {},
   "outputs": [],
   "source": [
    "import gc"
   ]
  },
  {
   "cell_type": "markdown",
   "id": "f8789ed1",
   "metadata": {},
   "source": [
    "### Preliminars function and import"
   ]
  },
  {
   "cell_type": "code",
   "execution_count": 4,
   "id": "dd564854",
   "metadata": {},
   "outputs": [],
   "source": [
    "def flatten (table):\n",
    "    if type(table.columns)==pd.MultiIndex:\n",
    "        columns_to_look = [name_tmp for name_tmp in table.columns]\n",
    "\n",
    "        columns_df = [ str(t[0])+'_'+str(t[1]) for t in columns_to_look]\n",
    "        columns_df.insert(0,table.index.name)\n",
    "\n",
    "        df = pd.DataFrame(columns = columns_df)\n",
    "\n",
    "        index = 0\n",
    "        for i in table.index:\n",
    "            row = [table[r][i] for r in columns_to_look]\n",
    "            row.insert(0,i)\n",
    "            df.loc[index] = row\n",
    "            index = index + 1\n",
    "        return(df)\n",
    "    else :\n",
    "        table = pd.DataFrame(table)\n",
    "        table.reset_index(level=0, inplace=True)\n",
    "        return table"
   ]
  },
  {
   "cell_type": "code",
   "execution_count": 5,
   "id": "a1465915",
   "metadata": {},
   "outputs": [
    {
     "name": "stderr",
     "output_type": "stream",
     "text": [
      "C:\\Users\\pierrick\\anaconda3\\lib\\site-packages\\IPython\\core\\interactiveshell.py:3165: DtypeWarning: Columns (0) have mixed types.Specify dtype option on import or set low_memory=False.\n",
      "  has_raised = await self.run_ast_nodes(code_ast.body, cell_name,\n"
     ]
    }
   ],
   "source": [
    "df_articles = pd.read_csv('./Vertbaudet/France/src/Original/Articles/Export_FR_Articles_Julie.csv',\n",
    "                                     usecols = [\"DEPARTEMENT_NIV2\",\"CODSAI\",\"REFSTK\"])\n",
    "\n",
    "df_codsoc = pd.read_csv('./Vertbaudet/France/src/20210921_CODSOC.csv')\n",
    "\n",
    "df_client_dept = pd.read_csv('./20210923_Export_tab_FR/20210921_INDIVIDUS.tab', sep = '\\t',\n",
    "                 usecols = ['IDIND', 'CODPOST', \"DATPREMCDEWEB\"])\n",
    "\n",
    "clients_mag = pd.read_csv(\"./Vertbaudet/France/src/20211004_UNIQUE_IDIND_TICKET.csv\",sep=\",\")\n",
    "\n",
    "df_client = pd.read_csv('./Vertbaudet/France/Output_old/iris_med_rev_clients.csv', usecols = ['IDIND', 'Mediane'])\n",
    "\n",
    "df_IRIS_by_dep = pd.read_excel('./Vertbaudet/France/INSEE_data/INSEE_IRIS_by_dep.xlsx', usecols = ['CODGEO','MED18'])"
   ]
  },
  {
   "cell_type": "code",
   "execution_count": 6,
   "id": "6c791fc6",
   "metadata": {},
   "outputs": [
    {
     "data": {
      "text/plain": [
       "258"
      ]
     },
     "execution_count": 6,
     "metadata": {},
     "output_type": "execute_result"
    }
   ],
   "source": [
    "gc.collect()"
   ]
  },
  {
   "cell_type": "markdown",
   "id": "91320fe5",
   "metadata": {},
   "source": [
    "# Import"
   ]
  },
  {
   "cell_type": "code",
   "execution_count": 7,
   "id": "daa52a7f",
   "metadata": {
    "scrolled": true
   },
   "outputs": [
    {
     "name": "stdout",
     "output_type": "stream",
     "text": [
      "2017\n"
     ]
    },
    {
     "name": "stderr",
     "output_type": "stream",
     "text": [
      "C:\\Users\\pierrick\\anaconda3\\lib\\site-packages\\IPython\\core\\interactiveshell.py:3165: DtypeWarning: Columns (0,2) have mixed types.Specify dtype option on import or set low_memory=False.\n",
      "  has_raised = await self.run_ast_nodes(code_ast.body, cell_name,\n"
     ]
    },
    {
     "name": "stdout",
     "output_type": "stream",
     "text": [
      "2018\n"
     ]
    },
    {
     "name": "stderr",
     "output_type": "stream",
     "text": [
      "C:\\Users\\pierrick\\anaconda3\\lib\\site-packages\\IPython\\core\\interactiveshell.py:3165: DtypeWarning: Columns (0,2) have mixed types.Specify dtype option on import or set low_memory=False.\n",
      "  has_raised = await self.run_ast_nodes(code_ast.body, cell_name,\n"
     ]
    },
    {
     "name": "stdout",
     "output_type": "stream",
     "text": [
      "2019\n"
     ]
    },
    {
     "name": "stderr",
     "output_type": "stream",
     "text": [
      "C:\\Users\\pierrick\\anaconda3\\lib\\site-packages\\IPython\\core\\interactiveshell.py:3165: DtypeWarning: Columns (0,2) have mixed types.Specify dtype option on import or set low_memory=False.\n",
      "  has_raised = await self.run_ast_nodes(code_ast.body, cell_name,\n"
     ]
    },
    {
     "name": "stdout",
     "output_type": "stream",
     "text": [
      "2020\n"
     ]
    },
    {
     "name": "stderr",
     "output_type": "stream",
     "text": [
      "C:\\Users\\pierrick\\anaconda3\\lib\\site-packages\\IPython\\core\\interactiveshell.py:3165: DtypeWarning: Columns (0,2) have mixed types.Specify dtype option on import or set low_memory=False.\n",
      "  has_raised = await self.run_ast_nodes(code_ast.body, cell_name,\n"
     ]
    },
    {
     "name": "stdout",
     "output_type": "stream",
     "text": [
      "2021\n"
     ]
    },
    {
     "name": "stderr",
     "output_type": "stream",
     "text": [
      "C:\\Users\\pierrick\\anaconda3\\lib\\site-packages\\IPython\\core\\interactiveshell.py:3165: DtypeWarning: Columns (0,2) have mixed types.Specify dtype option on import or set low_memory=False.\n",
      "  has_raised = await self.run_ast_nodes(code_ast.body, cell_name,\n"
     ]
    }
   ],
   "source": [
    "gc.collect()\n",
    "df = pd.DataFrame()\n",
    "for year in range(2017,2022):\n",
    "    print(year)\n",
    "    gc.collect()\n",
    "    df_tmp = pd.read_csv('./Vertbaudet/France/src/Original/Lignes_commandes/Export_FR_LIGNECOMMANDE_'+str(year)+'.csv', \n",
    "                              encoding = 'unicode_escape', \n",
    "                              usecols = ['IDIND', 'IDFOYER', 'DN', 'NUMCDE', 'DBI', 'DATCDE'])\n",
    "\n",
    "    ### Merge with article table to get DEPARTEMENT_NIV2\n",
    "    #df_tmp = df_tmp.merge(df_articles, how = 'left', on = [\"CODSAI\",\"REFSTK\"])\n",
    "    \n",
    "    ### Replace $null$\n",
    "    df_tmp = df_tmp.replace({'$null$': np.nan})\n",
    "    ### Clean IDIND index \n",
    "    df_tmp.IDIND = df_tmp.IDIND.astype(float)\n",
    "    df_tmp.IDFOYER = df_tmp.IDFOYER.astype(float)\n",
    "    \n",
    "    ### Filter mag clients\n",
    "    df_tmp = df_tmp[~df_tmp.IDIND.isin(clients_mag.IDIND)]\n",
    "\n",
    "    ### Filter non-french command with CODSOC\n",
    "    df_tmp = df_tmp.merge(df_codsoc, how = 'left', on = 'NUMCDE')\n",
    "    df_tmp = df_tmp[df_tmp.CODSOC==0]\n",
    "\n",
    "    #### Merge to get Mediane rev\n",
    "    df_tmp = df_tmp.merge(df_client, how = 'left', on = 'IDIND')\n",
    "\n",
    "    ### add departments and cohort\n",
    "    df_tmp = df_tmp.merge(df_client_dept.replace({'$null$': np.nan}), how = 'left', on = 'IDIND')\n",
    "    df_tmp = df_tmp[df_tmp.DATPREMCDEWEB != '$null$']\n",
    "    df_tmp['DEPARTEMENT'] = df_tmp['CODPOST'].apply(lambda x : str(x)[:2])\n",
    "    df_tmp['COHORT'] = pd.to_datetime(df_tmp[\"DATPREMCDEWEB\"]).dt.year\n",
    "    \n",
    "    ### filter cohort\n",
    "    df_tmp = df_tmp[(df_tmp['COHORT'] >= 2017) & (df_tmp['COHORT'] < 2021)]\n",
    "    \n",
    "    ### filter on DN <= DBI\n",
    "    #df_tmp = df_tmp[df_tmp.DN <= df_tmp.DBI]\n",
    "    #df_tmp = df_tmp[df_tmp.DN >= 0]\n",
    "\n",
    "    df = pd.concat([df,df_tmp])\n",
    "  \n",
    "    del df_tmp"
   ]
  },
  {
   "cell_type": "code",
   "execution_count": 8,
   "id": "3e5e5c9e",
   "metadata": {},
   "outputs": [
    {
     "data": {
      "text/plain": [
       "254120319.3899999"
      ]
     },
     "execution_count": 8,
     "metadata": {},
     "output_type": "execute_result"
    }
   ],
   "source": [
    "df.DN.sum()"
   ]
  },
  {
   "cell_type": "code",
   "execution_count": 9,
   "id": "17ee1d66",
   "metadata": {},
   "outputs": [],
   "source": [
    "df['DATPREMCDEWEB'] = pd.to_datetime(df['DATPREMCDEWEB'])"
   ]
  },
  {
   "cell_type": "code",
   "execution_count": 10,
   "id": "fa9f0663",
   "metadata": {},
   "outputs": [],
   "source": [
    "# Exclude B2B clients\n",
    "df_b2b = pd.read_csv('./Vertbaudet/France/src/20211012_TB2B.csv')\n",
    "df_b2b[['IDIND', 'TB2B']] = df_b2b[['IDIND', 'TB2B']].astype(float)\n",
    "df = df.merge(df_b2b, how = 'left', on = 'IDIND')\n",
    "df = df[df['TB2B']==0]\n",
    "df = df.drop(columns = ['TB2B'])\n",
    "del df_b2b"
   ]
  },
  {
   "cell_type": "code",
   "execution_count": 11,
   "id": "1138050e",
   "metadata": {},
   "outputs": [],
   "source": [
    "# Add DAT_12 column\n",
    "df['DAT_12'] = df['DATPREMCDEWEB'] + timedelta(days=365)\n",
    "df['DAT_24'] = df['DATPREMCDEWEB'] + timedelta(days=730)"
   ]
  },
  {
   "cell_type": "code",
   "execution_count": 18,
   "id": "1df6d707",
   "metadata": {},
   "outputs": [],
   "source": [
    "### Add LTV column\n",
    "df_ltv_12 = df[df['DATCDE']<=df['DAT_12']][['IDIND', 'DN']]\n",
    "df_ltv_12 = df_ltv_12.groupby('IDIND').agg({'DN': sum})\n",
    "df_ltv_12 = df_ltv_12.rename(columns = {'DN': 'LTV_12'})\n",
    "df_ltv_12['LTV_12'].mean()\n",
    "df = df.merge(df_ltv_12, how = 'left', on = 'IDIND')\n",
    "\n",
    "del df_ltv_12"
   ]
  },
  {
   "cell_type": "code",
   "execution_count": 24,
   "id": "3124b872",
   "metadata": {},
   "outputs": [],
   "source": [
    "### Add LTV column\n",
    "df_ltv_24 = df[df['DATCDE']<=df['DAT_24']][['IDIND', 'DN']]\n",
    "df_ltv_24 = df_ltv_24.groupby('IDIND').agg({'DN': sum})\n",
    "df_ltv_24 = df_ltv_24.rename(columns = {'DN': 'LTV_24'})\n",
    "df_ltv_24['LTV_24'].mean()\n",
    "df = df.merge(df_ltv_24, how = 'left', on = 'IDIND')\n",
    "\n",
    "del df_ltv_24"
   ]
  },
  {
   "cell_type": "code",
   "execution_count": 15,
   "id": "00df50cc",
   "metadata": {},
   "outputs": [],
   "source": [
    "df['SENIORITY'] = (datetime.today() - df['DATPREMCDEWEB']).dt.days"
   ]
  },
  {
   "cell_type": "markdown",
   "id": "296d6e76",
   "metadata": {},
   "source": [
    "- Create output df and to_excel"
   ]
  },
  {
   "cell_type": "code",
   "execution_count": 19,
   "id": "22289d2d",
   "metadata": {},
   "outputs": [
    {
     "data": {
      "text/plain": [
       "Index(['IDIND', 'IDFOYER', 'DATCDE', 'NUMCDE', 'DBI', 'DN', 'CODSOC',\n",
       "       'Mediane', 'DATPREMCDEWEB', 'CODPOST', 'DEPARTEMENT', 'COHORT',\n",
       "       'DAT_12', 'DAT_24', 'SENIORITY', 'LTV_12'],\n",
       "      dtype='object')"
      ]
     },
     "execution_count": 19,
     "metadata": {},
     "output_type": "execute_result"
    }
   ],
   "source": [
    "df.columns"
   ]
  },
  {
   "cell_type": "code",
   "execution_count": 20,
   "id": "1fc1a4ae",
   "metadata": {},
   "outputs": [],
   "source": [
    "df_LTV_12_by_dept = df[df['SENIORITY']>365].drop_duplicates('IDIND').groupby('DEPARTEMENT').agg({'LTV_12': 'mean'})\n",
    "df_LTV_12_by_dept.to_excel('./Vertbaudet/France/Output/'+today+'_ltv_12_by_dep.xlsx')"
   ]
  },
  {
   "cell_type": "code",
   "execution_count": 25,
   "id": "d646f429",
   "metadata": {
    "scrolled": true
   },
   "outputs": [
    {
     "data": {
      "text/plain": [
       "120.59403348484754"
      ]
     },
     "execution_count": 25,
     "metadata": {},
     "output_type": "execute_result"
    }
   ],
   "source": [
    "df[df['SENIORITY']>365].drop_duplicates('IDIND')['LTV_12'].mean()"
   ]
  },
  {
   "cell_type": "markdown",
   "id": "50cf5e14",
   "metadata": {},
   "source": [
    " ### CSP Slices "
   ]
  },
  {
   "cell_type": "code",
   "execution_count": 16,
   "id": "149d9251",
   "metadata": {},
   "outputs": [],
   "source": [
    "def csp_map(x):\n",
    "    if x < 15000:\n",
    "        return '<15k'\n",
    "    elif x < 20000:\n",
    "        return '15-20k'\n",
    "    elif x < 25000:\n",
    "        return '20-25k'\n",
    "    elif x < 30000:\n",
    "        return '25-30k'\n",
    "    elif x > 30000:\n",
    "        return '>30k'\n",
    "df['CSP'] = df['Mediane'].apply(csp_map)"
   ]
  },
  {
   "cell_type": "code",
   "execution_count": 17,
   "id": "d3d8988f",
   "metadata": {},
   "outputs": [],
   "source": [
    "df_csp_by_cohort = df.groupby(['COHORT', 'CSP']).agg({'IDIND': pd.Series.nunique})"
   ]
  },
  {
   "cell_type": "code",
   "execution_count": 18,
   "id": "2d4b1d1e",
   "metadata": {},
   "outputs": [],
   "source": [
    "df_csp_by_cohort.unstack().to_excel('./Vertbaudet/France/Output/'+today+'_csp_by_cohort.xlsx')"
   ]
  },
  {
   "cell_type": "code",
   "execution_count": 22,
   "id": "4bb62c45",
   "metadata": {},
   "outputs": [],
   "source": [
    "def csp_map_detail(x):\n",
    "    if x < 15000:\n",
    "        return '<15k'\n",
    "    elif x < 20000:\n",
    "        return '15-20k'\n",
    "    elif x < 21000:\n",
    "        return '20-21k'\n",
    "    elif x < 22000:\n",
    "        return '21-22k'\n",
    "    elif x < 23000:\n",
    "        return '22-23k'\n",
    "    elif x < 24000:\n",
    "        return '23-24k'\n",
    "    elif x < 25000:\n",
    "        return '24-25k'\n",
    "    elif x < 30000:\n",
    "        return '25-30k'\n",
    "    elif x > 30000:\n",
    "        return '>30k'\n",
    "df['CSP_det'] = df['Mediane'].apply(csp_map_detail)"
   ]
  },
  {
   "cell_type": "code",
   "execution_count": 23,
   "id": "5e263833",
   "metadata": {},
   "outputs": [],
   "source": [
    "df_csp_det_by_cohort = df.groupby(['COHORT', 'CSP_det']).agg({'IDIND': pd.Series.nunique})"
   ]
  },
  {
   "cell_type": "code",
   "execution_count": 24,
   "id": "8c0dc671",
   "metadata": {},
   "outputs": [],
   "source": [
    "df_csp_det_by_cohort.unstack().to_excel('./Vertbaudet/France/Output/'+today+'_csp_det_by_cohort.xlsx')"
   ]
  },
  {
   "cell_type": "code",
   "execution_count": 28,
   "id": "7e479d18",
   "metadata": {
    "scrolled": true
   },
   "outputs": [
    {
     "data": {
      "text/html": [
       "<div>\n",
       "<style scoped>\n",
       "    .dataframe tbody tr th:only-of-type {\n",
       "        vertical-align: middle;\n",
       "    }\n",
       "\n",
       "    .dataframe tbody tr th {\n",
       "        vertical-align: top;\n",
       "    }\n",
       "\n",
       "    .dataframe thead th {\n",
       "        text-align: right;\n",
       "    }\n",
       "</style>\n",
       "<table border=\"1\" class=\"dataframe\">\n",
       "  <thead>\n",
       "    <tr style=\"text-align: right;\">\n",
       "      <th></th>\n",
       "      <th>Mediane</th>\n",
       "    </tr>\n",
       "    <tr>\n",
       "      <th>COHORT</th>\n",
       "      <th></th>\n",
       "    </tr>\n",
       "  </thead>\n",
       "  <tbody>\n",
       "    <tr>\n",
       "      <th>2017.0</th>\n",
       "      <td>22892.874486</td>\n",
       "    </tr>\n",
       "    <tr>\n",
       "      <th>2018.0</th>\n",
       "      <td>22812.551147</td>\n",
       "    </tr>\n",
       "    <tr>\n",
       "      <th>2019.0</th>\n",
       "      <td>22755.562354</td>\n",
       "    </tr>\n",
       "    <tr>\n",
       "      <th>2020.0</th>\n",
       "      <td>22780.712051</td>\n",
       "    </tr>\n",
       "  </tbody>\n",
       "</table>\n",
       "</div>"
      ],
      "text/plain": [
       "             Mediane\n",
       "COHORT              \n",
       "2017.0  22892.874486\n",
       "2018.0  22812.551147\n",
       "2019.0  22755.562354\n",
       "2020.0  22780.712051"
      ]
     },
     "execution_count": 28,
     "metadata": {},
     "output_type": "execute_result"
    }
   ],
   "source": [
    "df.drop_duplicates('IDIND').groupby('COHORT').agg({'Mediane': 'mean'})"
   ]
  }
 ],
 "metadata": {
  "kernelspec": {
   "display_name": "Python 3",
   "language": "python",
   "name": "python3"
  },
  "language_info": {
   "codemirror_mode": {
    "name": "ipython",
    "version": 3
   },
   "file_extension": ".py",
   "mimetype": "text/x-python",
   "name": "python",
   "nbconvert_exporter": "python",
   "pygments_lexer": "ipython3",
   "version": "3.8.8"
  }
 },
 "nbformat": 4,
 "nbformat_minor": 5
}
