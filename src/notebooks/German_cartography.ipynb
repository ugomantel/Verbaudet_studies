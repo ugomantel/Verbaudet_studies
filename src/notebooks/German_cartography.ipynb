{
 "cells": [
  {
   "cell_type": "code",
   "execution_count": 1,
   "id": "f865d84f-709e-4036-bd37-2bfc93a91220",
   "metadata": {},
   "outputs": [],
   "source": [
    "import os\n",
    "import pandas as pd\n",
    "import numpy as np\n",
    "import matplotlib.pyplot as plt\n",
    "from matplotlib import ticker\n",
    "import matplotlib.dates as mdates\n",
    "from datetime import datetime, time ,date ,timedelta\n",
    "from dateutil.relativedelta import relativedelta\n",
    "import seaborn as sns\n",
    "import gc\n",
    "pd.options.mode.chained_assignment = None"
   ]
  },
  {
   "cell_type": "code",
   "execution_count": 2,
   "id": "31ba588d-fc2c-4388-b2ec-46f20680f401",
   "metadata": {},
   "outputs": [],
   "source": [
    "import warnings\n",
    "warnings.filterwarnings(\"ignore\")"
   ]
  },
  {
   "cell_type": "code",
   "execution_count": 24,
   "id": "f1e41efe",
   "metadata": {},
   "outputs": [],
   "source": [
    "today = date.today().strftime(\"%Y%m%d\")"
   ]
  },
  {
   "cell_type": "markdown",
   "id": "c1b86c78-b701-4988-878a-fe93d8e0214d",
   "metadata": {},
   "source": [
    "<h1> Functions </h1>"
   ]
  },
  {
   "cell_type": "markdown",
   "id": "d138e4b7-1a60-4469-b3c2-cc68166a322f",
   "metadata": {},
   "source": [
    "<h3> Fonctions générales </h3>"
   ]
  },
  {
   "cell_type": "code",
   "execution_count": 3,
   "id": "60b4dc6a-752b-4892-9ae7-4840214fc7ad",
   "metadata": {},
   "outputs": [],
   "source": [
    "def floatise (df, list_columns_to_floatise):\n",
    "    for i in list_columns_to_floatise:\n",
    "        df[i] = df[i].apply(lambda x: float(x.replace(',','.')))\n",
    "    return (df)"
   ]
  },
  {
   "cell_type": "code",
   "execution_count": 4,
   "id": "e7a44fa7-c047-44a6-8a60-e074e3e2b7c7",
   "metadata": {},
   "outputs": [],
   "source": [
    "def intise (df, list_columns_to_floatise):\n",
    "    for i in list_columns_to_floatise:\n",
    "        df[i] = df[i].astype(int)\n",
    "    return (df)"
   ]
  },
  {
   "cell_type": "code",
   "execution_count": 5,
   "id": "448030d6-d24f-4ca5-b6da-9b64544ad4ec",
   "metadata": {},
   "outputs": [],
   "source": [
    "def flatten (table):\n",
    "    if type(table.columns)==pd.MultiIndex:\n",
    "        columns_to_look = [name_tmp for name_tmp in table.columns]\n",
    "\n",
    "        columns_df = [ str(t[0])+'_'+str(t[1]) for t in columns_to_look]\n",
    "        columns_df.insert(0,table.index.name)\n",
    "\n",
    "        df = pd.DataFrame(columns = columns_df)\n",
    "\n",
    "        index = 0\n",
    "        for i in table.index:\n",
    "            row = [table[r][i] for r in columns_to_look]\n",
    "            row.insert(0,i)\n",
    "            df.loc[index] = row\n",
    "            index = index + 1\n",
    "        return(df)\n",
    "    else :\n",
    "        table = pd.DataFrame(table)\n",
    "        table.reset_index(level=0, inplace=True)\n",
    "        return table"
   ]
  },
  {
   "cell_type": "code",
   "execution_count": 6,
   "id": "c3a87899-1387-45c4-8df1-b5ace9dc3b4b",
   "metadata": {},
   "outputs": [],
   "source": [
    "def flatten_soft(dataframe):\n",
    "    res = pd.DataFrame()\n",
    "    res[dataframe.index.name] = dataframe.index\n",
    "    for col in dataframe.columns:\n",
    "        name_tmp=\"\"\n",
    "        for i in range(len(dataframe.columns[0])):\n",
    "            name_tmp = name_tmp +'_'+str(col[i])\n",
    "        res[str(name_tmp)] = dataframe[col].values\n",
    "    return res"
   ]
  },
  {
   "cell_type": "markdown",
   "id": "edaab48b-f6c2-4258-b314-358121b5fd37",
   "metadata": {},
   "source": [
    "<h3> Fonctions particulières </h3>"
   ]
  },
  {
   "cell_type": "code",
   "execution_count": 7,
   "id": "e1fb2797-d83d-4953-9ef2-85b47858815c",
   "metadata": {},
   "outputs": [],
   "source": [
    "def cohort_attribution(x):\n",
    "    if x <= 2016:\n",
    "        return 2016\n",
    "    else :\n",
    "        return x"
   ]
  },
  {
   "cell_type": "code",
   "execution_count": 8,
   "id": "de55208b-c77f-445d-a15f-eee8ee7d9841",
   "metadata": {},
   "outputs": [],
   "source": [
    "def customer_category_attribution(x):\n",
    "    if x==1:\n",
    "        return 'One-timer'\n",
    "    if x==2:\n",
    "        return 'Two-timer'\n",
    "    else:\n",
    "        return 'Recurring'"
   ]
  },
  {
   "cell_type": "code",
   "execution_count": 9,
   "id": "2b0ae874-cc63-49e0-b028-0f9827037f79",
   "metadata": {},
   "outputs": [],
   "source": [
    "dict_department = {'B':'BEBE','N':'PAP FILLE','U':'PAP GARCON','D':'CHAUSSURE','F':'FEMME',\n",
    "'T':'TEXTILE HOME','P':'PUERICULTURE','W':'NON PAP ENFANT','K':'DECO','M':'CHAMBRE ET LITERIE','R':'JOUETS'}"
   ]
  },
  {
   "cell_type": "code",
   "execution_count": 10,
   "id": "5686a4c6-169b-4ac8-bc7d-494b0cdd7d15",
   "metadata": {},
   "outputs": [],
   "source": [
    "repertoire = \"C:/Users/pierrick/Documents/Vertbaudet/Germany/Source_file\"\n"
   ]
  },
  {
   "cell_type": "code",
   "execution_count": 11,
   "id": "79d7fc97-40c5-4a7b-aab0-9443ce1ea998",
   "metadata": {},
   "outputs": [],
   "source": [
    "output_rep = \"C:/Users/pierrick/Documents/Vertbaudet/Germany/Output_python\""
   ]
  },
  {
   "cell_type": "markdown",
   "id": "a4714f4b-b120-4774-b20a-ed78c9557612",
   "metadata": {},
   "source": [
    "<h1> Dataset creation </h1>"
   ]
  },
  {
   "cell_type": "markdown",
   "id": "844a5c94-ecf5-4a25-937a-a6b3f242cda6",
   "metadata": {},
   "source": [
    "<h3> Import de la data </h3>"
   ]
  },
  {
   "cell_type": "code",
   "execution_count": 19,
   "id": "f38e3407",
   "metadata": {},
   "outputs": [],
   "source": [
    "#columns = ['AUFTRNR', 'KDNR', 'ARTNRERF', 'WTR', 'ARTGRERF', 'DATERF', 'PREISERF', 'PREIS', 'EKP', 'PREISNET',\n",
    "#           'RABATT', 'RABATTSATZ', 'MENGE', 'MENGERET', 'DEPARTEMENT', 'CAUFTRAGSPOS', 'MWST', 'MWSTRABATT', \n",
    "#           'ANZKINDER', 'ANLAGEDAT', 'DATAUFTRAG1', 'STRASSE', 'PLZ', 'ORT', 'BUNDESLAND', 'CLAND', 'CWERBESP', \n",
    "#           'DATWERBESP', 'CLIEFERSP', 'DATLIEFERSP', 'CADRESSSP', 'DATADRESSSP', 'UMSATZ1', 'DATLETZTAUFTR', \n",
    "#           'UMSLETZTAUFTR', 'ANZKATLETZTAUFTR', 'WKOSTLETZTAUFTR', 'DBKDNR', 'WKOSTENKUM', 'UMSATZKUM', 'UMSATZKUMTEL', \n",
    "#           'UMSATZKUMFAX', 'UMSATZKUMWEB', 'UMSATZLIEFKUM', 'RUECKSTAUFTR', 'ANZAUFTR', 'REFPRES', 'REFSTK', 'CODDOC', \n",
    "#           'PLANEKP', 'RAYON', 'FAMILLE', 'DEPART', 'CODMARQ', 'ARTGROESSE', 'DATAUFTRAG', 'DATERFASSUNG', 'DATVERARB', \n",
    "#           'GUTSCHEINWERT']"
   ]
  },
  {
   "cell_type": "code",
   "execution_count": 12,
   "id": "fd926f4b",
   "metadata": {},
   "outputs": [],
   "source": [
    "columns = ['AUFTRNR', 'KDNR', 'DATERF', 'PREIS', 'PREISNET', 'RABATT', 'RABATTSATZ', 'MENGE', 'MENGERET', 'DEPARTEMENT', 'CAUFTRAGSPOS', 'DATAUFTRAG1', 'PLZ']"
   ]
  },
  {
   "cell_type": "markdown",
   "id": "c78f0ad2",
   "metadata": {},
   "source": [
    "# Import"
   ]
  },
  {
   "cell_type": "code",
   "execution_count": 13,
   "id": "5b4235c8-a052-4b3b-8a73-d569776d21fe",
   "metadata": {},
   "outputs": [],
   "source": [
    "net_demand = True"
   ]
  },
  {
   "cell_type": "code",
   "execution_count": 14,
   "id": "5f8427a6-b2b9-41cf-b238-8176440360b6",
   "metadata": {},
   "outputs": [],
   "source": [
    "df = pd.DataFrame()\n",
    "for file in os.listdir(repertoire):\n",
    "    file_name_tmp = os.path.join(repertoire,file)\n",
    "    df_tmp = pd.read_csv(file_name_tmp,sep=\",\",encoding= \"unicode_escape\", usecols=columns)\n",
    "    \n",
    "    df_tmp = df_tmp.loc[df_tmp.CAUFTRAGSPOS!='$null$']\n",
    "    df_tmp.CAUFTRAGSPOS = df_tmp.CAUFTRAGSPOS.astype(int)\n",
    "    df_tmp = df_tmp.loc[df_tmp.CAUFTRAGSPOS <= 7]\n",
    "    \n",
    "    ################### CONVERSION DES CHAMPS ###################\n",
    "    df_tmp['DATERF'] = pd.to_datetime(df_tmp.DATERF)\n",
    "    df_tmp['DATAUFTRAG1'] = pd.to_datetime(df_tmp.DATAUFTRAG1)\n",
    "    df_tmp.DEPARTEMENT = df_tmp.DEPARTEMENT.map(dict_department) \n",
    "    df_tmp['PLZ'] = df_tmp['PLZ'].astype(str)\n",
    "    \n",
    "    ################### CREATION DES CHAMPS ###################\n",
    "    df_tmp['TOT_SALES'] = (df_tmp.PREIS - df_tmp.RABATT)*(df_tmp.MENGE - df_tmp.MENGERET)\n",
    "    df_tmp['NET_DEMAND'] = (df_tmp.PREIS - df_tmp.RABATT) * df_tmp.MENGE\n",
    "    df_tmp['GROSS_DEMAND'] = df_tmp.PREIS * df_tmp.MENGE\n",
    "    df_tmp['YEAR_FIRST_ORDER'] = df_tmp.DATAUFTRAG1.dt.year\n",
    "    df_tmp['YEAR_ORDER'] = df_tmp.DATERF.dt.year\n",
    "    df_tmp['COHORT'] = df_tmp.YEAR_FIRST_ORDER.apply(lambda x: cohort_attribution(x))\n",
    "    df_tmp['MONTH_RECRUITMENT'] = df_tmp.DATAUFTRAG1.dt.month\n",
    "    df_tmp['ID_ORDER'] = df_tmp.AUFTRNR.astype(str) + '_'+ df_tmp.KDNR.astype(str)\n",
    "    \n",
    "    if net_demand:\n",
    "        cat_order = df_tmp.sort_values(by='NET_DEMAND',ascending=False).drop_duplicates(subset='ID_ORDER', keep='first',\n",
    "                                                                                        inplace=False)\n",
    "    else:\n",
    "        cat_order = df_tmp.sort_values(by='TOT_SALES',ascending=False).drop_duplicates(subset='ID_ORDER', keep='first',\n",
    "                                                                                        inplace=False)\n",
    "    cat_order = cat_order [['ID_ORDER','DEPARTEMENT']]\n",
    "    cat_order.columns = ['ID_ORDER','DEPARTEMENT_CMD']\n",
    "    df_tmp = pd.merge(df_tmp,cat_order,on='ID_ORDER',how='left',suffixes=(False,False))\n",
    "    \n",
    "    df_tmp = df_tmp[['DATERF','DATAUFTRAG1','DEPARTEMENT','TOT_SALES','NET_DEMAND','GROSS_DEMAND',\n",
    "                    'YEAR_FIRST_ORDER','YEAR_ORDER','COHORT','MONTH_RECRUITMENT','ID_ORDER','KDNR',\n",
    "                     'DEPARTEMENT_CMD','RABATT','RABATTSATZ','PREIS', 'PLZ', ]]\n",
    "    df = pd.concat([df,df_tmp])\n",
    "    del(df_tmp)\n",
    "\n",
    "################### CREATION DE CHAMPS ###################\n",
    "################### UNIVERS RECRUTEMENT\n",
    "cat_rec = df.sort_values(by='DATERF',ascending=True).drop_duplicates(subset='KDNR', keep='first', inplace=False)[['KDNR','DEPARTEMENT_CMD']] \n",
    "cat_rec.columns = ['KDNR','DEPARTEMENT_FIRST']\n",
    "df = pd.merge(df,cat_rec,on='KDNR',how='left',suffixes=(False,False))"
   ]
  },
  {
   "cell_type": "code",
   "execution_count": 15,
   "id": "933368cc-95a9-4eec-9e75-920b1fb08628",
   "metadata": {},
   "outputs": [],
   "source": [
    "nb_commande = flatten(df.groupby(['KDNR']).agg({'ID_ORDER':pd.Series.nunique}))\n",
    "nb_commande.columns = ['KDNR','NB_ORDERS']\n",
    "df = pd.merge(df,nb_commande,on='KDNR',how='left',suffixes=(False,False))\n",
    "df['CLIENT_CATEGORY'] = df.NB_ORDERS.apply(lambda x: customer_category_attribution(x))"
   ]
  },
  {
   "cell_type": "code",
   "execution_count": 17,
   "id": "e54fbbf0-bc9d-4712-af34-d00f192e5d99",
   "metadata": {},
   "outputs": [],
   "source": [
    "#file_name = './data_map_GER.csv'\n",
    "#df.to_csv(file_name,sep=\";\")"
   ]
  },
  {
   "cell_type": "markdown",
   "id": "e49f3274",
   "metadata": {},
   "source": [
    "# Rev and nb client by Lander"
   ]
  },
  {
   "cell_type": "code",
   "execution_count": 17,
   "id": "9f5ab8da-84ce-45b7-96bd-48ff160bcef0",
   "metadata": {},
   "outputs": [],
   "source": [
    "# Add Bundesland column by merging with ZIP/Lander correspondance table\n",
    "\n",
    "df_zip_lander = pd.read_csv('C:/Users/pierrick/Documents/Vertbaudet/Germany/German-Zip-Codes.csv', sep = ';').drop_duplicates(subset = ['Plz'], keep = 'first')\n",
    "df_zip_lander['Plz'] = df_zip_lander['Plz'].astype(str)\n",
    "df_zip_lander['Bundesland'] = df_zip_lander['Bundesland'].replace('Schlewig-Holstein', 'Schleswig-Holstein')\n",
    "\n",
    "df = df.merge(df_zip_lander[['Plz', 'Bundesland']], how = 'left', left_on = 'PLZ', right_on = 'Plz')"
   ]
  },
  {
   "cell_type": "code",
   "execution_count": 18,
   "id": "80cf779d",
   "metadata": {},
   "outputs": [],
   "source": [
    "\n",
    "df = df.merge(df_zip_lander[['Plz', 'Bundesland']], how = 'left', left_on = 'PLZ', right_on = 'Plz')"
   ]
  },
  {
   "cell_type": "code",
   "execution_count": null,
   "id": "cb39ef04-3b46-4985-951b-3c09b11faf56",
   "metadata": {},
   "outputs": [],
   "source": [
    "#df.groupby('Bundesland').agg({'REVNET': 'sum', 'Bundesland':'first'}).to_csv('revnet_by_lander_'+str(year)+'.csv')\n",
    "#df.groupby('Bundesland').agg({'KDNR':pd.Series.nunique, 'Bundesland':'first'}).to_csv('client_by_lander_'+str(year)+'.csv')"
   ]
  },
  {
   "cell_type": "markdown",
   "id": "75bba822",
   "metadata": {},
   "source": [
    "# Unbias with national statistics"
   ]
  },
  {
   "cell_type": "markdown",
   "id": "afb246f0",
   "metadata": {},
   "source": [
    "### Load number of household by Lander"
   ]
  },
  {
   "cell_type": "code",
   "execution_count": 52,
   "id": "b04d9ba0",
   "metadata": {},
   "outputs": [],
   "source": [
    "df_destatis = pd.read_csv('german_lander_nb_foyer_children.csv', encoding = 'unicode_escape', sep = ';')\n",
    "df_destatis = df_destatis.groupby('LANDER').agg({'COUNT_2017':'sum', 'COUNT_2018':'sum', 'COUNT_2019':'sum'})"
   ]
  },
  {
   "cell_type": "code",
   "execution_count": 56,
   "id": "dc4f0ca2-4c50-4875-bfa5-563dcc7cb13f",
   "metadata": {},
   "outputs": [],
   "source": [
    "df = df.merge(df_destatis, how = 'left', left_on = 'Bundesland', right_on = 'LANDER')"
   ]
  },
  {
   "cell_type": "markdown",
   "id": "5efb0d30",
   "metadata": {},
   "source": [
    "### From nb client and rev by Lander to map csv"
   ]
  },
  {
   "cell_type": "code",
   "execution_count": 64,
   "id": "66400a12-a224-4f73-89e5-7f95cb03612a",
   "metadata": {},
   "outputs": [
    {
     "name": "stdout",
     "output_type": "stream",
     "text": [
      "Mean penetration in Germany in 2017 :\n",
      "0.02765952250106857\n",
      "Mean rev by client in Germany in 2017 :\n",
      "173.22215910288548\n",
      "Mean penetration in Germany in 2018 :\n",
      "0.0267252854613177\n",
      "Mean rev by client in Germany in 2018 :\n",
      "156.43932713465605\n",
      "Mean penetration in Germany in 2019 :\n",
      "0.025283812664102095\n",
      "Mean rev by client in Germany in 2019 :\n",
      "139.20744199749478\n",
      "Mean penetration in Germany in 2020 :\n",
      "0.02949056603773585\n",
      "Mean rev by client in Germany in 2020 :\n",
      "139.86840697222507\n",
      "Mean penetration in Germany in 2021 :\n",
      "0.03121829394883068\n",
      "Mean rev by client in Germany in 2021 :\n",
      "139.26079403577538\n"
     ]
    }
   ],
   "source": [
    "df_output = df.groupby([\"YEAR_ORDER\", \"Bundesland\"]).agg({\"NET_DEMAND\": sum, \"KDNR\": pd.Series.nunique, 'COUNT_2017': \"first\", 'COUNT_2018': \"first\", 'COUNT_2019': \"first\", 'YEAR_ORDER':'first'})\n",
    "\n",
    "df_output[\"COUNT_YEAR\"] = df_output[\"COUNT_2019\"]\n",
    "df_output[df_output[\"YEAR_ORDER\"] == 2017][\"COUNT_YEAR\"] = df_output[df_output[\"YEAR_ORDER\"] == 2017][\"COUNT_2017\"]\n",
    "df_output[df_output[\"YEAR_ORDER\"] == 2018][\"COUNT_YEAR\"] = df_output[df_output[\"YEAR_ORDER\"] == 2018][\"COUNT_2017\"]\n",
    "\n",
    "df_output['PENETRATION'] = df_output['KDNR'] / df_output['COUNT_YEAR']\n",
    "df_output['REV_BY_CLIENT'] = df_output['NET_DEMAND'] / df_output['KDNR']\n",
    "df_output['REV_BY_HOUSEHOLD'] = df_output['NET_DEMAND'] / df_output['COUNT_YEAR']\n",
    "\n",
    "for year in range(2017, 2022):\n",
    "    print('Mean penetration in Germany in '+str(year)+' :')\n",
    "    print(df_output[df_output[\"YEAR_ORDER\"] == year]['KDNR'].sum()/df_output[df_output[\"YEAR_ORDER\"] == year]['COUNT_YEAR'].sum())\n",
    "    \n",
    "    print('Mean rev by client in Germany in '+str(year)+' :')\n",
    "    print(df_output[df_output[\"YEAR_ORDER\"] == year]['NET_DEMAND'].sum()/df_output[df_output[\"YEAR_ORDER\"] == year]['KDNR'].sum())\n",
    "\n",
    "\n",
    "df_output.to_excel('GER_map_v3.xlsx')"
   ]
  },
  {
   "cell_type": "code",
   "execution_count": 42,
   "id": "452c575e-3706-4e76-b7d8-f31f9dd4469b",
   "metadata": {},
   "outputs": [
    {
     "data": {
      "text/plain": [
       "172"
      ]
     },
     "execution_count": 42,
     "metadata": {},
     "output_type": "execute_result"
    }
   ],
   "source": [
    "gc.collect()"
   ]
  },
  {
   "cell_type": "code",
   "execution_count": 35,
   "id": "fe866a7e-b376-4afb-bae5-69e6d264cdcc",
   "metadata": {},
   "outputs": [],
   "source": [
    "df_output.to_excel('GER_map_v.xlsx')"
   ]
  },
  {
   "cell_type": "markdown",
   "id": "ba167363",
   "metadata": {},
   "source": [
    "### Map category by Lander"
   ]
  },
  {
   "cell_type": "code",
   "execution_count": 19,
   "id": "3a9d0612",
   "metadata": {},
   "outputs": [],
   "source": [
    "df_output2 = df[(df['YEAR_ORDER']>=2017)&(df['COHORT'].isin(range(2017,2021)))].drop_duplicates('KDNR').groupby(\"Bundesland\").agg({\"CLIENT_CATEGORY\": \"value_counts\"}).unstack().unstack()"
   ]
  },
  {
   "cell_type": "code",
   "execution_count": 20,
   "id": "5efdafe5",
   "metadata": {},
   "outputs": [],
   "source": [
    "df_output2 = df_output2.swaplevel().unstack()"
   ]
  },
  {
   "cell_type": "code",
   "execution_count": null,
   "id": "38eb62f2",
   "metadata": {
    "scrolled": false
   },
   "outputs": [],
   "source": [
    "df_output2.sum().sum()"
   ]
  },
  {
   "cell_type": "code",
   "execution_count": 21,
   "id": "cfbab06d",
   "metadata": {
    "scrolled": true
   },
   "outputs": [
    {
     "name": "stdout",
     "output_type": "stream",
     "text": [
      "% of One-timer:\n",
      "0.561216894130732\n",
      "% of Two-timer:\n",
      "0.19665552517552193\n",
      "% of Recurring:\n",
      "0.2421275806937461\n"
     ]
    }
   ],
   "source": [
    "for cat in ['One-timer', 'Two-timer', 'Recurring']:\n",
    "    print('% of '+cat+':')\n",
    "    print(df_output2[cat].sum()/(df_output2.sum().sum()))"
   ]
  },
  {
   "cell_type": "code",
   "execution_count": 22,
   "id": "78a47743",
   "metadata": {
    "scrolled": true
   },
   "outputs": [],
   "source": [
    "div = df_output2.sum(axis = 1)\n",
    "for cat in ['One-timer', 'Two-timer', 'Recurring']:\n",
    "    df_output2[cat] = (df_output2[cat]/div)*100"
   ]
  },
  {
   "cell_type": "code",
   "execution_count": 23,
   "id": "654d3377",
   "metadata": {},
   "outputs": [
    {
     "data": {
      "text/html": [
       "<div>\n",
       "<style scoped>\n",
       "    .dataframe tbody tr th:only-of-type {\n",
       "        vertical-align: middle;\n",
       "    }\n",
       "\n",
       "    .dataframe tbody tr th {\n",
       "        vertical-align: top;\n",
       "    }\n",
       "\n",
       "    .dataframe thead th {\n",
       "        text-align: right;\n",
       "    }\n",
       "</style>\n",
       "<table border=\"1\" class=\"dataframe\">\n",
       "  <thead>\n",
       "    <tr style=\"text-align: right;\">\n",
       "      <th></th>\n",
       "      <th>CLIENT_CATEGORY</th>\n",
       "      <th>One-timer</th>\n",
       "      <th>Recurring</th>\n",
       "      <th>Two-timer</th>\n",
       "    </tr>\n",
       "    <tr>\n",
       "      <th></th>\n",
       "      <th>Bundesland</th>\n",
       "      <th></th>\n",
       "      <th></th>\n",
       "      <th></th>\n",
       "    </tr>\n",
       "  </thead>\n",
       "  <tbody>\n",
       "    <tr>\n",
       "      <th rowspan=\"16\" valign=\"top\">CLIENT_CATEGORY</th>\n",
       "      <th>Baden-Württemberg</th>\n",
       "      <td>56.044762</td>\n",
       "      <td>24.423148</td>\n",
       "      <td>19.532090</td>\n",
       "    </tr>\n",
       "    <tr>\n",
       "      <th>Bayern</th>\n",
       "      <td>55.755368</td>\n",
       "      <td>24.469165</td>\n",
       "      <td>19.775467</td>\n",
       "    </tr>\n",
       "    <tr>\n",
       "      <th>Berlin</th>\n",
       "      <td>56.628926</td>\n",
       "      <td>23.805920</td>\n",
       "      <td>19.565154</td>\n",
       "    </tr>\n",
       "    <tr>\n",
       "      <th>Brandenburg</th>\n",
       "      <td>55.016590</td>\n",
       "      <td>25.332959</td>\n",
       "      <td>19.650451</td>\n",
       "    </tr>\n",
       "    <tr>\n",
       "      <th>Bremen</th>\n",
       "      <td>58.432517</td>\n",
       "      <td>22.366944</td>\n",
       "      <td>19.200539</td>\n",
       "    </tr>\n",
       "    <tr>\n",
       "      <th>Hamburg</th>\n",
       "      <td>55.248424</td>\n",
       "      <td>24.751576</td>\n",
       "      <td>20.000000</td>\n",
       "    </tr>\n",
       "    <tr>\n",
       "      <th>Hessen</th>\n",
       "      <td>56.303380</td>\n",
       "      <td>23.975785</td>\n",
       "      <td>19.720835</td>\n",
       "    </tr>\n",
       "    <tr>\n",
       "      <th>Mecklenburg-Vorpommern</th>\n",
       "      <td>55.100425</td>\n",
       "      <td>25.750486</td>\n",
       "      <td>19.149089</td>\n",
       "    </tr>\n",
       "    <tr>\n",
       "      <th>Niedersachsen</th>\n",
       "      <td>56.438239</td>\n",
       "      <td>23.696638</td>\n",
       "      <td>19.865123</td>\n",
       "    </tr>\n",
       "    <tr>\n",
       "      <th>Nordrhein-Westfalen</th>\n",
       "      <td>56.297931</td>\n",
       "      <td>24.131724</td>\n",
       "      <td>19.570345</td>\n",
       "    </tr>\n",
       "    <tr>\n",
       "      <th>Rheinland-Pfalz</th>\n",
       "      <td>56.021627</td>\n",
       "      <td>24.187511</td>\n",
       "      <td>19.790862</td>\n",
       "    </tr>\n",
       "    <tr>\n",
       "      <th>Saarland</th>\n",
       "      <td>57.512019</td>\n",
       "      <td>22.971755</td>\n",
       "      <td>19.516226</td>\n",
       "    </tr>\n",
       "    <tr>\n",
       "      <th>Sachsen</th>\n",
       "      <td>56.207538</td>\n",
       "      <td>24.127984</td>\n",
       "      <td>19.664478</td>\n",
       "    </tr>\n",
       "    <tr>\n",
       "      <th>Sachsen-Anhalt</th>\n",
       "      <td>54.845738</td>\n",
       "      <td>25.426945</td>\n",
       "      <td>19.727317</td>\n",
       "    </tr>\n",
       "    <tr>\n",
       "      <th>Schleswig-Holstein</th>\n",
       "      <td>57.631712</td>\n",
       "      <td>22.304901</td>\n",
       "      <td>20.063387</td>\n",
       "    </tr>\n",
       "    <tr>\n",
       "      <th>Thüringen</th>\n",
       "      <td>56.129907</td>\n",
       "      <td>24.655193</td>\n",
       "      <td>19.214900</td>\n",
       "    </tr>\n",
       "  </tbody>\n",
       "</table>\n",
       "</div>"
      ],
      "text/plain": [
       "CLIENT_CATEGORY                         One-timer  Recurring  Two-timer\n",
       "                Bundesland                                             \n",
       "CLIENT_CATEGORY Baden-Württemberg       56.044762  24.423148  19.532090\n",
       "                Bayern                  55.755368  24.469165  19.775467\n",
       "                Berlin                  56.628926  23.805920  19.565154\n",
       "                Brandenburg             55.016590  25.332959  19.650451\n",
       "                Bremen                  58.432517  22.366944  19.200539\n",
       "                Hamburg                 55.248424  24.751576  20.000000\n",
       "                Hessen                  56.303380  23.975785  19.720835\n",
       "                Mecklenburg-Vorpommern  55.100425  25.750486  19.149089\n",
       "                Niedersachsen           56.438239  23.696638  19.865123\n",
       "                Nordrhein-Westfalen     56.297931  24.131724  19.570345\n",
       "                Rheinland-Pfalz         56.021627  24.187511  19.790862\n",
       "                Saarland                57.512019  22.971755  19.516226\n",
       "                Sachsen                 56.207538  24.127984  19.664478\n",
       "                Sachsen-Anhalt          54.845738  25.426945  19.727317\n",
       "                Schleswig-Holstein      57.631712  22.304901  20.063387\n",
       "                Thüringen               56.129907  24.655193  19.214900"
      ]
     },
     "execution_count": 23,
     "metadata": {},
     "output_type": "execute_result"
    }
   ],
   "source": [
    "df_output2"
   ]
  },
  {
   "cell_type": "code",
   "execution_count": 21,
   "id": "8dafb086-9d70-4cd0-b56a-7885a7623390",
   "metadata": {},
   "outputs": [],
   "source": [
    "for year in range(2017,2022):\n",
    "    div = df_output2['CLIENT_CATEGORY', year].sum(axis = 1)\n",
    "    for cat in ['One-timer', 'Two-timer', 'Recurring']:\n",
    "        df_output2['CLIENT_CATEGORY', year, cat] /= div\n",
    "        df_output2['CLIENT_CATEGORY', year, cat] *= 100"
   ]
  },
  {
   "cell_type": "code",
   "execution_count": 57,
   "id": "4bdb8071-a5df-4650-8f7a-d91ec7007f75",
   "metadata": {},
   "outputs": [],
   "source": [
    "df_output2.to_excel('./Vertbaudet/Germany/'+today+'_GER_categories_lander_map_cohor.xlsx')"
   ]
  },
  {
   "cell_type": "markdown",
   "id": "ed47fdba",
   "metadata": {},
   "source": [
    "# Average first year of order by Lander"
   ]
  },
  {
   "cell_type": "code",
   "execution_count": 35,
   "id": "2645382f",
   "metadata": {},
   "outputs": [],
   "source": [
    "df['SENIORITY'] = (pd.to_datetime(df['DATERF'])-pd.to_datetime(df['DATAUFTRAG1'])).dt.days"
   ]
  },
  {
   "cell_type": "code",
   "execution_count": 36,
   "id": "000ccb69",
   "metadata": {},
   "outputs": [],
   "source": [
    "df['SENIORITY_y'] = df['SENIORITY']/365"
   ]
  },
  {
   "cell_type": "code",
   "execution_count": 37,
   "id": "e2ea392a",
   "metadata": {},
   "outputs": [
    {
     "data": {
      "text/plain": [
       "0    0.306849\n",
       "1    0.306849\n",
       "2    4.287671\n",
       "3    4.287671\n",
       "4    4.287671\n",
       "Name: SENIORITY_y, dtype: float64"
      ]
     },
     "execution_count": 37,
     "metadata": {},
     "output_type": "execute_result"
    }
   ],
   "source": [
    "df['SENIORITY_y'].head()"
   ]
  },
  {
   "cell_type": "code",
   "execution_count": 38,
   "id": "497264f0",
   "metadata": {},
   "outputs": [],
   "source": [
    "df_old = df[(df['SENIORITY_y'].notna())&(df['YEAR_ORDER']==2020)]"
   ]
  },
  {
   "cell_type": "code",
   "execution_count": 39,
   "id": "c2740f73",
   "metadata": {},
   "outputs": [],
   "source": [
    "df_old = df[(df['SENIORITY_y'].notna())&(df['YEAR_ORDER']==2020)]\n",
    "df_old = df[df[\"SENIORITY_y\"]<20].sort_values(by='DATERF', ascending = True).drop_duplicates('KDNR', keep = 'last').groupby('Bundesland').agg({'SENIORITY_y': 'mean'})"
   ]
  },
  {
   "cell_type": "code",
   "execution_count": 40,
   "id": "68a7b0f6",
   "metadata": {},
   "outputs": [
    {
     "data": {
      "text/plain": [
       "2.4126627537008467"
      ]
     },
     "execution_count": 40,
     "metadata": {},
     "output_type": "execute_result"
    }
   ],
   "source": [
    "df_old['SENIORITY_y'].mean()"
   ]
  },
  {
   "cell_type": "code",
   "execution_count": 41,
   "id": "bd3a78d9",
   "metadata": {},
   "outputs": [],
   "source": [
    "df_old.to_excel('./Vertbaudet/Germany/seniority_by_lander_v4.xlsx')"
   ]
  }
 ],
 "metadata": {
  "kernelspec": {
   "display_name": "Python 3",
   "language": "python",
   "name": "python3"
  },
  "language_info": {
   "codemirror_mode": {
    "name": "ipython",
    "version": 3
   },
   "file_extension": ".py",
   "mimetype": "text/x-python",
   "name": "python",
   "nbconvert_exporter": "python",
   "pygments_lexer": "ipython3",
   "version": "3.8.8"
  }
 },
 "nbformat": 4,
 "nbformat_minor": 5
}
