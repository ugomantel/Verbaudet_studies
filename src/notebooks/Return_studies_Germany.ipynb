{
 "cells": [
  {
   "cell_type": "code",
   "execution_count": 1,
   "metadata": {},
   "outputs": [],
   "source": [
    "import os\n",
    "import pandas as pd\n",
    "import numpy as np\n",
    "import matplotlib.pyplot as plt\n",
    "from matplotlib import ticker\n",
    "import matplotlib.dates as mdates\n",
    "from datetime import datetime, time ,date ,timedelta\n",
    "from dateutil.relativedelta import relativedelta\n",
    "import seaborn as sns\n",
    "pd.options.mode.chained_assignment = None"
   ]
  },
  {
   "cell_type": "code",
   "execution_count": 2,
   "metadata": {},
   "outputs": [],
   "source": [
    "import warnings\n",
    "warnings.filterwarnings(\"ignore\")"
   ]
  },
  {
   "cell_type": "markdown",
   "metadata": {},
   "source": [
    "<h1> Functions </h1>"
   ]
  },
  {
   "cell_type": "markdown",
   "metadata": {},
   "source": [
    "<h3> Fonctions générales </h3>"
   ]
  },
  {
   "cell_type": "code",
   "execution_count": 3,
   "metadata": {},
   "outputs": [],
   "source": [
    "def floatise (df, list_columns_to_floatise):\n",
    "    for i in list_columns_to_floatise:\n",
    "        df[i] = df[i].apply(lambda x: float(x.replace(',','.')))\n",
    "    return (df)"
   ]
  },
  {
   "cell_type": "code",
   "execution_count": 4,
   "metadata": {},
   "outputs": [],
   "source": [
    "def intise (df, list_columns_to_floatise):\n",
    "    for i in list_columns_to_floatise:\n",
    "        df[i] = df[i].astype(int)\n",
    "    return (df)"
   ]
  },
  {
   "cell_type": "code",
   "execution_count": 5,
   "metadata": {},
   "outputs": [],
   "source": [
    "def flatten (table):\n",
    "    if type(table.columns)==pd.MultiIndex:\n",
    "        columns_to_look = [name_tmp for name_tmp in table.columns]\n",
    "\n",
    "        columns_df = [ str(t[0])+'_'+str(t[1]) for t in columns_to_look]\n",
    "        columns_df.insert(0,table.index.name)\n",
    "\n",
    "        df = pd.DataFrame(columns = columns_df)\n",
    "\n",
    "        index = 0\n",
    "        for i in table.index:\n",
    "            row = [table[r][i] for r in columns_to_look]\n",
    "            row.insert(0,i)\n",
    "            df.loc[index] = row\n",
    "            index = index + 1\n",
    "        return(df)\n",
    "    else :\n",
    "        table = pd.DataFrame(table)\n",
    "        table.reset_index(level=0, inplace=True)\n",
    "        return table"
   ]
  },
  {
   "cell_type": "code",
   "execution_count": 6,
   "metadata": {},
   "outputs": [],
   "source": [
    "def flatten_soft(dataframe):\n",
    "    res = pd.DataFrame()\n",
    "    res[dataframe.index.name] = dataframe.index\n",
    "    for col in dataframe.columns:\n",
    "        name_tmp=\"\"\n",
    "        for i in range(len(dataframe.columns[0])):\n",
    "            name_tmp = name_tmp +'_'+str(col[i])\n",
    "        res[str(name_tmp)] = dataframe[col].values\n",
    "    return res"
   ]
  },
  {
   "cell_type": "markdown",
   "metadata": {},
   "source": [
    "<h3> Fonctions particulières </h3>"
   ]
  },
  {
   "cell_type": "code",
   "execution_count": 7,
   "metadata": {},
   "outputs": [],
   "source": [
    "def cohort_attribution (x):\n",
    "    if (x<2017):\n",
    "        return 2016\n",
    "    else :\n",
    "        return x"
   ]
  },
  {
   "cell_type": "code",
   "execution_count": 8,
   "metadata": {},
   "outputs": [],
   "source": [
    "def categorize_distribution_freq(x):\n",
    "    if x==1:\n",
    "        return('1 order')\n",
    "    if x==2:\n",
    "        return('2 orders')\n",
    "    if (x>=3) & (x<=5):\n",
    "        return('3-5 orders')\n",
    "    if (x>=6) & (x<=10):\n",
    "        return('6-10 orders')\n",
    "    if x>10:\n",
    "        return('10+ orders')"
   ]
  },
  {
   "cell_type": "code",
   "execution_count": 9,
   "metadata": {},
   "outputs": [],
   "source": [
    "def categorize_distribution_order_price(x):\n",
    "    if x<=25:\n",
    "        return('0-25€')\n",
    "    if (x>25) & (x<=50):\n",
    "        return('26-50€')\n",
    "    if (x>50) & (x<=100):\n",
    "        return('51-100€')\n",
    "    if (x>100) & (x<=200):\n",
    "        return('101-200€')\n",
    "    if (x>200) & (x<=500):\n",
    "        return('201-500€')\n",
    "    if x>500:\n",
    "        return('>500€')"
   ]
  },
  {
   "cell_type": "markdown",
   "metadata": {},
   "source": [
    "<h1> Dataset creation </h1>"
   ]
  },
  {
   "cell_type": "markdown",
   "metadata": {},
   "source": [
    "<h3> Import de la data </h3>"
   ]
  },
  {
   "cell_type": "code",
   "execution_count": 10,
   "metadata": {},
   "outputs": [
    {
     "name": "stdout",
     "output_type": "stream",
     "text": [
      "C:\\Users\\UgoMANTEL\\Work\\Github\\Vertbaudet_2021\\src\\notebooks\n"
     ]
    }
   ],
   "source": [
    "src_root = os.getcwd()\n",
    "print(src_root)"
   ]
  },
  {
   "cell_type": "markdown",
   "metadata": {},
   "source": [
    "- Préparation des colonnes:"
   ]
  },
  {
   "cell_type": "code",
   "execution_count": 11,
   "metadata": {},
   "outputs": [],
   "source": [
    "col_names = ['AUFTRNR','KDNR','ARTNRERF','WTR','ARTGRERF','DATERF','PREISERF','PREIS','EKP','PREISNET','RABATT','RABATTSATZ',\n",
    "             'MENGE','MENGERET','DEPARTEMENT','CAUFTRAGSPOS','MWST','MWSTRABATT','ANZKINDER','ANLAGEDAT',\n",
    "             'DATAUFTRAG1','STRASSE','PLZ','ORT','BUNDESLAND','CLAND','CWERBESP','DATWERBESP','CLIEFERSP','DATLIEFERSP',\n",
    "             'CADRESSSP','DATADRESSSP','UMSATZ1','DATLETZTAUFTR','UMSLETZTAUFTR','ANZKATLETZTAUFTR','WKOSTLETZTAUFTR',\n",
    "             'DBKDNR','WKOSTENKUM','UMSATZKUM','UMSATZKUMTEL','UMSATZKUMFAX','UMSATZKUMWEB','UMSATZLIEFKUM','RUECKSTAUFTR',\n",
    "             'ANZAUFTR','REFPRES','REFSTK','CODDOC','PLANEKP','RAYON','FAMILLE','DEPART','CODMARQ','ARTGROESSE','DATAUFTRAG',\n",
    "             'DATERFASSUNG','DATVERARB','GUTSCHEINWERT']"
   ]
  },
  {
   "cell_type": "code",
   "execution_count": 12,
   "metadata": {},
   "outputs": [],
   "source": [
    "dict_department = {'B':'BEBE','N':'PAP FILLE','U':'PAP GARCON','D':'CHAUSSURE','F':'FEMME',\n",
    "'T':'TEXTILE HOME','P':'PUERICULTURE','W':'NON PAP ENFANT','K':'DECO','M':'CHAMBRE ET LITERIE','R':'JOUETS'}"
   ]
  },
  {
   "cell_type": "markdown",
   "metadata": {},
   "source": [
    "<h3> Dataset </h3>"
   ]
  },
  {
   "cell_type": "markdown",
   "metadata": {},
   "source": [
    "- Définition des répertoires :"
   ]
  },
  {
   "cell_type": "code",
   "execution_count": 13,
   "metadata": {},
   "outputs": [],
   "source": [
    "repertoire = \"C:/Users/UgoMANTEL/Work/Github/Vertbaudet_2021/data/1. Germany\""
   ]
  },
  {
   "cell_type": "code",
   "execution_count": 14,
   "metadata": {},
   "outputs": [],
   "source": [
    "output_rep = \"C:/Users/UgoMANTEL/eleven/Engagements - Vertbaudet/5. Analyses/3. Outputs python\""
   ]
  },
  {
   "cell_type": "markdown",
   "metadata": {},
   "source": [
    "- Création de la donnée:"
   ]
  },
  {
   "cell_type": "code",
   "execution_count": 15,
   "metadata": {},
   "outputs": [],
   "source": [
    "df = pd.DataFrame()\n",
    "for file in os.listdir(repertoire):\n",
    "    file_name_tmp = os.path.join(repertoire,file)\n",
    "    df_tmp = pd.read_csv(file_name_tmp,sep=\",\",encoding= \"unicode_escape\", usecols=col_names)\n",
    "    \n",
    "    df_tmp = df_tmp.loc[df_tmp.CAUFTRAGSPOS!='$null$']\n",
    "    df_tmp.CAUFTRAGSPOS = df_tmp.CAUFTRAGSPOS.astype(int)\n",
    "    df_tmp = df_tmp.loc[df_tmp.CAUFTRAGSPOS <= 7]\n",
    "    \n",
    "    ################### CONVERSION DES CHAMPS ###################\n",
    "    df_tmp['DATERF'] = pd.to_datetime(df_tmp.DATERF)\n",
    "    df_tmp['DATAUFTRAG1'] = pd.to_datetime(df_tmp.DATAUFTRAG1)\n",
    "    df_tmp.DEPARTEMENT = df_tmp.DEPARTEMENT.map(dict_department) \n",
    "    \n",
    "    ################### CREATION DES CHAMPS ###################\n",
    "    df_tmp['TOT_SALES'] = (df_tmp.PREIS - df_tmp.RABATT)*(df_tmp.MENGE - df_tmp.MENGERET)\n",
    "    df_tmp['NET_DEMAND'] = (df_tmp.PREIS - df_tmp.RABATT) * df_tmp.MENGE\n",
    "    df_tmp['TOT_RETURN'] = (df_tmp.PREIS - df_tmp.RABATT) * df_tmp.MENGERET\n",
    "    df_tmp['GROSS_DEMAND'] = df_tmp.PREIS * df_tmp.MENGE\n",
    "    df_tmp['YEAR_FIRST_ORDER'] = df_tmp.DATAUFTRAG1.dt.year\n",
    "    df_tmp['YEAR_ORDER'] = df_tmp.DATERF.dt.year\n",
    "    df_tmp['COHORT'] = df_tmp.YEAR_FIRST_ORDER.apply(lambda x: cohort_attribution(x))\n",
    "    df_tmp['MONTH_RECRUITMENT'] = df_tmp.DATAUFTRAG1.dt.month\n",
    "    df_tmp['ID_ORDER'] = df_tmp.AUFTRNR.astype(str) + '_'+ df_tmp.KDNR.astype(str)\n",
    "    \n",
    "    cat_order =  df_tmp.groupby(['ID_ORDER','DEPARTEMENT']).agg({'NET_DEMAND':sum}).reset_index().sort_values(by='NET_DEMAND',\n",
    "    cat_order = cat_order.drop_duplicates(subset=['ID_ORDER'],keep='first')\n",
    "    cat_order.columns = ['ID_ORDER','DEPARTEMENT_CMD','NET_DEMAND']\n",
    "    df_tmp = pd.merge(df_tmp,cat_order[['ID_ORDER','DEPARTEMENT_CMD']], on='ID_ORDER', how='left', suffixes=(False,False))\n",
    "    \n",
    "    df_tmp = df_tmp[['DATERF','DATAUFTRAG1','DEPARTEMENT','TOT_SALES','NET_DEMAND','GROSS_DEMAND',\n",
    "                    'YEAR_FIRST_ORDER','YEAR_ORDER','COHORT','MONTH_RECRUITMENT','ID_ORDER','KDNR','ARTNRERF',\n",
    "                     'DEPARTEMENT_CMD','RABATT','RABATTSATZ','PREIS','ANZKINDER','MENGE','MENGERET','TOT_RETURN']]\n",
    "    df = pd.concat([df,df_tmp])\n",
    "    del(df_tmp)\n",
    "\n",
    "################### CREATION DE CHAMPS ###################\n",
    "################### UNIVERS RECRUTEMENT\n",
    "cat_rec = df.sort_values(by='DATERF',ascending=True).drop_duplicates(subset='KDNR', keep='first', inplace=False)[['KDNR','DEPARTEMENT_CMD']] \n",
    "cat_rec.columns = ['KDNR','DEPARTEMENT_FIRST']\n",
    "df = pd.merge(df,cat_rec,on='KDNR',how='left',suffixes=(False,False))\n",
    "\n",
    "################### DATE POUR LTV 12/24 MOIS\n",
    "df['DATAUFTRAG1_12MONTH'] = df['DATAUFTRAG1']+ timedelta(days=365)\n",
    "df['DATAUFTRAG1_24MONTH'] = df['DATAUFTRAG1']+ timedelta(days=730)"
   ]
  },
  {
   "cell_type": "markdown",
   "metadata": {},
   "source": [
    "- Ajout de la catégorisation booléen/non-booléen:"
   ]
  },
  {
   "cell_type": "code",
   "execution_count": 16,
   "metadata": {},
   "outputs": [],
   "source": [
    "res_returner = flatten(df.groupby(['KDNR']).agg({'TOT_RETURN' :sum}))\n",
    "res_returner['RETURNER'] = res_returner.TOT_RETURN>0\n",
    "df = pd.merge(df,res_returner[['KDNR','RETURNER']],on='KDNR',how='left',suffixes=(False,False))"
   ]
  },
  {
   "cell_type": "code",
   "execution_count": 17,
   "metadata": {},
   "outputs": [],
   "source": [
    "df = df.drop(columns=['RETURNER'])"
   ]
  },
  {
   "cell_type": "markdown",
   "metadata": {},
   "source": [
    "- Ajout de l'information de retour article:"
   ]
  },
  {
   "cell_type": "code",
   "execution_count": 18,
   "metadata": {},
   "outputs": [],
   "source": [
    "df['RETURNED_ARTICLE'] = df.MENGERET>0"
   ]
  },
  {
   "cell_type": "markdown",
   "metadata": {},
   "source": [
    "- Ajout du numcmde var 38:"
   ]
  },
  {
   "cell_type": "code",
   "execution_count": 51,
   "metadata": {},
   "outputs": [],
   "source": [
    "df_numcde = pd.read_csv(\"C:/Users/UgoMANTEL/Work/Github/Vertbaudet_2021/data/3. Other/20211001_NUM_CMD_CANAL_GER.csv\",sep=\",\",encoding= \"unicode_escape\")\n",
    "df_numcde['ID_ORDER'] = df_numcde.AUFTNR.astype(str) + '_'+ df_numcde.KDNR.astype(str)\n",
    "df = pd.merge(df,df_numcde[['ID_ORDER','BELEGSTAPELNR']],on='ID_ORDER',how='left',suffixes=(False,False))\n",
    "del(df_numcde)"
   ]
  },
  {
   "cell_type": "markdown",
   "metadata": {},
   "source": [
    "- Ajout nombre de commande :"
   ]
  },
  {
   "cell_type": "code",
   "execution_count": 62,
   "metadata": {},
   "outputs": [],
   "source": [
    "nb_commande = flatten(df.groupby(['KDNR']).agg({'ID_ORDER':pd.Series.nunique}))\n",
    "nb_commande.columns = ['KDNR','NB_ORDERS']\n",
    "df = pd.merge(df,nb_commande,on='KDNR',how='left',suffixes=(False,False))"
   ]
  },
  {
   "cell_type": "code",
   "execution_count": 64,
   "metadata": {},
   "outputs": [],
   "source": [
    "df['FREQ_CATEGORY'] = df.NB_ORDERS.apply(lambda x: categorize_distribution_freq(x))"
   ]
  },
  {
   "cell_type": "markdown",
   "metadata": {},
   "source": [
    "<h1> Etudes des retours </h1>"
   ]
  },
  {
   "cell_type": "markdown",
   "metadata": {},
   "source": [
    "<h3> Répartition en effectif:</h3> "
   ]
  },
  {
   "cell_type": "code",
   "execution_count": 37,
   "metadata": {},
   "outputs": [],
   "source": [
    "res = pd.DataFrame()\n",
    "for year in df.YEAR_ORDER.unique():\n",
    "    df_tmp = df.loc[df.YEAR_ORDER == year]\n",
    "    res_returner = flatten(df_tmp.groupby(['KDNR']).agg({'TOT_RETURN' :sum}))\n",
    "    res_returner['RETURNERS'] = res_returner.TOT_RETURN>0\n",
    "    df_tmp = pd.merge(df_tmp,res_returner[['KDNR','RETURNERS']],on='KDNR',how='left',suffixes=(False,False))\n",
    "    rep_returner = flatten(df_tmp.groupby(['RETURNERS']).agg({'KDNR' :pd.Series.nunique}))\n",
    "    rep_returner['YEAR'] = year\n",
    "    res = pd.concat([res,rep_returner],axis=0)"
   ]
  },
  {
   "cell_type": "code",
   "execution_count": 45,
   "metadata": {},
   "outputs": [],
   "source": [
    "res.to_csv(os.path.join(output_rep,'rep_returners_GER.csv'),sep=\";\")"
   ]
  },
  {
   "cell_type": "markdown",
   "metadata": {},
   "source": [
    "<h3> Répartition selon nombre d'achat : </h3> "
   ]
  },
  {
   "cell_type": "code",
   "execution_count": 66,
   "metadata": {},
   "outputs": [
    {
     "data": {
      "text/html": [
       "<div>\n",
       "<style scoped>\n",
       "    .dataframe tbody tr th:only-of-type {\n",
       "        vertical-align: middle;\n",
       "    }\n",
       "\n",
       "    .dataframe tbody tr th {\n",
       "        vertical-align: top;\n",
       "    }\n",
       "\n",
       "    .dataframe thead th {\n",
       "        text-align: right;\n",
       "    }\n",
       "</style>\n",
       "<table border=\"1\" class=\"dataframe\">\n",
       "  <thead>\n",
       "    <tr style=\"text-align: right;\">\n",
       "      <th></th>\n",
       "      <th>FREQ_CATEGORY</th>\n",
       "      <th>_KDNR_False</th>\n",
       "      <th>_KDNR_True</th>\n",
       "    </tr>\n",
       "  </thead>\n",
       "  <tbody>\n",
       "    <tr>\n",
       "      <th>0</th>\n",
       "      <td>1 order</td>\n",
       "      <td>539060</td>\n",
       "      <td>259837</td>\n",
       "    </tr>\n",
       "    <tr>\n",
       "      <th>1</th>\n",
       "      <td>10+ orders</td>\n",
       "      <td>2201</td>\n",
       "      <td>39782</td>\n",
       "    </tr>\n",
       "    <tr>\n",
       "      <th>2</th>\n",
       "      <td>2 orders</td>\n",
       "      <td>118027</td>\n",
       "      <td>168580</td>\n",
       "    </tr>\n",
       "    <tr>\n",
       "      <th>3</th>\n",
       "      <td>3-5 orders</td>\n",
       "      <td>67860</td>\n",
       "      <td>217146</td>\n",
       "    </tr>\n",
       "    <tr>\n",
       "      <th>4</th>\n",
       "      <td>6-10 orders</td>\n",
       "      <td>11016</td>\n",
       "      <td>95088</td>\n",
       "    </tr>\n",
       "  </tbody>\n",
       "</table>\n",
       "</div>"
      ],
      "text/plain": [
       "  FREQ_CATEGORY  _KDNR_False  _KDNR_True\n",
       "0       1 order       539060      259837\n",
       "1    10+ orders         2201       39782\n",
       "2      2 orders       118027      168580\n",
       "3    3-5 orders        67860      217146\n",
       "4   6-10 orders        11016       95088"
      ]
     },
     "execution_count": 66,
     "metadata": {},
     "output_type": "execute_result"
    }
   ],
   "source": [
    "distrib_freq = df.groupby(['RETURNER','FREQ_CATEGORY']).agg({'KDNR': pd.Series.nunique})\n",
    "distrib_freq = flatten_soft(distrib_freq.unstack('RETURNER',fill_value=0))\n",
    "distrib_freq "
   ]
  },
  {
   "cell_type": "code",
   "execution_count": 67,
   "metadata": {},
   "outputs": [],
   "source": [
    "distrib_freq.to_csv(os.path.join(output_rep,'freq_returners_GER.csv'),sep=\";\")"
   ]
  },
  {
   "cell_type": "markdown",
   "metadata": {},
   "source": [
    "<h3> Répartition des commandes retournées par univers:</h3> "
   ]
  },
  {
   "cell_type": "code",
   "execution_count": 49,
   "metadata": {},
   "outputs": [
    {
     "data": {
      "text/html": [
       "<div>\n",
       "<style scoped>\n",
       "    .dataframe tbody tr th:only-of-type {\n",
       "        vertical-align: middle;\n",
       "    }\n",
       "\n",
       "    .dataframe tbody tr th {\n",
       "        vertical-align: top;\n",
       "    }\n",
       "\n",
       "    .dataframe thead th {\n",
       "        text-align: right;\n",
       "    }\n",
       "</style>\n",
       "<table border=\"1\" class=\"dataframe\">\n",
       "  <thead>\n",
       "    <tr style=\"text-align: right;\">\n",
       "      <th></th>\n",
       "      <th>DEPARTEMENT_CMD</th>\n",
       "      <th>_ID_ORDER_2017</th>\n",
       "      <th>_ID_ORDER_2018</th>\n",
       "      <th>_ID_ORDER_2019</th>\n",
       "      <th>_ID_ORDER_2020</th>\n",
       "      <th>_ID_ORDER_2021</th>\n",
       "    </tr>\n",
       "  </thead>\n",
       "  <tbody>\n",
       "    <tr>\n",
       "      <th>0</th>\n",
       "      <td>BEBE</td>\n",
       "      <td>40202</td>\n",
       "      <td>43863</td>\n",
       "      <td>36462</td>\n",
       "      <td>33508</td>\n",
       "      <td>30335</td>\n",
       "    </tr>\n",
       "    <tr>\n",
       "      <th>1</th>\n",
       "      <td>CHAMBRE ET LITERIE</td>\n",
       "      <td>10838</td>\n",
       "      <td>10019</td>\n",
       "      <td>8575</td>\n",
       "      <td>10421</td>\n",
       "      <td>7800</td>\n",
       "    </tr>\n",
       "    <tr>\n",
       "      <th>2</th>\n",
       "      <td>CHAUSSURE</td>\n",
       "      <td>67007</td>\n",
       "      <td>58509</td>\n",
       "      <td>32437</td>\n",
       "      <td>22444</td>\n",
       "      <td>25737</td>\n",
       "    </tr>\n",
       "    <tr>\n",
       "      <th>3</th>\n",
       "      <td>DECO</td>\n",
       "      <td>23957</td>\n",
       "      <td>21184</td>\n",
       "      <td>18596</td>\n",
       "      <td>20164</td>\n",
       "      <td>15828</td>\n",
       "    </tr>\n",
       "    <tr>\n",
       "      <th>4</th>\n",
       "      <td>FEMME</td>\n",
       "      <td>52851</td>\n",
       "      <td>51936</td>\n",
       "      <td>42853</td>\n",
       "      <td>31814</td>\n",
       "      <td>33655</td>\n",
       "    </tr>\n",
       "    <tr>\n",
       "      <th>5</th>\n",
       "      <td>JOUETS</td>\n",
       "      <td>1646</td>\n",
       "      <td>2033</td>\n",
       "      <td>4707</td>\n",
       "      <td>9924</td>\n",
       "      <td>7235</td>\n",
       "    </tr>\n",
       "    <tr>\n",
       "      <th>6</th>\n",
       "      <td>NON PAP ENFANT</td>\n",
       "      <td>17509</td>\n",
       "      <td>16107</td>\n",
       "      <td>13536</td>\n",
       "      <td>15116</td>\n",
       "      <td>12669</td>\n",
       "    </tr>\n",
       "    <tr>\n",
       "      <th>7</th>\n",
       "      <td>PAP FILLE</td>\n",
       "      <td>127965</td>\n",
       "      <td>114007</td>\n",
       "      <td>85583</td>\n",
       "      <td>82240</td>\n",
       "      <td>77299</td>\n",
       "    </tr>\n",
       "    <tr>\n",
       "      <th>8</th>\n",
       "      <td>PAP GARCON</td>\n",
       "      <td>62392</td>\n",
       "      <td>52955</td>\n",
       "      <td>46600</td>\n",
       "      <td>48865</td>\n",
       "      <td>48337</td>\n",
       "    </tr>\n",
       "    <tr>\n",
       "      <th>9</th>\n",
       "      <td>PUERICULTURE</td>\n",
       "      <td>4498</td>\n",
       "      <td>3949</td>\n",
       "      <td>3954</td>\n",
       "      <td>4207</td>\n",
       "      <td>4333</td>\n",
       "    </tr>\n",
       "    <tr>\n",
       "      <th>10</th>\n",
       "      <td>TEXTILE HOME</td>\n",
       "      <td>20885</td>\n",
       "      <td>16980</td>\n",
       "      <td>13994</td>\n",
       "      <td>16189</td>\n",
       "      <td>14028</td>\n",
       "    </tr>\n",
       "  </tbody>\n",
       "</table>\n",
       "</div>"
      ],
      "text/plain": [
       "       DEPARTEMENT_CMD  _ID_ORDER_2017  _ID_ORDER_2018  _ID_ORDER_2019  \\\n",
       "0                 BEBE           40202           43863           36462   \n",
       "1   CHAMBRE ET LITERIE           10838           10019            8575   \n",
       "2            CHAUSSURE           67007           58509           32437   \n",
       "3                 DECO           23957           21184           18596   \n",
       "4                FEMME           52851           51936           42853   \n",
       "5               JOUETS            1646            2033            4707   \n",
       "6       NON PAP ENFANT           17509           16107           13536   \n",
       "7            PAP FILLE          127965          114007           85583   \n",
       "8           PAP GARCON           62392           52955           46600   \n",
       "9         PUERICULTURE            4498            3949            3954   \n",
       "10        TEXTILE HOME           20885           16980           13994   \n",
       "\n",
       "    _ID_ORDER_2020  _ID_ORDER_2021  \n",
       "0            33508           30335  \n",
       "1            10421            7800  \n",
       "2            22444           25737  \n",
       "3            20164           15828  \n",
       "4            31814           33655  \n",
       "5             9924            7235  \n",
       "6            15116           12669  \n",
       "7            82240           77299  \n",
       "8            48865           48337  \n",
       "9             4207            4333  \n",
       "10           16189           14028  "
      ]
     },
     "execution_count": 49,
     "metadata": {},
     "output_type": "execute_result"
    }
   ],
   "source": [
    "returned_order = flatten(df.groupby(['ID_ORDER']).agg({'TOT_RETURN' :sum}))\n",
    "returned_order['RETURNED_ORDER'] = returned_order.TOT_RETURN>0\n",
    "df = pd.merge(df,returned_order[['ID_ORDER','RETURNED_ORDER']],on='ID_ORDER',how='left',suffixes=(False,False))\n",
    "rep_returner = df.loc[df.RETURNED_ORDER == True].groupby(['YEAR_ORDER','DEPARTEMENT_CMD']).agg({'ID_ORDER': pd.Series.nunique})\n",
    "rep_returner = flatten_soft(rep_returner.unstack('YEAR_ORDER',fill_value=0))\n",
    "rep_returner "
   ]
  },
  {
   "cell_type": "code",
   "execution_count": 50,
   "metadata": {},
   "outputs": [],
   "source": [
    "rep_returner.to_csv(os.path.join(output_rep,'rep_univ_returners_GER.csv'),sep=\";\")"
   ]
  },
  {
   "cell_type": "markdown",
   "metadata": {},
   "source": [
    "<h3> Répartition des articles retournés par univers:</h3> "
   ]
  },
  {
   "cell_type": "code",
   "execution_count": 20,
   "metadata": {},
   "outputs": [
    {
     "data": {
      "text/html": [
       "<div>\n",
       "<style scoped>\n",
       "    .dataframe tbody tr th:only-of-type {\n",
       "        vertical-align: middle;\n",
       "    }\n",
       "\n",
       "    .dataframe tbody tr th {\n",
       "        vertical-align: top;\n",
       "    }\n",
       "\n",
       "    .dataframe thead th {\n",
       "        text-align: right;\n",
       "    }\n",
       "</style>\n",
       "<table border=\"1\" class=\"dataframe\">\n",
       "  <thead>\n",
       "    <tr style=\"text-align: right;\">\n",
       "      <th></th>\n",
       "      <th>DEPARTEMENT</th>\n",
       "      <th>_MENGERET_2017</th>\n",
       "      <th>_MENGERET_2018</th>\n",
       "      <th>_MENGERET_2019</th>\n",
       "      <th>_MENGERET_2020</th>\n",
       "      <th>_MENGERET_2021</th>\n",
       "    </tr>\n",
       "  </thead>\n",
       "  <tbody>\n",
       "    <tr>\n",
       "      <th>0</th>\n",
       "      <td>BEBE</td>\n",
       "      <td>165028</td>\n",
       "      <td>177991</td>\n",
       "      <td>147742</td>\n",
       "      <td>137750</td>\n",
       "      <td>131325</td>\n",
       "    </tr>\n",
       "    <tr>\n",
       "      <th>1</th>\n",
       "      <td>CHAMBRE ET LITERIE</td>\n",
       "      <td>7872</td>\n",
       "      <td>8357</td>\n",
       "      <td>7528</td>\n",
       "      <td>8352</td>\n",
       "      <td>6162</td>\n",
       "    </tr>\n",
       "    <tr>\n",
       "      <th>2</th>\n",
       "      <td>CHAUSSURE</td>\n",
       "      <td>163822</td>\n",
       "      <td>146571</td>\n",
       "      <td>77966</td>\n",
       "      <td>49005</td>\n",
       "      <td>54024</td>\n",
       "    </tr>\n",
       "    <tr>\n",
       "      <th>3</th>\n",
       "      <td>DECO</td>\n",
       "      <td>48814</td>\n",
       "      <td>43617</td>\n",
       "      <td>36671</td>\n",
       "      <td>35445</td>\n",
       "      <td>25764</td>\n",
       "    </tr>\n",
       "    <tr>\n",
       "      <th>4</th>\n",
       "      <td>FEMME</td>\n",
       "      <td>192515</td>\n",
       "      <td>196032</td>\n",
       "      <td>161016</td>\n",
       "      <td>128316</td>\n",
       "      <td>135739</td>\n",
       "    </tr>\n",
       "    <tr>\n",
       "      <th>5</th>\n",
       "      <td>JOUETS</td>\n",
       "      <td>3375</td>\n",
       "      <td>3968</td>\n",
       "      <td>9576</td>\n",
       "      <td>16093</td>\n",
       "      <td>11323</td>\n",
       "    </tr>\n",
       "    <tr>\n",
       "      <th>6</th>\n",
       "      <td>NON PAP ENFANT</td>\n",
       "      <td>118459</td>\n",
       "      <td>103776</td>\n",
       "      <td>81889</td>\n",
       "      <td>77070</td>\n",
       "      <td>62160</td>\n",
       "    </tr>\n",
       "    <tr>\n",
       "      <th>7</th>\n",
       "      <td>PAP FILLE</td>\n",
       "      <td>548711</td>\n",
       "      <td>512184</td>\n",
       "      <td>361648</td>\n",
       "      <td>354277</td>\n",
       "      <td>337807</td>\n",
       "    </tr>\n",
       "    <tr>\n",
       "      <th>8</th>\n",
       "      <td>PAP GARCON</td>\n",
       "      <td>251801</td>\n",
       "      <td>223946</td>\n",
       "      <td>180121</td>\n",
       "      <td>195323</td>\n",
       "      <td>197451</td>\n",
       "    </tr>\n",
       "    <tr>\n",
       "      <th>9</th>\n",
       "      <td>PUERICULTURE</td>\n",
       "      <td>6618</td>\n",
       "      <td>5788</td>\n",
       "      <td>6043</td>\n",
       "      <td>7446</td>\n",
       "      <td>7867</td>\n",
       "    </tr>\n",
       "    <tr>\n",
       "      <th>10</th>\n",
       "      <td>TEXTILE HOME</td>\n",
       "      <td>41646</td>\n",
       "      <td>33713</td>\n",
       "      <td>27095</td>\n",
       "      <td>30916</td>\n",
       "      <td>25656</td>\n",
       "    </tr>\n",
       "  </tbody>\n",
       "</table>\n",
       "</div>"
      ],
      "text/plain": [
       "           DEPARTEMENT  _MENGERET_2017  _MENGERET_2018  _MENGERET_2019  \\\n",
       "0                 BEBE          165028          177991          147742   \n",
       "1   CHAMBRE ET LITERIE            7872            8357            7528   \n",
       "2            CHAUSSURE          163822          146571           77966   \n",
       "3                 DECO           48814           43617           36671   \n",
       "4                FEMME          192515          196032          161016   \n",
       "5               JOUETS            3375            3968            9576   \n",
       "6       NON PAP ENFANT          118459          103776           81889   \n",
       "7            PAP FILLE          548711          512184          361648   \n",
       "8           PAP GARCON          251801          223946          180121   \n",
       "9         PUERICULTURE            6618            5788            6043   \n",
       "10        TEXTILE HOME           41646           33713           27095   \n",
       "\n",
       "    _MENGERET_2020  _MENGERET_2021  \n",
       "0           137750          131325  \n",
       "1             8352            6162  \n",
       "2            49005           54024  \n",
       "3            35445           25764  \n",
       "4           128316          135739  \n",
       "5            16093           11323  \n",
       "6            77070           62160  \n",
       "7           354277          337807  \n",
       "8           195323          197451  \n",
       "9             7446            7867  \n",
       "10           30916           25656  "
      ]
     },
     "execution_count": 20,
     "metadata": {},
     "output_type": "execute_result"
    }
   ],
   "source": [
    "returned_article = df.groupby(['YEAR_ORDER','DEPARTEMENT']).agg({'MENGERET': sum})\n",
    "returned_article = flatten_soft(returned_article.unstack('YEAR_ORDER',fill_value=0))\n",
    "returned_article "
   ]
  },
  {
   "cell_type": "code",
   "execution_count": 21,
   "metadata": {},
   "outputs": [],
   "source": [
    "returned_article.to_csv(os.path.join(output_rep,'rep_article_returned_GER.csv'),sep=\";\")"
   ]
  },
  {
   "cell_type": "markdown",
   "metadata": {},
   "source": [
    "<h3> Répartition des commandes retournées par canal:</h3> "
   ]
  },
  {
   "cell_type": "code",
   "execution_count": 52,
   "metadata": {},
   "outputs": [
    {
     "data": {
      "text/html": [
       "<div>\n",
       "<style scoped>\n",
       "    .dataframe tbody tr th:only-of-type {\n",
       "        vertical-align: middle;\n",
       "    }\n",
       "\n",
       "    .dataframe tbody tr th {\n",
       "        vertical-align: top;\n",
       "    }\n",
       "\n",
       "    .dataframe thead th {\n",
       "        text-align: right;\n",
       "    }\n",
       "</style>\n",
       "<table border=\"1\" class=\"dataframe\">\n",
       "  <thead>\n",
       "    <tr style=\"text-align: right;\">\n",
       "      <th></th>\n",
       "      <th>BELEGSTAPELNR</th>\n",
       "      <th>LEVIER</th>\n",
       "      <th>CAMPAGNE</th>\n",
       "    </tr>\n",
       "  </thead>\n",
       "  <tbody>\n",
       "    <tr>\n",
       "      <th>0</th>\n",
       "      <td>201848977</td>\n",
       "      <td>SEA</td>\n",
       "      <td>SEA Marque</td>\n",
       "    </tr>\n",
       "    <tr>\n",
       "      <th>1</th>\n",
       "      <td>201848979</td>\n",
       "      <td>SEA</td>\n",
       "      <td>SEA Marque</td>\n",
       "    </tr>\n",
       "    <tr>\n",
       "      <th>2</th>\n",
       "      <td>201848991</td>\n",
       "      <td>SEA</td>\n",
       "      <td>FS 10</td>\n",
       "    </tr>\n",
       "    <tr>\n",
       "      <th>3</th>\n",
       "      <td>201848994</td>\n",
       "      <td>SEA</td>\n",
       "      <td>SEA Marque</td>\n",
       "    </tr>\n",
       "    <tr>\n",
       "      <th>4</th>\n",
       "      <td>201849000</td>\n",
       "      <td>SEA</td>\n",
       "      <td>SEA Marque</td>\n",
       "    </tr>\n",
       "    <tr>\n",
       "      <th>...</th>\n",
       "      <td>...</td>\n",
       "      <td>...</td>\n",
       "      <td>...</td>\n",
       "    </tr>\n",
       "    <tr>\n",
       "      <th>2394121</th>\n",
       "      <td>201784986</td>\n",
       "      <td>SEA</td>\n",
       "      <td>SEA Marque</td>\n",
       "    </tr>\n",
       "    <tr>\n",
       "      <th>2394122</th>\n",
       "      <td>201784987</td>\n",
       "      <td>SEA</td>\n",
       "      <td>SEA Marque</td>\n",
       "    </tr>\n",
       "    <tr>\n",
       "      <th>2394123</th>\n",
       "      <td>201784988</td>\n",
       "      <td>SEA</td>\n",
       "      <td>SEA Marque</td>\n",
       "    </tr>\n",
       "    <tr>\n",
       "      <th>2394124</th>\n",
       "      <td>201784989</td>\n",
       "      <td>SEA</td>\n",
       "      <td>SEA Hors Marque</td>\n",
       "    </tr>\n",
       "    <tr>\n",
       "      <th>2394125</th>\n",
       "      <td>201784990</td>\n",
       "      <td>Unspecified</td>\n",
       "      <td>Unspecified</td>\n",
       "    </tr>\n",
       "  </tbody>\n",
       "</table>\n",
       "<p>2394126 rows × 3 columns</p>\n",
       "</div>"
      ],
      "text/plain": [
       "         BELEGSTAPELNR       LEVIER         CAMPAGNE\n",
       "0            201848977          SEA       SEA Marque\n",
       "1            201848979          SEA       SEA Marque\n",
       "2            201848991          SEA            FS 10\n",
       "3            201848994          SEA       SEA Marque\n",
       "4            201849000          SEA       SEA Marque\n",
       "...                ...          ...              ...\n",
       "2394121      201784986          SEA       SEA Marque\n",
       "2394122      201784987          SEA       SEA Marque\n",
       "2394123      201784988          SEA       SEA Marque\n",
       "2394124      201784989          SEA  SEA Hors Marque\n",
       "2394125      201784990  Unspecified      Unspecified\n",
       "\n",
       "[2394126 rows x 3 columns]"
      ]
     },
     "execution_count": 52,
     "metadata": {},
     "output_type": "execute_result"
    }
   ],
   "source": [
    "df_canal = pd.read_csv(\"C:/Users/UgoMANTEL/Work/Github/Vertbaudet_2021/data/3. Other/20210928_Order_chanel_GER.tab\",sep=\"\\t\",encoding= \"unicode_escape\")\n",
    "df_canal.columns =['BELEGSTAPELNR','LEVIER','CAMPAGNE']\n",
    "df_canal"
   ]
  },
  {
   "cell_type": "code",
   "execution_count": 57,
   "metadata": {},
   "outputs": [],
   "source": [
    "df_with_channel = df.loc[(df.BELEGSTAPELNR!='$null$') & (df.BELEGSTAPELNR.isnull()==False)]\n",
    "df_with_channel.BELEGSTAPELNR = df_with_channel.BELEGSTAPELNR .astype(int)"
   ]
  },
  {
   "cell_type": "code",
   "execution_count": 58,
   "metadata": {},
   "outputs": [],
   "source": [
    "df_with_channel = pd.merge(df_with_channel,df_canal[['BELEGSTAPELNR','LEVIER']],on='BELEGSTAPELNR',how='left',suffixes=(False,False))"
   ]
  },
  {
   "cell_type": "code",
   "execution_count": 59,
   "metadata": {},
   "outputs": [
    {
     "data": {
      "text/html": [
       "<div>\n",
       "<style scoped>\n",
       "    .dataframe tbody tr th:only-of-type {\n",
       "        vertical-align: middle;\n",
       "    }\n",
       "\n",
       "    .dataframe tbody tr th {\n",
       "        vertical-align: top;\n",
       "    }\n",
       "\n",
       "    .dataframe thead th {\n",
       "        text-align: right;\n",
       "    }\n",
       "</style>\n",
       "<table border=\"1\" class=\"dataframe\">\n",
       "  <thead>\n",
       "    <tr style=\"text-align: right;\">\n",
       "      <th></th>\n",
       "      <th>LEVIER</th>\n",
       "      <th>_ID_ORDER_2018</th>\n",
       "      <th>_ID_ORDER_2019</th>\n",
       "      <th>_ID_ORDER_2020</th>\n",
       "      <th>_ID_ORDER_2021</th>\n",
       "    </tr>\n",
       "  </thead>\n",
       "  <tbody>\n",
       "    <tr>\n",
       "      <th>0</th>\n",
       "      <td>Affiliation</td>\n",
       "      <td>7775</td>\n",
       "      <td>18296</td>\n",
       "      <td>22555</td>\n",
       "      <td>24421</td>\n",
       "    </tr>\n",
       "    <tr>\n",
       "      <th>1</th>\n",
       "      <td>Comparateurs</td>\n",
       "      <td>1734</td>\n",
       "      <td>4490</td>\n",
       "      <td>2675</td>\n",
       "      <td>2758</td>\n",
       "    </tr>\n",
       "    <tr>\n",
       "      <th>2</th>\n",
       "      <td>Display</td>\n",
       "      <td>2829</td>\n",
       "      <td>7889</td>\n",
       "      <td>7166</td>\n",
       "      <td>5411</td>\n",
       "    </tr>\n",
       "    <tr>\n",
       "      <th>3</th>\n",
       "      <td>Emails Fideli</td>\n",
       "      <td>10630</td>\n",
       "      <td>30537</td>\n",
       "      <td>27776</td>\n",
       "      <td>25099</td>\n",
       "    </tr>\n",
       "    <tr>\n",
       "      <th>4</th>\n",
       "      <td>Emails Services</td>\n",
       "      <td>0</td>\n",
       "      <td>154</td>\n",
       "      <td>92</td>\n",
       "      <td>95</td>\n",
       "    </tr>\n",
       "    <tr>\n",
       "      <th>5</th>\n",
       "      <td>Medias</td>\n",
       "      <td>1</td>\n",
       "      <td>1585</td>\n",
       "      <td>2448</td>\n",
       "      <td>2739</td>\n",
       "    </tr>\n",
       "    <tr>\n",
       "      <th>6</th>\n",
       "      <td>Partenariats</td>\n",
       "      <td>153</td>\n",
       "      <td>496</td>\n",
       "      <td>868</td>\n",
       "      <td>341</td>\n",
       "    </tr>\n",
       "    <tr>\n",
       "      <th>7</th>\n",
       "      <td>Retargeting</td>\n",
       "      <td>2192</td>\n",
       "      <td>8497</td>\n",
       "      <td>9878</td>\n",
       "      <td>6898</td>\n",
       "    </tr>\n",
       "    <tr>\n",
       "      <th>8</th>\n",
       "      <td>Réseaux sociaux</td>\n",
       "      <td>918</td>\n",
       "      <td>5889</td>\n",
       "      <td>4413</td>\n",
       "      <td>4478</td>\n",
       "    </tr>\n",
       "    <tr>\n",
       "      <th>9</th>\n",
       "      <td>SEA</td>\n",
       "      <td>57926</td>\n",
       "      <td>141065</td>\n",
       "      <td>135748</td>\n",
       "      <td>138984</td>\n",
       "    </tr>\n",
       "    <tr>\n",
       "      <th>10</th>\n",
       "      <td>Unspecified</td>\n",
       "      <td>29576</td>\n",
       "      <td>61952</td>\n",
       "      <td>57850</td>\n",
       "      <td>48964</td>\n",
       "    </tr>\n",
       "  </tbody>\n",
       "</table>\n",
       "</div>"
      ],
      "text/plain": [
       "             LEVIER  _ID_ORDER_2018  _ID_ORDER_2019  _ID_ORDER_2020  \\\n",
       "0       Affiliation            7775           18296           22555   \n",
       "1      Comparateurs            1734            4490            2675   \n",
       "2           Display            2829            7889            7166   \n",
       "3     Emails Fideli           10630           30537           27776   \n",
       "4   Emails Services               0             154              92   \n",
       "5            Medias               1            1585            2448   \n",
       "6      Partenariats             153             496             868   \n",
       "7       Retargeting            2192            8497            9878   \n",
       "8   Réseaux sociaux             918            5889            4413   \n",
       "9               SEA           57926          141065          135748   \n",
       "10      Unspecified           29576           61952           57850   \n",
       "\n",
       "    _ID_ORDER_2021  \n",
       "0            24421  \n",
       "1             2758  \n",
       "2             5411  \n",
       "3            25099  \n",
       "4               95  \n",
       "5             2739  \n",
       "6              341  \n",
       "7             6898  \n",
       "8             4478  \n",
       "9           138984  \n",
       "10           48964  "
      ]
     },
     "execution_count": 59,
     "metadata": {},
     "output_type": "execute_result"
    }
   ],
   "source": [
    "rep_returner_canal = df_with_channel.loc[df_with_channel.RETURNED_ORDER == True].groupby(['YEAR_ORDER','LEVIER']).agg({'ID_ORDER': pd.Series.nunique})\n",
    "rep_returner_canal = flatten_soft(rep_returner_canal.unstack('YEAR_ORDER',fill_value=0))\n",
    "rep_returner_canal "
   ]
  },
  {
   "cell_type": "code",
   "execution_count": 60,
   "metadata": {},
   "outputs": [],
   "source": [
    "rep_returner_canal.to_csv(os.path.join(output_rep,'rep_channel_returners_GER.csv'),sep=\";\")"
   ]
  },
  {
   "cell_type": "code",
   "execution_count": null,
   "metadata": {},
   "outputs": [],
   "source": []
  }
 ],
 "metadata": {
  "kernelspec": {
   "display_name": "Python 3",
   "language": "python",
   "name": "python3"
  },
  "language_info": {
   "codemirror_mode": {
    "name": "ipython",
    "version": 3
   },
   "file_extension": ".py",
   "mimetype": "text/x-python",
   "name": "python",
   "nbconvert_exporter": "python",
   "pygments_lexer": "ipython3",
   "version": "3.7.7"
  }
 },
 "nbformat": 4,
 "nbformat_minor": 4
}
