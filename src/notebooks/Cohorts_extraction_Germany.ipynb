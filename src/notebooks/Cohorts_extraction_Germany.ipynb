{
 "cells": [
  {
   "cell_type": "code",
   "execution_count": 1,
   "metadata": {},
   "outputs": [],
   "source": [
    "import os\n",
    "import pandas as pd\n",
    "import numpy as np\n",
    "import matplotlib.pyplot as plt\n",
    "from matplotlib import ticker\n",
    "import matplotlib.dates as mdates\n",
    "from datetime import datetime, time ,date ,timedelta\n",
    "from dateutil.relativedelta import relativedelta\n",
    "import seaborn as sns\n",
    "pd.options.mode.chained_assignment = None"
   ]
  },
  {
   "cell_type": "code",
   "execution_count": 2,
   "metadata": {},
   "outputs": [],
   "source": [
    "import warnings\n",
    "warnings.filterwarnings(\"ignore\")"
   ]
  },
  {
   "cell_type": "markdown",
   "metadata": {},
   "source": [
    "<h1> Functions </h1>"
   ]
  },
  {
   "cell_type": "markdown",
   "metadata": {},
   "source": [
    "<h3> Fonctions générales </h3>"
   ]
  },
  {
   "cell_type": "code",
   "execution_count": 3,
   "metadata": {},
   "outputs": [],
   "source": [
    "def floatise (df, list_columns_to_floatise):\n",
    "    for i in list_columns_to_floatise:\n",
    "        df[i] = df[i].apply(lambda x: float(x.replace(',','.')))\n",
    "    return (df)"
   ]
  },
  {
   "cell_type": "code",
   "execution_count": 4,
   "metadata": {},
   "outputs": [],
   "source": [
    "def intise (df, list_columns_to_floatise):\n",
    "    for i in list_columns_to_floatise:\n",
    "        df[i] = df[i].astype(int)\n",
    "    return (df)"
   ]
  },
  {
   "cell_type": "code",
   "execution_count": 5,
   "metadata": {},
   "outputs": [],
   "source": [
    "def flatten (table):\n",
    "    if type(table.columns)==pd.MultiIndex:\n",
    "        columns_to_look = [name_tmp for name_tmp in table.columns]\n",
    "\n",
    "        columns_df = [ str(t[0])+'_'+str(t[1]) for t in columns_to_look]\n",
    "        columns_df.insert(0,table.index.name)\n",
    "\n",
    "        df = pd.DataFrame(columns = columns_df)\n",
    "\n",
    "        index = 0\n",
    "        for i in table.index:\n",
    "            row = [table[r][i] for r in columns_to_look]\n",
    "            row.insert(0,i)\n",
    "            df.loc[index] = row\n",
    "            index = index + 1\n",
    "        return(df)\n",
    "    else :\n",
    "        table = pd.DataFrame(table)\n",
    "        table.reset_index(level=0, inplace=True)\n",
    "        return table"
   ]
  },
  {
   "cell_type": "code",
   "execution_count": 6,
   "metadata": {},
   "outputs": [],
   "source": [
    "def flatten_soft(dataframe):\n",
    "    res = pd.DataFrame()\n",
    "    res[dataframe.index.name] = dataframe.index\n",
    "    for col in dataframe.columns:\n",
    "        name_tmp=\"\"\n",
    "        for i in range(len(dataframe.columns[0])):\n",
    "            name_tmp = name_tmp +'_'+str(col[i])\n",
    "        res[str(name_tmp)] = dataframe[col].values\n",
    "    return res"
   ]
  },
  {
   "cell_type": "markdown",
   "metadata": {},
   "source": [
    "<h3> Fonctions particulières </h3>"
   ]
  },
  {
   "cell_type": "code",
   "execution_count": 7,
   "metadata": {},
   "outputs": [],
   "source": [
    "def cohort_attribution (x):\n",
    "    if (x<=2017):\n",
    "        return 2017\n",
    "    else :\n",
    "        return x"
   ]
  },
  {
   "cell_type": "code",
   "execution_count": 8,
   "metadata": {},
   "outputs": [],
   "source": [
    "def cohort_attribution_bis (x):\n",
    "    if (x<2017):\n",
    "        return 2016\n",
    "    else :\n",
    "        return x"
   ]
  },
  {
   "cell_type": "markdown",
   "metadata": {},
   "source": [
    "<h1> Dataset creation </h1>"
   ]
  },
  {
   "cell_type": "markdown",
   "metadata": {},
   "source": [
    "<h3> Import de la data </h3>"
   ]
  },
  {
   "cell_type": "code",
   "execution_count": 9,
   "metadata": {},
   "outputs": [
    {
     "name": "stdout",
     "output_type": "stream",
     "text": [
      "C:\\Users\\UgoMANTEL\\Work\\Github\\Vertbaudet_2021\\src\\notebooks\n"
     ]
    }
   ],
   "source": [
    "src_root = os.getcwd()\n",
    "print(src_root)"
   ]
  },
  {
   "cell_type": "markdown",
   "metadata": {},
   "source": [
    "- Préparation des colonnes:"
   ]
  },
  {
   "cell_type": "code",
   "execution_count": 10,
   "metadata": {},
   "outputs": [],
   "source": [
    "col_names = ['AUFTRNR','KDNR','ARTNRERF','WTR','ARTGRERF','DATERF','PREISERF','PREIS','EKP','PREISNET','RABATT','RABATTSATZ',\n",
    "             'MENGE','MENGERET','DEPARTEMENT','CAUFTRAGSPOS','MWST','MWSTRABATT','ANZKINDER','ANLAGEDAT',\n",
    "             'DATAUFTRAG1','STRASSE','PLZ','ORT','BUNDESLAND','CLAND','CWERBESP','DATWERBESP','CLIEFERSP','DATLIEFERSP',\n",
    "             'CADRESSSP','DATADRESSSP','UMSATZ1','DATLETZTAUFTR','UMSLETZTAUFTR','ANZKATLETZTAUFTR','WKOSTLETZTAUFTR',\n",
    "             'DBKDNR','WKOSTENKUM','UMSATZKUM','UMSATZKUMTEL','UMSATZKUMFAX','UMSATZKUMWEB','UMSATZLIEFKUM','RUECKSTAUFTR',\n",
    "             'ANZAUFTR','REFPRES','REFSTK','CODDOC','PLANEKP','RAYON','FAMILLE','DEPART','CODMARQ','ARTGROESSE','DATAUFTRAG',\n",
    "             'DATERFASSUNG','DATVERARB','GUTSCHEINWERT']\n",
    "\n",
    "# col_names = ['AUFTRNR','KDNR','ARTNRERF','WTR','ARTGRERF','DATERF','PREISERF','PREIS','EKP','PREISNET',\n",
    "#      'RABATT','RABATTSATZ','MENGE','MENGERET','DEPARTEMENT','CAUFTRAGSPOS','MWST','MWSTRABATT',\n",
    "#      'ANZKINDER','ANLAGEDAT','DATAUFTRAG1','STRASSE','PLZ','ORT','BUNDESLAND','CWERBESP','DATWERBESP','CLIEFERSP'\n",
    "#      ,'DATLIEFERSP','CADRESSSP','DATADRESSSP','UMSATZ1','DATLETZTAUFTR','UMSLETZTAUFTR','ANZKATLETZTAUFTR','WKOSTLETZTAUFTR',\n",
    "#      'DBKDNR','WKOSTENKUM','UMSATZKUM','UMSATZKUMTEL','UMSATZKUMFAX','UMSATZKUMWEB','UMSATZLIEFKUM','REFPRES','REFSTK','CODDOC',\n",
    "#      'PLANEKP','RAYON','FAMILLE','DEPART','CODMARQ','ARTGROESSE','DATAUFTRAG','DATERFASSUNG','DATVERARB','GUTSCHEINWERT']"
   ]
  },
  {
   "cell_type": "code",
   "execution_count": 11,
   "metadata": {},
   "outputs": [
    {
     "data": {
      "text/plain": [
       "59"
      ]
     },
     "execution_count": 11,
     "metadata": {},
     "output_type": "execute_result"
    }
   ],
   "source": [
    "len(col_names)"
   ]
  },
  {
   "cell_type": "code",
   "execution_count": 12,
   "metadata": {},
   "outputs": [],
   "source": [
    "dict_department = {'B':'BEBE','N':'PAP FILLE','U':'PAP GARCON','D':'CHAUSSURE','F':'FEMME',\n",
    "'T':'TEXTILE HOME','P':'PUERICULTURE','W':'NON PAP ENFANT','K':'DECO','M':'CHAMBRE ET LITERIE','R':'JOUETS'}"
   ]
  },
  {
   "cell_type": "markdown",
   "metadata": {},
   "source": [
    "- Import:"
   ]
  },
  {
   "cell_type": "code",
   "execution_count": 13,
   "metadata": {},
   "outputs": [],
   "source": [
    "# df = pd.read_csv(\"C:/Users/UgoMANTEL/Work/Github/Vertbaudet_2021/data/1. Germany/20210915_Export_Germany_17_18.csv\",sep=\",\",encoding= \"unicode_escape\", names=col_names, skiprows=\n",
    "#     1)\n",
    "# df = pd.read_csv(\"C:/Users/UgoMANTEL/Work/Github/Vertbaudet_2021/data/1. Germany/20210922_Export_Germany_19_20.tab\",sep=\"\\t\",encoding='Latin1')"
   ]
  },
  {
   "cell_type": "markdown",
   "metadata": {},
   "source": [
    "<h3> Dataset pour cohortes </h3>"
   ]
  },
  {
   "cell_type": "markdown",
   "metadata": {},
   "source": [
    "- Définition des répertoires :"
   ]
  },
  {
   "cell_type": "code",
   "execution_count": 14,
   "metadata": {},
   "outputs": [],
   "source": [
    "repertoire = \"C:/Users/UgoMANTEL/Work/Github/Vertbaudet_2021/data/1. Germany\""
   ]
  },
  {
   "cell_type": "code",
   "execution_count": 15,
   "metadata": {},
   "outputs": [],
   "source": [
    "output_rep = \"C:/Users/UgoMANTEL/eleven/Engagements - Vertbaudet/5. Analyses/3. Outputs python\""
   ]
  },
  {
   "cell_type": "markdown",
   "metadata": {},
   "source": [
    "- Création de la donnée:"
   ]
  },
  {
   "cell_type": "code",
   "execution_count": 16,
   "metadata": {},
   "outputs": [],
   "source": [
    "df = pd.DataFrame(columns=['KDNR','COHORT'])\n",
    "for file in os.listdir(repertoire):\n",
    "    file_name_tmp = os.path.join(repertoire,file)\n",
    "    df_tmp = pd.read_csv(file_name_tmp,sep=\",\",encoding= \"unicode_escape\", usecols=col_names)\n",
    "#     df_tmp = pd.read_csv(file_name_tmp,sep=\"\\t\",encoding= \"Latin1\")\n",
    "    \n",
    "    df_tmp = df_tmp.loc[df_tmp.CAUFTRAGSPOS!='$null$']\n",
    "    df_tmp.CAUFTRAGSPOS = df_tmp.CAUFTRAGSPOS.astype(int)\n",
    "    df_tmp = df_tmp.loc[df_tmp.CAUFTRAGSPOS <= 7]\n",
    "    \n",
    "    ################### CONVERSION DES CHAMPS ###################\n",
    "    df_tmp['DATERF'] = pd.to_datetime(df_tmp.DATERF)\n",
    "    df_tmp['DATAUFTRAG1'] = pd.to_datetime(df_tmp.DATAUFTRAG1)\n",
    "    \n",
    "    ################### CREATION DES CHAMPS ###################\n",
    "    df_tmp['TOT_SALES'] = (df_tmp.PREIS - df_tmp.RABATT)*(df_tmp.MENGE - df_tmp.MENGERET)\n",
    "    df_tmp['GROSS_DEMAND'] = df_tmp.PREIS * df_tmp.MENGE\n",
    "    df_tmp['NET_DEMAND'] = (df_tmp.PREIS - df_tmp.RABATT) * df_tmp.MENGE\n",
    "    df_tmp['YEAR_FIRST_ORDER'] = df_tmp.DATAUFTRAG1.dt.year\n",
    "    df_tmp['YEAR_ORDER'] = df_tmp.DATERF.dt.year\n",
    "    df_tmp['COHORT'] = df_tmp.YEAR_FIRST_ORDER.apply(lambda x: cohort_attribution_bis(x))\n",
    "    \n",
    "    for year in df_tmp.YEAR_ORDER.unique():\n",
    "        df_tmp_peryear = df_tmp.loc[df_tmp.YEAR_ORDER == year]\n",
    "        \n",
    "        ################### GROUP BY CLIENT ###################\n",
    "        CA_tmp = flatten(df_tmp_peryear.groupby(['KDNR']).agg({'NET_DEMAND': sum, 'COHORT':'last','AUFTRNR':pd.Series.nunique}))\n",
    "        CA_tmp.columns = ['KDNR',str('SALES_'+str(year)),str('COHORT_'+str(year)),str('NB_COMMANDE_'+str(year))]\n",
    "        CA_tmp[str('ACTIVE_'+str(year))] = 1\n",
    "        df = pd.merge(df,CA_tmp, on='KDNR', how='outer', suffixes=(False,False))\n",
    "        df['COHORT'] = df['COHORT'].combine_first(df[str('COHORT_'+str(year))])\n",
    "        df.drop(columns=[str('COHORT_'+str(year))], inplace=True)\n",
    "        del(df_tmp_peryear)\n",
    "        del(CA_tmp)\n",
    "        \n",
    "    del(df_tmp)\n",
    "    \n",
    "df = df.fillna(0)"
   ]
  },
  {
   "cell_type": "code",
   "execution_count": 17,
   "metadata": {},
   "outputs": [],
   "source": [
    "file_name= 'raw_data_cohort_germany.csv'\n",
    "df.to_csv(os.path.join(output_rep,file_name),sep=\";\")"
   ]
  },
  {
   "cell_type": "code",
   "execution_count": 28,
   "metadata": {},
   "outputs": [
    {
     "data": {
      "text/plain": [
       "Index(['COHORT', 'KDNR', 'SALES_2017', 'NB_COMMANDE_2017', 'ACTIVE_2017',\n",
       "       'SALES_2018', 'NB_COMMANDE_2018', 'ACTIVE_2018', 'SALES_2019',\n",
       "       'NB_COMMANDE_2019', 'ACTIVE_2019', 'SALES_2020', 'NB_COMMANDE_2020',\n",
       "       'ACTIVE_2020', 'SALES_2021', 'NB_COMMANDE_2021', 'ACTIVE_2021',\n",
       "       'ACTIVE_2017_CUM', 'ACTIVE_2018_CUM', 'ACTIVE_2019_CUM',\n",
       "       'ACTIVE_2020_CUM', 'ACTIVE_2021_CUM'],\n",
       "      dtype='object')"
      ]
     },
     "execution_count": 28,
     "metadata": {},
     "output_type": "execute_result"
    }
   ],
   "source": [
    "df.columns"
   ]
  },
  {
   "cell_type": "markdown",
   "metadata": {},
   "source": [
    "<h1> Analyses cohortes </h1>"
   ]
  },
  {
   "cell_type": "markdown",
   "metadata": {},
   "source": [
    "<h3> Cohortes en volume & valeur </h3>"
   ]
  },
  {
   "cell_type": "markdown",
   "metadata": {},
   "source": [
    "- Groupement par cohortes:"
   ]
  },
  {
   "cell_type": "code",
   "execution_count": 17,
   "metadata": {},
   "outputs": [],
   "source": [
    "df_by_cohort = flatten(df.groupby(['COHORT']).agg({'SALES_2017': sum, 'SALES_2018': sum,'SALES_2019': sum, 'SALES_2020': sum,\n",
    "                                                  'SALES_2021': sum, \n",
    "                                                    'ACTIVE_2017': sum, 'ACTIVE_2018': sum,'ACTIVE_2019': sum, 'ACTIVE_2020': sum,\n",
    "                                                  'ACTIVE_2021': sum, }))\n",
    "df_by_cohort.columns = ['COHORT','SALES_2017', 'SALES_2018', 'SALES_2019','SALES_2020', 'SALES_2021', \n",
    "                        'ACTIVE_2017', 'ACTIVE_2018', 'ACTIVE_2019','ACTIVE_2020', 'ACTIVE_2021']"
   ]
  },
  {
   "cell_type": "markdown",
   "metadata": {},
   "source": [
    "- Export:"
   ]
  },
  {
   "cell_type": "code",
   "execution_count": 19,
   "metadata": {},
   "outputs": [],
   "source": [
    "file_name_bis = 'data_cohort_germany_DN.csv'\n",
    "df_by_cohort.to_csv(os.path.join(output_rep,file_name_bis),sep=\";\")"
   ]
  },
  {
   "cell_type": "markdown",
   "metadata": {},
   "source": [
    "<h3> Cohortes des acheteurs passifs en volume </h3>"
   ]
  },
  {
   "cell_type": "markdown",
   "metadata": {},
   "source": [
    "- Construct the data:"
   ]
  },
  {
   "cell_type": "code",
   "execution_count": 20,
   "metadata": {},
   "outputs": [],
   "source": [
    "df['ACTIVE_2017_CUM'] = df[[\"ACTIVE_2017\",\"ACTIVE_2018\", \"ACTIVE_2019\",'ACTIVE_2020','ACTIVE_2021']].max(axis=1)\n",
    "df['ACTIVE_2018_CUM'] = df[[\"ACTIVE_2018\", \"ACTIVE_2019\",'ACTIVE_2020','ACTIVE_2021']].max(axis=1)\n",
    "df['ACTIVE_2019_CUM'] = df[[ \"ACTIVE_2019\",'ACTIVE_2020','ACTIVE_2021']].max(axis=1)\n",
    "df['ACTIVE_2020_CUM'] = df[['ACTIVE_2020','ACTIVE_2021']].max(axis=1)\n",
    "df['ACTIVE_2021_CUM'] = df[['ACTIVE_2021']].max(axis=1)"
   ]
  },
  {
   "cell_type": "markdown",
   "metadata": {},
   "source": [
    "- Clean the data:"
   ]
  },
  {
   "cell_type": "code",
   "execution_count": 21,
   "metadata": {},
   "outputs": [],
   "source": [
    "df.loc[df.COHORT>2017,'ACTIVE_2017_CUM']=0\n",
    "df.loc[df.COHORT>2018,'ACTIVE_2018_CUM']=0\n",
    "df.loc[df.COHORT>2019,'ACTIVE_2019_CUM']=0\n",
    "df.loc[df.COHORT>2020,'ACTIVE_2020_CUM']=0"
   ]
  },
  {
   "cell_type": "code",
   "execution_count": 22,
   "metadata": {},
   "outputs": [],
   "source": [
    "df_by_cohort_cum = flatten(df.groupby(['COHORT']).agg({'ACTIVE_2017_CUM': sum, 'ACTIVE_2018_CUM': sum,'ACTIVE_2019_CUM': sum, 'ACTIVE_2020_CUM': sum,\n",
    "                                                  'ACTIVE_2021_CUM': sum, }))\n",
    "df_by_cohort_cum.columns = ['COHORT','ACTIVE_2017', 'ACTIVE_2018', 'ACTIVE_2019','ACTIVE_2020', 'ACTIVE_2021']\n",
    "df_by_cohort_cum.to_csv(os.path.join(output_rep,'data_cohort_germany_cum_DN.csv'),sep=\";\")"
   ]
  },
  {
   "cell_type": "markdown",
   "metadata": {},
   "source": [
    "<h3> Etude des one-timers</h3>"
   ]
  },
  {
   "cell_type": "code",
   "execution_count": 24,
   "metadata": {},
   "outputs": [],
   "source": [
    "df_small = df.loc[df.COHORT>=2017]\n",
    "df_small['NB_COMMANDE_CUM_2017'] = df_small['NB_COMMANDE_2017']\n",
    "df_small['NB_COMMANDE_CUM_2018'] = df_small['NB_COMMANDE_2017'] + df_small['NB_COMMANDE_2018']\n",
    "df_small['NB_COMMANDE_CUM_2019'] = df_small['NB_COMMANDE_CUM_2018'] + df_small['NB_COMMANDE_2019']\n",
    "df_small['NB_COMMANDE_CUM_2020'] = df_small['NB_COMMANDE_CUM_2019'] + df_small['NB_COMMANDE_2020']\n",
    "df_small['NB_COMMANDE_CUM_2021'] = df_small['NB_COMMANDE_CUM_2020'] + df_small['NB_COMMANDE_2021']\n",
    "\n",
    "for year in df_small.COHORT.unique():\n",
    "    df_small[str('ONE_TIMER_'+str(int(year)))] = df_small[str('NB_COMMANDE_CUM_'+str(int(year)))] == 1\n",
    "one_timer = flatten(df_small.groupby(['COHORT']).agg({'ONE_TIMER_2017': sum, 'ONE_TIMER_2018': sum,'ONE_TIMER_2019': sum, \n",
    "                                        'ONE_TIMER_2020': sum, 'ONE_TIMER_2021': sum,\n",
    "                                        'ACTIVE_2017': sum, 'ACTIVE_2018': sum,'ACTIVE_2019': sum,\n",
    "                                        'ACTIVE_2020': sum,'ACTIVE_2021': sum }))    "
   ]
  },
  {
   "cell_type": "code",
   "execution_count": 26,
   "metadata": {},
   "outputs": [],
   "source": [
    "file_name_onetimers = 'one_timer_per_cohort_v2.csv'\n",
    "one_timer.to_csv(os.path.join(output_rep,file_name_onetimers),sep=\";\")"
   ]
  },
  {
   "cell_type": "markdown",
   "metadata": {},
   "source": [
    "<h3> Représentation waterfall </h3>"
   ]
  },
  {
   "cell_type": "markdown",
   "metadata": {},
   "source": [
    "- Avec la fonction cohort_attribution originale!"
   ]
  },
  {
   "cell_type": "code",
   "execution_count": 28,
   "metadata": {},
   "outputs": [
    {
     "data": {
      "text/plain": [
       "range(2017, 2021)"
      ]
     },
     "execution_count": 28,
     "metadata": {},
     "output_type": "execute_result"
    }
   ],
   "source": [
    " range(int(min(df.COHORT.unique()))+1,int(max(df.COHORT.unique())))"
   ]
  },
  {
   "cell_type": "code",
   "execution_count": 36,
   "metadata": {},
   "outputs": [],
   "source": [
    "for year in range(int(min(df.COHORT.unique()))+1,int(max(df.COHORT.unique()))):\n",
    "    df[str('NEW_BUSINESS_'+str(int(year+1)))] = df.apply(lambda row: row[str('SALES_'+str(year+1))] \n",
    "                                                      if ((row[str('ACTIVE_'+str(year))] == 0) and (row[str('ACTIVE_'+str(year+1))] == 1) and \n",
    "                                                         row.COHORT==year+1)\n",
    "                                                      else 0 ,axis=1)\n",
    "    df[str('LFL_'+str(int(year)))] = df.apply(lambda row: row[str('SALES_'+str(year+1))]-row[str('SALES_'+str(year))]\n",
    "                                                      if ((row[str('ACTIVE_'+str(year))] == 1) and (row[str('ACTIVE_'+str(year+1))] == 1))\n",
    "                                                      else 0 ,axis=1)\n",
    "    df[str('CHURN_'+str(int(year+1)))] = df.apply(lambda row: -row[str('SALES_'+str(year))] \n",
    "                                                      if ((row[str('ACTIVE_'+str(year))] == 1) and (row[str('ACTIVE_'+str(year+1))] == 0))\n",
    "                                                      else 0 ,axis=1)\n",
    "    df[str('REACTIVATED_'+str(int(year+1)))] = df.apply(lambda row: row[str('SALES_'+str(year+1))] \n",
    "                                                      if ((row[str('ACTIVE_'+str(year))] == 0) and (row[str('ACTIVE_'+str(year+1))] == 1) \n",
    "                                                          and (row.COHORT<year+1))\n",
    "                                                      else 0 ,axis=1)"
   ]
  },
  {
   "cell_type": "code",
   "execution_count": 37,
   "metadata": {},
   "outputs": [],
   "source": [
    "file_name_waterfall = 'waterfallbisDN.csv'\n",
    "df[['SALES_2017','NEW_BUSINESS_2018','LFL_2017','CHURN_2018','REACTIVATED_2018',\n",
    "  'SALES_2018','NEW_BUSINESS_2019','LFL_2018','CHURN_2019','REACTIVATED_2019',\n",
    "  'SALES_2019','NEW_BUSINESS_2020','LFL_2019','CHURN_2020','REACTIVATED_2020',\n",
    "  'SALES_2020','NEW_BUSINESS_2021','LFL_2020','CHURN_2021','REACTIVATED_2021',\n",
    "  'SALES_2021']].sum(axis=0).to_csv(os.path.join(output_rep,file_name_waterfall),sep=\";\")"
   ]
  },
  {
   "cell_type": "markdown",
   "metadata": {},
   "source": [
    "<h3> Zoom sur le comportement des cohortes</h3>"
   ]
  },
  {
   "cell_type": "markdown",
   "metadata": {},
   "source": [
    "- Cohort Prior 2017 en 2021:"
   ]
  },
  {
   "cell_type": "code",
   "execution_count": null,
   "metadata": {},
   "outputs": [],
   "source": [
    "df_2020 = pd.read_csv(\"C:/Users/UgoMANTEL/Work/Github/Vertbaudet_2021/data/20210910_Export_Germany_2020.csv\",sep=\",\",encoding= \"unicode_escape\", names=col_names, skiprows=\n",
    "    1)"
   ]
  },
  {
   "cell_type": "code",
   "execution_count": 125,
   "metadata": {},
   "outputs": [],
   "source": [
    "df_2020['TOT_SALES'] = (df_2020.PREIS - df_2020.RABATT)*(df_2020.MENGE - df_2020.MENGERET)\n",
    "df_2020['NET_DEMAND'] = (df_2020.PREIS - df_2020.RABATT) * df_2020.MENGE"
   ]
  },
  {
   "cell_type": "code",
   "execution_count": 126,
   "metadata": {},
   "outputs": [],
   "source": [
    "zoom_2017 = df_2020.loc[df_2020.KDNR.isin(df.loc[df.COHORT==2017].KDNR.unique())]"
   ]
  },
  {
   "cell_type": "code",
   "execution_count": 127,
   "metadata": {},
   "outputs": [],
   "source": [
    "zoom_2017['DEPARTEMENT'] = zoom_2017.DEPART.map(dict_department)"
   ]
  },
  {
   "cell_type": "code",
   "execution_count": 131,
   "metadata": {},
   "outputs": [
    {
     "data": {
      "text/html": [
       "<div>\n",
       "<style scoped>\n",
       "    .dataframe tbody tr th:only-of-type {\n",
       "        vertical-align: middle;\n",
       "    }\n",
       "\n",
       "    .dataframe tbody tr th {\n",
       "        vertical-align: top;\n",
       "    }\n",
       "\n",
       "    .dataframe thead th {\n",
       "        text-align: right;\n",
       "    }\n",
       "</style>\n",
       "<table border=\"1\" class=\"dataframe\">\n",
       "  <thead>\n",
       "    <tr style=\"text-align: right;\">\n",
       "      <th></th>\n",
       "      <th>DEPARTEMENT</th>\n",
       "      <th>TOT_SALES</th>\n",
       "    </tr>\n",
       "  </thead>\n",
       "  <tbody>\n",
       "    <tr>\n",
       "      <th>7</th>\n",
       "      <td>PAP FILLE</td>\n",
       "      <td>6.864285e+06</td>\n",
       "    </tr>\n",
       "    <tr>\n",
       "      <th>8</th>\n",
       "      <td>PAP GARCON</td>\n",
       "      <td>4.369744e+06</td>\n",
       "    </tr>\n",
       "    <tr>\n",
       "      <th>1</th>\n",
       "      <td>CHAMBRE ET LITERIE</td>\n",
       "      <td>2.827234e+06</td>\n",
       "    </tr>\n",
       "    <tr>\n",
       "      <th>6</th>\n",
       "      <td>NON PAP ENFANT</td>\n",
       "      <td>2.411793e+06</td>\n",
       "    </tr>\n",
       "    <tr>\n",
       "      <th>3</th>\n",
       "      <td>DECO</td>\n",
       "      <td>1.813648e+06</td>\n",
       "    </tr>\n",
       "    <tr>\n",
       "      <th>10</th>\n",
       "      <td>TEXTILE HOME</td>\n",
       "      <td>1.213997e+06</td>\n",
       "    </tr>\n",
       "    <tr>\n",
       "      <th>0</th>\n",
       "      <td>BEBE</td>\n",
       "      <td>1.015957e+06</td>\n",
       "    </tr>\n",
       "    <tr>\n",
       "      <th>5</th>\n",
       "      <td>JOUETS</td>\n",
       "      <td>8.777540e+05</td>\n",
       "    </tr>\n",
       "    <tr>\n",
       "      <th>2</th>\n",
       "      <td>CHAUSSURE</td>\n",
       "      <td>8.381853e+05</td>\n",
       "    </tr>\n",
       "    <tr>\n",
       "      <th>4</th>\n",
       "      <td>FEMME</td>\n",
       "      <td>5.775946e+05</td>\n",
       "    </tr>\n",
       "    <tr>\n",
       "      <th>9</th>\n",
       "      <td>PUERICULTURE</td>\n",
       "      <td>1.690121e+05</td>\n",
       "    </tr>\n",
       "  </tbody>\n",
       "</table>\n",
       "</div>"
      ],
      "text/plain": [
       "           DEPARTEMENT     TOT_SALES\n",
       "7            PAP FILLE  6.864285e+06\n",
       "8           PAP GARCON  4.369744e+06\n",
       "1   CHAMBRE ET LITERIE  2.827234e+06\n",
       "6       NON PAP ENFANT  2.411793e+06\n",
       "3                 DECO  1.813648e+06\n",
       "10        TEXTILE HOME  1.213997e+06\n",
       "0                 BEBE  1.015957e+06\n",
       "5               JOUETS  8.777540e+05\n",
       "2            CHAUSSURE  8.381853e+05\n",
       "4                FEMME  5.775946e+05\n",
       "9         PUERICULTURE  1.690121e+05"
      ]
     },
     "execution_count": 131,
     "metadata": {},
     "output_type": "execute_result"
    }
   ],
   "source": [
    "rev_by_dep = flatten_soft(zoom_2017.groupby(['DEPARTEMENT']).agg({'TOT_SALES': ['sum']}))\n",
    "rev_by_dep.columns = ['DEPARTEMENT','TOT_SALES']\n",
    "rev_by_dep.sort_values(by='TOT_SALES',ascending=False)"
   ]
  },
  {
   "cell_type": "markdown",
   "metadata": {},
   "source": [
    "- Cohort Prior 2017 en 2017:"
   ]
  },
  {
   "cell_type": "code",
   "execution_count": 132,
   "metadata": {},
   "outputs": [],
   "source": [
    "df_2017 = pd.read_csv(\"C:/Users/UgoMANTEL/Work/Github/Vertbaudet_2021/data/20210910_Export_Germany_2017.csv\",sep=\",\",encoding= \"unicode_escape\", names=col_names, skiprows=\n",
    "    1)"
   ]
  },
  {
   "cell_type": "code",
   "execution_count": 133,
   "metadata": {},
   "outputs": [],
   "source": [
    "df_2017['TOT_SALES'] = (df_2017.PREIS - df_2017.RABATT)*(df_2017.MENGE - df_2017.MENGERET)\n",
    "df_2017['NET_DEMAND'] = (df_2017.PREIS - df_2017.RABATT) * df_2017.MENGE"
   ]
  },
  {
   "cell_type": "code",
   "execution_count": 134,
   "metadata": {},
   "outputs": [],
   "source": [
    "zoom_2017_2017 = df_2017.loc[df_2017.KDNR.isin(df.loc[df.COHORT==2017].KDNR.unique())]"
   ]
  },
  {
   "cell_type": "code",
   "execution_count": 135,
   "metadata": {},
   "outputs": [],
   "source": [
    "zoom_2017_2017['DEPARTEMENT'] = zoom_2017_2017.DEPART.map(dict_department)"
   ]
  },
  {
   "cell_type": "code",
   "execution_count": 136,
   "metadata": {},
   "outputs": [
    {
     "data": {
      "text/html": [
       "<div>\n",
       "<style scoped>\n",
       "    .dataframe tbody tr th:only-of-type {\n",
       "        vertical-align: middle;\n",
       "    }\n",
       "\n",
       "    .dataframe tbody tr th {\n",
       "        vertical-align: top;\n",
       "    }\n",
       "\n",
       "    .dataframe thead th {\n",
       "        text-align: right;\n",
       "    }\n",
       "</style>\n",
       "<table border=\"1\" class=\"dataframe\">\n",
       "  <thead>\n",
       "    <tr style=\"text-align: right;\">\n",
       "      <th></th>\n",
       "      <th>DEPARTEMENT</th>\n",
       "      <th>TOT_SALES</th>\n",
       "    </tr>\n",
       "  </thead>\n",
       "  <tbody>\n",
       "    <tr>\n",
       "      <th>7</th>\n",
       "      <td>PAP FILLE</td>\n",
       "      <td>1.443779e+07</td>\n",
       "    </tr>\n",
       "    <tr>\n",
       "      <th>8</th>\n",
       "      <td>PAP GARCON</td>\n",
       "      <td>8.154574e+06</td>\n",
       "    </tr>\n",
       "    <tr>\n",
       "      <th>1</th>\n",
       "      <td>CHAMBRE ET LITERIE</td>\n",
       "      <td>5.952854e+06</td>\n",
       "    </tr>\n",
       "    <tr>\n",
       "      <th>3</th>\n",
       "      <td>DECO</td>\n",
       "      <td>4.876841e+06</td>\n",
       "    </tr>\n",
       "    <tr>\n",
       "      <th>0</th>\n",
       "      <td>BEBE</td>\n",
       "      <td>4.777328e+06</td>\n",
       "    </tr>\n",
       "    <tr>\n",
       "      <th>6</th>\n",
       "      <td>NON PAP ENFANT</td>\n",
       "      <td>4.319716e+06</td>\n",
       "    </tr>\n",
       "    <tr>\n",
       "      <th>2</th>\n",
       "      <td>CHAUSSURE</td>\n",
       "      <td>3.850059e+06</td>\n",
       "    </tr>\n",
       "    <tr>\n",
       "      <th>4</th>\n",
       "      <td>FEMME</td>\n",
       "      <td>3.616409e+06</td>\n",
       "    </tr>\n",
       "    <tr>\n",
       "      <th>10</th>\n",
       "      <td>TEXTILE HOME</td>\n",
       "      <td>3.188721e+06</td>\n",
       "    </tr>\n",
       "    <tr>\n",
       "      <th>9</th>\n",
       "      <td>PUERICULTURE</td>\n",
       "      <td>6.616345e+05</td>\n",
       "    </tr>\n",
       "    <tr>\n",
       "      <th>5</th>\n",
       "      <td>JOUETS</td>\n",
       "      <td>6.382362e+05</td>\n",
       "    </tr>\n",
       "  </tbody>\n",
       "</table>\n",
       "</div>"
      ],
      "text/plain": [
       "           DEPARTEMENT     TOT_SALES\n",
       "7            PAP FILLE  1.443779e+07\n",
       "8           PAP GARCON  8.154574e+06\n",
       "1   CHAMBRE ET LITERIE  5.952854e+06\n",
       "3                 DECO  4.876841e+06\n",
       "0                 BEBE  4.777328e+06\n",
       "6       NON PAP ENFANT  4.319716e+06\n",
       "2            CHAUSSURE  3.850059e+06\n",
       "4                FEMME  3.616409e+06\n",
       "10        TEXTILE HOME  3.188721e+06\n",
       "9         PUERICULTURE  6.616345e+05\n",
       "5               JOUETS  6.382362e+05"
      ]
     },
     "execution_count": 136,
     "metadata": {},
     "output_type": "execute_result"
    }
   ],
   "source": [
    "rev_by_dep_2017 = flatten_soft(zoom_2017_2017.groupby(['DEPARTEMENT']).agg({'TOT_SALES': ['sum']}))\n",
    "rev_by_dep_2017.columns = ['DEPARTEMENT','TOT_SALES']\n",
    "rev_by_dep_2017.sort_values(by='TOT_SALES',ascending=False)"
   ]
  }
 ],
 "metadata": {
  "kernelspec": {
   "display_name": "Python 3",
   "language": "python",
   "name": "python3"
  },
  "language_info": {
   "codemirror_mode": {
    "name": "ipython",
    "version": 3
   },
   "file_extension": ".py",
   "mimetype": "text/x-python",
   "name": "python",
   "nbconvert_exporter": "python",
   "pygments_lexer": "ipython3",
   "version": "3.7.7"
  }
 },
 "nbformat": 4,
 "nbformat_minor": 4
}
