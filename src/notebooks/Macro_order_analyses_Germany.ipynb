{
 "cells": [
  {
   "cell_type": "code",
   "execution_count": 1,
   "metadata": {},
   "outputs": [],
   "source": [
    "import os\n",
    "import pandas as pd\n",
    "import numpy as np\n",
    "import matplotlib.pyplot as plt\n",
    "from matplotlib import ticker\n",
    "import matplotlib.dates as mdates\n",
    "from datetime import datetime, time ,date ,timedelta\n",
    "from dateutil.relativedelta import relativedelta\n",
    "import seaborn as sns\n",
    "pd.options.mode.chained_assignment = None"
   ]
  },
  {
   "cell_type": "code",
   "execution_count": 2,
   "metadata": {},
   "outputs": [],
   "source": [
    "import warnings\n",
    "warnings.filterwarnings(\"ignore\")"
   ]
  },
  {
   "cell_type": "markdown",
   "metadata": {},
   "source": [
    "<h1> Functions </h1>"
   ]
  },
  {
   "cell_type": "markdown",
   "metadata": {},
   "source": [
    "<h3> Fonctions générales </h3>"
   ]
  },
  {
   "cell_type": "code",
   "execution_count": 3,
   "metadata": {},
   "outputs": [],
   "source": [
    "def floatise (df, list_columns_to_floatise):\n",
    "    for i in list_columns_to_floatise:\n",
    "        df[i] = df[i].apply(lambda x: float(x.replace(',','.')))\n",
    "    return (df)"
   ]
  },
  {
   "cell_type": "code",
   "execution_count": 4,
   "metadata": {},
   "outputs": [],
   "source": [
    "def intise (df, list_columns_to_floatise):\n",
    "    for i in list_columns_to_floatise:\n",
    "        df[i] = df[i].astype(int)\n",
    "    return (df)"
   ]
  },
  {
   "cell_type": "code",
   "execution_count": 5,
   "metadata": {},
   "outputs": [],
   "source": [
    "def flatten (table):\n",
    "    if type(table.columns)==pd.MultiIndex:\n",
    "        columns_to_look = [name_tmp for name_tmp in table.columns]\n",
    "\n",
    "        columns_df = [ str(t[0])+'_'+str(t[1]) for t in columns_to_look]\n",
    "        columns_df.insert(0,table.index.name)\n",
    "\n",
    "        df = pd.DataFrame(columns = columns_df)\n",
    "\n",
    "        index = 0\n",
    "        for i in table.index:\n",
    "            row = [table[r][i] for r in columns_to_look]\n",
    "            row.insert(0,i)\n",
    "            df.loc[index] = row\n",
    "            index = index + 1\n",
    "        return(df)\n",
    "    else :\n",
    "        table = pd.DataFrame(table)\n",
    "        table.reset_index(level=0, inplace=True)\n",
    "        return table"
   ]
  },
  {
   "cell_type": "code",
   "execution_count": 6,
   "metadata": {},
   "outputs": [],
   "source": [
    "def flatten_soft(dataframe):\n",
    "    res = pd.DataFrame()\n",
    "    res[dataframe.index.name] = dataframe.index\n",
    "    for col in dataframe.columns:\n",
    "        name_tmp=\"\"\n",
    "        for i in range(len(dataframe.columns[0])):\n",
    "            name_tmp = name_tmp +'_'+str(col[i])\n",
    "        res[str(name_tmp)] = dataframe[col].values\n",
    "    return res"
   ]
  },
  {
   "cell_type": "markdown",
   "metadata": {},
   "source": [
    "<h3> Fonctions particulières </h3>"
   ]
  },
  {
   "cell_type": "code",
   "execution_count": 7,
   "metadata": {},
   "outputs": [],
   "source": [
    "def cohort_attribution (x):\n",
    "    if (x<2017):\n",
    "        return 2016\n",
    "    else :\n",
    "        return x"
   ]
  },
  {
   "cell_type": "code",
   "execution_count": 8,
   "metadata": {},
   "outputs": [],
   "source": [
    "def categorize_distribution_freq(x):\n",
    "    if x==1:\n",
    "        return('1 order')\n",
    "    if x==2:\n",
    "        return('2 orders')\n",
    "    if (x>=3) & (x<=5):\n",
    "        return('3-5 orders')\n",
    "    if (x>=6) & (x<=10):\n",
    "        return('6-10 orders')\n",
    "    if x>10:\n",
    "        return('10+ orders')"
   ]
  },
  {
   "cell_type": "code",
   "execution_count": 9,
   "metadata": {},
   "outputs": [],
   "source": [
    "def categorize_distribution_order_price(x):\n",
    "    if x<=25:\n",
    "        return('0-25€')\n",
    "    if (x>25) & (x<=50):\n",
    "        return('26-50€')\n",
    "    if (x>50) & (x<=100):\n",
    "        return('51-100€')\n",
    "    if (x>100) & (x<=200):\n",
    "        return('101-200€')\n",
    "    if (x>200) & (x<=500):\n",
    "        return('201-500€')\n",
    "    if x>500:\n",
    "        return('>500€')"
   ]
  },
  {
   "cell_type": "markdown",
   "metadata": {},
   "source": [
    "<h1> Dataset creation </h1>"
   ]
  },
  {
   "cell_type": "markdown",
   "metadata": {},
   "source": [
    "<h3> Import de la data </h3>"
   ]
  },
  {
   "cell_type": "code",
   "execution_count": 10,
   "metadata": {},
   "outputs": [
    {
     "name": "stdout",
     "output_type": "stream",
     "text": [
      "C:\\Users\\UgoMANTEL\\Work\\Github\\Vertbaudet_2021\\src\\notebooks\n"
     ]
    }
   ],
   "source": [
    "src_root = os.getcwd()\n",
    "print(src_root)"
   ]
  },
  {
   "cell_type": "markdown",
   "metadata": {},
   "source": [
    "- Préparation des colonnes:"
   ]
  },
  {
   "cell_type": "code",
   "execution_count": 11,
   "metadata": {},
   "outputs": [],
   "source": [
    "col_names = ['AUFTRNR','KDNR','ARTNRERF','WTR','ARTGRERF','DATERF','PREISERF','PREIS','EKP','PREISNET','RABATT','RABATTSATZ',\n",
    "             'MENGE','MENGERET','DEPARTEMENT','CAUFTRAGSPOS','MWST','MWSTRABATT','ANZKINDER','ANLAGEDAT',\n",
    "             'DATAUFTRAG1','STRASSE','PLZ','ORT','BUNDESLAND','CLAND','CWERBESP','DATWERBESP','CLIEFERSP','DATLIEFERSP',\n",
    "             'CADRESSSP','DATADRESSSP','UMSATZ1','DATLETZTAUFTR','UMSLETZTAUFTR','ANZKATLETZTAUFTR','WKOSTLETZTAUFTR',\n",
    "             'DBKDNR','WKOSTENKUM','UMSATZKUM','UMSATZKUMTEL','UMSATZKUMFAX','UMSATZKUMWEB','UMSATZLIEFKUM','RUECKSTAUFTR',\n",
    "             'ANZAUFTR','REFPRES','REFSTK','CODDOC','PLANEKP','RAYON','FAMILLE','DEPART','CODMARQ','ARTGROESSE','DATAUFTRAG',\n",
    "             'DATERFASSUNG','DATVERARB','GUTSCHEINWERT']"
   ]
  },
  {
   "cell_type": "code",
   "execution_count": 12,
   "metadata": {},
   "outputs": [],
   "source": [
    "dict_department = {'B':'BEBE','N':'PAP FILLE','U':'PAP GARCON','D':'CHAUSSURE','F':'FEMME',\n",
    "'T':'TEXTILE HOME','P':'PUERICULTURE','W':'NON PAP ENFANT','K':'DECO','M':'CHAMBRE ET LITERIE','R':'JOUETS'}"
   ]
  },
  {
   "cell_type": "markdown",
   "metadata": {},
   "source": [
    "<h3> Dataset </h3>"
   ]
  },
  {
   "cell_type": "markdown",
   "metadata": {},
   "source": [
    "- Définition des répertoires :"
   ]
  },
  {
   "cell_type": "code",
   "execution_count": 13,
   "metadata": {},
   "outputs": [],
   "source": [
    "repertoire = \"C:/Users/UgoMANTEL/Work/Github/Vertbaudet_2021/data/1. Germany\""
   ]
  },
  {
   "cell_type": "code",
   "execution_count": 14,
   "metadata": {},
   "outputs": [],
   "source": [
    "output_rep = \"C:/Users/UgoMANTEL/eleven/Engagements - Vertbaudet/5. Analyses/3. Outputs python\""
   ]
  },
  {
   "cell_type": "markdown",
   "metadata": {},
   "source": [
    "- Création de la donnée:"
   ]
  },
  {
   "cell_type": "code",
   "execution_count": 15,
   "metadata": {},
   "outputs": [],
   "source": [
    "df = pd.DataFrame()\n",
    "for file in os.listdir(repertoire):\n",
    "    file_name_tmp = os.path.join(repertoire,file)\n",
    "    df_tmp = pd.read_csv(file_name_tmp,sep=\",\",encoding= \"unicode_escape\", usecols=col_names)\n",
    "    \n",
    "    df_tmp = df_tmp.loc[df_tmp.CAUFTRAGSPOS!='$null$']\n",
    "    df_tmp.CAUFTRAGSPOS = df_tmp.CAUFTRAGSPOS.astype(int)\n",
    "    df_tmp = df_tmp.loc[df_tmp.CAUFTRAGSPOS <= 7]\n",
    "    \n",
    "    ################### CONVERSION DES CHAMPS ###################\n",
    "    df_tmp['DATERF'] = pd.to_datetime(df_tmp.DATERF)\n",
    "    df_tmp['DATAUFTRAG1'] = pd.to_datetime(df_tmp.DATAUFTRAG1)\n",
    "    df_tmp.DEPARTEMENT = df_tmp.DEPARTEMENT.map(dict_department) \n",
    "    \n",
    "    ################### CREATION DES CHAMPS ###################\n",
    "    df_tmp['TOT_SALES'] = (df_tmp.PREIS - df_tmp.RABATT)*(df_tmp.MENGE - df_tmp.MENGERET)\n",
    "    df_tmp['NET_DEMAND'] = (df_tmp.PREIS - df_tmp.RABATT) * df_tmp.MENGE\n",
    "    df_tmp['GROSS_DEMAND'] = df_tmp.PREIS * df_tmp.MENGE\n",
    "    df_tmp['YEAR_FIRST_ORDER'] = df_tmp.DATAUFTRAG1.dt.year\n",
    "    df_tmp['YEAR_ORDER'] = df_tmp.DATERF.dt.year\n",
    "    df_tmp['COHORT'] = df_tmp.YEAR_FIRST_ORDER.apply(lambda x: cohort_attribution(x))\n",
    "    df_tmp['MONTH_RECRUITMENT'] = df_tmp.DATAUFTRAG1.dt.month\n",
    "    df_tmp['ID_ORDER'] = df_tmp.AUFTRNR.astype(str) + '_'+ df_tmp.KDNR.astype(str)\n",
    "    \n",
    "    cat_order =  df_tmp.groupby(['ID_ORDER','DEPARTEMENT']).agg({'NET_DEMAND':sum}).reset_index().sort_values(by='NET_DEMAND',\n",
    "    cat_order = cat_order.drop_duplicates(subset=['ID_ORDER'],keep='first')\n",
    "    cat_order.columns = ['ID_ORDER','DEPARTEMENT_CMD','NET_DEMAND']\n",
    "    df_tmp = pd.merge(df_tmp,cat_order[['ID_ORDER','DEPARTEMENT_CMD']], on='ID_ORDER', how='left', suffixes=(False,False))\n",
    "    \n",
    "    df_tmp = df_tmp[['DATERF','DATAUFTRAG1','DEPARTEMENT','TOT_SALES','NET_DEMAND','GROSS_DEMAND',\n",
    "                    'YEAR_FIRST_ORDER','YEAR_ORDER','COHORT','MONTH_RECRUITMENT','ID_ORDER','KDNR','ARTNRERF',\n",
    "                     'DEPARTEMENT_CMD','RABATT','RABATTSATZ','PREIS','ANZKINDER','MENGE','MENGERET']]\n",
    "    df = pd.concat([df,df_tmp])\n",
    "    del(df_tmp)\n",
    "\n",
    "################### CREATION DE CHAMPS ###################\n",
    "################### UNIVERS RECRUTEMENT\n",
    "cat_rec = df.sort_values(by='DATERF',ascending=True).drop_duplicates(subset='KDNR', keep='first', inplace=False)[['KDNR','DEPARTEMENT_CMD']] \n",
    "cat_rec.columns = ['KDNR','DEPARTEMENT_FIRST']\n",
    "df = pd.merge(df,cat_rec,on='KDNR',how='left',suffixes=(False,False))\n",
    "\n",
    "################### DATE POUR LTV 12/24 MOIS\n",
    "df['DATAUFTRAG1_12MONTH'] = df['DATAUFTRAG1']+ timedelta(days=365)\n",
    "df['DATAUFTRAG1_24MONTH'] = df['DATAUFTRAG1']+ timedelta(days=730)"
   ]
  },
  {
   "cell_type": "code",
   "execution_count": 21,
   "metadata": {},
   "outputs": [
    {
     "data": {
      "text/html": [
       "<div>\n",
       "<style scoped>\n",
       "    .dataframe tbody tr th:only-of-type {\n",
       "        vertical-align: middle;\n",
       "    }\n",
       "\n",
       "    .dataframe tbody tr th {\n",
       "        vertical-align: top;\n",
       "    }\n",
       "\n",
       "    .dataframe thead th {\n",
       "        text-align: right;\n",
       "    }\n",
       "</style>\n",
       "<table border=\"1\" class=\"dataframe\">\n",
       "  <thead>\n",
       "    <tr style=\"text-align: right;\">\n",
       "      <th></th>\n",
       "      <th>ID_ORDER</th>\n",
       "    </tr>\n",
       "    <tr>\n",
       "      <th>YEAR_ORDER</th>\n",
       "      <th></th>\n",
       "    </tr>\n",
       "  </thead>\n",
       "  <tbody>\n",
       "    <tr>\n",
       "      <th>2017</th>\n",
       "      <td>847279</td>\n",
       "    </tr>\n",
       "    <tr>\n",
       "      <th>2018</th>\n",
       "      <td>779741</td>\n",
       "    </tr>\n",
       "    <tr>\n",
       "      <th>2019</th>\n",
       "      <td>683051</td>\n",
       "    </tr>\n",
       "    <tr>\n",
       "      <th>2020</th>\n",
       "      <td>772930</td>\n",
       "    </tr>\n",
       "    <tr>\n",
       "      <th>2021</th>\n",
       "      <td>807802</td>\n",
       "    </tr>\n",
       "  </tbody>\n",
       "</table>\n",
       "</div>"
      ],
      "text/plain": [
       "            ID_ORDER\n",
       "YEAR_ORDER          \n",
       "2017          847279\n",
       "2018          779741\n",
       "2019          683051\n",
       "2020          772930\n",
       "2021          807802"
      ]
     },
     "execution_count": 21,
     "metadata": {},
     "output_type": "execute_result"
    }
   ],
   "source": [
    "df.groupby(['YEAR_ORDER']).agg({'ID_ORDER' : pd.Series.nunique})"
   ]
  },
  {
   "cell_type": "markdown",
   "metadata": {},
   "source": [
    "<h1> Etude macro de la base </h1>"
   ]
  },
  {
   "cell_type": "code",
   "execution_count": 24,
   "metadata": {},
   "outputs": [],
   "source": [
    "plot = True "
   ]
  },
  {
   "cell_type": "code",
   "execution_count": 39,
   "metadata": {},
   "outputs": [],
   "source": [
    "net_demand = True"
   ]
  },
  {
   "cell_type": "markdown",
   "metadata": {},
   "source": [
    "<h3>  Recrutements par mois:</h3> "
   ]
  },
  {
   "cell_type": "code",
   "execution_count": 17,
   "metadata": {},
   "outputs": [
    {
     "data": {
      "text/html": [
       "<div>\n",
       "<style scoped>\n",
       "    .dataframe tbody tr th:only-of-type {\n",
       "        vertical-align: middle;\n",
       "    }\n",
       "\n",
       "    .dataframe tbody tr th {\n",
       "        vertical-align: top;\n",
       "    }\n",
       "\n",
       "    .dataframe thead th {\n",
       "        text-align: right;\n",
       "    }\n",
       "</style>\n",
       "<table border=\"1\" class=\"dataframe\">\n",
       "  <thead>\n",
       "    <tr style=\"text-align: right;\">\n",
       "      <th></th>\n",
       "      <th>COHORT</th>\n",
       "      <th>_KDNR_1</th>\n",
       "      <th>_KDNR_2</th>\n",
       "      <th>_KDNR_3</th>\n",
       "      <th>_KDNR_4</th>\n",
       "      <th>_KDNR_5</th>\n",
       "      <th>_KDNR_6</th>\n",
       "      <th>_KDNR_7</th>\n",
       "      <th>_KDNR_8</th>\n",
       "      <th>_KDNR_9</th>\n",
       "      <th>_KDNR_10</th>\n",
       "      <th>_KDNR_11</th>\n",
       "      <th>_KDNR_12</th>\n",
       "    </tr>\n",
       "  </thead>\n",
       "  <tbody>\n",
       "    <tr>\n",
       "      <th>0</th>\n",
       "      <td>2017</td>\n",
       "      <td>15064</td>\n",
       "      <td>14631</td>\n",
       "      <td>13453</td>\n",
       "      <td>12292</td>\n",
       "      <td>10832</td>\n",
       "      <td>8695</td>\n",
       "      <td>10887</td>\n",
       "      <td>11040</td>\n",
       "      <td>12280</td>\n",
       "      <td>11295</td>\n",
       "      <td>16639</td>\n",
       "      <td>9002</td>\n",
       "    </tr>\n",
       "    <tr>\n",
       "      <th>1</th>\n",
       "      <td>2018</td>\n",
       "      <td>15513</td>\n",
       "      <td>12001</td>\n",
       "      <td>14819</td>\n",
       "      <td>16927</td>\n",
       "      <td>17891</td>\n",
       "      <td>10853</td>\n",
       "      <td>11739</td>\n",
       "      <td>10032</td>\n",
       "      <td>12571</td>\n",
       "      <td>15249</td>\n",
       "      <td>16237</td>\n",
       "      <td>13492</td>\n",
       "    </tr>\n",
       "    <tr>\n",
       "      <th>2</th>\n",
       "      <td>2019</td>\n",
       "      <td>17018</td>\n",
       "      <td>12625</td>\n",
       "      <td>11923</td>\n",
       "      <td>12615</td>\n",
       "      <td>12249</td>\n",
       "      <td>10562</td>\n",
       "      <td>15915</td>\n",
       "      <td>13622</td>\n",
       "      <td>18146</td>\n",
       "      <td>17815</td>\n",
       "      <td>26030</td>\n",
       "      <td>16277</td>\n",
       "    </tr>\n",
       "    <tr>\n",
       "      <th>3</th>\n",
       "      <td>2020</td>\n",
       "      <td>17466</td>\n",
       "      <td>16055</td>\n",
       "      <td>14312</td>\n",
       "      <td>8906</td>\n",
       "      <td>9237</td>\n",
       "      <td>17608</td>\n",
       "      <td>26738</td>\n",
       "      <td>16957</td>\n",
       "      <td>20620</td>\n",
       "      <td>26068</td>\n",
       "      <td>33628</td>\n",
       "      <td>23763</td>\n",
       "    </tr>\n",
       "  </tbody>\n",
       "</table>\n",
       "</div>"
      ],
      "text/plain": [
       "   COHORT  _KDNR_1  _KDNR_2  _KDNR_3  _KDNR_4  _KDNR_5  _KDNR_6  _KDNR_7  \\\n",
       "0    2017    15064    14631    13453    12292    10832     8695    10887   \n",
       "1    2018    15513    12001    14819    16927    17891    10853    11739   \n",
       "2    2019    17018    12625    11923    12615    12249    10562    15915   \n",
       "3    2020    17466    16055    14312     8906     9237    17608    26738   \n",
       "\n",
       "   _KDNR_8  _KDNR_9  _KDNR_10  _KDNR_11  _KDNR_12  \n",
       "0    11040    12280     11295     16639      9002  \n",
       "1    10032    12571     15249     16237     13492  \n",
       "2    13622    18146     17815     26030     16277  \n",
       "3    16957    20620     26068     33628     23763  "
      ]
     },
     "execution_count": 17,
     "metadata": {},
     "output_type": "execute_result"
    }
   ],
   "source": [
    "recrut = df.loc[(df.COHORT>=2017) & (df.COHORT<2021)].groupby(['COHORT','MONTH_RECRUITMENT']).agg({'KDNR' :pd.Series.nunique})\n",
    "recrut = flatten_soft(recrut.unstack('MONTH_RECRUITMENT',fill_value=0))\n",
    "recrut"
   ]
  },
  {
   "cell_type": "code",
   "execution_count": 18,
   "metadata": {},
   "outputs": [],
   "source": [
    "recrut.to_csv(os.path.join(output_rep,'Recrut_per_month_GER.csv'),sep=\";\")"
   ]
  },
  {
   "cell_type": "markdown",
   "metadata": {},
   "source": [
    "<h3>  Nombre d'enfants:</h3> "
   ]
  },
  {
   "cell_type": "code",
   "execution_count": 25,
   "metadata": {},
   "outputs": [
    {
     "data": {
      "text/plain": [
       "2"
      ]
     },
     "execution_count": 25,
     "metadata": {},
     "output_type": "execute_result"
    }
   ],
   "source": [
    "np.max(flatten(df.groupby(['KDNR']).agg({'ANZKINDER' :'last'})).ANZKINDER)"
   ]
  },
  {
   "cell_type": "code",
   "execution_count": 41,
   "metadata": {},
   "outputs": [
    {
     "data": {
      "text/plain": [
       "count    1.518597e+06\n",
       "mean     1.317005e-06\n",
       "std      1.622963e-03\n",
       "min      0.000000e+00\n",
       "25%      0.000000e+00\n",
       "50%      0.000000e+00\n",
       "75%      0.000000e+00\n",
       "max      2.000000e+00\n",
       "Name: ANZKINDER, dtype: float64"
      ]
     },
     "execution_count": 41,
     "metadata": {},
     "output_type": "execute_result"
    }
   ],
   "source": [
    "flatten(df.groupby(['KDNR']).agg({'ANZKINDER' :'last'})).ANZKINDER.describe()"
   ]
  },
  {
   "cell_type": "code",
   "execution_count": 42,
   "metadata": {},
   "outputs": [],
   "source": [
    "a=flatten(df.groupby(['KDNR']).agg({'ANZKINDER' :'last'}))"
   ]
  },
  {
   "cell_type": "markdown",
   "metadata": {},
   "source": [
    "<h3> Prix moyen par univers:</h3> "
   ]
  },
  {
   "cell_type": "code",
   "execution_count": 16,
   "metadata": {},
   "outputs": [],
   "source": [
    "moy_price = flatten(df.groupby(['DEPARTEMENT']).agg({'PREIS' : 'mean','RABATT': 'mean'}))\n",
    "moy_price['PRICE_NET'] = moy_price.PREIS - moy_price.RABATT\n",
    "moy_price[['DEPARTEMENT','PRICE_NET']].to_csv(os.path.join(output_rep,'price-average_per_universe_GER.csv'),sep=\";\")"
   ]
  },
  {
   "cell_type": "markdown",
   "metadata": {},
   "source": [
    "<h3> Nombre de commande par utilisateurs actifs par ans:</h3>"
   ]
  },
  {
   "cell_type": "code",
   "execution_count": 22,
   "metadata": {},
   "outputs": [
    {
     "data": {
      "text/html": [
       "<div>\n",
       "<style scoped>\n",
       "    .dataframe tbody tr th:only-of-type {\n",
       "        vertical-align: middle;\n",
       "    }\n",
       "\n",
       "    .dataframe tbody tr th {\n",
       "        vertical-align: top;\n",
       "    }\n",
       "\n",
       "    .dataframe thead th {\n",
       "        text-align: right;\n",
       "    }\n",
       "</style>\n",
       "<table border=\"1\" class=\"dataframe\">\n",
       "  <thead>\n",
       "    <tr style=\"text-align: right;\">\n",
       "      <th></th>\n",
       "      <th>YEAR</th>\n",
       "      <th>NB_ORDER</th>\n",
       "      <th>NB_CUSTOMER</th>\n",
       "      <th>FREQUENCY_ORDER</th>\n",
       "    </tr>\n",
       "  </thead>\n",
       "  <tbody>\n",
       "    <tr>\n",
       "      <th>0</th>\n",
       "      <td>2017</td>\n",
       "      <td>847279</td>\n",
       "      <td>469730</td>\n",
       "      <td>1.803757</td>\n",
       "    </tr>\n",
       "    <tr>\n",
       "      <th>1</th>\n",
       "      <td>2018</td>\n",
       "      <td>779741</td>\n",
       "      <td>454020</td>\n",
       "      <td>1.717416</td>\n",
       "    </tr>\n",
       "    <tr>\n",
       "      <th>2</th>\n",
       "      <td>2019</td>\n",
       "      <td>683051</td>\n",
       "      <td>428316</td>\n",
       "      <td>1.594736</td>\n",
       "    </tr>\n",
       "    <tr>\n",
       "      <th>3</th>\n",
       "      <td>2020</td>\n",
       "      <td>772930</td>\n",
       "      <td>495366</td>\n",
       "      <td>1.560321</td>\n",
       "    </tr>\n",
       "    <tr>\n",
       "      <th>4</th>\n",
       "      <td>2021</td>\n",
       "      <td>807802</td>\n",
       "      <td>529661</td>\n",
       "      <td>1.525130</td>\n",
       "    </tr>\n",
       "  </tbody>\n",
       "</table>\n",
       "</div>"
      ],
      "text/plain": [
       "   YEAR  NB_ORDER  NB_CUSTOMER  FREQUENCY_ORDER\n",
       "0  2017    847279       469730         1.803757\n",
       "1  2018    779741       454020         1.717416\n",
       "2  2019    683051       428316         1.594736\n",
       "3  2020    772930       495366         1.560321\n",
       "4  2021    807802       529661         1.525130"
      ]
     },
     "execution_count": 22,
     "metadata": {},
     "output_type": "execute_result"
    }
   ],
   "source": [
    "evol_nb_order = flatten(df.groupby(['YEAR_ORDER']).agg({'ID_ORDER' : pd.Series.nunique,'KDNR': pd.Series.nunique}))\n",
    "evol_nb_order.columns = ['YEAR','NB_ORDER','NB_CUSTOMER']\n",
    "evol_nb_order['FREQUENCY_ORDER'] = evol_nb_order.NB_ORDER/evol_nb_order.NB_CUSTOMER\n",
    "evol_nb_order"
   ]
  },
  {
   "cell_type": "code",
   "execution_count": 25,
   "metadata": {},
   "outputs": [
    {
     "data": {
      "image/png": "[encoded data removed]",
      "text/plain": [
       "<Figure size 432x288 with 1 Axes>"
      ]
     },
     "metadata": {
      "needs_background": "light"
     },
     "output_type": "display_data"
    }
   ],
   "source": [
    "if plot:\n",
    "    fig, ax = plt.subplots()\n",
    "    ax.bar(evol_nb_order.YEAR,evol_nb_order.FREQUENCY_ORDER,color='forestgreen',edgecolor='dimgray')\n",
    "\n",
    "    ##### Change axis and tick colors \n",
    "    ax.spines['bottom'].set_color('dimgray')\n",
    "    ax.spines['top'].set_color('dimgray')\n",
    "    ax.xaxis.label.set_color('dimgray')\n",
    "    ax.tick_params(axis='x', colors='dimgray')\n",
    "    ax.tick_params(axis='y', colors='dimgray')"
   ]
  },
  {
   "cell_type": "markdown",
   "metadata": {},
   "source": [
    "<h3>Panier moyen par utilisateurs actifs par ans:</h3>"
   ]
  },
  {
   "cell_type": "code",
   "execution_count": 26,
   "metadata": {},
   "outputs": [
    {
     "data": {
      "text/html": [
       "<div>\n",
       "<style scoped>\n",
       "    .dataframe tbody tr th:only-of-type {\n",
       "        vertical-align: middle;\n",
       "    }\n",
       "\n",
       "    .dataframe tbody tr th {\n",
       "        vertical-align: top;\n",
       "    }\n",
       "\n",
       "    .dataframe thead th {\n",
       "        text-align: right;\n",
       "    }\n",
       "</style>\n",
       "<table border=\"1\" class=\"dataframe\">\n",
       "  <thead>\n",
       "    <tr style=\"text-align: right;\">\n",
       "      <th></th>\n",
       "      <th>YEAR</th>\n",
       "      <th>NB_ORDER</th>\n",
       "      <th>SALES</th>\n",
       "      <th>AVERAGE_ORDER</th>\n",
       "    </tr>\n",
       "  </thead>\n",
       "  <tbody>\n",
       "    <tr>\n",
       "      <th>0</th>\n",
       "      <td>2017</td>\n",
       "      <td>847279</td>\n",
       "      <td>8.476429e+07</td>\n",
       "      <td>100.042954</td>\n",
       "    </tr>\n",
       "    <tr>\n",
       "      <th>1</th>\n",
       "      <td>2018</td>\n",
       "      <td>779741</td>\n",
       "      <td>7.364496e+07</td>\n",
       "      <td>94.447983</td>\n",
       "    </tr>\n",
       "    <tr>\n",
       "      <th>2</th>\n",
       "      <td>2019</td>\n",
       "      <td>683051</td>\n",
       "      <td>6.053334e+07</td>\n",
       "      <td>88.621996</td>\n",
       "    </tr>\n",
       "    <tr>\n",
       "      <th>3</th>\n",
       "      <td>2020</td>\n",
       "      <td>772930</td>\n",
       "      <td>6.947944e+07</td>\n",
       "      <td>89.890980</td>\n",
       "    </tr>\n",
       "    <tr>\n",
       "      <th>4</th>\n",
       "      <td>2021</td>\n",
       "      <td>807802</td>\n",
       "      <td>7.408918e+07</td>\n",
       "      <td>91.717007</td>\n",
       "    </tr>\n",
       "  </tbody>\n",
       "</table>\n",
       "</div>"
      ],
      "text/plain": [
       "   YEAR  NB_ORDER         SALES  AVERAGE_ORDER\n",
       "0  2017    847279  8.476429e+07     100.042954\n",
       "1  2018    779741  7.364496e+07      94.447983\n",
       "2  2019    683051  6.053334e+07      88.621996\n",
       "3  2020    772930  6.947944e+07      89.890980\n",
       "4  2021    807802  7.408918e+07      91.717007"
      ]
     },
     "execution_count": 26,
     "metadata": {},
     "output_type": "execute_result"
    }
   ],
   "source": [
    "if net_demand:\n",
    "    evol_average_order = flatten(df.groupby(['YEAR_ORDER']).agg({'ID_ORDER' : pd.Series.nunique,'NET_DEMAND': sum}))\n",
    "else:\n",
    "    evol_average_order = flatten(df.groupby(['YEAR_ORDER']).agg({'ID_ORDER' : pd.Series.nunique,'TOT_SALES': sum}))\n",
    "evol_average_order.columns = ['YEAR','NB_ORDER','SALES']\n",
    "evol_average_order['AVERAGE_ORDER'] = evol_average_order.SALES/evol_average_order.NB_ORDER\n",
    "evol_average_order"
   ]
  },
  {
   "cell_type": "code",
   "execution_count": 27,
   "metadata": {},
   "outputs": [
    {
     "data": {
      "image/png": "[encoded data removed]",
      "text/plain": [
       "<Figure size 432x288 with 1 Axes>"
      ]
     },
     "metadata": {
      "needs_background": "light"
     },
     "output_type": "display_data"
    }
   ],
   "source": [
    "if plot:\n",
    "    fig, ax = plt.subplots()\n",
    "    ax.bar(evol_average_order.YEAR,evol_average_order.AVERAGE_ORDER,color='forestgreen',edgecolor='dimgray')\n",
    "\n",
    "    ##### Change axis and tick colors \n",
    "    ax.spines['bottom'].set_color('dimgray')\n",
    "    ax.spines['top'].set_color('dimgray')\n",
    "    ax.xaxis.label.set_color('dimgray')\n",
    "    ax.tick_params(axis='x', colors='dimgray')\n",
    "    ax.tick_params(axis='y', colors='dimgray')"
   ]
  },
  {
   "cell_type": "markdown",
   "metadata": {},
   "source": [
    "<h3>Nombre d'articles moyen par commandes:</h3>"
   ]
  },
  {
   "cell_type": "code",
   "execution_count": 30,
   "metadata": {},
   "outputs": [
    {
     "data": {
      "text/html": [
       "<div>\n",
       "<style scoped>\n",
       "    .dataframe tbody tr th:only-of-type {\n",
       "        vertical-align: middle;\n",
       "    }\n",
       "\n",
       "    .dataframe tbody tr th {\n",
       "        vertical-align: top;\n",
       "    }\n",
       "\n",
       "    .dataframe thead th {\n",
       "        text-align: right;\n",
       "    }\n",
       "</style>\n",
       "<table border=\"1\" class=\"dataframe\">\n",
       "  <thead>\n",
       "    <tr style=\"text-align: right;\">\n",
       "      <th></th>\n",
       "      <th>YEAR</th>\n",
       "      <th>NB_ORDER</th>\n",
       "      <th>NB_ARTICLE_BOUGHT</th>\n",
       "      <th>NB_ARTICLE_RETURNED</th>\n",
       "      <th>NB_ARTICLE</th>\n",
       "      <th>AVERAGE_NB_ARTICLE</th>\n",
       "    </tr>\n",
       "  </thead>\n",
       "  <tbody>\n",
       "    <tr>\n",
       "      <th>0</th>\n",
       "      <td>2017</td>\n",
       "      <td>847279</td>\n",
       "      <td>4264412</td>\n",
       "      <td>1548672</td>\n",
       "      <td>2715740</td>\n",
       "      <td>5.033067</td>\n",
       "    </tr>\n",
       "    <tr>\n",
       "      <th>1</th>\n",
       "      <td>2018</td>\n",
       "      <td>779741</td>\n",
       "      <td>3918347</td>\n",
       "      <td>1455943</td>\n",
       "      <td>2462404</td>\n",
       "      <td>5.025190</td>\n",
       "    </tr>\n",
       "    <tr>\n",
       "      <th>2</th>\n",
       "      <td>2019</td>\n",
       "      <td>683051</td>\n",
       "      <td>3071124</td>\n",
       "      <td>1097295</td>\n",
       "      <td>1973829</td>\n",
       "      <td>4.496185</td>\n",
       "    </tr>\n",
       "    <tr>\n",
       "      <th>3</th>\n",
       "      <td>2020</td>\n",
       "      <td>772930</td>\n",
       "      <td>3538263</td>\n",
       "      <td>1039993</td>\n",
       "      <td>2498270</td>\n",
       "      <td>4.577728</td>\n",
       "    </tr>\n",
       "    <tr>\n",
       "      <th>4</th>\n",
       "      <td>2021</td>\n",
       "      <td>807802</td>\n",
       "      <td>3881380</td>\n",
       "      <td>995278</td>\n",
       "      <td>2886102</td>\n",
       "      <td>4.804866</td>\n",
       "    </tr>\n",
       "  </tbody>\n",
       "</table>\n",
       "</div>"
      ],
      "text/plain": [
       "   YEAR  NB_ORDER  NB_ARTICLE_BOUGHT  NB_ARTICLE_RETURNED  NB_ARTICLE  \\\n",
       "0  2017    847279            4264412              1548672     2715740   \n",
       "1  2018    779741            3918347              1455943     2462404   \n",
       "2  2019    683051            3071124              1097295     1973829   \n",
       "3  2020    772930            3538263              1039993     2498270   \n",
       "4  2021    807802            3881380               995278     2886102   \n",
       "\n",
       "   AVERAGE_NB_ARTICLE  \n",
       "0            5.033067  \n",
       "1            5.025190  \n",
       "2            4.496185  \n",
       "3            4.577728  \n",
       "4            4.804866  "
      ]
     },
     "execution_count": 30,
     "metadata": {},
     "output_type": "execute_result"
    }
   ],
   "source": [
    "evol_average_nb_article = flatten(df.groupby(['YEAR_ORDER']).agg({'ID_ORDER' : pd.Series.nunique,'MENGE': sum, 'MENGERET':sum}))\n",
    "evol_average_nb_article.columns = ['YEAR','NB_ORDER','NB_ARTICLE_BOUGHT','NB_ARTICLE_RETURNED']\n",
    "evol_average_nb_article['NB_ARTICLE'] = evol_average_nb_article.NB_ARTICLE_BOUGHT - evol_average_nb_article.NB_ARTICLE_RETURNED\n",
    "if net_demand:\n",
    "    evol_average_nb_article['AVERAGE_NB_ARTICLE'] = evol_average_nb_article.NB_ARTICLE_BOUGHT/evol_average_nb_article.NB_ORDER\n",
    "else:\n",
    "    evol_average_nb_article['AVERAGE_NB_ARTICLE'] = evol_average_nb_article.NB_ARTICLE/evol_average_nb_article.NB_ORDER\n",
    "evol_average_nb_article"
   ]
  },
  {
   "cell_type": "code",
   "execution_count": 31,
   "metadata": {},
   "outputs": [
    {
     "data": {
      "image/png": "[encoded data removed]",
      "text/plain": [
       "<Figure size 432x288 with 1 Axes>"
      ]
     },
     "metadata": {
      "needs_background": "light"
     },
     "output_type": "display_data"
    }
   ],
   "source": [
    "if plot:\n",
    "    fig, ax = plt.subplots()\n",
    "    ax.bar(evol_average_nb_article.YEAR,evol_average_nb_article.AVERAGE_NB_ARTICLE,color='forestgreen',edgecolor='dimgray')\n",
    "\n",
    "    ##### Change axis and tick colors \n",
    "    ax.spines['bottom'].set_color('dimgray')\n",
    "    ax.spines['top'].set_color('dimgray')\n",
    "    ax.xaxis.label.set_color('dimgray')\n",
    "    ax.tick_params(axis='x', colors='dimgray')\n",
    "    ax.tick_params(axis='y', colors='dimgray')"
   ]
  },
  {
   "cell_type": "markdown",
   "metadata": {},
   "source": [
    "<h3> Prix moyen des articles:</h3>"
   ]
  },
  {
   "cell_type": "code",
   "execution_count": 35,
   "metadata": {},
   "outputs": [
    {
     "data": {
      "text/html": [
       "<div>\n",
       "<style scoped>\n",
       "    .dataframe tbody tr th:only-of-type {\n",
       "        vertical-align: middle;\n",
       "    }\n",
       "\n",
       "    .dataframe tbody tr th {\n",
       "        vertical-align: top;\n",
       "    }\n",
       "\n",
       "    .dataframe thead th {\n",
       "        text-align: right;\n",
       "    }\n",
       "</style>\n",
       "<table border=\"1\" class=\"dataframe\">\n",
       "  <thead>\n",
       "    <tr style=\"text-align: right;\">\n",
       "      <th></th>\n",
       "      <th>YEAR</th>\n",
       "      <th>NET_DEMAND</th>\n",
       "      <th>NB_ARTICLE_BOUGHT</th>\n",
       "      <th>NB_ARTICLE_RETURNED</th>\n",
       "      <th>AVERAGE_PRICE_ARTICLE</th>\n",
       "    </tr>\n",
       "  </thead>\n",
       "  <tbody>\n",
       "    <tr>\n",
       "      <th>0</th>\n",
       "      <td>2017</td>\n",
       "      <td>8.476429e+07</td>\n",
       "      <td>4264412</td>\n",
       "      <td>1548672</td>\n",
       "      <td>19.877135</td>\n",
       "    </tr>\n",
       "    <tr>\n",
       "      <th>1</th>\n",
       "      <td>2018</td>\n",
       "      <td>7.364496e+07</td>\n",
       "      <td>3918347</td>\n",
       "      <td>1455943</td>\n",
       "      <td>18.794906</td>\n",
       "    </tr>\n",
       "    <tr>\n",
       "      <th>2</th>\n",
       "      <td>2019</td>\n",
       "      <td>6.053334e+07</td>\n",
       "      <td>3071124</td>\n",
       "      <td>1097295</td>\n",
       "      <td>19.710485</td>\n",
       "    </tr>\n",
       "    <tr>\n",
       "      <th>3</th>\n",
       "      <td>2020</td>\n",
       "      <td>6.947944e+07</td>\n",
       "      <td>3538263</td>\n",
       "      <td>1039993</td>\n",
       "      <td>19.636594</td>\n",
       "    </tr>\n",
       "    <tr>\n",
       "      <th>4</th>\n",
       "      <td>2021</td>\n",
       "      <td>7.408918e+07</td>\n",
       "      <td>3881380</td>\n",
       "      <td>995278</td>\n",
       "      <td>19.088361</td>\n",
       "    </tr>\n",
       "  </tbody>\n",
       "</table>\n",
       "</div>"
      ],
      "text/plain": [
       "   YEAR    NET_DEMAND  NB_ARTICLE_BOUGHT  NB_ARTICLE_RETURNED  \\\n",
       "0  2017  8.476429e+07            4264412              1548672   \n",
       "1  2018  7.364496e+07            3918347              1455943   \n",
       "2  2019  6.053334e+07            3071124              1097295   \n",
       "3  2020  6.947944e+07            3538263              1039993   \n",
       "4  2021  7.408918e+07            3881380               995278   \n",
       "\n",
       "   AVERAGE_PRICE_ARTICLE  \n",
       "0              19.877135  \n",
       "1              18.794906  \n",
       "2              19.710485  \n",
       "3              19.636594  \n",
       "4              19.088361  "
      ]
     },
     "execution_count": 35,
     "metadata": {},
     "output_type": "execute_result"
    }
   ],
   "source": [
    "evol_average_price_article = flatten(df.groupby(['YEAR_ORDER']).agg({'NET_DEMAND' : sum,'MENGE': sum, 'MENGERET':sum}))\n",
    "evol_average_price_article.columns = ['YEAR','NET_DEMAND','NB_ARTICLE_BOUGHT','NB_ARTICLE_RETURNED']\n",
    "if net_demand:\n",
    "    evol_average_price_article['AVERAGE_PRICE_ARTICLE'] = evol_average_price_article.NET_DEMAND/evol_average_price_article.NB_ARTICLE_BOUGHT\n",
    "else:\n",
    "    evol_average_price_article['NB_ARTICLE'] = evol_average_price_article.NB_ARTICLE_BOUGHT - evol_average_price_article.NB_ARTICLE_RETURNED\n",
    "    evol_average_price_article['AVERAGE_PRICE_ARTICLE'] = evol_average_price_article.TOT_SALES/evol_average_price_article.NB_ARTICLE\n",
    "evol_average_price_article"
   ]
  },
  {
   "cell_type": "code",
   "execution_count": 33,
   "metadata": {},
   "outputs": [
    {
     "data": {
      "image/png": "[encoded data removed]",
      "text/plain": [
       "<Figure size 432x288 with 1 Axes>"
      ]
     },
     "metadata": {
      "needs_background": "light"
     },
     "output_type": "display_data"
    }
   ],
   "source": [
    "if plot:\n",
    "    fig, ax = plt.subplots()\n",
    "    ax.bar(evol_average_price_article.YEAR,evol_average_price_article.AVERAGE_PRICE_ARTICLE,color='forestgreen',edgecolor='dimgray')\n",
    "\n",
    "    ##### Change axis and tick colors \n",
    "    ax.spines['bottom'].set_color('dimgray')\n",
    "    ax.spines['top'].set_color('dimgray')\n",
    "    ax.xaxis.label.set_color('dimgray')\n",
    "    ax.tick_params(axis='x', colors='dimgray')\n",
    "    ax.tick_params(axis='y', colors='dimgray')"
   ]
  },
  {
   "cell_type": "markdown",
   "metadata": {},
   "source": [
    "<h3> Distribution des fréquences d'achat:</h3>"
   ]
  },
  {
   "cell_type": "code",
   "execution_count": 49,
   "metadata": {},
   "outputs": [
    {
     "data": {
      "text/html": [
       "<div>\n",
       "<style scoped>\n",
       "    .dataframe tbody tr th:only-of-type {\n",
       "        vertical-align: middle;\n",
       "    }\n",
       "\n",
       "    .dataframe tbody tr th {\n",
       "        vertical-align: top;\n",
       "    }\n",
       "\n",
       "    .dataframe thead th {\n",
       "        text-align: right;\n",
       "    }\n",
       "</style>\n",
       "<table border=\"1\" class=\"dataframe\">\n",
       "  <thead>\n",
       "    <tr style=\"text-align: right;\">\n",
       "      <th></th>\n",
       "      <th>CAT_FREQ</th>\n",
       "      <th>VALUES_2017</th>\n",
       "      <th>VALUES_2018</th>\n",
       "      <th>VALUES_2019</th>\n",
       "      <th>VALUES_2020</th>\n",
       "      <th>VALUES_2021</th>\n",
       "    </tr>\n",
       "  </thead>\n",
       "  <tbody>\n",
       "    <tr>\n",
       "      <th>0</th>\n",
       "      <td>1 order</td>\n",
       "      <td>279269</td>\n",
       "      <td>286474</td>\n",
       "      <td>292905</td>\n",
       "      <td>344443</td>\n",
       "      <td>368622</td>\n",
       "    </tr>\n",
       "    <tr>\n",
       "      <th>1</th>\n",
       "      <td>2 orders</td>\n",
       "      <td>101649</td>\n",
       "      <td>92733</td>\n",
       "      <td>79236</td>\n",
       "      <td>89403</td>\n",
       "      <td>99681</td>\n",
       "    </tr>\n",
       "    <tr>\n",
       "      <th>2</th>\n",
       "      <td>3-5 orders</td>\n",
       "      <td>76457</td>\n",
       "      <td>64401</td>\n",
       "      <td>48372</td>\n",
       "      <td>53505</td>\n",
       "      <td>55117</td>\n",
       "    </tr>\n",
       "    <tr>\n",
       "      <th>3</th>\n",
       "      <td>6-10 orders</td>\n",
       "      <td>11327</td>\n",
       "      <td>9385</td>\n",
       "      <td>6899</td>\n",
       "      <td>7200</td>\n",
       "      <td>5791</td>\n",
       "    </tr>\n",
       "    <tr>\n",
       "      <th>4</th>\n",
       "      <td>10+ orders</td>\n",
       "      <td>1028</td>\n",
       "      <td>1027</td>\n",
       "      <td>904</td>\n",
       "      <td>815</td>\n",
       "      <td>450</td>\n",
       "    </tr>\n",
       "  </tbody>\n",
       "</table>\n",
       "</div>"
      ],
      "text/plain": [
       "      CAT_FREQ  VALUES_2017  VALUES_2018  VALUES_2019  VALUES_2020  \\\n",
       "0      1 order       279269       286474       292905       344443   \n",
       "1     2 orders       101649        92733        79236        89403   \n",
       "2   3-5 orders        76457        64401        48372        53505   \n",
       "3  6-10 orders        11327         9385         6899         7200   \n",
       "4   10+ orders         1028         1027          904          815   \n",
       "\n",
       "   VALUES_2021  \n",
       "0       368622  \n",
       "1        99681  \n",
       "2        55117  \n",
       "3         5791  \n",
       "4          450  "
      ]
     },
     "execution_count": 49,
     "metadata": {},
     "output_type": "execute_result"
    }
   ],
   "source": [
    "res_freq_distrib = pd.DataFrame({'CAT_FREQ':['1 order','2 orders','3-5 orders','6-10 orders','10+ orders']})\n",
    "for year in range(2017,2022):\n",
    "    distrib_freq = flatten(df[df.YEAR_ORDER==year].groupby(['KDNR']).agg({'ID_ORDER' : pd.Series.nunique}))\n",
    "    distrib_freq.columns = ['KDNR','NB_ORDER']\n",
    "    distrib_freq['CAT_FREQ'] = distrib_freq.NB_ORDER.apply(lambda x: categorize_distribution_freq(x))\n",
    "    to_append = flatten(distrib_freq.groupby(['CAT_FREQ']).agg({'KDNR' : pd.Series.nunique}))\n",
    "    to_append.columns = ['CAT_FREQ',str('VALUES_'+str(year))]\n",
    "    res_freq_distrib = pd.merge(res_freq_distrib,to_append,on='CAT_FREQ',how='left',suffixes=(False,False))\n",
    "res_freq_distrib"
   ]
  },
  {
   "cell_type": "code",
   "execution_count": 50,
   "metadata": {},
   "outputs": [],
   "source": [
    "res_freq_distrib.to_csv(os.path.join(output_rep,'distrib_freq_GERM.csv'),sep=\";\")"
   ]
  },
  {
   "cell_type": "markdown",
   "metadata": {},
   "source": [
    "<h3> Distribution du prix des commandes:</h3>"
   ]
  },
  {
   "cell_type": "code",
   "execution_count": 37,
   "metadata": {},
   "outputs": [
    {
     "data": {
      "text/html": [
       "<div>\n",
       "<style scoped>\n",
       "    .dataframe tbody tr th:only-of-type {\n",
       "        vertical-align: middle;\n",
       "    }\n",
       "\n",
       "    .dataframe tbody tr th {\n",
       "        vertical-align: top;\n",
       "    }\n",
       "\n",
       "    .dataframe thead th {\n",
       "        text-align: right;\n",
       "    }\n",
       "</style>\n",
       "<table border=\"1\" class=\"dataframe\">\n",
       "  <thead>\n",
       "    <tr style=\"text-align: right;\">\n",
       "      <th></th>\n",
       "      <th>CAT_ORDER</th>\n",
       "      <th>VALUES_2017</th>\n",
       "      <th>VALUES_2018</th>\n",
       "      <th>VALUES_2019</th>\n",
       "      <th>VALUES_2020</th>\n",
       "      <th>VALUES_2021</th>\n",
       "    </tr>\n",
       "  </thead>\n",
       "  <tbody>\n",
       "    <tr>\n",
       "      <th>0</th>\n",
       "      <td>0-25€</td>\n",
       "      <td>93086</td>\n",
       "      <td>103366</td>\n",
       "      <td>101735</td>\n",
       "      <td>95840</td>\n",
       "      <td>104426</td>\n",
       "    </tr>\n",
       "    <tr>\n",
       "      <th>1</th>\n",
       "      <td>26-50€</td>\n",
       "      <td>176613</td>\n",
       "      <td>173298</td>\n",
       "      <td>168533</td>\n",
       "      <td>195618</td>\n",
       "      <td>199692</td>\n",
       "    </tr>\n",
       "    <tr>\n",
       "      <th>2</th>\n",
       "      <td>51-100€</td>\n",
       "      <td>280785</td>\n",
       "      <td>248497</td>\n",
       "      <td>213121</td>\n",
       "      <td>253091</td>\n",
       "      <td>258616</td>\n",
       "    </tr>\n",
       "    <tr>\n",
       "      <th>3</th>\n",
       "      <td>101-200€</td>\n",
       "      <td>203393</td>\n",
       "      <td>178633</td>\n",
       "      <td>141399</td>\n",
       "      <td>163274</td>\n",
       "      <td>172670</td>\n",
       "    </tr>\n",
       "    <tr>\n",
       "      <th>4</th>\n",
       "      <td>201-500€</td>\n",
       "      <td>89635</td>\n",
       "      <td>72932</td>\n",
       "      <td>55268</td>\n",
       "      <td>61640</td>\n",
       "      <td>68389</td>\n",
       "    </tr>\n",
       "    <tr>\n",
       "      <th>5</th>\n",
       "      <td>&gt;500€</td>\n",
       "      <td>3767</td>\n",
       "      <td>3015</td>\n",
       "      <td>2995</td>\n",
       "      <td>3467</td>\n",
       "      <td>4009</td>\n",
       "    </tr>\n",
       "  </tbody>\n",
       "</table>\n",
       "</div>"
      ],
      "text/plain": [
       "  CAT_ORDER  VALUES_2017  VALUES_2018  VALUES_2019  VALUES_2020  VALUES_2021\n",
       "0     0-25€        93086       103366       101735        95840       104426\n",
       "1    26-50€       176613       173298       168533       195618       199692\n",
       "2   51-100€       280785       248497       213121       253091       258616\n",
       "3  101-200€       203393       178633       141399       163274       172670\n",
       "4  201-500€        89635        72932        55268        61640        68389\n",
       "5     >500€         3767         3015         2995         3467         4009"
      ]
     },
     "execution_count": 37,
     "metadata": {},
     "output_type": "execute_result"
    }
   ],
   "source": [
    "res_order_distrib = pd.DataFrame({'CAT_ORDER':['0-25€','26-50€','51-100€','101-200€','201-500€','>500€']})\n",
    "for year in range(2017,2022):\n",
    "    distrib_order = flatten(df[df.YEAR_ORDER==year].groupby(['ID_ORDER']).agg({'NET_DEMAND' : sum}))\n",
    "    distrib_order.columns = ['ID_ORDER','NET_DEMAND']\n",
    "    distrib_order['CAT_ORDER'] = distrib_order.NET_DEMAND.apply(lambda x: categorize_distribution_order_price(x))\n",
    "    to_append = flatten(distrib_order.groupby(['CAT_ORDER']).agg({'ID_ORDER' : pd.Series.nunique}))\n",
    "    to_append.columns = ['CAT_ORDER',str('VALUES_'+str(year))]\n",
    "    res_order_distrib = pd.merge(res_order_distrib,to_append,on='CAT_ORDER',how='left',suffixes=(False,False))\n",
    "res_order_distrib"
   ]
  },
  {
   "cell_type": "code",
   "execution_count": 38,
   "metadata": {},
   "outputs": [],
   "source": [
    "res_order_distrib.to_csv(os.path.join(output_rep,'distrib_order_GERM_DN.csv'),sep=\";\")"
   ]
  },
  {
   "cell_type": "code",
   "execution_count": null,
   "metadata": {},
   "outputs": [],
   "source": []
  }
 ],
 "metadata": {
  "kernelspec": {
   "display_name": "Python 3",
   "language": "python",
   "name": "python3"
  },
  "language_info": {
   "codemirror_mode": {
    "name": "ipython",
    "version": 3
   },
   "file_extension": ".py",
   "mimetype": "text/x-python",
   "name": "python",
   "nbconvert_exporter": "python",
   "pygments_lexer": "ipython3",
   "version": "3.7.7"
  }
 },
 "nbformat": 4,
 "nbformat_minor": 4
}
