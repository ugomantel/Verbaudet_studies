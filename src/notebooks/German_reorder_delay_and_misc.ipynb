{
 "cells": [
  {
   "cell_type": "code",
   "execution_count": 1,
   "id": "c7bb4c2d",
   "metadata": {},
   "outputs": [],
   "source": [
    "import os\n",
    "import pandas as pd\n",
    "import numpy as np\n",
    "import matplotlib.pyplot as plt\n",
    "from matplotlib import ticker\n",
    "import matplotlib.dates as mdates\n",
    "from datetime import datetime, time ,date ,timedelta\n",
    "from dateutil.relativedelta import relativedelta\n",
    "import seaborn as sns\n",
    "import gc\n",
    "pd.options.mode.chained_assignment = None\n",
    "\n",
    "from datetime import date\n",
    "today = date.today().strftime(\"%Y%m%d\")\n",
    "\n",
    "import warnings\n",
    "warnings.filterwarnings(\"ignore\")"
   ]
  },
  {
   "cell_type": "markdown",
   "id": "8c756688",
   "metadata": {},
   "source": [
    "<h1> Functions </h1>"
   ]
  },
  {
   "cell_type": "markdown",
   "id": "f4c9c73d",
   "metadata": {},
   "source": [
    "<h3> Fonctions générales </h3>"
   ]
  },
  {
   "cell_type": "code",
   "execution_count": 3,
   "id": "4fa9e0b1",
   "metadata": {},
   "outputs": [],
   "source": [
    "def floatise (df, list_columns_to_floatise):\n",
    "    for i in list_columns_to_floatise:\n",
    "        df[i] = df[i].apply(lambda x: float(x.replace(',','.')))\n",
    "    return (df)"
   ]
  },
  {
   "cell_type": "code",
   "execution_count": 4,
   "id": "cfcd2e95",
   "metadata": {},
   "outputs": [],
   "source": [
    "def intise (df, list_columns_to_floatise):\n",
    "    for i in list_columns_to_floatise:\n",
    "        df[i] = df[i].astype(int)\n",
    "    return (df)"
   ]
  },
  {
   "cell_type": "code",
   "execution_count": 5,
   "id": "bed7047e",
   "metadata": {},
   "outputs": [],
   "source": [
    "def flatten (table):\n",
    "    if type(table.columns)==pd.MultiIndex:\n",
    "        columns_to_look = [name_tmp for name_tmp in table.columns]\n",
    "\n",
    "        columns_df = [ str(t[0])+'_'+str(t[1]) for t in columns_to_look]\n",
    "        columns_df.insert(0,table.index.name)\n",
    "\n",
    "        df = pd.DataFrame(columns = columns_df)\n",
    "\n",
    "        index = 0\n",
    "        for i in table.index:\n",
    "            row = [table[r][i] for r in columns_to_look]\n",
    "            row.insert(0,i)\n",
    "            df.loc[index] = row\n",
    "            index = index + 1\n",
    "        return(df)\n",
    "    else :\n",
    "        table = pd.DataFrame(table)\n",
    "        table.reset_index(level=0, inplace=True)\n",
    "        return table"
   ]
  },
  {
   "cell_type": "code",
   "execution_count": 6,
   "id": "689b88fc",
   "metadata": {},
   "outputs": [],
   "source": [
    "def flatten_soft(dataframe):\n",
    "    res = pd.DataFrame()\n",
    "    res[dataframe.index.name] = dataframe.index\n",
    "    for col in dataframe.columns:\n",
    "        name_tmp=\"\"\n",
    "        for i in range(len(dataframe.columns[0])):\n",
    "            name_tmp = name_tmp +'_'+str(col[i])\n",
    "        res[str(name_tmp)] = dataframe[col].values\n",
    "    return res"
   ]
  },
  {
   "cell_type": "markdown",
   "id": "ef68b5ee",
   "metadata": {},
   "source": [
    "<h3> Fonctions particulières </h3>"
   ]
  },
  {
   "cell_type": "code",
   "execution_count": 7,
   "id": "4c94172a",
   "metadata": {
    "scrolled": true
   },
   "outputs": [],
   "source": [
    "def cohort_attribution(x):\n",
    "    if x <= 2016:\n",
    "        return 2016\n",
    "    else :\n",
    "        return x"
   ]
  },
  {
   "cell_type": "code",
   "execution_count": 8,
   "id": "7b927cc5",
   "metadata": {},
   "outputs": [],
   "source": [
    "def customer_category_attribution(x):\n",
    "    if x==1:\n",
    "        return 'One-timer'\n",
    "    if x==2:\n",
    "        return 'Two-timer'\n",
    "    else:\n",
    "        return 'Recurring'"
   ]
  },
  {
   "cell_type": "code",
   "execution_count": 9,
   "id": "e72d9009",
   "metadata": {},
   "outputs": [],
   "source": [
    "def describe_discount(x):\n",
    "    if x<5:\n",
    "        return '<5%'\n",
    "    if (x>=5) and (x<10):\n",
    "        return( '5-10%')\n",
    "    if (x>=10) and (x<20):\n",
    "        return( '10-20%')\n",
    "    if (x>=20) and (x<30):\n",
    "        return( '20-30%')\n",
    "    if (x>=30) and (x<40):\n",
    "        return( '30-40%')\n",
    "    if (x>=40) and (x<50):\n",
    "        return( '40-50%')\n",
    "    if (x>=50) and (x<60):\n",
    "        return( '50-60%')\n",
    "    if (x>=60) and (x<70):\n",
    "        return( '60-70%')\n",
    "    if (x>=70):\n",
    "        return( '>70%')  "
   ]
  },
  {
   "cell_type": "code",
   "execution_count": 10,
   "id": "bc41aded",
   "metadata": {},
   "outputs": [],
   "source": [
    "dict_department = {'B':'BEBE','N':'PAP FILLE','U':'PAP GARCON','D':'CHAUSSURE','F':'FEMME',\n",
    "'T':'TEXTILE HOME','P':'PUERICULTURE','W':'NON PAP ENFANT','K':'DECO','M':'CHAMBRE ET LITERIE','R':'JOUETS'}"
   ]
  },
  {
   "cell_type": "code",
   "execution_count": 11,
   "id": "09445f58",
   "metadata": {},
   "outputs": [],
   "source": [
    "repertoire = \"C:/Users/pierrick/Documents/Vertbaudet/Germany/Source_file\""
   ]
  },
  {
   "cell_type": "code",
   "execution_count": 12,
   "id": "59d312c6",
   "metadata": {},
   "outputs": [],
   "source": [
    "output_rep = \"C:/Users/pierrick/Documents/Vertbaudet/Germany/Output_python\""
   ]
  },
  {
   "cell_type": "markdown",
   "id": "f9e21dac",
   "metadata": {},
   "source": [
    "<h1> Dataset creation </h1>"
   ]
  },
  {
   "cell_type": "markdown",
   "id": "c8540c5e",
   "metadata": {},
   "source": [
    "<h3> Import de la data </h3>"
   ]
  },
  {
   "cell_type": "code",
   "execution_count": 15,
   "id": "710007ac",
   "metadata": {},
   "outputs": [],
   "source": [
    "#columns = ['AUFTRNR', 'KDNR', 'ARTNRERF', 'WTR', 'ARTGRERF', 'DATERF', 'PREISERF', 'PREIS', 'EKP', 'PREISNET',\n",
    "#           'RABATT', 'RABATTSATZ', 'MENGE', 'MENGERET', 'DEPARTEMENT', 'CAUFTRAGSPOS', 'MWST', 'MWSTRABATT', \n",
    "#           'ANZKINDER', 'ANLAGEDAT', 'DATAUFTRAG1', 'STRASSE', 'PLZ', 'ORT', 'BUNDESLAND', 'CLAND', 'CWERBESP', \n",
    "#           'DATWERBESP', 'CLIEFERSP', 'DATLIEFERSP', 'CADRESSSP', 'DATADRESSSP', 'UMSATZ1', 'DATLETZTAUFTR', \n",
    "#           'UMSLETZTAUFTR', 'ANZKATLETZTAUFTR', 'WKOSTLETZTAUFTR', 'DBKDNR', 'WKOSTENKUM', 'UMSATZKUM', 'UMSATZKUMTEL', \n",
    "#           'UMSATZKUMFAX', 'UMSATZKUMWEB', 'UMSATZLIEFKUM', 'RUECKSTAUFTR', 'ANZAUFTR', 'REFPRES', 'REFSTK', 'CODDOC', \n",
    "#           'PLANEKP', 'RAYON', 'FAMILLE', 'DEPART', 'CODMARQ', 'ARTGROESSE', 'DATAUFTRAG', 'DATERFASSUNG', 'DATVERARB', \n",
    "#           'GUTSCHEINWERT']"
   ]
  },
  {
   "cell_type": "code",
   "execution_count": 13,
   "id": "c9e41e93",
   "metadata": {},
   "outputs": [],
   "source": [
    "columns = ['AUFTRNR', 'KDNR', 'DATERF', 'PREIS', 'PREISNET', 'RABATT', 'RABATTSATZ', 'MENGE', 'MENGERET', 'DEPARTEMENT', 'CAUFTRAGSPOS', 'DATAUFTRAG1', 'PLZ']"
   ]
  },
  {
   "cell_type": "markdown",
   "id": "36e53d58",
   "metadata": {},
   "source": [
    "# Import"
   ]
  },
  {
   "cell_type": "code",
   "execution_count": 14,
   "id": "05fa9ec5",
   "metadata": {},
   "outputs": [],
   "source": [
    "net_demand = True"
   ]
  },
  {
   "cell_type": "code",
   "execution_count": 15,
   "id": "5d3e7fb8",
   "metadata": {
    "scrolled": true
   },
   "outputs": [],
   "source": [
    "df = pd.DataFrame()\n",
    "for file in os.listdir(repertoire):\n",
    "    file_name_tmp = os.path.join(repertoire,file)\n",
    "    df_tmp = pd.read_csv(file_name_tmp,sep=\",\",encoding= \"unicode_escape\", usecols=columns)\n",
    "    \n",
    "    df_tmp = df_tmp.loc[df_tmp.CAUFTRAGSPOS!='$null$']\n",
    "    df_tmp.CAUFTRAGSPOS = df_tmp.CAUFTRAGSPOS.astype(int)\n",
    "    df_tmp = df_tmp.loc[df_tmp.CAUFTRAGSPOS <= 7]\n",
    "    \n",
    "    ################### CONVERSION DES CHAMPS ###################\n",
    "    df_tmp['DATERF'] = pd.to_datetime(df_tmp.DATERF)\n",
    "    df_tmp['DATAUFTRAG1'] = pd.to_datetime(df_tmp.DATAUFTRAG1)\n",
    "    df_tmp.DEPARTEMENT = df_tmp.DEPARTEMENT.map(dict_department) \n",
    "    df_tmp['PLZ'] = df_tmp['PLZ'].astype(str)\n",
    "    \n",
    "    ################### CREATION DES CHAMPS ###################\n",
    "    df_tmp['TOT_SALES'] = (df_tmp.PREIS - df_tmp.RABATT)*(df_tmp.MENGE - df_tmp.MENGERET)\n",
    "    df_tmp['NET_DEMAND'] = (df_tmp.PREIS - df_tmp.RABATT) * df_tmp.MENGE\n",
    "    df_tmp['GROSS_DEMAND'] = df_tmp.PREIS * df_tmp.MENGE\n",
    "    df_tmp['YEAR_FIRST_ORDER'] = df_tmp.DATAUFTRAG1.dt.year\n",
    "    df_tmp['YEAR_ORDER'] = df_tmp.DATERF.dt.year\n",
    "    df_tmp['COHORT'] = df_tmp.YEAR_FIRST_ORDER.apply(lambda x: cohort_attribution(x))\n",
    "    df_tmp['MONTH_RECRUITMENT'] = df_tmp.DATAUFTRAG1.dt.month\n",
    "    df_tmp['ID_ORDER'] = df_tmp.AUFTRNR.astype(str) + '_'+ df_tmp.KDNR.astype(str)\n",
    "    \n",
    "    if net_demand:\n",
    "        cat_order = df_tmp.sort_values(by='NET_DEMAND',ascending=False).drop_duplicates(subset='ID_ORDER', keep='first',\n",
    "                                                                                        inplace=False)\n",
    "    else:\n",
    "        cat_order = df_tmp.sort_values(by='TOT_SALES',ascending=False).drop_duplicates(subset='ID_ORDER', keep='first',\n",
    "                                                                                        inplace=False)\n",
    "    cat_order = cat_order [['ID_ORDER','DEPARTEMENT']]\n",
    "    cat_order.columns = ['ID_ORDER','DEPARTEMENT_CMD']\n",
    "    df_tmp = pd.merge(df_tmp,cat_order,on='ID_ORDER',how='left',suffixes=(False,False))\n",
    "    \n",
    "    df_tmp = df_tmp[['DATERF','DATAUFTRAG1','DEPARTEMENT','TOT_SALES','NET_DEMAND','GROSS_DEMAND',\n",
    "                    'YEAR_FIRST_ORDER','YEAR_ORDER','COHORT','MONTH_RECRUITMENT','ID_ORDER','KDNR',\n",
    "                     'DEPARTEMENT_CMD','RABATT','RABATTSATZ','PREIS', 'PLZ', ]]\n",
    "    df = pd.concat([df,df_tmp])\n",
    "    del(df_tmp)\n",
    "\n",
    "################### CREATION DE CHAMPS ###################\n",
    "################### UNIVERS RECRUTEMENT\n",
    "cat_rec = df.sort_values(by='DATERF',ascending=True).drop_duplicates(subset='KDNR', keep='first', inplace=False)[['KDNR','DEPARTEMENT_CMD']] \n",
    "cat_rec.columns = ['KDNR','DEPARTEMENT_FIRST']\n",
    "df = pd.merge(df,cat_rec,on='KDNR',how='left',suffixes=(False,False))"
   ]
  },
  {
   "cell_type": "code",
   "execution_count": 16,
   "id": "448a9232",
   "metadata": {},
   "outputs": [],
   "source": [
    "### Add number of cmd and CLIENT_CATEGORY\n",
    "nb_commande = flatten(df.groupby(['KDNR']).agg({'ID_ORDER':pd.Series.nunique}))\n",
    "nb_commande.columns = ['KDNR','NB_ORDERS']\n",
    "df = pd.merge(df,nb_commande,on='KDNR',how='left',suffixes=(False,False))\n",
    "df['CLIENT_CATEGORY'] = df.NB_ORDERS.apply(lambda x: customer_category_attribution(x))"
   ]
  },
  {
   "cell_type": "code",
   "execution_count": 17,
   "id": "8284279f",
   "metadata": {},
   "outputs": [],
   "source": [
    "### SELECT COHORTS\n",
    "df = df[df['COHORT'].isin(range(2017,2021))]"
   ]
  },
  {
   "cell_type": "code",
   "execution_count": 18,
   "id": "197ad28f",
   "metadata": {
    "scrolled": false
   },
   "outputs": [
    {
     "data": {
      "text/plain": [
       "109"
      ]
     },
     "execution_count": 18,
     "metadata": {},
     "output_type": "execute_result"
    }
   ],
   "source": [
    "gc.collect()"
   ]
  },
  {
   "cell_type": "markdown",
   "id": "0e09eef4",
   "metadata": {},
   "source": [
    "- Rajout du compte de commande"
   ]
  },
  {
   "cell_type": "code",
   "execution_count": 25,
   "id": "c1818440",
   "metadata": {},
   "outputs": [],
   "source": [
    "nb_order =  flatten(df.groupby(['ID_ORDER']).agg({'KDNR':'last', 'DATERF': 'last'})).sort_values(by='DATERF',ascending=True)\n",
    "nb_order['ORDER_NUMBER'] = nb_order.groupby(['KDNR']).cumcount()+1\n",
    "df = pd.merge(df,nb_order[['ID_ORDER','ORDER_NUMBER']],on='ID_ORDER',how='left')"
   ]
  },
  {
   "cell_type": "markdown",
   "id": "f4b9d911",
   "metadata": {},
   "source": [
    "- Segmentation selon fréquence"
   ]
  },
  {
   "cell_type": "code",
   "execution_count": 19,
   "id": "3051374e",
   "metadata": {},
   "outputs": [],
   "source": [
    "def segmentation_freq(x):\n",
    "    if x.days < 30:\n",
    "        return '< 1 month'\n",
    "    elif x.days < 90:\n",
    "        return '1-3 months'\n",
    "    elif x.days < 180:\n",
    "        return '3-6 months'\n",
    "    elif x.days < 270:\n",
    "        return '6-9 months'\n",
    "    elif x.days < 365 :\n",
    "        return '9-12 months'\n",
    "    elif x.days > 365 :\n",
    "        return '> 12 months'"
   ]
  },
  {
   "cell_type": "code",
   "execution_count": 20,
   "id": "8c01bcdb",
   "metadata": {},
   "outputs": [],
   "source": [
    "def segmentation_small_freq(x):\n",
    "    if x.days < 7:\n",
    "        return '< 1 week'\n",
    "    elif x.days < 14:\n",
    "        return '1-2 weeks'\n",
    "    elif x.days < 21:\n",
    "        return '2-3 weeks'\n",
    "    elif x.days < 30:\n",
    "        return '3-4 weeks'\n",
    "    elif x.days < 90:\n",
    "        return '1-3 months'\n",
    "    elif x.days < 180:\n",
    "        return '3-6 months'\n",
    "    elif x.days < 270:\n",
    "        return '6-9 months'\n",
    "    elif x.days < 365 :\n",
    "        return '9-12 months'\n",
    "    elif x.days > 365 :\n",
    "        return '> 12 months'"
   ]
  },
  {
   "cell_type": "code",
   "execution_count": 21,
   "id": "53dc599d",
   "metadata": {
    "scrolled": true
   },
   "outputs": [
    {
     "data": {
      "text/plain": [
       "0"
      ]
     },
     "execution_count": 21,
     "metadata": {},
     "output_type": "execute_result"
    }
   ],
   "source": [
    "df_first = df[df['ORDER_NUMBER'] == 1].drop_duplicates('KDNR')[['KDNR', 'DATERF']]\n",
    "\n",
    "df_second = df[df['ORDER_NUMBER'] == 2].drop_duplicates('KDNR')[['KDNR', 'DATERF']].rename(columns = {'DATERF': 'DATERF_2'})\n",
    "\n",
    "df_first = df_first.merge(df_second, how = 'left', on = 'KDNR')\n",
    "\n",
    "df_first['GAP'] = (df_first['DATERF_2'] - df_first['DATERF'])\n",
    "\n",
    "df_first['FREQ_CAT'] = df_first['GAP'].apply(segmentation_freq)\n",
    "df_first['FREQ_CAT_SMALL'] = df_first['GAP'].apply(segmentation_small_freq)\n",
    "\n",
    "df = df.merge(df_first[['KDNR', 'FREQ_CAT', 'FREQ_CAT_SMALL']], how = 'left', on = 'KDNR')\n",
    "\n",
    "del df_first\n",
    "del df_second\n",
    "gc.collect()"
   ]
  },
  {
   "cell_type": "code",
   "execution_count": 26,
   "id": "c9006a86",
   "metadata": {
    "scrolled": true
   },
   "outputs": [
    {
     "name": "stdout",
     "output_type": "stream",
     "text": [
      "Net Demand in 2017:\n",
      "19033269.100000005\n",
      "Nb of client recruited in 2017:\n",
      "146110\n",
      "Net Demand in 2018:\n",
      "26108901.320000004\n",
      "Nb of client recruited in 2018:\n",
      "167324\n",
      "Net Demand in 2019:\n",
      "28898354.28999999\n",
      "Nb of client recruited in 2019:\n",
      "184797\n",
      "Net Demand in 2020:\n",
      "39804321.38000002\n",
      "Nb of client recruited in 2020:\n",
      "231358\n"
     ]
    }
   ],
   "source": [
    "### Sanity Check\n",
    "\n",
    "for year in range(2017,2021):\n",
    "    print('Net Demand in '+str(year)+':')\n",
    "    print(df[df['YEAR_ORDER'] == year]['NET_DEMAND'].sum())\n",
    "    print('Nb of client recruited in '+str(year)+':')\n",
    "    print(df[df['COHORT']==year]['KDNR'].nunique())"
   ]
  },
  {
   "cell_type": "markdown",
   "id": "d167c28f",
   "metadata": {},
   "source": [
    "### DN First Order"
   ]
  },
  {
   "cell_type": "code",
   "execution_count": 22,
   "id": "4ce74865",
   "metadata": {},
   "outputs": [],
   "source": [
    "df_cde_1 = df[df.ORDER_NUMBER == 1].groupby('ID_ORDER').agg({'NET_DEMAND': sum, 'KDNR': 'first'}).rename(columns = {'NET_DEMAND': 'DN_1'})\n",
    "df = df.merge(df_cde_1, how = 'left', on = 'KDNR')"
   ]
  },
  {
   "cell_type": "code",
   "execution_count": 23,
   "id": "57630a80",
   "metadata": {},
   "outputs": [],
   "source": [
    "df.drop_duplicates('KDNR').groupby('FREQ_CAT_SMALL').agg({'DN_1': 'mean'}).to_excel('./Vertbaudet/Germany/'+today+'_dn_1_by_reorder_freq_small.xlsx')"
   ]
  },
  {
   "cell_type": "markdown",
   "id": "d54ef11d",
   "metadata": {},
   "source": [
    "### Nombre d'univers"
   ]
  },
  {
   "cell_type": "code",
   "execution_count": 27,
   "id": "da7a2bc5",
   "metadata": {},
   "outputs": [],
   "source": [
    "def map_nb_univ(x):\n",
    "    if x == 1:\n",
    "        return '1'\n",
    "    if x == 2:\n",
    "        return '2'\n",
    "    if x == 3:\n",
    "        return '3'\n",
    "    if x >= 4:\n",
    "        return '4+'"
   ]
  },
  {
   "cell_type": "code",
   "execution_count": 28,
   "id": "21cef25e",
   "metadata": {},
   "outputs": [],
   "source": [
    "### Create nb_univ field\n",
    "df_nb_univ = df.groupby('KDNR').agg({'DEPARTEMENT': pd.Series.nunique}).rename(columns = {'DEPARTEMENT': 'NB_UNIV'})\n",
    "df = df.merge(df_nb_univ, how = 'left', on = 'KDNR')\n",
    "\n",
    "del df_nb_univ\n",
    "gc.collect()\n",
    "\n",
    "df['NB_UNIV_CAT'] = df['NB_UNIV'].apply(map_nb_univ)"
   ]
  },
  {
   "cell_type": "code",
   "execution_count": null,
   "id": "ab9b7f20",
   "metadata": {},
   "outputs": [],
   "source": [
    "### Create output df\n",
    "df_nb_univ_by_freq_cat = df.groupby(['FREQ_CAT', 'NB_UNIV_CAT']).agg({'KDNR': pd.Series.nunique}).unstack()"
   ]
  },
  {
   "cell_type": "code",
   "execution_count": null,
   "id": "a9fd0326",
   "metadata": {},
   "outputs": [],
   "source": [
    "df_nb_univ_by_freq_cat.to_excel('./Vertbaudet/Germany/'+today+'_nb_univ_by_reorfer_freq.xlsx')"
   ]
  },
  {
   "cell_type": "code",
   "execution_count": 29,
   "id": "6e5465d8",
   "metadata": {},
   "outputs": [],
   "source": [
    "df_nb_univ_by_freq_cat_small = df.groupby(['FREQ_CAT_SMALL', 'NB_UNIV_CAT']).agg({'KDNR': pd.Series.nunique}).unstack()\n",
    "df_nb_univ_by_freq_cat_small.to_excel('./Vertbaudet/Germany/'+today+'_nb_univ_by_reorfer_freq_small.xlsx')"
   ]
  },
  {
   "cell_type": "markdown",
   "id": "6b1ecd49",
   "metadata": {},
   "source": [
    "### Univers d'entrée en fonction de la catégorie de fréquence"
   ]
  },
  {
   "cell_type": "markdown",
   "id": "2f3dfade",
   "metadata": {},
   "source": [
    "- Add DEPARTEMENT_FIRST"
   ]
  },
  {
   "cell_type": "code",
   "execution_count": 20,
   "id": "ee3f13a2",
   "metadata": {
    "collapsed": true
   },
   "outputs": [
    {
     "ename": "KeyError",
     "evalue": "'FREQ_CAT'",
     "output_type": "error",
     "traceback": [
      "\u001b[1;31m---------------------------------------------------------------------------\u001b[0m",
      "\u001b[1;31mKeyError\u001b[0m                                  Traceback (most recent call last)",
      "\u001b[1;32m<ipython-input-20-e219484ce1b1>\u001b[0m in \u001b[0;36m<module>\u001b[1;34m\u001b[0m\n\u001b[1;32m----> 1\u001b[1;33m \u001b[0mdf_entry_dept\u001b[0m \u001b[1;33m=\u001b[0m \u001b[0mdf\u001b[0m\u001b[1;33m[\u001b[0m\u001b[0mdf\u001b[0m\u001b[1;33m[\u001b[0m\u001b[1;34m'DATERF'\u001b[0m\u001b[1;33m]\u001b[0m\u001b[1;33m==\u001b[0m\u001b[0mdf\u001b[0m\u001b[1;33m[\u001b[0m\u001b[1;34m'DATAUFTRAG1'\u001b[0m\u001b[1;33m]\u001b[0m\u001b[1;33m]\u001b[0m\u001b[1;33m.\u001b[0m\u001b[0mdrop_duplicates\u001b[0m\u001b[1;33m(\u001b[0m\u001b[0msubset\u001b[0m \u001b[1;33m=\u001b[0m \u001b[1;33m[\u001b[0m\u001b[1;34m'KDNR'\u001b[0m\u001b[1;33m,\u001b[0m \u001b[1;34m'ID_ORDER'\u001b[0m\u001b[1;33m]\u001b[0m\u001b[1;33m)\u001b[0m\u001b[1;33m.\u001b[0m\u001b[0mgroupby\u001b[0m\u001b[1;33m(\u001b[0m\u001b[1;34m'FREQ_CAT'\u001b[0m\u001b[1;33m)\u001b[0m\u001b[1;33m.\u001b[0m\u001b[0magg\u001b[0m\u001b[1;33m(\u001b[0m\u001b[1;33m{\u001b[0m\u001b[1;34m'DEPARTEMENT_CMD'\u001b[0m\u001b[1;33m:\u001b[0m \u001b[1;34m'value_counts'\u001b[0m\u001b[1;33m}\u001b[0m\u001b[1;33m)\u001b[0m\u001b[1;33m.\u001b[0m\u001b[0munstack\u001b[0m\u001b[1;33m(\u001b[0m\u001b[1;33m)\u001b[0m\u001b[1;33m\u001b[0m\u001b[1;33m\u001b[0m\u001b[0m\n\u001b[0m",
      "\u001b[1;32m~\\anaconda3\\lib\\site-packages\\pandas\\core\\frame.py\u001b[0m in \u001b[0;36mgroupby\u001b[1;34m(self, by, axis, level, as_index, sort, group_keys, squeeze, observed, dropna)\u001b[0m\n\u001b[0;32m   6715\u001b[0m         \u001b[0maxis\u001b[0m \u001b[1;33m=\u001b[0m \u001b[0mself\u001b[0m\u001b[1;33m.\u001b[0m\u001b[0m_get_axis_number\u001b[0m\u001b[1;33m(\u001b[0m\u001b[0maxis\u001b[0m\u001b[1;33m)\u001b[0m\u001b[1;33m\u001b[0m\u001b[1;33m\u001b[0m\u001b[0m\n\u001b[0;32m   6716\u001b[0m \u001b[1;33m\u001b[0m\u001b[0m\n\u001b[1;32m-> 6717\u001b[1;33m         return DataFrameGroupBy(\n\u001b[0m\u001b[0;32m   6718\u001b[0m             \u001b[0mobj\u001b[0m\u001b[1;33m=\u001b[0m\u001b[0mself\u001b[0m\u001b[1;33m,\u001b[0m\u001b[1;33m\u001b[0m\u001b[1;33m\u001b[0m\u001b[0m\n\u001b[0;32m   6719\u001b[0m             \u001b[0mkeys\u001b[0m\u001b[1;33m=\u001b[0m\u001b[0mby\u001b[0m\u001b[1;33m,\u001b[0m\u001b[1;33m\u001b[0m\u001b[1;33m\u001b[0m\u001b[0m\n",
      "\u001b[1;32m~\\anaconda3\\lib\\site-packages\\pandas\\core\\groupby\\groupby.py\u001b[0m in \u001b[0;36m__init__\u001b[1;34m(self, obj, keys, axis, level, grouper, exclusions, selection, as_index, sort, group_keys, squeeze, observed, mutated, dropna)\u001b[0m\n\u001b[0;32m    558\u001b[0m             \u001b[1;32mfrom\u001b[0m \u001b[0mpandas\u001b[0m\u001b[1;33m.\u001b[0m\u001b[0mcore\u001b[0m\u001b[1;33m.\u001b[0m\u001b[0mgroupby\u001b[0m\u001b[1;33m.\u001b[0m\u001b[0mgrouper\u001b[0m \u001b[1;32mimport\u001b[0m \u001b[0mget_grouper\u001b[0m\u001b[1;33m\u001b[0m\u001b[1;33m\u001b[0m\u001b[0m\n\u001b[0;32m    559\u001b[0m \u001b[1;33m\u001b[0m\u001b[0m\n\u001b[1;32m--> 560\u001b[1;33m             grouper, exclusions, obj = get_grouper(\n\u001b[0m\u001b[0;32m    561\u001b[0m                 \u001b[0mobj\u001b[0m\u001b[1;33m,\u001b[0m\u001b[1;33m\u001b[0m\u001b[1;33m\u001b[0m\u001b[0m\n\u001b[0;32m    562\u001b[0m                 \u001b[0mkeys\u001b[0m\u001b[1;33m,\u001b[0m\u001b[1;33m\u001b[0m\u001b[1;33m\u001b[0m\u001b[0m\n",
      "\u001b[1;32m~\\anaconda3\\lib\\site-packages\\pandas\\core\\groupby\\grouper.py\u001b[0m in \u001b[0;36mget_grouper\u001b[1;34m(obj, key, axis, level, sort, observed, mutated, validate, dropna)\u001b[0m\n\u001b[0;32m    809\u001b[0m                 \u001b[0min_axis\u001b[0m\u001b[1;33m,\u001b[0m \u001b[0mname\u001b[0m\u001b[1;33m,\u001b[0m \u001b[0mlevel\u001b[0m\u001b[1;33m,\u001b[0m \u001b[0mgpr\u001b[0m \u001b[1;33m=\u001b[0m \u001b[1;32mFalse\u001b[0m\u001b[1;33m,\u001b[0m \u001b[1;32mNone\u001b[0m\u001b[1;33m,\u001b[0m \u001b[0mgpr\u001b[0m\u001b[1;33m,\u001b[0m \u001b[1;32mNone\u001b[0m\u001b[1;33m\u001b[0m\u001b[1;33m\u001b[0m\u001b[0m\n\u001b[0;32m    810\u001b[0m             \u001b[1;32melse\u001b[0m\u001b[1;33m:\u001b[0m\u001b[1;33m\u001b[0m\u001b[1;33m\u001b[0m\u001b[0m\n\u001b[1;32m--> 811\u001b[1;33m                 \u001b[1;32mraise\u001b[0m \u001b[0mKeyError\u001b[0m\u001b[1;33m(\u001b[0m\u001b[0mgpr\u001b[0m\u001b[1;33m)\u001b[0m\u001b[1;33m\u001b[0m\u001b[1;33m\u001b[0m\u001b[0m\n\u001b[0m\u001b[0;32m    812\u001b[0m         \u001b[1;32melif\u001b[0m \u001b[0misinstance\u001b[0m\u001b[1;33m(\u001b[0m\u001b[0mgpr\u001b[0m\u001b[1;33m,\u001b[0m \u001b[0mGrouper\u001b[0m\u001b[1;33m)\u001b[0m \u001b[1;32mand\u001b[0m \u001b[0mgpr\u001b[0m\u001b[1;33m.\u001b[0m\u001b[0mkey\u001b[0m \u001b[1;32mis\u001b[0m \u001b[1;32mnot\u001b[0m \u001b[1;32mNone\u001b[0m\u001b[1;33m:\u001b[0m\u001b[1;33m\u001b[0m\u001b[1;33m\u001b[0m\u001b[0m\n\u001b[0;32m    813\u001b[0m             \u001b[1;31m# Add key to exclusions\u001b[0m\u001b[1;33m\u001b[0m\u001b[1;33m\u001b[0m\u001b[1;33m\u001b[0m\u001b[0m\n",
      "\u001b[1;31mKeyError\u001b[0m: 'FREQ_CAT'"
     ]
    }
   ],
   "source": [
    "df_entry_dept = df[df['DATERF']==df['DATAUFTRAG1']].drop_duplicates(subset = ['KDNR', 'ID_ORDER']).groupby('FREQ_CAT').agg({'DEPARTEMENT_CMD': 'value_counts'}).unstack()"
   ]
  },
  {
   "cell_type": "code",
   "execution_count": 31,
   "id": "18498f68",
   "metadata": {},
   "outputs": [],
   "source": [
    "df_entry_dept.to_excel('./Vertbaudet/Germany/'+today+'_entry_dept_by_reorfer_freq.xlsx')"
   ]
  },
  {
   "cell_type": "code",
   "execution_count": 32,
   "id": "f9631e7a",
   "metadata": {},
   "outputs": [
    {
     "data": {
      "text/plain": [
       "45"
      ]
     },
     "execution_count": 32,
     "metadata": {},
     "output_type": "execute_result"
    }
   ],
   "source": [
    "del df_entry_dept\n",
    "gc.collect()"
   ]
  },
  {
   "cell_type": "code",
   "execution_count": 30,
   "id": "8cec4453",
   "metadata": {},
   "outputs": [],
   "source": [
    "df_entry_dept_small = df[df['DATERF']==df['DATAUFTRAG1']].drop_duplicates(subset = ['KDNR', 'ID_ORDER']).groupby('FREQ_CAT_SMALL').agg({'DEPARTEMENT_CMD': 'value_counts'}).unstack()\n",
    "df_entry_dept_small.to_excel('./Vertbaudet/Germany/'+today+'_entry_dept_by_reorfer_freq_small.xlsx')"
   ]
  },
  {
   "cell_type": "markdown",
   "id": "b67e84d5",
   "metadata": {},
   "source": [
    "### Univers majoritaire en fonction de la catégorie de fréquence"
   ]
  },
  {
   "cell_type": "code",
   "execution_count": 31,
   "id": "c7fa91a0",
   "metadata": {},
   "outputs": [],
   "source": [
    "univ_maj = df.groupby(['KDNR','DEPARTEMENT']).agg({'NET_DEMAND' : 'sum'})\n",
    "univ_maj.reset_index(inplace=True)\n",
    "\n",
    "\n",
    "univ_maj = univ_maj.sort_values(by='NET_DEMAND',ascending=False).drop_duplicates(subset='KDNR', keep='first',inplace=False)\n",
    "univ_maj.columns =['KDNR','DEPARTEMENT_MAJORITAIRE','NET_DEMAND']\n",
    "\n",
    "\n",
    "df = pd.merge(df,univ_maj[['KDNR','DEPARTEMENT_MAJORITAIRE']],on='KDNR',how='left')\n",
    "\n",
    "del univ_maj"
   ]
  },
  {
   "cell_type": "code",
   "execution_count": 34,
   "id": "67bdb050",
   "metadata": {},
   "outputs": [],
   "source": [
    "df_univ_maj = df.groupby(['FREQ_CAT', 'DEPARTEMENT_MAJORITAIRE']).agg({'KDNR': pd.Series.nunique}).unstack()\n",
    "df_univ_maj.to_excel('./Vertbaudet/Germany/'+today+'_maj_dept_by_reorfer_freq.xlsx')"
   ]
  },
  {
   "cell_type": "code",
   "execution_count": 32,
   "id": "89ca68a7",
   "metadata": {},
   "outputs": [],
   "source": [
    "df_univ_maj_small = df.groupby(['FREQ_CAT_SMALL', 'DEPARTEMENT_MAJORITAIRE']).agg({'KDNR': pd.Series.nunique}).unstack()\n",
    "df_univ_maj_small.to_excel('./Vertbaudet/Germany/'+today+'_maj_dept_by_reorfer_freq_small.xlsx')"
   ]
  },
  {
   "cell_type": "markdown",
   "id": "484d2ac8",
   "metadata": {},
   "source": [
    "### Entry month by frequency category"
   ]
  },
  {
   "cell_type": "code",
   "execution_count": null,
   "id": "68e27f2c",
   "metadata": {},
   "outputs": [],
   "source": [
    "df_entry_month = df[df['DATERF']==df['DATAUFTRAG1']].drop_duplicates(subset = ['KDNR', 'ID_ORDER']).groupby('FREQ_CAT').agg({'MONTH_RECRUITMENT': 'value_counts'}).unstack()\n",
    "df_entry_month.to_excel('./Vertbaudet/Germany/'+today+'_entry_month_by_reorder_freq.xlsx')"
   ]
  },
  {
   "cell_type": "code",
   "execution_count": 33,
   "id": "ee9e49df",
   "metadata": {
    "scrolled": false
   },
   "outputs": [],
   "source": [
    "df_entry_month_small = df[df['DATERF']==df['DATAUFTRAG1']].drop_duplicates(subset = ['KDNR', 'ID_ORDER']).groupby('FREQ_CAT_SMALL').agg({'MONTH_RECRUITMENT': 'value_counts'}).unstack()\n",
    "df_entry_month_small.to_excel('./Vertbaudet/Germany/'+today+'_entry_month_by_reorder_freq_small.xlsx')"
   ]
  },
  {
   "cell_type": "code",
   "execution_count": 39,
   "id": "d3085502",
   "metadata": {},
   "outputs": [],
   "source": [
    "df_entry_month_17_19= df[df['COHORT']<2020].groupby(['FREQ_CAT', 'MONTH_RECRUITMENT']).agg({'KDNR': pd.Series.nunique}).unstack()"
   ]
  },
  {
   "cell_type": "code",
   "execution_count": 40,
   "id": "c0d38ccb",
   "metadata": {},
   "outputs": [],
   "source": [
    "df_entry_month_17_19.to_excel('./Vertbaudet/Germany/'+today+'_entry_month_17_19_by_reorder_freq.xlsx')"
   ]
  },
  {
   "cell_type": "code",
   "execution_count": 41,
   "id": "2c484090",
   "metadata": {},
   "outputs": [
    {
     "data": {
      "text/plain": [
       "30"
      ]
     },
     "execution_count": 41,
     "metadata": {},
     "output_type": "execute_result"
    }
   ],
   "source": [
    "del df_entry_month\n",
    "gc.collect()"
   ]
  },
  {
   "cell_type": "markdown",
   "id": "af8a9950",
   "metadata": {},
   "source": [
    "### Nbr command by frequency category"
   ]
  },
  {
   "cell_type": "code",
   "execution_count": 42,
   "id": "f869e563",
   "metadata": {
    "scrolled": false
   },
   "outputs": [],
   "source": [
    "nb_cmd_by_freq_cat = df[df['COHORT'].isin(range(2017,2021))].drop_duplicates(subset = ['KDNR', 'ID_ORDER']).groupby(['FREQ_CAT', 'KDNR']).agg({'ID_ORDER': 'count'}).groupby('FREQ_CAT').agg({'ID_ORDER': 'mean'})\n",
    "nb_cmd_by_freq_cat.to_excel('./Vertbaudet/Germany/'+today+'_nb_cmd_by_reorder_freq.xlsx')"
   ]
  },
  {
   "cell_type": "code",
   "execution_count": 34,
   "id": "afaacb9e",
   "metadata": {},
   "outputs": [],
   "source": [
    "nb_cmd_by_freq_cat_small = df[df['COHORT'].isin(range(2017,2021))].drop_duplicates(subset = ['KDNR', 'ID_ORDER']).groupby(['FREQ_CAT_SMALL', 'KDNR']).agg({'ID_ORDER': 'count'}).groupby('FREQ_CAT_SMALL').agg({'ID_ORDER': 'mean'})\n",
    "nb_cmd_by_freq_cat_small.to_excel('./Vertbaudet/Germany/'+today+'_nb_cmd_by_reorder_freq_small.xlsx')"
   ]
  },
  {
   "cell_type": "markdown",
   "id": "bb715066",
   "metadata": {},
   "source": [
    "### DN by frequency catgory"
   ]
  },
  {
   "cell_type": "code",
   "execution_count": 44,
   "id": "b8736457",
   "metadata": {
    "scrolled": false
   },
   "outputs": [],
   "source": [
    "df_avg_basket = df.groupby('FREQ_CAT').agg({'NET_DEMAND': sum, 'KDNR': pd.Series.nunique})\n",
    "df_avg_basket['AVERAGE_BASKET'] = df_avg_basket['NET_DEMAND']/df_avg_basket['KDNR']\n",
    "df_avg_basket.to_excel('./Vertbaudet/Germany/'+today+'_avg_basket_by_reorder_freq.xlsx')"
   ]
  },
  {
   "cell_type": "code",
   "execution_count": 37,
   "id": "de141649",
   "metadata": {},
   "outputs": [],
   "source": [
    "df_avg_basket_small = df.groupby('FREQ_CAT_SMALL').agg({'NET_DEMAND': sum, 'KDNR': pd.Series.nunique})\n",
    "df_avg_basket_small['AVERAGE_BASKET'] = df_avg_basket_small['NET_DEMAND']/df_avg_basket_small['KDNR']\n",
    "df_avg_basket_small.to_excel('./Vertbaudet/Germany/'+today+'_avg_basket_by_reorder_freq_small.xlsx')"
   ]
  },
  {
   "cell_type": "markdown",
   "id": "3665fd2c",
   "metadata": {},
   "source": [
    "### OT/TT/Reg by frequency category"
   ]
  },
  {
   "cell_type": "code",
   "execution_count": 47,
   "id": "4eeefc1b",
   "metadata": {},
   "outputs": [],
   "source": [
    "df_cat_by_freq_cat = df.groupby(['FREQ_CAT', 'CLIENT_CATEGORY']).agg({'KDNR': pd.Series.nunique}).unstack()\n",
    "df_cat_by_freq_cat.to_excel('./Vertbaudet/Germany/'+today+'_cat_client_by_reorder_freq.xlsx')"
   ]
  },
  {
   "cell_type": "code",
   "execution_count": 38,
   "id": "01d7e00c",
   "metadata": {},
   "outputs": [],
   "source": [
    "df_cat_by_freq_cat_small = df.groupby(['FREQ_CAT_SMALL', 'CLIENT_CATEGORY']).agg({'KDNR': pd.Series.nunique}).unstack()\n",
    "df_cat_by_freq_cat_small.to_excel('./Vertbaudet/Germany/'+today+'_cat_client_by_reorder_freq_small.xlsx')"
   ]
  },
  {
   "cell_type": "markdown",
   "id": "2ee93ee3",
   "metadata": {},
   "source": [
    "### Acquisition chanel by frequency category"
   ]
  },
  {
   "cell_type": "code",
   "execution_count": 19,
   "id": "832f3afe",
   "metadata": {},
   "outputs": [],
   "source": [
    "df_numcde = pd.read_csv(\"./Vertbaudet/Germany/20211001_NUM_CMD_CANAL_GER.csv\",sep=\",\",encoding= \"unicode_escape\")\n",
    "df_numcde['ID_ORDER'] = df_numcde.AUFTNR.astype(str) + '_'+ df_numcde.KDNR.astype(str)\n",
    "df = pd.merge(df,df_numcde[['ID_ORDER','BELEGSTAPELNR']],on='ID_ORDER',how='left',suffixes=(False,False))"
   ]
  },
  {
   "cell_type": "code",
   "execution_count": 20,
   "id": "4f61aa1a",
   "metadata": {},
   "outputs": [],
   "source": [
    "df_canal = pd.read_csv(\"./Vertbaudet/Germany/20210928_Order_chanel_GER.tab\", sep = '\\t', encoding= \"unicode_escape\")\n",
    "df_canal.columns =['BELEGSTAPELNR','LEVIER','CAMPAGNE']"
   ]
  },
  {
   "cell_type": "code",
   "execution_count": 21,
   "id": "09e6fa08",
   "metadata": {
    "scrolled": true
   },
   "outputs": [
    {
     "data": {
      "text/plain": [
       "30"
      ]
     },
     "execution_count": 21,
     "metadata": {},
     "output_type": "execute_result"
    }
   ],
   "source": [
    "gc.collect()"
   ]
  },
  {
   "cell_type": "code",
   "execution_count": 22,
   "id": "6b3c952a",
   "metadata": {},
   "outputs": [],
   "source": [
    "df['BELEGSTAPELNR'] = df['BELEGSTAPELNR'].replace(np.nan,0)\n",
    "\n",
    "df['BELEGSTAPELNR'] = df['BELEGSTAPELNR'].replace('$null$',0)\n",
    "\n",
    "df['BELEGSTAPELNR'] = df['BELEGSTAPELNR'].astype(int)\n",
    "\n",
    "df = df.merge(df_canal, how = 'left', on = 'BELEGSTAPELNR')"
   ]
  },
  {
   "cell_type": "code",
   "execution_count": 53,
   "id": "0563d998",
   "metadata": {},
   "outputs": [],
   "source": [
    "df_acqu_chanel = df[df['DATERF']==df['DATAUFTRAG1']].drop_duplicates(subset = ['KDNR', 'ID_ORDER']).groupby('FREQ_CAT').agg({'LEVIER': 'value_counts'}).unstack()\n",
    "df_acqu_chanel.to_excel('./Vertbaudet/Germany/'+today+'_acqu_channel_by_freq_cat.xlsx')"
   ]
  },
  {
   "cell_type": "code",
   "execution_count": 43,
   "id": "7c065e0f",
   "metadata": {},
   "outputs": [],
   "source": [
    "df_acqu_chanel_small = df[df['DATERF']==df['DATAUFTRAG1']].drop_duplicates(subset = ['KDNR', 'ID_ORDER']).groupby('FREQ_CAT_SMALL').agg({'LEVIER': 'value_counts'}).unstack()\n",
    "df_acqu_chanel_small.to_excel('./Vertbaudet/Germany/'+today+'_acqu_channel_by_freq_cat_small.xlsx')"
   ]
  },
  {
   "cell_type": "markdown",
   "id": "aa62cd54",
   "metadata": {},
   "source": [
    "### LTV by frequency category"
   ]
  },
  {
   "cell_type": "code",
   "execution_count": 23,
   "id": "b1c1a2d7",
   "metadata": {},
   "outputs": [
    {
     "name": "stdout",
     "output_type": "stream",
     "text": [
      "135.1175223303425\n",
      "159.17589908409315\n"
     ]
    },
    {
     "data": {
      "text/plain": [
       "0"
      ]
     },
     "execution_count": 23,
     "metadata": {},
     "output_type": "execute_result"
    }
   ],
   "source": [
    "import datetime\n",
    "from datetime import datetime, time ,date ,timedelta\n",
    "\n",
    "# Add DAT_12 and DAT_14 column\n",
    "df['DAT_12'] = df['DATAUFTRAG1'] + timedelta(days=365)\n",
    "df['DAT_24'] = df['DATAUFTRAG1'] + timedelta(days=730)\n",
    "\n",
    "### Add LTV_12 column\n",
    "df_ltv_12 = df[df['DATERF']<=df['DAT_12']][['KDNR', 'NET_DEMAND']]\n",
    "df_ltv_12 = df_ltv_12.groupby('KDNR').agg({'NET_DEMAND': sum})\n",
    "df_ltv_12 = df_ltv_12.rename(columns = {'NET_DEMAND': 'LTV_12'})\n",
    "print(df_ltv_12['LTV_12'].mean())\n",
    "df = df.merge(df_ltv_12, how = 'left', on = 'KDNR')\n",
    "\n",
    "del df_ltv_12\n",
    "\n",
    "### Add LTV_24 column\n",
    "df_ltv_24 = df[df['DATERF']<=df['DAT_24']][['KDNR', 'NET_DEMAND']]\n",
    "df_ltv_24 = df_ltv_24.groupby('KDNR').agg({'NET_DEMAND': sum})\n",
    "df_ltv_24 = df_ltv_24.rename(columns = {'NET_DEMAND': 'LTV_24'})\n",
    "print(df_ltv_24['LTV_24'].mean())\n",
    "df = df.merge(df_ltv_24, how = 'left', on = 'KDNR')\n",
    "\n",
    "del df_ltv_24\n",
    "\n",
    "gc.collect()"
   ]
  },
  {
   "cell_type": "code",
   "execution_count": 45,
   "id": "ce5ca3fa",
   "metadata": {},
   "outputs": [],
   "source": [
    "df.drop_duplicates('KDNR').groupby('FREQ_CAT').agg({'LTV_12': 'mean'}).to_excel('./Vertbaudet/Germany/'+today+'_ltv_12_by_freq_cat.xlsx')\n",
    "df.drop_duplicates('KDNR').groupby('FREQ_CAT').agg({'LTV_24': 'mean'}).to_excel('./Vertbaudet/Germany/'+today+'_ltv_24_by_freq_cat.xlsx')"
   ]
  },
  {
   "cell_type": "code",
   "execution_count": 46,
   "id": "2ad598b4",
   "metadata": {},
   "outputs": [],
   "source": [
    "df.drop_duplicates('KDNR').groupby('FREQ_CAT_SMALL').agg({'LTV_12': 'mean'}).to_excel('./Vertbaudet/Germany/'+today+'_ltv_12_by_freq_cat_small.xlsx')\n",
    "df.drop_duplicates('KDNR').groupby('FREQ_CAT_SMALL').agg({'LTV_24': 'mean'}).to_excel('./Vertbaudet/Germany/'+today+'_ltv_24_by_freq_cat_small.xlsx')"
   ]
  },
  {
   "cell_type": "markdown",
   "id": "e81414df",
   "metadata": {},
   "source": [
    "### LTV by Cohort and entry month"
   ]
  },
  {
   "cell_type": "code",
   "execution_count": 25,
   "id": "c36d9f26",
   "metadata": {},
   "outputs": [],
   "source": [
    "df.drop_duplicates('KDNR').groupby('COHORT').agg({'LTV_12': 'mean'}).to_excel('./Vertbaudet/Germany/'+today+'_ltv_12_by_cohort.xlsx')"
   ]
  },
  {
   "cell_type": "code",
   "execution_count": 27,
   "id": "2de8791f",
   "metadata": {},
   "outputs": [],
   "source": [
    "df.drop_duplicates('KDNR').groupby(['COHORT', 'MONTH_RECRUITMENT']).agg({'LTV_12': 'mean'}).unstack().to_excel('./Vertbaudet/Germany/'+today+'_ltv_12_by_cohort_and_month.xlsx')"
   ]
  },
  {
   "cell_type": "markdown",
   "id": "182cf861",
   "metadata": {},
   "source": [
    "### Churn delay by frequency category"
   ]
  },
  {
   "cell_type": "code",
   "execution_count": 26,
   "id": "147b179f",
   "metadata": {},
   "outputs": [
    {
     "data": {
      "text/plain": [
       "0"
      ]
     },
     "execution_count": 26,
     "metadata": {},
     "output_type": "execute_result"
    }
   ],
   "source": [
    "### Add churn_delay field\n",
    "df_churn = df.sort_values(by = 'DATERF', ascending = True).groupby('KDNR').agg({'DATERF': 'last', 'DATAUFTRAG1': 'last', 'KDNR':'last'})\n",
    "df_second = df[df['ORDER_NUMBER'] == 2].drop_duplicates('KDNR')[['KDNR', 'DATERF']].rename(columns = {'DATERF': 'DATERF_2'})\n",
    "df_churn = df_churn.merge(df_second, how = 'left', left_index = True,  right_on = 'KDNR')\n",
    "df_churn = df_churn.reset_index()\n",
    "df_churn['CHURN_DELAY'] = (df_churn['DATERF'] + timedelta(days=365)) - df_churn['DATAUFTRAG1']\n",
    "df_churn['CHURN_DELAY_2'] = (df_churn['DATERF'] + timedelta(days=365)) - df_churn['DATERF_2']\n",
    "df_churn = df_churn.drop(columns = 'index')\n",
    "\n",
    "df = df.merge(df_churn[['KDNR', 'CHURN_DELAY', 'CHURN_DELAY_2']], how = 'left', left_on = 'KDNR', right_on  = 'KDNR')\n",
    "\n",
    "del df_churn\n",
    "del df_second\n",
    "\n",
    "df['CHURN_DELAY'] = df['CHURN_DELAY'].apply(lambda x : x.days)\n",
    "df['CHURN_DELAY_2'] = df['CHURN_DELAY_2'].apply(lambda x : x.days)\n",
    "\n",
    "gc.collect()"
   ]
  },
  {
   "cell_type": "code",
   "execution_count": 48,
   "id": "e158ebd8",
   "metadata": {},
   "outputs": [],
   "source": [
    "df.drop_duplicates('KDNR').groupby('FREQ_CAT').agg({'CHURN_DELAY_2': 'mean'}).to_excel('./Vertbaudet/Germany/'+today+'_churn_delay_by_freq_cat.xlsx')\n",
    "df.drop_duplicates('KDNR').groupby('FREQ_CAT_SMALL').agg({'CHURN_DELAY_2': 'mean'}).to_excel('./Vertbaudet/Germany/'+today+'_churn_delay_by_freq_cat_small.xlsx')"
   ]
  },
  {
   "cell_type": "markdown",
   "id": "287b532e",
   "metadata": {},
   "source": [
    "### Nbr new dept in the second command by frequency category"
   ]
  },
  {
   "cell_type": "code",
   "execution_count": 49,
   "id": "2cb94d35",
   "metadata": {},
   "outputs": [],
   "source": [
    "### Create NEW_DEP field\n",
    "def dif(x,y):\n",
    "    return len(y.difference(x))\n",
    "\n",
    "df_list_dept_by_cmd = df[df['ORDER_NUMBER'].isin(range(1,3))].groupby(['KDNR', 'ORDER_NUMBER']).agg({'ORDER_NUMBER': 'first', 'DEPARTEMENT': lambda x: list(pd.Series.unique(x))})\n",
    "df_cmd_1_2 = df_list_dept_by_cmd[df_list_dept_by_cmd['ORDER_NUMBER']==1].merge(df_list_dept_by_cmd[df_list_dept_by_cmd['ORDER_NUMBER']==2], how = 'left', on = 'KDNR').rename(columns = {'DEPARTEMENT_x': 'DEPART_1', 'DEPARTEMENT_y': 'DEPART_2'})\n",
    "df_cmd_1_2 = df_cmd_1_2[(df_cmd_1_2.DEPART_1.notna()) & (df_cmd_1_2.DEPART_2.notna())]\n",
    "df_cmd_1_2['NEW_DEP'] = df_cmd_1_2.apply(lambda x: dif(set(x.DEPART_1), set(x.DEPART_2)), axis = 1)\n",
    "df = df.merge(df_cmd_1_2['NEW_DEP'], how = 'left', left_on = 'KDNR', right_index = True)"
   ]
  },
  {
   "cell_type": "code",
   "execution_count": 50,
   "id": "c2f15009",
   "metadata": {},
   "outputs": [],
   "source": [
    "df.groupby(['FREQ_CAT', 'NEW_DEP']).agg({'KDNR': pd.Series.nunique}).unstack().replace(np.nan, 0).to_excel('./Vertbaudet/Germany/'+today+'_new_dep_by_freq_cat.xlsx')\n",
    "df.groupby(['FREQ_CAT_SMALL', 'NEW_DEP']).agg({'KDNR': pd.Series.nunique}).unstack().replace(np.nan, 0).to_excel('./Vertbaudet/Germany/'+today+'_new_dep_by_freq_cat_small.xlsx')"
   ]
  },
  {
   "cell_type": "markdown",
   "id": "ab9308bc",
   "metadata": {},
   "source": [
    "### Cat discount by frequency catgory - not relevant for Germany"
   ]
  },
  {
   "cell_type": "code",
   "execution_count": 54,
   "id": "7b662fae",
   "metadata": {},
   "outputs": [],
   "source": [
    "### add cat_discount\n",
    "df['CAT_DISCOUNT'] = df.RABATTSATZ.apply(lambda x :describe_discount(x) )\n",
    "\n",
    "df_cat_discount = df[df['DATERF']==df['DATAUFTRAG1']].drop_duplicates(subset = ['KDNR', 'ID_ORDER']).groupby('FREQ_CAT').agg({'CAT_DISCOUNT': 'value_counts'}).unstack()"
   ]
  },
  {
   "cell_type": "code",
   "execution_count": 55,
   "id": "d16d59f9",
   "metadata": {
    "collapsed": true
   },
   "outputs": [
    {
     "ename": "KeyError",
     "evalue": "'<30'",
     "output_type": "error",
     "traceback": [
      "\u001b[1;31m---------------------------------------------------------------------------\u001b[0m",
      "\u001b[1;31mKeyError\u001b[0m                                  Traceback (most recent call last)",
      "\u001b[1;32m~\\anaconda3\\lib\\site-packages\\pandas\\core\\indexes\\base.py\u001b[0m in \u001b[0;36mget_loc\u001b[1;34m(self, key, method, tolerance)\u001b[0m\n\u001b[0;32m   3079\u001b[0m             \u001b[1;32mtry\u001b[0m\u001b[1;33m:\u001b[0m\u001b[1;33m\u001b[0m\u001b[1;33m\u001b[0m\u001b[0m\n\u001b[1;32m-> 3080\u001b[1;33m                 \u001b[1;32mreturn\u001b[0m \u001b[0mself\u001b[0m\u001b[1;33m.\u001b[0m\u001b[0m_engine\u001b[0m\u001b[1;33m.\u001b[0m\u001b[0mget_loc\u001b[0m\u001b[1;33m(\u001b[0m\u001b[0mcasted_key\u001b[0m\u001b[1;33m)\u001b[0m\u001b[1;33m\u001b[0m\u001b[1;33m\u001b[0m\u001b[0m\n\u001b[0m\u001b[0;32m   3081\u001b[0m             \u001b[1;32mexcept\u001b[0m \u001b[0mKeyError\u001b[0m \u001b[1;32mas\u001b[0m \u001b[0merr\u001b[0m\u001b[1;33m:\u001b[0m\u001b[1;33m\u001b[0m\u001b[1;33m\u001b[0m\u001b[0m\n",
      "\u001b[1;32mpandas\\_libs\\index.pyx\u001b[0m in \u001b[0;36mpandas._libs.index.IndexEngine.get_loc\u001b[1;34m()\u001b[0m\n",
      "\u001b[1;32mpandas\\_libs\\index.pyx\u001b[0m in \u001b[0;36mpandas._libs.index.IndexEngine.get_loc\u001b[1;34m()\u001b[0m\n",
      "\u001b[1;32mpandas\\_libs\\hashtable_class_helper.pxi\u001b[0m in \u001b[0;36mpandas._libs.hashtable.PyObjectHashTable.get_item\u001b[1;34m()\u001b[0m\n",
      "\u001b[1;32mpandas\\_libs\\hashtable_class_helper.pxi\u001b[0m in \u001b[0;36mpandas._libs.hashtable.PyObjectHashTable.get_item\u001b[1;34m()\u001b[0m\n",
      "\u001b[1;31mKeyError\u001b[0m: '<30'",
      "\nThe above exception was the direct cause of the following exception:\n",
      "\u001b[1;31mKeyError\u001b[0m                                  Traceback (most recent call last)",
      "\u001b[1;32m<ipython-input-55-8d84717ef611>\u001b[0m in \u001b[0;36m<module>\u001b[1;34m\u001b[0m\n\u001b[0;32m      1\u001b[0m \u001b[1;31m### convert to percentage\u001b[0m\u001b[1;33m\u001b[0m\u001b[1;33m\u001b[0m\u001b[1;33m\u001b[0m\u001b[0m\n\u001b[0;32m      2\u001b[0m \u001b[1;32mfor\u001b[0m \u001b[0mcat\u001b[0m \u001b[1;32min\u001b[0m \u001b[1;33m[\u001b[0m\u001b[1;34m'<30'\u001b[0m\u001b[1;33m,\u001b[0m \u001b[1;34m'<365'\u001b[0m\u001b[1;33m,\u001b[0m \u001b[1;34m'>365'\u001b[0m\u001b[1;33m]\u001b[0m\u001b[1;33m:\u001b[0m\u001b[1;33m\u001b[0m\u001b[1;33m\u001b[0m\u001b[0m\n\u001b[1;32m----> 3\u001b[1;33m     \u001b[0mdiv\u001b[0m \u001b[1;33m=\u001b[0m \u001b[0mdf_cat_discount\u001b[0m\u001b[1;33m.\u001b[0m\u001b[0mloc\u001b[0m\u001b[1;33m[\u001b[0m\u001b[0mcat\u001b[0m\u001b[1;33m]\u001b[0m\u001b[1;33m.\u001b[0m\u001b[0msum\u001b[0m\u001b[1;33m(\u001b[0m\u001b[1;33m)\u001b[0m\u001b[1;33m\u001b[0m\u001b[1;33m\u001b[0m\u001b[0m\n\u001b[0m\u001b[0;32m      4\u001b[0m     \u001b[1;32mfor\u001b[0m \u001b[0mdisc\u001b[0m \u001b[1;32min\u001b[0m  \u001b[1;33m[\u001b[0m\u001b[1;34m'10-20%'\u001b[0m\u001b[1;33m,\u001b[0m \u001b[1;34m'20-30%'\u001b[0m\u001b[1;33m,\u001b[0m \u001b[1;34m'30-40%'\u001b[0m\u001b[1;33m,\u001b[0m \u001b[1;34m'40-50%'\u001b[0m\u001b[1;33m,\u001b[0m \u001b[1;34m'5-10%'\u001b[0m\u001b[1;33m,\u001b[0m \u001b[1;34m'50-60%'\u001b[0m\u001b[1;33m,\u001b[0m \u001b[1;34m'<5%'\u001b[0m\u001b[1;33m,\u001b[0m \u001b[1;34m'>70%'\u001b[0m\u001b[1;33m]\u001b[0m\u001b[1;33m:\u001b[0m\u001b[1;33m\u001b[0m\u001b[1;33m\u001b[0m\u001b[0m\n\u001b[0;32m      5\u001b[0m         \u001b[0mdf_cat_discount\u001b[0m\u001b[1;33m[\u001b[0m\u001b[1;34m'CAT_DISCOUNT'\u001b[0m\u001b[1;33m,\u001b[0m \u001b[0mdisc\u001b[0m\u001b[1;33m]\u001b[0m\u001b[1;33m[\u001b[0m\u001b[0mcat\u001b[0m\u001b[1;33m]\u001b[0m \u001b[1;33m=\u001b[0m  \u001b[0mdf_cat_discount\u001b[0m\u001b[1;33m[\u001b[0m\u001b[1;34m'CAT_DISCOUNT'\u001b[0m\u001b[1;33m,\u001b[0m \u001b[0mdisc\u001b[0m\u001b[1;33m]\u001b[0m\u001b[1;33m[\u001b[0m\u001b[0mcat\u001b[0m\u001b[1;33m]\u001b[0m \u001b[1;33m/\u001b[0m \u001b[0mdiv\u001b[0m\u001b[1;33m\u001b[0m\u001b[1;33m\u001b[0m\u001b[0m\n",
      "\u001b[1;32m~\\anaconda3\\lib\\site-packages\\pandas\\core\\indexing.py\u001b[0m in \u001b[0;36m__getitem__\u001b[1;34m(self, key)\u001b[0m\n\u001b[0;32m    893\u001b[0m \u001b[1;33m\u001b[0m\u001b[0m\n\u001b[0;32m    894\u001b[0m             \u001b[0mmaybe_callable\u001b[0m \u001b[1;33m=\u001b[0m \u001b[0mcom\u001b[0m\u001b[1;33m.\u001b[0m\u001b[0mapply_if_callable\u001b[0m\u001b[1;33m(\u001b[0m\u001b[0mkey\u001b[0m\u001b[1;33m,\u001b[0m \u001b[0mself\u001b[0m\u001b[1;33m.\u001b[0m\u001b[0mobj\u001b[0m\u001b[1;33m)\u001b[0m\u001b[1;33m\u001b[0m\u001b[1;33m\u001b[0m\u001b[0m\n\u001b[1;32m--> 895\u001b[1;33m             \u001b[1;32mreturn\u001b[0m \u001b[0mself\u001b[0m\u001b[1;33m.\u001b[0m\u001b[0m_getitem_axis\u001b[0m\u001b[1;33m(\u001b[0m\u001b[0mmaybe_callable\u001b[0m\u001b[1;33m,\u001b[0m \u001b[0maxis\u001b[0m\u001b[1;33m=\u001b[0m\u001b[0maxis\u001b[0m\u001b[1;33m)\u001b[0m\u001b[1;33m\u001b[0m\u001b[1;33m\u001b[0m\u001b[0m\n\u001b[0m\u001b[0;32m    896\u001b[0m \u001b[1;33m\u001b[0m\u001b[0m\n\u001b[0;32m    897\u001b[0m     \u001b[1;32mdef\u001b[0m \u001b[0m_is_scalar_access\u001b[0m\u001b[1;33m(\u001b[0m\u001b[0mself\u001b[0m\u001b[1;33m,\u001b[0m \u001b[0mkey\u001b[0m\u001b[1;33m:\u001b[0m \u001b[0mTuple\u001b[0m\u001b[1;33m)\u001b[0m\u001b[1;33m:\u001b[0m\u001b[1;33m\u001b[0m\u001b[1;33m\u001b[0m\u001b[0m\n",
      "\u001b[1;32m~\\anaconda3\\lib\\site-packages\\pandas\\core\\indexing.py\u001b[0m in \u001b[0;36m_getitem_axis\u001b[1;34m(self, key, axis)\u001b[0m\n\u001b[0;32m   1122\u001b[0m         \u001b[1;31m# fall thru to straight lookup\u001b[0m\u001b[1;33m\u001b[0m\u001b[1;33m\u001b[0m\u001b[1;33m\u001b[0m\u001b[0m\n\u001b[0;32m   1123\u001b[0m         \u001b[0mself\u001b[0m\u001b[1;33m.\u001b[0m\u001b[0m_validate_key\u001b[0m\u001b[1;33m(\u001b[0m\u001b[0mkey\u001b[0m\u001b[1;33m,\u001b[0m \u001b[0maxis\u001b[0m\u001b[1;33m)\u001b[0m\u001b[1;33m\u001b[0m\u001b[1;33m\u001b[0m\u001b[0m\n\u001b[1;32m-> 1124\u001b[1;33m         \u001b[1;32mreturn\u001b[0m \u001b[0mself\u001b[0m\u001b[1;33m.\u001b[0m\u001b[0m_get_label\u001b[0m\u001b[1;33m(\u001b[0m\u001b[0mkey\u001b[0m\u001b[1;33m,\u001b[0m \u001b[0maxis\u001b[0m\u001b[1;33m=\u001b[0m\u001b[0maxis\u001b[0m\u001b[1;33m)\u001b[0m\u001b[1;33m\u001b[0m\u001b[1;33m\u001b[0m\u001b[0m\n\u001b[0m\u001b[0;32m   1125\u001b[0m \u001b[1;33m\u001b[0m\u001b[0m\n\u001b[0;32m   1126\u001b[0m     \u001b[1;32mdef\u001b[0m \u001b[0m_get_slice_axis\u001b[0m\u001b[1;33m(\u001b[0m\u001b[0mself\u001b[0m\u001b[1;33m,\u001b[0m \u001b[0mslice_obj\u001b[0m\u001b[1;33m:\u001b[0m \u001b[0mslice\u001b[0m\u001b[1;33m,\u001b[0m \u001b[0maxis\u001b[0m\u001b[1;33m:\u001b[0m \u001b[0mint\u001b[0m\u001b[1;33m)\u001b[0m\u001b[1;33m:\u001b[0m\u001b[1;33m\u001b[0m\u001b[1;33m\u001b[0m\u001b[0m\n",
      "\u001b[1;32m~\\anaconda3\\lib\\site-packages\\pandas\\core\\indexing.py\u001b[0m in \u001b[0;36m_get_label\u001b[1;34m(self, label, axis)\u001b[0m\n\u001b[0;32m   1071\u001b[0m     \u001b[1;32mdef\u001b[0m \u001b[0m_get_label\u001b[0m\u001b[1;33m(\u001b[0m\u001b[0mself\u001b[0m\u001b[1;33m,\u001b[0m \u001b[0mlabel\u001b[0m\u001b[1;33m,\u001b[0m \u001b[0maxis\u001b[0m\u001b[1;33m:\u001b[0m \u001b[0mint\u001b[0m\u001b[1;33m)\u001b[0m\u001b[1;33m:\u001b[0m\u001b[1;33m\u001b[0m\u001b[1;33m\u001b[0m\u001b[0m\n\u001b[0;32m   1072\u001b[0m         \u001b[1;31m# GH#5667 this will fail if the label is not present in the axis.\u001b[0m\u001b[1;33m\u001b[0m\u001b[1;33m\u001b[0m\u001b[1;33m\u001b[0m\u001b[0m\n\u001b[1;32m-> 1073\u001b[1;33m         \u001b[1;32mreturn\u001b[0m \u001b[0mself\u001b[0m\u001b[1;33m.\u001b[0m\u001b[0mobj\u001b[0m\u001b[1;33m.\u001b[0m\u001b[0mxs\u001b[0m\u001b[1;33m(\u001b[0m\u001b[0mlabel\u001b[0m\u001b[1;33m,\u001b[0m \u001b[0maxis\u001b[0m\u001b[1;33m=\u001b[0m\u001b[0maxis\u001b[0m\u001b[1;33m)\u001b[0m\u001b[1;33m\u001b[0m\u001b[1;33m\u001b[0m\u001b[0m\n\u001b[0m\u001b[0;32m   1074\u001b[0m \u001b[1;33m\u001b[0m\u001b[0m\n\u001b[0;32m   1075\u001b[0m     \u001b[1;32mdef\u001b[0m \u001b[0m_handle_lowerdim_multi_index_axis0\u001b[0m\u001b[1;33m(\u001b[0m\u001b[0mself\u001b[0m\u001b[1;33m,\u001b[0m \u001b[0mtup\u001b[0m\u001b[1;33m:\u001b[0m \u001b[0mTuple\u001b[0m\u001b[1;33m)\u001b[0m\u001b[1;33m:\u001b[0m\u001b[1;33m\u001b[0m\u001b[1;33m\u001b[0m\u001b[0m\n",
      "\u001b[1;32m~\\anaconda3\\lib\\site-packages\\pandas\\core\\generic.py\u001b[0m in \u001b[0;36mxs\u001b[1;34m(self, key, axis, level, drop_level)\u001b[0m\n\u001b[0;32m   3737\u001b[0m                 \u001b[1;32mraise\u001b[0m \u001b[0mTypeError\u001b[0m\u001b[1;33m(\u001b[0m\u001b[1;34mf\"Expected label or tuple of labels, got {key}\"\u001b[0m\u001b[1;33m)\u001b[0m \u001b[1;32mfrom\u001b[0m \u001b[0me\u001b[0m\u001b[1;33m\u001b[0m\u001b[1;33m\u001b[0m\u001b[0m\n\u001b[0;32m   3738\u001b[0m         \u001b[1;32melse\u001b[0m\u001b[1;33m:\u001b[0m\u001b[1;33m\u001b[0m\u001b[1;33m\u001b[0m\u001b[0m\n\u001b[1;32m-> 3739\u001b[1;33m             \u001b[0mloc\u001b[0m \u001b[1;33m=\u001b[0m \u001b[0mindex\u001b[0m\u001b[1;33m.\u001b[0m\u001b[0mget_loc\u001b[0m\u001b[1;33m(\u001b[0m\u001b[0mkey\u001b[0m\u001b[1;33m)\u001b[0m\u001b[1;33m\u001b[0m\u001b[1;33m\u001b[0m\u001b[0m\n\u001b[0m\u001b[0;32m   3740\u001b[0m \u001b[1;33m\u001b[0m\u001b[0m\n\u001b[0;32m   3741\u001b[0m             \u001b[1;32mif\u001b[0m \u001b[0misinstance\u001b[0m\u001b[1;33m(\u001b[0m\u001b[0mloc\u001b[0m\u001b[1;33m,\u001b[0m \u001b[0mnp\u001b[0m\u001b[1;33m.\u001b[0m\u001b[0mndarray\u001b[0m\u001b[1;33m)\u001b[0m\u001b[1;33m:\u001b[0m\u001b[1;33m\u001b[0m\u001b[1;33m\u001b[0m\u001b[0m\n",
      "\u001b[1;32m~\\anaconda3\\lib\\site-packages\\pandas\\core\\indexes\\base.py\u001b[0m in \u001b[0;36mget_loc\u001b[1;34m(self, key, method, tolerance)\u001b[0m\n\u001b[0;32m   3080\u001b[0m                 \u001b[1;32mreturn\u001b[0m \u001b[0mself\u001b[0m\u001b[1;33m.\u001b[0m\u001b[0m_engine\u001b[0m\u001b[1;33m.\u001b[0m\u001b[0mget_loc\u001b[0m\u001b[1;33m(\u001b[0m\u001b[0mcasted_key\u001b[0m\u001b[1;33m)\u001b[0m\u001b[1;33m\u001b[0m\u001b[1;33m\u001b[0m\u001b[0m\n\u001b[0;32m   3081\u001b[0m             \u001b[1;32mexcept\u001b[0m \u001b[0mKeyError\u001b[0m \u001b[1;32mas\u001b[0m \u001b[0merr\u001b[0m\u001b[1;33m:\u001b[0m\u001b[1;33m\u001b[0m\u001b[1;33m\u001b[0m\u001b[0m\n\u001b[1;32m-> 3082\u001b[1;33m                 \u001b[1;32mraise\u001b[0m \u001b[0mKeyError\u001b[0m\u001b[1;33m(\u001b[0m\u001b[0mkey\u001b[0m\u001b[1;33m)\u001b[0m \u001b[1;32mfrom\u001b[0m \u001b[0merr\u001b[0m\u001b[1;33m\u001b[0m\u001b[1;33m\u001b[0m\u001b[0m\n\u001b[0m\u001b[0;32m   3083\u001b[0m \u001b[1;33m\u001b[0m\u001b[0m\n\u001b[0;32m   3084\u001b[0m         \u001b[1;32mif\u001b[0m \u001b[0mtolerance\u001b[0m \u001b[1;32mis\u001b[0m \u001b[1;32mnot\u001b[0m \u001b[1;32mNone\u001b[0m\u001b[1;33m:\u001b[0m\u001b[1;33m\u001b[0m\u001b[1;33m\u001b[0m\u001b[0m\n",
      "\u001b[1;31mKeyError\u001b[0m: '<30'"
     ]
    }
   ],
   "source": [
    "### convert to percentage\n",
    "for cat in ['<30', '<365', '>365']:\n",
    "    div = df_cat_discount.loc[cat].sum()\n",
    "    for disc in  ['10-20%', '20-30%', '30-40%', '40-50%', '5-10%', '50-60%', '<5%', '>70%']:\n",
    "        df_cat_discount['CAT_DISCOUNT', disc][cat] =  df_cat_discount['CAT_DISCOUNT', disc][cat] / div"
   ]
  },
  {
   "cell_type": "code",
   "execution_count": null,
   "id": "c1787d9e",
   "metadata": {},
   "outputs": [],
   "source": [
    "df_cat_discount.to_excel('./Vertbaudet/Germany/'+today+'_discount_cat_by_freq_cat.xlsx')"
   ]
  },
  {
   "cell_type": "markdown",
   "id": "48972b00",
   "metadata": {},
   "source": [
    "# Misc"
   ]
  },
  {
   "cell_type": "markdown",
   "id": "982eb9a5",
   "metadata": {},
   "source": [
    "### LTV 12-24 by entry department"
   ]
  },
  {
   "cell_type": "code",
   "execution_count": 23,
   "id": "ec76e83f",
   "metadata": {},
   "outputs": [],
   "source": [
    "df.drop_duplicates('KDNR').groupby('DEPARTEMENT_FIRST').agg({'LTV_12': 'mean'}).to_excel('./Vertbaudet/Germany/'+today+'_ltv_12_by_entr_dept.xlsx')\n",
    "df.drop_duplicates('KDNR').groupby('DEPARTEMENT_FIRST').agg({'LTV_24': 'mean'}).to_excel('./Vertbaudet/Germany/'+today+'_ltv_24_by_entr_dept.xlsx')"
   ]
  },
  {
   "cell_type": "markdown",
   "id": "28989a68",
   "metadata": {},
   "source": [
    "### Lifetime by entry dept"
   ]
  },
  {
   "cell_type": "code",
   "execution_count": 24,
   "id": "34b749fe",
   "metadata": {},
   "outputs": [
    {
     "data": {
      "text/plain": [
       "15"
      ]
     },
     "execution_count": 24,
     "metadata": {},
     "output_type": "execute_result"
    }
   ],
   "source": [
    "### Seniority abs\n",
    "df_last_cmd = df[['KDNR', 'DATERF', 'DATAUFTRAG1']].sort_values(by = 'DATERF', ascending = False).groupby('KDNR').agg({'DATERF': 'first', 'DATAUFTRAG1': 'first'})\n",
    "df_last_cmd['SENIORITY_ABS'] = (df_last_cmd['DATERF'] - df_last_cmd['DATAUFTRAG1']).dt.days + 365\n",
    "df = df.merge(df_last_cmd['SENIORITY_ABS'], how = 'left', on = 'KDNR')\n",
    "\n",
    "del df_last_cmd\n",
    "gc.collect()"
   ]
  },
  {
   "cell_type": "code",
   "execution_count": 25,
   "id": "9296ab66",
   "metadata": {},
   "outputs": [],
   "source": [
    "df.drop_duplicates('KDNR').groupby('DEPARTEMENT_FIRST').agg({'SENIORITY_ABS': 'mean'}).to_excel('./Vertbaudet/Germany/'+today+'_lifetime_by_entr_dept.xlsx')"
   ]
  },
  {
   "cell_type": "markdown",
   "id": "7d73b1bd",
   "metadata": {},
   "source": [
    "### Churn delay by acquisition channel"
   ]
  },
  {
   "cell_type": "code",
   "execution_count": 30,
   "id": "fd59d811",
   "metadata": {},
   "outputs": [],
   "source": [
    "df[df.ORDER_NUMBER == 1].drop_duplicates('KDNR').groupby('LEVIER').agg({'CHURN_DELAY': 'mean', 'LTV_12': 'mean', 'LTV_24': 'mean'}).to_excel('./Vertbaudet/Germany/'+today+'_churn_ltv_bad_acq_channel.xlsx')"
   ]
  }
 ],
 "metadata": {
  "kernelspec": {
   "display_name": "Python 3",
   "language": "python",
   "name": "python3"
  },
  "language_info": {
   "codemirror_mode": {
    "name": "ipython",
    "version": 3
   },
   "file_extension": ".py",
   "mimetype": "text/x-python",
   "name": "python",
   "nbconvert_exporter": "python",
   "pygments_lexer": "ipython3",
   "version": "3.8.8"
  }
 },
 "nbformat": 4,
 "nbformat_minor": 5
}
