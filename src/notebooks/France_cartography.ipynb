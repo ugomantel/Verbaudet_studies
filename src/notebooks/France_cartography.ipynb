{
 "cells": [
  {
   "cell_type": "code",
   "execution_count": 1,
   "id": "fa6723aa",
   "metadata": {},
   "outputs": [],
   "source": [
    "### See notebooks 'France_IRIS_revenue_by_zip' and 'France_INSEE_number_of_household_with_children_by_zip_and_dep' \n",
    "### for construction of revenue and number of households with children  csv"
   ]
  },
  {
   "cell_type": "markdown",
   "id": "c9d9e354-f846-4285-8c6a-9878937722ba",
   "metadata": {},
   "source": [
    "#### Here we will load the number of client by zip and compute pentration by zip"
   ]
  },
  {
   "cell_type": "code",
   "execution_count": 1,
   "id": "aed7b6fa-6a5f-427b-9ec4-e27501fc57de",
   "metadata": {},
   "outputs": [],
   "source": [
    "import os\n",
    "import pandas as pd\n",
    "import numpy as np\n",
    "from datetime import date, datetime, timedelta\n",
    "today = date.today().strftime(\"%Y%m%d\")"
   ]
  },
  {
   "cell_type": "code",
   "execution_count": 2,
   "id": "0a4ab206",
   "metadata": {},
   "outputs": [],
   "source": [
    "import gc"
   ]
  },
  {
   "cell_type": "markdown",
   "id": "93d23a57",
   "metadata": {},
   "source": [
    "### Preliminar functions and imports"
   ]
  },
  {
   "cell_type": "code",
   "execution_count": 3,
   "id": "425bfba6",
   "metadata": {},
   "outputs": [],
   "source": [
    "def customer_category_attribution(x):\n",
    "    if x==1:\n",
    "        return 'One-timer'\n",
    "    if x==2:\n",
    "        return 'Two-timer'\n",
    "    else:\n",
    "        return 'Recurring'"
   ]
  },
  {
   "cell_type": "code",
   "execution_count": 4,
   "id": "f2aa89b0",
   "metadata": {},
   "outputs": [],
   "source": [
    "def flatten (table):\n",
    "    if type(table.columns)==pd.MultiIndex:\n",
    "        columns_to_look = [name_tmp for name_tmp in table.columns]\n",
    "\n",
    "        columns_df = [ str(t[0])+'_'+str(t[1]) for t in columns_to_look]\n",
    "        columns_df.insert(0,table.index.name)\n",
    "\n",
    "        df = pd.DataFrame(columns = columns_df)\n",
    "\n",
    "        index = 0\n",
    "        for i in table.index:\n",
    "            row = [table[r][i] for r in columns_to_look]\n",
    "            row.insert(0,i)\n",
    "            df.loc[index] = row\n",
    "            index = index + 1\n",
    "        return(df)\n",
    "    else :\n",
    "        table = pd.DataFrame(table)\n",
    "        table.reset_index(level=0, inplace=True)\n",
    "        return table"
   ]
  },
  {
   "cell_type": "code",
   "execution_count": 5,
   "id": "cd5c5ab9",
   "metadata": {},
   "outputs": [
    {
     "name": "stderr",
     "output_type": "stream",
     "text": [
      "C:\\Users\\pierrick\\anaconda3\\lib\\site-packages\\IPython\\core\\interactiveshell.py:3165: DtypeWarning: Columns (0) have mixed types.Specify dtype option on import or set low_memory=False.\n",
      "  has_raised = await self.run_ast_nodes(code_ast.body, cell_name,\n"
     ]
    }
   ],
   "source": [
    "df_articles = pd.read_csv('./Vertbaudet/France/src/Original/Articles/Export_FR_Articles_Julie.csv',\n",
    "                                     usecols = [\"DEPARTEMENT_NIV2\",\"CODSAI\",\"REFSTK\", \"TOP_MN_Max\"])\n",
    "\n",
    "df_codsoc = pd.read_csv('./Vertbaudet/France/src/20210921_CODSOC.csv')\n",
    "\n",
    "df_client_dept = pd.read_csv('./20210923_Export_tab_FR/20210921_INDIVIDUS.tab', sep = '\\t',\n",
    "                 usecols = ['IDIND', 'CODPOST', \"DATPREMCDEWEB\"])\n",
    "\n",
    "clients_mag = pd.read_csv(\"./Vertbaudet/France/src/20211004_UNIQUE_IDIND_TICKET.csv\",sep=\",\")\n",
    "\n",
    "df_client = pd.read_csv('./Vertbaudet/France/Output_old/iris_med_rev_clients.csv', usecols = ['IDIND', 'Mediane'])\n",
    "\n",
    "df_IRIS_by_dep = pd.read_excel('./Vertbaudet/France/INSEE_data/INSEE_IRIS_by_dep.xlsx', usecols = ['CODGEO','MED18'])"
   ]
  },
  {
   "cell_type": "markdown",
   "id": "207fa796",
   "metadata": {},
   "source": [
    "# Import"
   ]
  },
  {
   "cell_type": "code",
   "execution_count": null,
   "id": "cf3e2ce6",
   "metadata": {},
   "outputs": [],
   "source": [
    "gc.collect()\n",
    "df = pd.DataFrame()\n",
    "for year in range(2017,2021):\n",
    "    print(year)\n",
    "    gc.collect()\n",
    "    df_tmp = pd.read_csv('./Vertbaudet/France/src/Original/Lignes_commandes/Export_FR_LIGNECOMMANDE_'+str(year)+'.csv', \n",
    "                              encoding = 'unicode_escape', \n",
    "                              usecols = ['IDIND', 'IDFOYER', 'DN', 'NUMCDE', 'DBI'])\n",
    "\n",
    "    ### Merge with article table to get DEPARTEMENT_NIV2\n",
    "    #df_tmp = df_tmp.merge(df_articles, how = 'left', on = [\"CODSAI\",\"REFSTK\"])\n",
    "    \n",
    "    ### Replace $null$\n",
    "    df_tmp = df_tmp.replace({'$null$': np.nan})\n",
    "    ### Clean IDIND index \n",
    "    df_tmp.IDIND = df_tmp.IDIND.astype(float)\n",
    "    df_tmp.IDFOYER = df_tmp.IDFOYER.astype(float)\n",
    "    \n",
    "    ### Filter mag clients\n",
    "    #df_tmp = df_tmp[~df_tmp.IDIND.isin(clients_mag.IDIND)]\n",
    "\n",
    "    ### Filter non-french command with CODSOC\n",
    "    df_tmp = df_tmp.merge(df_codsoc, how = 'left', on = 'NUMCDE')\n",
    "    df_tmp = df_tmp[df_tmp.CODSOC==0]\n",
    "\n",
    "    #### Merge to get Mediane rev\n",
    "    df_tmp = df_tmp.merge(df_client, how = 'left', on = 'IDIND')\n",
    "\n",
    "    ### add departments and cohort\n",
    "    df_tmp = df_tmp.merge(df_client_dept.replace({'$null$': np.nan}), how = 'left', on = 'IDIND')\n",
    "    df_tmp = df_tmp[df_tmp.DATPREMCDEWEB != '$null$']\n",
    "    df_tmp['DEPARTEMENT'] = df_tmp['CODPOST'].apply(lambda x : str(x)[:2])\n",
    "    df_tmp['COHORT'] = pd.to_datetime(df_tmp[\"DATPREMCDEWEB\"]).dt.year\n",
    "    \n",
    "    ### filter cohort\n",
    "    #df_tmp = df_tmp[(df_tmp['COHORT'] >= 2017) & (df_tmp['COHORT'] < 2021)]\n",
    "    \n",
    "    ### filter on DN <= DB\n",
    "    #df_tmp = df_tmp[df_tmp.DN <= df_tmp.DBI]\n",
    "    #df_tmp = df_tmp[df_tmp.DN >= 0]\n",
    "\n",
    "    df = pd.concat([df,df_tmp])\n",
    "  \n",
    "    del df_tmp"
   ]
  },
  {
   "cell_type": "markdown",
   "id": "dfb3ec43",
   "metadata": {},
   "source": [
    "### Average median rev by department"
   ]
  },
  {
   "cell_type": "code",
   "execution_count": null,
   "id": "7eae5e49",
   "metadata": {},
   "outputs": [],
   "source": [
    "df_dep = df.drop_duplicates('IDFOYER').groupby('DEPARTEMENT').agg({'Mediane': 'mean'})\n",
    "\n",
    "df_dep =  df_dep.merge(df_IRIS_by_dep, how = 'left', left_index = True, right_on = 'CODGEO')\n",
    "\n",
    "df_dep = df_dep.rename(columns = {'Mediane': 'MEDIAN_VB', 'MED18': 'MEDIAN_INSEE'})\n",
    "\n",
    "df_dep['MED_VB_VS_AVERAGE'] = df_dep['MEDIAN_VB']/df_dep['MEDIAN_INSEE']\n",
    "\n",
    "df_dep.to_excel('./Vertbaudet/France/Output/med_vb_vs_med_insee_by_dep.xlsx')"
   ]
  },
  {
   "cell_type": "code",
   "execution_count": 39,
   "id": "63450058",
   "metadata": {
    "scrolled": true
   },
   "outputs": [
    {
     "data": {
      "text/plain": [
       "22991.06170094055"
      ]
     },
     "execution_count": 39,
     "metadata": {},
     "output_type": "execute_result"
    }
   ],
   "source": [
    "df.drop_duplicates('IDFOYER')['Mediane'].mean()"
   ]
  },
  {
   "cell_type": "markdown",
   "id": "26dbad91",
   "metadata": {},
   "source": [
    "### DN by CODPOST"
   ]
  },
  {
   "cell_type": "code",
   "execution_count": 8,
   "id": "d61e6b8b",
   "metadata": {},
   "outputs": [],
   "source": [
    "df.groupby('CODPOST').agg({'DN':sum}).to_excel('./Vertbaudet/France/Output/DN_by_zip.xlsx')"
   ]
  },
  {
   "cell_type": "markdown",
   "id": "1c74db3e",
   "metadata": {},
   "source": [
    "### OT/TT/Recurring categories by Departments"
   ]
  },
  {
   "cell_type": "code",
   "execution_count": 12,
   "id": "713b3a15",
   "metadata": {},
   "outputs": [],
   "source": [
    "df['MONTH'] = pd.to_datetime(df.DATPREMCDEWEB).dt.month"
   ]
  },
  {
   "cell_type": "code",
   "execution_count": 13,
   "id": "bc93883b",
   "metadata": {},
   "outputs": [
    {
     "data": {
      "text/plain": [
       "75"
      ]
     },
     "execution_count": 13,
     "metadata": {},
     "output_type": "execute_result"
    }
   ],
   "source": [
    "### Add CLIENT_CATEGORY column according to number of commands\n",
    "df_nb_commande = df.groupby('IDIND').agg({'NUMCDE': pd.Series.nunique})\n",
    "df_nb_commande.columns = ['NB_ORDERS']\n",
    "df = pd.merge(df,df_nb_commande,on='IDIND',how='left',suffixes=(False,False))\n",
    "df['CLIENT_CATEGORY'] = df.NB_ORDERS.apply(lambda x: customer_category_attribution(x))\n",
    "gc.collect()"
   ]
  },
  {
   "cell_type": "code",
   "execution_count": 17,
   "id": "1ec2f10d",
   "metadata": {},
   "outputs": [],
   "source": [
    "### Create output df\n",
    "df_output_cat = df.groupby(['DEPARTEMENT','CLIENT_CATEGORY']).agg({'DN': sum, 'IDIND': pd.Series.nunique})\n",
    "df_output_cat = df_output_cat.unstack()\n",
    "\n",
    "### Drop non-valid dept numbers\n",
    "df_output_cat = df_output_cat[df_output_cat['DN','Recurring'].notna()].drop(index = ['00', '20','97','98'])"
   ]
  },
  {
   "cell_type": "code",
   "execution_count": 18,
   "id": "c56e063e",
   "metadata": {},
   "outputs": [
    {
     "name": "stdout",
     "output_type": "stream",
     "text": [
      "% of DN of One-timer :\n",
      "0.15552989210407267\n",
      "% of DN of Two-timer :\n",
      "0.11069566407799897\n",
      "% of DN of Recurring :\n",
      "0.7337744438179283\n",
      "% of IDIND of One-timer :\n",
      "0.5442781794858389\n",
      "% of IDIND of Two-timer :\n",
      "0.17560564972521955\n",
      "% of IDIND of Recurring :\n",
      "0.2801161707889415\n"
     ]
    }
   ],
   "source": [
    "### Get statistics for the whole country\n",
    "for crit in ['DN', 'IDIND']:\n",
    "    for cat in ['One-timer', 'Two-timer', 'Recurring']:\n",
    "        print('% of '+crit+ ' of '+cat+' :')\n",
    "        print( (df_output_cat[crit,cat].sum()) / (df_output_cat[crit].sum().sum()))"
   ]
  },
  {
   "cell_type": "code",
   "execution_count": 21,
   "id": "c5cd5c70",
   "metadata": {},
   "outputs": [],
   "source": [
    "df_output_cat.to_excel('./Vertbaudet/France/Output/category_by_dep.xlsx')"
   ]
  },
  {
   "cell_type": "markdown",
   "id": "bb77c327",
   "metadata": {},
   "source": [
    "### Number of clients by univ"
   ]
  },
  {
   "cell_type": "code",
   "execution_count": null,
   "id": "ba6fabcc",
   "metadata": {},
   "outputs": [],
   "source": [
    "df_nb_client_univ = df.drop_duplicates(subset = ['IDIND', 'DEPARTEMENT_NIV2']).groupby(['DEPARTEMENT', 'DEPARTEMENT_NIV2']).agg({'IDIND':'count', 'DEPARTEMENT_NIV2':'first'})"
   ]
  },
  {
   "cell_type": "code",
   "execution_count": null,
   "id": "a07786fb",
   "metadata": {},
   "outputs": [],
   "source": [
    "df_nb_clients_by_dep = df.groupby('DEPARTEMENT').agg({'IDIND': pd.Series.nunique})\n",
    "\n",
    "df_nb_client_univ = df_nb_client_univ.merge(df_nb_clients_by_dep, how = 'left', on = 'DEPARTEMENT')\n",
    "\n",
    "df_nb_client_univ = df_nb_client_univ.rename(columns = {'IDIND_x': 'COUNT_CLIENT_UNIV', 'IDIND_y': 'COUNT_CLIENT_TOTAL'})\n",
    "\n",
    "df_nb_client_univ['PENETRATION'] = df_nb_client_univ['COUNT_CLIENT_UNIV']/df_nb_client_univ['COUNT_CLIENT_TOTAL']\n",
    "\n",
    "df_nb_client_univ['COUNT_CLIENT_UNIV'].sum()/df_nb_client_univ['COUNT_CLIENT_TOTAL'].sum()\n",
    "\n",
    "# df_nb_client_univ.groupby(['DEPARTEMENT', 'DEPARTEMENT_NIV2']).agg({'COUNT_CLIENT_UNIV':'first', 'COUNT_CLIENT_TOTAL':'first', 'PENETRATION':'first'}).unstack().to_excel('./Vertbaudet/France/Output/'+today+'_penetration_univ_by_dept_17_20.xlsx')\n",
    "\n",
    "df_count = df_nb_client_univ.groupby(['DEPARTEMENT', 'DEPARTEMENT_NIV2']).agg({'COUNT_CLIENT_UNIV':'first', 'COUNT_CLIENT_TOTAL':'first', 'PENETRATION':'first'}).unstack()\n",
    "\n",
    "for univ in ['BEBE', 'CHAMBRE_ET_LITERIE', 'CHAU', 'DECO', 'FM', 'JOUETS',\n",
    "       'KIDS_AUTRE', 'NON_PAP_ENFANT', 'PAP_FILLE', 'PAP_GARCON', 'PUERI',\n",
    "       'TEXTILE_HOME']:\n",
    "    print('Average penetration of '+univ+' in France: ')\n",
    "    print(df_count['COUNT_CLIENT_UNIV',univ].sum()/df_count['COUNT_CLIENT_TOTAL',univ].sum())\n",
    "\n",
    "df_ubd = df_ubd[df_ubd.notna()]"
   ]
  },
  {
   "cell_type": "code",
   "execution_count": 46,
   "id": "12851d82-210e-4c29-a686-f890be74a7cc",
   "metadata": {},
   "outputs": [],
   "source": [
    "df_ubd = df.groupby(['DEPARTEMENT', 'DEPARTEMENT_NIV2']).agg({'DN':sum}).unstack()"
   ]
  },
  {
   "cell_type": "code",
   "execution_count": null,
   "id": "ae16119a",
   "metadata": {},
   "outputs": [],
   "source": [
    "df_ubd.to_excel('./Vertbaudet/France/Output/univ_by_dep_year_17_20.xlsx')"
   ]
  },
  {
   "cell_type": "markdown",
   "id": "a6da0f8e",
   "metadata": {},
   "source": [
    "### LTV by dep"
   ]
  },
  {
   "cell_type": "code",
   "execution_count": null,
   "id": "1e44375c",
   "metadata": {},
   "outputs": [],
   "source": [
    "import datetime\n",
    "from datetime import datetime, time ,date ,timedelta\n",
    "\n",
    "# Add DAT_12 and DAT_14 column\n",
    "df['DAT_12'] = df['DATPREMCDEWEB'] + timedelta(days=365)\n",
    "df['DAT_24'] = df['DATPREMCDEWEB'] + timedelta(days=730)\n",
    "\n",
    "### Add LTV_12 column\n",
    "df_ltv_12 = df[df['DATCDE']<=df['DAT_12']][['IDIND', 'DN']]\n",
    "df_ltv_12 = df_ltv_12.groupby('IDIND').agg({'DN': sum})\n",
    "df_ltv_12 = df_ltv_12.rename(columns = {'DN': 'LTV_12'})\n",
    "print(df_ltv_12['LTV_12'].mean())\n",
    "df = df.merge(df_ltv_12, how = 'left', on = 'IDIND')\n",
    "\n",
    "del df_ltv_12\n",
    "\n",
    "### Add LTV_24 column\n",
    "df_ltv_24 = df[df['DATCDE']<=df['DAT_24']][['IDIND', 'DN']]\n",
    "df_ltv_24 = df_ltv_24.groupby('IDIND').agg({'DN': sum})\n",
    "df_ltv_24 = df_ltv_24.rename(columns = {'DN': 'LTV_24'})\n",
    "print(df_ltv_24['LTV_24'].mean())\n",
    "df = df.merge(df_ltv_24, how = 'left', on = 'IDIND')\n",
    "\n",
    "del df_ltv_24\n",
    "\n",
    "gc.collect()"
   ]
  },
  {
   "cell_type": "code",
   "execution_count": null,
   "id": "47692fa9",
   "metadata": {},
   "outputs": [],
   "source": [
    "df_LTV_12_by_dept = df[df['SENIORITY']>365].drop_duplicates('IDIND').groupby('DEPARTEMENT').agg({'LTV_12': 'mean'})\n",
    "df_LTV_12_by_dept.to_excel('./Vertbaudet/France/Output/'+today+'_ltv_12_by_dep.xlsx')"
   ]
  }
 ],
 "metadata": {
  "kernelspec": {
   "display_name": "Python 3",
   "language": "python",
   "name": "python3"
  },
  "language_info": {
   "codemirror_mode": {
    "name": "ipython",
    "version": 3
   },
   "file_extension": ".py",
   "mimetype": "text/x-python",
   "name": "python",
   "nbconvert_exporter": "python",
   "pygments_lexer": "ipython3",
   "version": "3.8.8"
  }
 },
 "nbformat": 4,
 "nbformat_minor": 5
}
