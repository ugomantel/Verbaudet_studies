{
 "cells": [
  {
   "cell_type": "code",
   "execution_count": 2,
   "metadata": {},
   "outputs": [],
   "source": [
    "import os\n",
    "import pandas as pd\n",
    "import numpy as np\n",
    "import matplotlib.pyplot as plt\n",
    "from matplotlib import ticker\n",
    "import matplotlib.dates as mdates\n",
    "from datetime import datetime, time ,date ,timedelta\n",
    "from dateutil.relativedelta import relativedelta\n",
    "import seaborn as sns\n",
    "from random import randint\n",
    "pd.options.mode.chained_assignment = None"
   ]
  },
  {
   "cell_type": "code",
   "execution_count": 3,
   "metadata": {},
   "outputs": [],
   "source": [
    "import warnings\n",
    "warnings.filterwarnings(\"ignore\")"
   ]
  },
  {
   "cell_type": "markdown",
   "metadata": {},
   "source": [
    "<h1> Functions </h1>"
   ]
  },
  {
   "cell_type": "markdown",
   "metadata": {},
   "source": [
    "<h3> Fonctions générales </h3>"
   ]
  },
  {
   "cell_type": "code",
   "execution_count": 4,
   "metadata": {},
   "outputs": [],
   "source": [
    "def floatise (df, list_columns_to_floatise):\n",
    "    for i in list_columns_to_floatise:\n",
    "        df[i] = df[i].apply(lambda x: float(x.replace(',','.')))\n",
    "    return (df)"
   ]
  },
  {
   "cell_type": "code",
   "execution_count": 5,
   "metadata": {},
   "outputs": [],
   "source": [
    "def intise (df, list_columns_to_floatise):\n",
    "    for i in list_columns_to_floatise:\n",
    "        df[i] = df[i].astype(int)\n",
    "    return (df)"
   ]
  },
  {
   "cell_type": "code",
   "execution_count": 6,
   "metadata": {},
   "outputs": [],
   "source": [
    "def flatten (table):\n",
    "    if type(table.columns)==pd.MultiIndex:\n",
    "        columns_to_look = [name_tmp for name_tmp in table.columns]\n",
    "\n",
    "        columns_df = [ str(t[0])+'_'+str(t[1]) for t in columns_to_look]\n",
    "        columns_df.insert(0,table.index.name)\n",
    "\n",
    "        df = pd.DataFrame(columns = columns_df)\n",
    "\n",
    "        index = 0\n",
    "        for i in table.index:\n",
    "            row = [table[r][i] for r in columns_to_look]\n",
    "            row.insert(0,i)\n",
    "            df.loc[index] = row\n",
    "            index = index + 1\n",
    "        return(df)\n",
    "    else :\n",
    "        table = pd.DataFrame(table)\n",
    "        table.reset_index(level=0, inplace=True)\n",
    "        return table"
   ]
  },
  {
   "cell_type": "code",
   "execution_count": 7,
   "metadata": {},
   "outputs": [],
   "source": [
    "def flatten_soft(dataframe):\n",
    "    res = pd.DataFrame()\n",
    "    res[dataframe.index.name] = dataframe.index\n",
    "    for col in dataframe.columns:\n",
    "        name_tmp=\"\"\n",
    "        for i in range(len(dataframe.columns[0])):\n",
    "            name_tmp = name_tmp +'_'+str(col[i])\n",
    "        res[str(name_tmp)] = dataframe[col].values\n",
    "    return res"
   ]
  },
  {
   "cell_type": "markdown",
   "metadata": {},
   "source": [
    "<h3> Fonctions particulières </h3>"
   ]
  },
  {
   "cell_type": "code",
   "execution_count": 8,
   "metadata": {},
   "outputs": [],
   "source": [
    "def cohort_attribution (x):\n",
    "    if (x<2017):\n",
    "        return 2016\n",
    "    else :\n",
    "        return x"
   ]
  },
  {
   "cell_type": "code",
   "execution_count": 9,
   "metadata": {},
   "outputs": [],
   "source": [
    "def customer_category_attribution(x):\n",
    "    if x==1:\n",
    "        return 'One-timer'\n",
    "    if x==2:\n",
    "        return 'Two-timer'\n",
    "    else:\n",
    "        return 'Recurring'"
   ]
  },
  {
   "cell_type": "code",
   "execution_count": 10,
   "metadata": {},
   "outputs": [],
   "source": [
    "def describe_discount(x):\n",
    "    if x<5:\n",
    "        return '<5%'\n",
    "    if (x>=5) and (x<10):\n",
    "        return( '5-10%')\n",
    "    if (x>=10) and (x<20):\n",
    "        return( '10-20%')\n",
    "    if (x>=20) and (x<30):\n",
    "        return( '20-30%')\n",
    "    if (x>=30) and (x<40):\n",
    "        return( '30-40%')\n",
    "    if (x>=40) and (x<50):\n",
    "        return( '40-50%')\n",
    "    if (x>=50) and (x<60):\n",
    "        return( '50-60%')\n",
    "    if (x>=60) and (x<70):\n",
    "        return( '60-70%')\n",
    "    if (x>=70):\n",
    "        return( '>70%')            "
   ]
  },
  {
   "cell_type": "markdown",
   "metadata": {},
   "source": [
    "<h1> Dataset creation </h1>"
   ]
  },
  {
   "cell_type": "markdown",
   "metadata": {},
   "source": [
    "- Définition des répertoires :"
   ]
  },
  {
   "cell_type": "code",
   "execution_count": 11,
   "metadata": {},
   "outputs": [],
   "source": [
    "backup_rep = \"C:/Users/UgoMANTEL/Work/Github/Vertbaudet_2021/data/4. Back-up\"\n",
    "output_rep = \"C:/Users/UgoMANTEL/eleven/Engagements - Vertbaudet/5. Analyses/3. Outputs python\""
   ]
  },
  {
   "cell_type": "markdown",
   "metadata": {},
   "source": [
    "<h3> Import du dataset </h3>"
   ]
  },
  {
   "cell_type": "markdown",
   "metadata": {},
   "source": [
    "- Création de la donnée:"
   ]
  },
  {
   "cell_type": "code",
   "execution_count": 12,
   "metadata": {},
   "outputs": [],
   "source": [
    "df = pd.read_csv(os.path.join(backup_rep,'Raw_Data_Germany.csv'),sep=\";\")\n",
    "df.drop(columns=['Unnamed: 0'],inplace=True)"
   ]
  },
  {
   "cell_type": "markdown",
   "metadata": {},
   "source": [
    "- Conversion des champs:"
   ]
  },
  {
   "cell_type": "code",
   "execution_count": 13,
   "metadata": {},
   "outputs": [],
   "source": [
    "df['DATERF'] = pd.to_datetime(df.DATERF)\n",
    "df['DATAUFTRAG1'] = pd.to_datetime(df.DATAUFTRAG1)\n",
    "df['DATAUFTRAG1_12MONTH'] = pd.to_datetime(df.DATAUFTRAG1_12MONTH)\n",
    "df['DATAUFTRAG1_24MONTH'] = pd.to_datetime(df.DATAUFTRAG1_24MONTH)"
   ]
  },
  {
   "cell_type": "code",
   "execution_count": 14,
   "metadata": {},
   "outputs": [],
   "source": [
    "# df"
   ]
  },
  {
   "cell_type": "markdown",
   "metadata": {},
   "source": [
    "<h3> Rajout du nombre de commandes </h3>"
   ]
  },
  {
   "cell_type": "code",
   "execution_count": 15,
   "metadata": {},
   "outputs": [],
   "source": [
    "nb_order =  flatten(df.sort_values(by='DATERF',ascending=True).groupby(['ID_ORDER']).agg({'KDNR':'last'}))\n",
    "nb_order['ORDER_NUMBER'] = nb_order.groupby(['KDNR']).cumcount()+1\n",
    "df = pd.merge(df,nb_order[['ID_ORDER','ORDER_NUMBER']],on='ID_ORDER',how='left')"
   ]
  },
  {
   "cell_type": "markdown",
   "metadata": {},
   "source": [
    "<h3> Rajout de l'opt-in </h3>"
   ]
  },
  {
   "cell_type": "markdown",
   "metadata": {},
   "source": [
    "- Import opt-in:"
   ]
  },
  {
   "cell_type": "code",
   "execution_count": 16,
   "metadata": {},
   "outputs": [
    {
     "data": {
      "text/html": [
       "<div>\n",
       "<style scoped>\n",
       "    .dataframe tbody tr th:only-of-type {\n",
       "        vertical-align: middle;\n",
       "    }\n",
       "\n",
       "    .dataframe tbody tr th {\n",
       "        vertical-align: top;\n",
       "    }\n",
       "\n",
       "    .dataframe thead th {\n",
       "        text-align: right;\n",
       "    }\n",
       "</style>\n",
       "<table border=\"1\" class=\"dataframe\">\n",
       "  <thead>\n",
       "    <tr style=\"text-align: right;\">\n",
       "      <th></th>\n",
       "      <th>KDNR</th>\n",
       "      <th>EMAIL</th>\n",
       "      <th>DAT_REG</th>\n",
       "      <th>NLFREQ</th>\n",
       "      <th>DAT_DOI</th>\n",
       "      <th>DAT_MATCH</th>\n",
       "    </tr>\n",
       "  </thead>\n",
       "  <tbody>\n",
       "    <tr>\n",
       "      <th>676908</th>\n",
       "      <td>8651704</td>\n",
       "      <td>nicole_schittenhelm@web.de</td>\n",
       "      <td>2014-06-27 00:00:00</td>\n",
       "      <td>1 Newsletter pro Monat</td>\n",
       "      <td>2018-05-18 00:00:00</td>\n",
       "      <td>2019-08-07 00:00:00</td>\n",
       "    </tr>\n",
       "    <tr>\n",
       "      <th>3631415</th>\n",
       "      <td>11507410</td>\n",
       "      <td>sahrasong@web.de</td>\n",
       "      <td>2014-06-27 00:00:00</td>\n",
       "      <td>Alle Newsletter</td>\n",
       "      <td>2018-05-18 00:00:00</td>\n",
       "      <td>2019-08-07 00:00:00</td>\n",
       "    </tr>\n",
       "    <tr>\n",
       "      <th>2420249</th>\n",
       "      <td>27942076</td>\n",
       "      <td>dirk.bachmeier@gmx.de</td>\n",
       "      <td>2018-03-30 00:00:00</td>\n",
       "      <td>Alle Newsletter</td>\n",
       "      <td>2018-05-18 00:00:00</td>\n",
       "      <td>2019-08-07 00:00:00</td>\n",
       "    </tr>\n",
       "    <tr>\n",
       "      <th>1705357</th>\n",
       "      <td>2050008</td>\n",
       "      <td>sandra-sunshine@gmx.de</td>\n",
       "      <td>2014-06-27 00:00:00</td>\n",
       "      <td>Alle Newsletter</td>\n",
       "      <td>2018-05-18 00:00:00</td>\n",
       "      <td>2019-08-07 00:00:00</td>\n",
       "    </tr>\n",
       "    <tr>\n",
       "      <th>2421760</th>\n",
       "      <td>27945744</td>\n",
       "      <td>dsteinerx@gmail.com</td>\n",
       "      <td>2018-04-03 00:00:00</td>\n",
       "      <td>Alle Newsletter</td>\n",
       "      <td>2018-05-18 00:00:00</td>\n",
       "      <td>2019-08-07 00:00:00</td>\n",
       "    </tr>\n",
       "    <tr>\n",
       "      <th>...</th>\n",
       "      <td>...</td>\n",
       "      <td>...</td>\n",
       "      <td>...</td>\n",
       "      <td>...</td>\n",
       "      <td>...</td>\n",
       "      <td>...</td>\n",
       "    </tr>\n",
       "    <tr>\n",
       "      <th>19612466</th>\n",
       "      <td>16844015</td>\n",
       "      <td>w.piechottka@gmx.de</td>\n",
       "      <td>2014-08-11 00:00:00</td>\n",
       "      <td>Alle Newsletter</td>\n",
       "      <td>2021-10-01 00:00:00</td>\n",
       "      <td>2021-10-01 00:00:00</td>\n",
       "    </tr>\n",
       "    <tr>\n",
       "      <th>19612465</th>\n",
       "      <td>16843957</td>\n",
       "      <td>t.barisic@gmx.net</td>\n",
       "      <td>2016-01-13 00:00:00</td>\n",
       "      <td>Alle Newsletter</td>\n",
       "      <td>2021-10-01 00:00:00</td>\n",
       "      <td>2021-10-01 00:00:00</td>\n",
       "    </tr>\n",
       "    <tr>\n",
       "      <th>19612464</th>\n",
       "      <td>16843701</td>\n",
       "      <td>yvonnejaeger@gmx.net</td>\n",
       "      <td>2020-01-11 00:00:00</td>\n",
       "      <td>Alle Newsletter</td>\n",
       "      <td>2021-10-01 00:00:00</td>\n",
       "      <td>2021-10-01 00:00:00</td>\n",
       "    </tr>\n",
       "    <tr>\n",
       "      <th>19612477</th>\n",
       "      <td>16845143</td>\n",
       "      <td>bodo_bodo1@gmx.de</td>\n",
       "      <td>2014-06-27 00:00:00</td>\n",
       "      <td>Alle Newsletter</td>\n",
       "      <td>2021-10-01 00:00:00</td>\n",
       "      <td>2021-10-01 00:00:00</td>\n",
       "    </tr>\n",
       "    <tr>\n",
       "      <th>19951890</th>\n",
       "      <td>36000359</td>\n",
       "      <td>stefanie1390@gmx.de</td>\n",
       "      <td>2021-05-27 00:00:00</td>\n",
       "      <td>Alle Newsletter</td>\n",
       "      <td>2021-10-01 00:00:00</td>\n",
       "      <td>2021-10-01 00:00:00</td>\n",
       "    </tr>\n",
       "  </tbody>\n",
       "</table>\n",
       "<p>707065 rows × 6 columns</p>\n",
       "</div>"
      ],
      "text/plain": [
       "              KDNR                       EMAIL              DAT_REG  \\\n",
       "676908     8651704  nicole_schittenhelm@web.de  2014-06-27 00:00:00   \n",
       "3631415   11507410            sahrasong@web.de  2014-06-27 00:00:00   \n",
       "2420249   27942076       dirk.bachmeier@gmx.de  2018-03-30 00:00:00   \n",
       "1705357    2050008      sandra-sunshine@gmx.de  2014-06-27 00:00:00   \n",
       "2421760   27945744         dsteinerx@gmail.com  2018-04-03 00:00:00   \n",
       "...            ...                         ...                  ...   \n",
       "19612466  16844015         w.piechottka@gmx.de  2014-08-11 00:00:00   \n",
       "19612465  16843957           t.barisic@gmx.net  2016-01-13 00:00:00   \n",
       "19612464  16843701        yvonnejaeger@gmx.net  2020-01-11 00:00:00   \n",
       "19612477  16845143           bodo_bodo1@gmx.de  2014-06-27 00:00:00   \n",
       "19951890  36000359         stefanie1390@gmx.de  2021-05-27 00:00:00   \n",
       "\n",
       "                          NLFREQ              DAT_DOI            DAT_MATCH  \n",
       "676908    1 Newsletter pro Monat  2018-05-18 00:00:00  2019-08-07 00:00:00  \n",
       "3631415          Alle Newsletter  2018-05-18 00:00:00  2019-08-07 00:00:00  \n",
       "2420249          Alle Newsletter  2018-05-18 00:00:00  2019-08-07 00:00:00  \n",
       "1705357          Alle Newsletter  2018-05-18 00:00:00  2019-08-07 00:00:00  \n",
       "2421760          Alle Newsletter  2018-05-18 00:00:00  2019-08-07 00:00:00  \n",
       "...                          ...                  ...                  ...  \n",
       "19612466         Alle Newsletter  2021-10-01 00:00:00  2021-10-01 00:00:00  \n",
       "19612465         Alle Newsletter  2021-10-01 00:00:00  2021-10-01 00:00:00  \n",
       "19612464         Alle Newsletter  2021-10-01 00:00:00  2021-10-01 00:00:00  \n",
       "19612477         Alle Newsletter  2021-10-01 00:00:00  2021-10-01 00:00:00  \n",
       "19951890         Alle Newsletter  2021-10-01 00:00:00  2021-10-01 00:00:00  \n",
       "\n",
       "[707065 rows x 6 columns]"
      ]
     },
     "execution_count": 16,
     "metadata": {},
     "output_type": "execute_result"
    }
   ],
   "source": [
    "df_optin = pd.read_csv('C:/Users/UgoMANTEL/Work/Github/Vertbaudet_2021/data/3. Other/20211012_GER_MATCHING.csv',sep=\",\")\n",
    "df_optin = df_optin.sort_values(by='DAT_DOI',ascending=True).drop_duplicates(subset='KDNR', keep='last',inplace=False)\n",
    "df_optin"
   ]
  },
  {
   "cell_type": "markdown",
   "metadata": {},
   "source": [
    "- Merge:"
   ]
  },
  {
   "cell_type": "code",
   "execution_count": 17,
   "metadata": {},
   "outputs": [],
   "source": [
    "df = pd.merge(df,df_optin,on='KDNR',how='left')\n",
    "df = df.loc[df.EMAIL.isnull()==False]"
   ]
  },
  {
   "cell_type": "code",
   "execution_count": 18,
   "metadata": {},
   "outputs": [
    {
     "data": {
      "text/plain": [
       "2833093"
      ]
     },
     "execution_count": 18,
     "metadata": {},
     "output_type": "execute_result"
    }
   ],
   "source": [
    "len(df)"
   ]
  },
  {
   "cell_type": "markdown",
   "metadata": {},
   "source": [
    "<h3> Rajout de l'univers majoritaire </h3>"
   ]
  },
  {
   "cell_type": "markdown",
   "metadata": {},
   "source": [
    "- Obtention de l'univers majoritaire:"
   ]
  },
  {
   "cell_type": "code",
   "execution_count": 19,
   "metadata": {},
   "outputs": [
    {
     "data": {
      "text/html": [
       "<div>\n",
       "<style scoped>\n",
       "    .dataframe tbody tr th:only-of-type {\n",
       "        vertical-align: middle;\n",
       "    }\n",
       "\n",
       "    .dataframe tbody tr th {\n",
       "        vertical-align: top;\n",
       "    }\n",
       "\n",
       "    .dataframe thead th {\n",
       "        text-align: right;\n",
       "    }\n",
       "</style>\n",
       "<table border=\"1\" class=\"dataframe\">\n",
       "  <thead>\n",
       "    <tr style=\"text-align: right;\">\n",
       "      <th></th>\n",
       "      <th>KDNR</th>\n",
       "      <th>DEPARTEMENT</th>\n",
       "      <th>NET_DEMAND</th>\n",
       "    </tr>\n",
       "  </thead>\n",
       "  <tbody>\n",
       "    <tr>\n",
       "      <th>0</th>\n",
       "      <td>8956580</td>\n",
       "      <td>PAP GARCON</td>\n",
       "      <td>129.98</td>\n",
       "    </tr>\n",
       "    <tr>\n",
       "      <th>1</th>\n",
       "      <td>25000785</td>\n",
       "      <td>BEBE</td>\n",
       "      <td>67.98</td>\n",
       "    </tr>\n",
       "    <tr>\n",
       "      <th>2</th>\n",
       "      <td>25000785</td>\n",
       "      <td>NON PAP ENFANT</td>\n",
       "      <td>32.08</td>\n",
       "    </tr>\n",
       "    <tr>\n",
       "      <th>3</th>\n",
       "      <td>25000785</td>\n",
       "      <td>PAP GARCON</td>\n",
       "      <td>651.88</td>\n",
       "    </tr>\n",
       "    <tr>\n",
       "      <th>4</th>\n",
       "      <td>25000785</td>\n",
       "      <td>TEXTILE HOME</td>\n",
       "      <td>7.99</td>\n",
       "    </tr>\n",
       "    <tr>\n",
       "      <th>...</th>\n",
       "      <td>...</td>\n",
       "      <td>...</td>\n",
       "      <td>...</td>\n",
       "    </tr>\n",
       "    <tr>\n",
       "      <th>614302</th>\n",
       "      <td>34174676</td>\n",
       "      <td>NON PAP ENFANT</td>\n",
       "      <td>12.66</td>\n",
       "    </tr>\n",
       "    <tr>\n",
       "      <th>614303</th>\n",
       "      <td>34174676</td>\n",
       "      <td>PAP GARCON</td>\n",
       "      <td>78.89</td>\n",
       "    </tr>\n",
       "    <tr>\n",
       "      <th>614304</th>\n",
       "      <td>34174705</td>\n",
       "      <td>TEXTILE HOME</td>\n",
       "      <td>62.36</td>\n",
       "    </tr>\n",
       "    <tr>\n",
       "      <th>614305</th>\n",
       "      <td>34174713</td>\n",
       "      <td>DECO</td>\n",
       "      <td>103.90</td>\n",
       "    </tr>\n",
       "    <tr>\n",
       "      <th>614306</th>\n",
       "      <td>34174713</td>\n",
       "      <td>TEXTILE HOME</td>\n",
       "      <td>102.69</td>\n",
       "    </tr>\n",
       "  </tbody>\n",
       "</table>\n",
       "<p>614307 rows × 3 columns</p>\n",
       "</div>"
      ],
      "text/plain": [
       "            KDNR     DEPARTEMENT  NET_DEMAND\n",
       "0        8956580      PAP GARCON      129.98\n",
       "1       25000785            BEBE       67.98\n",
       "2       25000785  NON PAP ENFANT       32.08\n",
       "3       25000785      PAP GARCON      651.88\n",
       "4       25000785    TEXTILE HOME        7.99\n",
       "...          ...             ...         ...\n",
       "614302  34174676  NON PAP ENFANT       12.66\n",
       "614303  34174676      PAP GARCON       78.89\n",
       "614304  34174705    TEXTILE HOME       62.36\n",
       "614305  34174713            DECO      103.90\n",
       "614306  34174713    TEXTILE HOME      102.69\n",
       "\n",
       "[614307 rows x 3 columns]"
      ]
     },
     "execution_count": 19,
     "metadata": {},
     "output_type": "execute_result"
    }
   ],
   "source": [
    "univ_maj = df.groupby(['KDNR','DEPARTEMENT']).agg({'NET_DEMAND' : 'sum'})\n",
    "univ_maj.reset_index(inplace=True)\n",
    "univ_maj"
   ]
  },
  {
   "cell_type": "code",
   "execution_count": 20,
   "metadata": {},
   "outputs": [],
   "source": [
    "univ_maj = univ_maj.sort_values(by='NET_DEMAND',ascending=False).drop_duplicates(subset='KDNR', keep='first',inplace=False)\n",
    "univ_maj.columns =['KDNR','DEPARTEMENT_MAJORITAIRE','NET_DEMAND']"
   ]
  },
  {
   "cell_type": "markdown",
   "metadata": {},
   "source": [
    "- Merge:"
   ]
  },
  {
   "cell_type": "code",
   "execution_count": 21,
   "metadata": {},
   "outputs": [],
   "source": [
    "df = pd.merge(df,univ_maj[['KDNR','DEPARTEMENT_MAJORITAIRE']],on='KDNR',how='left')"
   ]
  },
  {
   "cell_type": "markdown",
   "metadata": {},
   "source": [
    "<h3> Extract </h3>"
   ]
  },
  {
   "cell_type": "code",
   "execution_count": 24,
   "metadata": {},
   "outputs": [
    {
     "data": {
      "text/html": [
       "<div>\n",
       "<style scoped>\n",
       "    .dataframe tbody tr th:only-of-type {\n",
       "        vertical-align: middle;\n",
       "    }\n",
       "\n",
       "    .dataframe tbody tr th {\n",
       "        vertical-align: top;\n",
       "    }\n",
       "\n",
       "    .dataframe thead th {\n",
       "        text-align: right;\n",
       "    }\n",
       "</style>\n",
       "<table border=\"1\" class=\"dataframe\">\n",
       "  <thead>\n",
       "    <tr style=\"text-align: right;\">\n",
       "      <th></th>\n",
       "      <th>KDNR</th>\n",
       "      <th>EMAIL</th>\n",
       "      <th>DEPARTEMENT_FIRST</th>\n",
       "      <th>DEPARTEMENT_MAJORITAIRE</th>\n",
       "      <th>MONTH_RECRUITMENT</th>\n",
       "      <th>COHORT</th>\n",
       "      <th>CLIENT_CATEGORY</th>\n",
       "      <th>DATE_LAST_PURCHASE</th>\n",
       "    </tr>\n",
       "  </thead>\n",
       "  <tbody>\n",
       "    <tr>\n",
       "      <th>590</th>\n",
       "      <td>25397160</td>\n",
       "      <td>nicole-schubert@web.de</td>\n",
       "      <td>CHAMBRE ET LITERIE</td>\n",
       "      <td>CHAMBRE ET LITERIE</td>\n",
       "      <td>1</td>\n",
       "      <td>2017</td>\n",
       "      <td>One-timer</td>\n",
       "      <td>2017-01-01</td>\n",
       "    </tr>\n",
       "    <tr>\n",
       "      <th>573</th>\n",
       "      <td>25378030</td>\n",
       "      <td>vogel_sandra@bluewin.ch</td>\n",
       "      <td>DECO</td>\n",
       "      <td>DECO</td>\n",
       "      <td>1</td>\n",
       "      <td>2017</td>\n",
       "      <td>One-timer</td>\n",
       "      <td>2017-01-01</td>\n",
       "    </tr>\n",
       "    <tr>\n",
       "      <th>491</th>\n",
       "      <td>25398523</td>\n",
       "      <td>marina.helwig@gmx.de</td>\n",
       "      <td>TEXTILE HOME</td>\n",
       "      <td>TEXTILE HOME</td>\n",
       "      <td>1</td>\n",
       "      <td>2017</td>\n",
       "      <td>One-timer</td>\n",
       "      <td>2017-01-01</td>\n",
       "    </tr>\n",
       "    <tr>\n",
       "      <th>459</th>\n",
       "      <td>25398687</td>\n",
       "      <td>sophia.suenboldt@gmx.de</td>\n",
       "      <td>BEBE</td>\n",
       "      <td>BEBE</td>\n",
       "      <td>1</td>\n",
       "      <td>2017</td>\n",
       "      <td>One-timer</td>\n",
       "      <td>2017-01-01</td>\n",
       "    </tr>\n",
       "    <tr>\n",
       "      <th>464</th>\n",
       "      <td>25398638</td>\n",
       "      <td>sjensen83@gmx.de</td>\n",
       "      <td>FEMME</td>\n",
       "      <td>FEMME</td>\n",
       "      <td>1</td>\n",
       "      <td>2017</td>\n",
       "      <td>One-timer</td>\n",
       "      <td>2017-01-01</td>\n",
       "    </tr>\n",
       "    <tr>\n",
       "      <th>...</th>\n",
       "      <td>...</td>\n",
       "      <td>...</td>\n",
       "      <td>...</td>\n",
       "      <td>...</td>\n",
       "      <td>...</td>\n",
       "      <td>...</td>\n",
       "      <td>...</td>\n",
       "      <td>...</td>\n",
       "    </tr>\n",
       "    <tr>\n",
       "      <th>1636873</th>\n",
       "      <td>29794438</td>\n",
       "      <td>karin-h.mueller@gmx.de</td>\n",
       "      <td>CHAMBRE ET LITERIE</td>\n",
       "      <td>CHAMBRE ET LITERIE</td>\n",
       "      <td>2</td>\n",
       "      <td>2019</td>\n",
       "      <td>Recurring</td>\n",
       "      <td>2021-09-14</td>\n",
       "    </tr>\n",
       "    <tr>\n",
       "      <th>2129959</th>\n",
       "      <td>33744457</td>\n",
       "      <td>barth.benny87@googlemail.com</td>\n",
       "      <td>JOUETS</td>\n",
       "      <td>BEBE</td>\n",
       "      <td>11</td>\n",
       "      <td>2020</td>\n",
       "      <td>Recurring</td>\n",
       "      <td>2021-09-14</td>\n",
       "    </tr>\n",
       "    <tr>\n",
       "      <th>1814967</th>\n",
       "      <td>30269540</td>\n",
       "      <td>halima1978@hotmail.de</td>\n",
       "      <td>FEMME</td>\n",
       "      <td>CHAMBRE ET LITERIE</td>\n",
       "      <td>6</td>\n",
       "      <td>2019</td>\n",
       "      <td>Recurring</td>\n",
       "      <td>2021-09-15</td>\n",
       "    </tr>\n",
       "    <tr>\n",
       "      <th>2220790</th>\n",
       "      <td>33570573</td>\n",
       "      <td>prassler.claudia@gmail.com</td>\n",
       "      <td>DECO</td>\n",
       "      <td>CHAMBRE ET LITERIE</td>\n",
       "      <td>11</td>\n",
       "      <td>2020</td>\n",
       "      <td>Two-timer</td>\n",
       "      <td>2021-09-15</td>\n",
       "    </tr>\n",
       "    <tr>\n",
       "      <th>1482877</th>\n",
       "      <td>27978990</td>\n",
       "      <td>simonaschuler@yahoo.com</td>\n",
       "      <td>BEBE</td>\n",
       "      <td>CHAUSSURE</td>\n",
       "      <td>4</td>\n",
       "      <td>2018</td>\n",
       "      <td>Recurring</td>\n",
       "      <td>2021-09-15</td>\n",
       "    </tr>\n",
       "  </tbody>\n",
       "</table>\n",
       "<p>234843 rows × 8 columns</p>\n",
       "</div>"
      ],
      "text/plain": [
       "             KDNR                         EMAIL   DEPARTEMENT_FIRST  \\\n",
       "590      25397160        nicole-schubert@web.de  CHAMBRE ET LITERIE   \n",
       "573      25378030       vogel_sandra@bluewin.ch                DECO   \n",
       "491      25398523          marina.helwig@gmx.de        TEXTILE HOME   \n",
       "459      25398687       sophia.suenboldt@gmx.de                BEBE   \n",
       "464      25398638              sjensen83@gmx.de               FEMME   \n",
       "...           ...                           ...                 ...   \n",
       "1636873  29794438        karin-h.mueller@gmx.de  CHAMBRE ET LITERIE   \n",
       "2129959  33744457  barth.benny87@googlemail.com              JOUETS   \n",
       "1814967  30269540         halima1978@hotmail.de               FEMME   \n",
       "2220790  33570573    prassler.claudia@gmail.com                DECO   \n",
       "1482877  27978990       simonaschuler@yahoo.com                BEBE   \n",
       "\n",
       "        DEPARTEMENT_MAJORITAIRE  MONTH_RECRUITMENT  COHORT CLIENT_CATEGORY  \\\n",
       "590          CHAMBRE ET LITERIE                  1    2017       One-timer   \n",
       "573                        DECO                  1    2017       One-timer   \n",
       "491                TEXTILE HOME                  1    2017       One-timer   \n",
       "459                        BEBE                  1    2017       One-timer   \n",
       "464                       FEMME                  1    2017       One-timer   \n",
       "...                         ...                ...     ...             ...   \n",
       "1636873      CHAMBRE ET LITERIE                  2    2019       Recurring   \n",
       "2129959                    BEBE                 11    2020       Recurring   \n",
       "1814967      CHAMBRE ET LITERIE                  6    2019       Recurring   \n",
       "2220790      CHAMBRE ET LITERIE                 11    2020       Two-timer   \n",
       "1482877               CHAUSSURE                  4    2018       Recurring   \n",
       "\n",
       "        DATE_LAST_PURCHASE  \n",
       "590             2017-01-01  \n",
       "573             2017-01-01  \n",
       "491             2017-01-01  \n",
       "459             2017-01-01  \n",
       "464             2017-01-01  \n",
       "...                    ...  \n",
       "1636873         2021-09-14  \n",
       "2129959         2021-09-14  \n",
       "1814967         2021-09-15  \n",
       "2220790         2021-09-15  \n",
       "1482877         2021-09-15  \n",
       "\n",
       "[234843 rows x 8 columns]"
      ]
     },
     "execution_count": 24,
     "metadata": {},
     "output_type": "execute_result"
    }
   ],
   "source": [
    "extract = df[['KDNR','EMAIL','DEPARTEMENT_FIRST','DEPARTEMENT_MAJORITAIRE','MONTH_RECRUITMENT','COHORT','CLIENT_CATEGORY','DATERF']].sort_values(by='DATERF',ascending=True).drop_duplicates(subset='KDNR', keep='last',inplace=False)\n",
    "extract.columns =['KDNR','EMAIL','DEPARTEMENT_FIRST','DEPARTEMENT_MAJORITAIRE','MONTH_RECRUITMENT','COHORT','CLIENT_CATEGORY','DATE_LAST_PURCHASE']\n",
    "extract"
   ]
  },
  {
   "cell_type": "code",
   "execution_count": 25,
   "metadata": {},
   "outputs": [],
   "source": [
    "extract.to_csv(os.path.join(output_rep,'20211013_List_clients_survey_Germany.csv'),sep=\";\")"
   ]
  },
  {
   "cell_type": "code",
   "execution_count": null,
   "metadata": {},
   "outputs": [],
   "source": []
  }
 ],
 "metadata": {
  "kernelspec": {
   "display_name": "Python 3",
   "language": "python",
   "name": "python3"
  },
  "language_info": {
   "codemirror_mode": {
    "name": "ipython",
    "version": 3
   },
   "file_extension": ".py",
   "mimetype": "text/x-python",
   "name": "python",
   "nbconvert_exporter": "python",
   "pygments_lexer": "ipython3",
   "version": "3.7.7"
  }
 },
 "nbformat": 4,
 "nbformat_minor": 4
}
