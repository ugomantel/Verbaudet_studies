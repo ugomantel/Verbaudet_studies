{
 "cells": [
  {
   "cell_type": "code",
   "execution_count": 2,
   "metadata": {},
   "outputs": [],
   "source": [
    "import os\n",
    "import pandas as pd\n",
    "import numpy as np\n",
    "import matplotlib.pyplot as plt\n",
    "from matplotlib import ticker\n",
    "import matplotlib.dates as mdates\n",
    "from datetime import datetime, time ,date ,timedelta\n",
    "from dateutil.relativedelta import relativedelta\n",
    "import seaborn as sns\n",
    "pd.options.mode.chained_assignment = None"
   ]
  },
  {
   "cell_type": "code",
   "execution_count": 2,
   "metadata": {},
   "outputs": [],
   "source": [
    "import warnings\n",
    "warnings.filterwarnings(\"ignore\")"
   ]
  },
  {
   "cell_type": "markdown",
   "metadata": {},
   "source": [
    "<h1> Functions </h1>"
   ]
  },
  {
   "cell_type": "markdown",
   "metadata": {},
   "source": [
    "<h3> Fonctions générales </h3>"
   ]
  },
  {
   "cell_type": "code",
   "execution_count": 3,
   "metadata": {},
   "outputs": [],
   "source": [
    "def floatise (df, list_columns_to_floatise):\n",
    "    for i in list_columns_to_floatise:\n",
    "        df[i] = df[i].apply(lambda x: float(x.replace(',','.')))\n",
    "    return (df)"
   ]
  },
  {
   "cell_type": "code",
   "execution_count": 4,
   "metadata": {},
   "outputs": [],
   "source": [
    "def intise (df, list_columns_to_floatise):\n",
    "    for i in list_columns_to_floatise:\n",
    "        df[i] = df[i].astype(int)\n",
    "    return (df)"
   ]
  },
  {
   "cell_type": "code",
   "execution_count": 5,
   "metadata": {},
   "outputs": [],
   "source": [
    "def flatten (table):\n",
    "    if type(table.columns)==pd.MultiIndex:\n",
    "        columns_to_look = [name_tmp for name_tmp in table.columns]\n",
    "\n",
    "        columns_df = [ str(t[0])+'_'+str(t[1]) for t in columns_to_look]\n",
    "        columns_df.insert(0,table.index.name)\n",
    "\n",
    "        df = pd.DataFrame(columns = columns_df)\n",
    "\n",
    "        index = 0\n",
    "        for i in table.index:\n",
    "            row = [table[r][i] for r in columns_to_look]\n",
    "            row.insert(0,i)\n",
    "            df.loc[index] = row\n",
    "            index = index + 1\n",
    "        return(df)\n",
    "    else :\n",
    "        table = pd.DataFrame(table)\n",
    "        table.reset_index(level=0, inplace=True)\n",
    "        return table"
   ]
  },
  {
   "cell_type": "code",
   "execution_count": 6,
   "metadata": {},
   "outputs": [],
   "source": [
    "def flatten_soft(dataframe):\n",
    "    res = pd.DataFrame()\n",
    "    res[dataframe.index.name] = dataframe.index\n",
    "    for col in dataframe.columns:\n",
    "        name_tmp=\"\"\n",
    "        for i in range(len(dataframe.columns[0])):\n",
    "            name_tmp = name_tmp +'_'+str(col[i])\n",
    "        res[str(name_tmp)] = dataframe[col].values\n",
    "    return res"
   ]
  },
  {
   "cell_type": "markdown",
   "metadata": {},
   "source": [
    "<h3> Fonctions particulières </h3>"
   ]
  },
  {
   "cell_type": "code",
   "execution_count": 7,
   "metadata": {},
   "outputs": [],
   "source": [
    "def cohort_attribution (x):\n",
    "    if (x<2017):\n",
    "        return 2016\n",
    "    else :\n",
    "        return x"
   ]
  },
  {
   "cell_type": "code",
   "execution_count": 8,
   "metadata": {},
   "outputs": [],
   "source": [
    "def customer_category_attribution(x):\n",
    "    if x==1:\n",
    "        return 'One-timer'\n",
    "    if x==2:\n",
    "        return 'Two-timer'\n",
    "    else:\n",
    "        return 'Recurring'"
   ]
  },
  {
   "cell_type": "code",
   "execution_count": 9,
   "metadata": {},
   "outputs": [],
   "source": [
    "def describe_discount(x):\n",
    "    if x<5:\n",
    "        return '<5%'\n",
    "    if (x>=5) and (x<10):\n",
    "        return( '5-10%')\n",
    "    if (x>=10) and (x<20):\n",
    "        return( '10-20%')\n",
    "    if (x>=20) and (x<30):\n",
    "        return( '20-30%')\n",
    "    if (x>=30) and (x<40):\n",
    "        return( '30-40%')\n",
    "    if (x>=40) and (x<50):\n",
    "        return( '40-50%')\n",
    "    if (x>=50) and (x<60):\n",
    "        return( '50-60%')\n",
    "    if (x>=60) and (x<70):\n",
    "        return( '60-70%')\n",
    "    if (x>=70):\n",
    "        return( '>70%')            "
   ]
  },
  {
   "cell_type": "markdown",
   "metadata": {},
   "source": [
    "<h1> Dataset creation </h1>"
   ]
  },
  {
   "cell_type": "markdown",
   "metadata": {},
   "source": [
    "<h3> Import de la data </h3>"
   ]
  },
  {
   "cell_type": "code",
   "execution_count": 10,
   "metadata": {},
   "outputs": [
    {
     "name": "stdout",
     "output_type": "stream",
     "text": [
      "C:\\Users\\UgoMANTEL\\Work\\Github\\Vertbaudet_2021\\src\\notebooks\n"
     ]
    }
   ],
   "source": [
    "src_root = os.getcwd()\n",
    "print(src_root)"
   ]
  },
  {
   "cell_type": "markdown",
   "metadata": {},
   "source": [
    "- Préparation des colonnes:"
   ]
  },
  {
   "cell_type": "code",
   "execution_count": 11,
   "metadata": {},
   "outputs": [],
   "source": [
    "col_names = ['AUFTRNR','KDNR','ARTNRERF','WTR','ARTGRERF','DATERF','PREISERF','PREIS','EKP','PREISNET','RABATT','RABATTSATZ',\n",
    "             'MENGE','MENGERET','DEPARTEMENT','CAUFTRAGSPOS','MWST','MWSTRABATT','ANZKINDER','ANLAGEDAT',\n",
    "             'DATAUFTRAG1','STRASSE','PLZ','ORT','BUNDESLAND','CLAND','CWERBESP','DATWERBESP','CLIEFERSP','DATLIEFERSP',\n",
    "             'CADRESSSP','DATADRESSSP','UMSATZ1','DATLETZTAUFTR','UMSLETZTAUFTR','ANZKATLETZTAUFTR','WKOSTLETZTAUFTR',\n",
    "             'DBKDNR','WKOSTENKUM','UMSATZKUM','UMSATZKUMTEL','UMSATZKUMFAX','UMSATZKUMWEB','UMSATZLIEFKUM','RUECKSTAUFTR',\n",
    "             'ANZAUFTR','REFPRES','REFSTK','CODDOC','PLANEKP','RAYON','FAMILLE','DEPART','CODMARQ','ARTGROESSE','DATAUFTRAG',\n",
    "             'DATERFASSUNG','DATVERARB','GUTSCHEINWERT']"
   ]
  },
  {
   "cell_type": "code",
   "execution_count": 12,
   "metadata": {},
   "outputs": [],
   "source": [
    "dict_department = {'B':'BEBE','N':'PAP FILLE','U':'PAP GARCON','D':'CHAUSSURE','F':'FEMME',\n",
    "'T':'TEXTILE HOME','P':'PUERICULTURE','W':'NON PAP ENFANT','K':'DECO','M':'CHAMBRE ET LITERIE','R':'JOUETS'}"
   ]
  },
  {
   "cell_type": "markdown",
   "metadata": {},
   "source": [
    "<h3> Constitution du dataset </h3>"
   ]
  },
  {
   "cell_type": "markdown",
   "metadata": {},
   "source": [
    "- Définition des répertoires :"
   ]
  },
  {
   "cell_type": "code",
   "execution_count": 13,
   "metadata": {},
   "outputs": [],
   "source": [
    "repertoire = \"C:/Users/UgoMANTEL/Work/Github/Vertbaudet_2021/data/1. Germany\"\n",
    "output_rep = \"C:/Users/UgoMANTEL/eleven/Engagements - Vertbaudet/5. Analyses/3. Outputs python\"\n",
    "backup_rep = \"C:/Users/UgoMANTEL/Work/Github/Vertbaudet_2021/data/4. Back-up\""
   ]
  },
  {
   "cell_type": "markdown",
   "metadata": {},
   "source": [
    "- Choix des options"
   ]
  },
  {
   "cell_type": "code",
   "execution_count": 1,
   "metadata": {},
   "outputs": [],
   "source": [
    "import_data = False"
   ]
  },
  {
   "cell_type": "markdown",
   "metadata": {},
   "source": [
    "<h4> Création de la donnée: </h4>"
   ]
  },
  {
   "cell_type": "code",
   "execution_count": 15,
   "metadata": {},
   "outputs": [],
   "source": [
    "net_demand=True"
   ]
  },
  {
   "cell_type": "code",
   "execution_count": 17,
   "metadata": {},
   "outputs": [],
   "source": [
    "if import_data==False:\n",
    "    df = pd.DataFrame()\n",
    "\n",
    "    for file in os.listdir(repertoire):\n",
    "        file_name_tmp = os.path.join(repertoire,file)\n",
    "        df_tmp = pd.read_csv(file_name_tmp,sep=\",\",encoding= \"unicode_escape\", usecols=col_names)\n",
    "\n",
    "        df_tmp = df_tmp.loc[df_tmp.CAUFTRAGSPOS!='$null$']\n",
    "        df_tmp.CAUFTRAGSPOS = df_tmp.CAUFTRAGSPOS.astype(int)\n",
    "        df_tmp = df_tmp.loc[df_tmp.CAUFTRAGSPOS <= 7]\n",
    "\n",
    "        ################### CONVERSION DES CHAMPS ###################\n",
    "        df_tmp['DATERF'] = pd.to_datetime(df_tmp.DATERF)\n",
    "        df_tmp['DATAUFTRAG1'] = pd.to_datetime(df_tmp.DATAUFTRAG1)\n",
    "        df_tmp.DEPARTEMENT = df_tmp.DEPARTEMENT.map(dict_department) \n",
    "\n",
    "        ################### CREATION DES CHAMPS ###################\n",
    "        df_tmp['TOT_SALES'] = (df_tmp.PREIS - df_tmp.RABATT)*(df_tmp.MENGE - df_tmp.MENGERET)\n",
    "        df_tmp['NET_DEMAND'] = (df_tmp.PREIS - df_tmp.RABATT) * df_tmp.MENGE\n",
    "        df_tmp['GROSS_DEMAND'] = df_tmp.PREIS * df_tmp.MENGE\n",
    "        df_tmp['YEAR_FIRST_ORDER'] = df_tmp.DATAUFTRAG1.dt.year\n",
    "        df_tmp['YEAR_ORDER'] = df_tmp.DATERF.dt.year\n",
    "        df_tmp['COHORT'] = df_tmp.YEAR_FIRST_ORDER.apply(lambda x: cohort_attribution(x))\n",
    "        df_tmp['MONTH_RECRUITMENT'] = df_tmp.DATAUFTRAG1.dt.month\n",
    "        df_tmp['ID_ORDER'] = df_tmp.AUFTRNR.astype(str) + '_'+ df_tmp.KDNR.astype(str)\n",
    "\n",
    "        if net_demand:\n",
    "            cat_order = df_tmp.sort_values(by='NET_DEMAND',ascending=False).drop_duplicates(subset='ID_ORDER', keep='first',\n",
    "                                                                                            inplace=False)\n",
    "        else:\n",
    "            cat_order = df_tmp.sort_values(by='TOT_SALES',ascending=False).drop_duplicates(subset='ID_ORDER', keep='first',\n",
    "                                                                                            inplace=False)\n",
    "        cat_order = cat_order [['ID_ORDER','DEPARTEMENT']]\n",
    "        cat_order.columns = ['ID_ORDER','DEPARTEMENT_CMD']\n",
    "        df_tmp = pd.merge(df_tmp,cat_order,on='ID_ORDER',how='left',suffixes=(False,False))\n",
    "\n",
    "        df_tmp = df_tmp[['DATERF','DATAUFTRAG1','DEPARTEMENT','TOT_SALES','NET_DEMAND','GROSS_DEMAND',\n",
    "                        'YEAR_FIRST_ORDER','YEAR_ORDER','COHORT','MONTH_RECRUITMENT','ID_ORDER','KDNR','ARTNRERF',\n",
    "                         'DEPARTEMENT_CMD','RABATT','RABATTSATZ','PREIS','ANZKINDER','ARTGRERF','ARTGROESSE','CODMARQ']]\n",
    "        df = pd.concat([df,df_tmp])\n",
    "        del(df_tmp)\n",
    "\n",
    "\n",
    "    ################### CREATION DE CHAMPS ###################\n",
    "    ################### UNIVERS RECRUTEMENT\n",
    "    cat_rec = df.sort_values(by='DATERF',ascending=True).drop_duplicates(subset='KDNR', keep='first', inplace=False)[['KDNR','DEPARTEMENT_CMD']] \n",
    "    cat_rec.columns = ['KDNR','DEPARTEMENT_FIRST']\n",
    "    df = pd.merge(df,cat_rec,on='KDNR',how='left',suffixes=(False,False))\n",
    "\n",
    "    ################### DATE POUR LTV 12/24 MOIS\n",
    "    df['DATAUFTRAG1_12MONTH'] = df['DATAUFTRAG1']+ timedelta(days=365)\n",
    "    df['DATAUFTRAG1_24MONTH'] = df['DATAUFTRAG1']+ timedelta(days=730)\n",
    "\n",
    "    df = df.loc[(df.COHORT>=2017) & (df.COHORT<2021)]"
   ]
  },
  {
   "cell_type": "markdown",
   "metadata": {},
   "source": [
    "- Ajout du nombre de commande:"
   ]
  },
  {
   "cell_type": "code",
   "execution_count": 19,
   "metadata": {},
   "outputs": [],
   "source": [
    "if import_data==False:\n",
    "    nb_commande = flatten(df.groupby(['KDNR']).agg({'ID_ORDER':pd.Series.nunique}))\n",
    "    nb_commande.columns = ['KDNR','NB_ORDERS']\n",
    "    df = pd.merge(df,nb_commande,on='KDNR',how='left',suffixes=(False,False))\n",
    "\n",
    "    ########## Création des catégories\n",
    "    df['CLIENT_CATEGORY'] = df.NB_ORDERS.apply(lambda x: customer_category_attribution(x))"
   ]
  },
  {
   "cell_type": "markdown",
   "metadata": {},
   "source": [
    "- Export du dataset :"
   ]
  },
  {
   "cell_type": "code",
   "execution_count": 20,
   "metadata": {},
   "outputs": [],
   "source": [
    "if import_data==False:\n",
    "    df.to_csv(os.path.join('C:/Users/UgoMANTEL/Work/Github/Vertbaudet_2021/data/4. Back-up/Raw_Data_Germany.csv'),sep=\";\")"
   ]
  },
  {
   "cell_type": "markdown",
   "metadata": {},
   "source": [
    "<h4> Import de la donnée: </h4>"
   ]
  },
  {
   "cell_type": "code",
   "execution_count": 15,
   "metadata": {},
   "outputs": [],
   "source": [
    "if import_data:\n",
    "    df = pd.read_csv(os.path.join(backup_rep,'Raw_Data_Germany.csv'),sep=\";\")\n",
    "    df.drop(columns=['Unnamed: 0'],inplace=True)\n",
    "    \n",
    "    ########## Conversion des champs\n",
    "    df['DATERF'] = pd.to_datetime(df.DATERF)\n",
    "    df['DATAUFTRAG1'] = pd.to_datetime(df.DATAUFTRAG1)\n",
    "    df['DATAUFTRAG1_12MONTH'] = pd.to_datetime(df.DATAUFTRAG1_12MONTH)\n",
    "    df['DATAUFTRAG1_24MONTH'] = pd.to_datetime(df.DATAUFTRAG1_24MONTH)"
   ]
  },
  {
   "cell_type": "code",
   "execution_count": 16,
   "metadata": {},
   "outputs": [
    {
     "data": {
      "text/plain": [
       "Index(['DATERF', 'DATAUFTRAG1', 'DEPARTEMENT', 'TOT_SALES', 'NET_DEMAND',\n",
       "       'GROSS_DEMAND', 'YEAR_FIRST_ORDER', 'YEAR_ORDER', 'COHORT',\n",
       "       'MONTH_RECRUITMENT', 'ID_ORDER', 'KDNR', 'ARTNRERF', 'DEPARTEMENT_CMD',\n",
       "       'RABATT', 'RABATTSATZ', 'PREIS', 'ANZKINDER', 'ARTGRERF', 'ARTGROESSE',\n",
       "       'CODMARQ', 'DEPARTEMENT_FIRST', 'DATAUFTRAG1_12MONTH',\n",
       "       'DATAUFTRAG1_24MONTH', 'NB_ORDERS', 'CLIENT_CATEGORY'],\n",
       "      dtype='object')"
      ]
     },
     "execution_count": 16,
     "metadata": {},
     "output_type": "execute_result"
    }
   ],
   "source": [
    "df.columns"
   ]
  },
  {
   "cell_type": "markdown",
   "metadata": {},
   "source": [
    "<h4> Autre tâches: </h4>"
   ]
  },
  {
   "cell_type": "markdown",
   "metadata": {},
   "source": [
    "- Export carte Pierrick :"
   ]
  },
  {
   "cell_type": "code",
   "execution_count": 37,
   "metadata": {},
   "outputs": [],
   "source": [
    "export_carte = flatten(df.groupby(['KDNR']).agg({'CLIENT_CATEGORY':'last'}))\n",
    "export_carte.to_csv(os.path.join(output_rep,'ClientsCategory_Germany.csv'),sep=\";\")"
   ]
  },
  {
   "cell_type": "markdown",
   "metadata": {},
   "source": [
    "- Import du discount:"
   ]
  },
  {
   "cell_type": "code",
   "execution_count": 21,
   "metadata": {},
   "outputs": [],
   "source": [
    "df_base_price = pd.read_csv('C:/Users/UgoMANTEL/Work/Github/Vertbaudet_2021/data/3. Other/20210928_DiscountGER.csv')"
   ]
  },
  {
   "cell_type": "code",
   "execution_count": 25,
   "metadata": {},
   "outputs": [],
   "source": [
    "df_base_price = df_base_price.drop_duplicates(subset=['ARTNR'], keep='last')"
   ]
  },
  {
   "cell_type": "markdown",
   "metadata": {},
   "source": [
    "- Ajout du numcmde var 38:"
   ]
  },
  {
   "cell_type": "code",
   "execution_count": 28,
   "metadata": {},
   "outputs": [],
   "source": [
    "df_numcde = pd.read_csv(\"C:/Users/UgoMANTEL/Work/Github/Vertbaudet_2021/data/3. Other/20211001_NUM_CMD_CANAL_GER.csv\",sep=\",\",encoding= \"unicode_escape\")\n",
    "df_numcde['ID_ORDER'] = df_numcde.AUFTNR.astype(str) + '_'+ df_numcde.KDNR.astype(str)\n",
    "df = pd.merge(df,df_numcde[['ID_ORDER','BELEGSTAPELNR']],on='ID_ORDER',how='left',suffixes=(False,False))\n",
    "del(df_numcde)"
   ]
  },
  {
   "cell_type": "markdown",
   "metadata": {},
   "source": [
    "- Check de cohérence:"
   ]
  },
  {
   "cell_type": "code",
   "execution_count": 69,
   "metadata": {},
   "outputs": [
    {
     "name": "stdout",
     "output_type": "stream",
     "text": [
      "% Lines with no BELEGSTAPELNR :0.4%\n"
     ]
    }
   ],
   "source": [
    "print('% Lines with no BELEGSTAPELNR :' +str(round(100*len(df.loc[df.BELEGSTAPELNR == '$null$'])/len(df),1))+'%')"
   ]
  },
  {
   "cell_type": "code",
   "execution_count": 70,
   "metadata": {},
   "outputs": [
    {
     "name": "stdout",
     "output_type": "stream",
     "text": [
      "% Orders with no BELEGSTAPELNR :0.4%\n"
     ]
    }
   ],
   "source": [
    "print('% Orders with no BELEGSTAPELNR :' +str(round(100*len(df.loc[df.BELEGSTAPELNR == '$null$'].ID_ORDER.unique())/len(df.ID_ORDER.unique()),1))+'%')"
   ]
  },
  {
   "cell_type": "markdown",
   "metadata": {},
   "source": [
    "<h1> Analyses </h1>"
   ]
  },
  {
   "cell_type": "markdown",
   "metadata": {},
   "source": [
    "<h3> Check : </h3> "
   ]
  },
  {
   "cell_type": "code",
   "execution_count": 20,
   "metadata": {},
   "outputs": [
    {
     "data": {
      "text/html": [
       "<div>\n",
       "<style scoped>\n",
       "    .dataframe tbody tr th:only-of-type {\n",
       "        vertical-align: middle;\n",
       "    }\n",
       "\n",
       "    .dataframe tbody tr th {\n",
       "        vertical-align: top;\n",
       "    }\n",
       "\n",
       "    .dataframe thead th {\n",
       "        text-align: right;\n",
       "    }\n",
       "</style>\n",
       "<table border=\"1\" class=\"dataframe\">\n",
       "  <thead>\n",
       "    <tr style=\"text-align: right;\">\n",
       "      <th></th>\n",
       "      <th>CLIENT_CATEGORY</th>\n",
       "      <th>KDNR</th>\n",
       "      <th>ID_ORDER</th>\n",
       "      <th>NB_PURCHASE_PER_CLI</th>\n",
       "    </tr>\n",
       "  </thead>\n",
       "  <tbody>\n",
       "    <tr>\n",
       "      <th>0</th>\n",
       "      <td>One-timer</td>\n",
       "      <td>409292</td>\n",
       "      <td>409292</td>\n",
       "      <td>1.000000</td>\n",
       "    </tr>\n",
       "    <tr>\n",
       "      <th>1</th>\n",
       "      <td>Recurring</td>\n",
       "      <td>176840</td>\n",
       "      <td>892092</td>\n",
       "      <td>5.044628</td>\n",
       "    </tr>\n",
       "    <tr>\n",
       "      <th>2</th>\n",
       "      <td>Two-timer</td>\n",
       "      <td>143457</td>\n",
       "      <td>286914</td>\n",
       "      <td>2.000000</td>\n",
       "    </tr>\n",
       "  </tbody>\n",
       "</table>\n",
       "</div>"
      ],
      "text/plain": [
       "  CLIENT_CATEGORY    KDNR  ID_ORDER  NB_PURCHASE_PER_CLI\n",
       "0       One-timer  409292    409292             1.000000\n",
       "1       Recurring  176840    892092             5.044628\n",
       "2       Two-timer  143457    286914             2.000000"
      ]
     },
     "execution_count": 20,
     "metadata": {},
     "output_type": "execute_result"
    }
   ],
   "source": [
    "check_coherence = flatten(df.groupby(['CLIENT_CATEGORY']).agg({'KDNR':pd.Series.nunique,'ID_ORDER':pd.Series.nunique}))\n",
    "check_coherence['NB_PURCHASE_PER_CLI'] = check_coherence.ID_ORDER / check_coherence.KDNR\n",
    "check_coherence"
   ]
  },
  {
   "cell_type": "markdown",
   "metadata": {},
   "source": [
    "<h3> Etude par DN : </h3> "
   ]
  },
  {
   "cell_type": "code",
   "execution_count": 21,
   "metadata": {},
   "outputs": [
    {
     "data": {
      "text/html": [
       "<div>\n",
       "<style scoped>\n",
       "    .dataframe tbody tr th:only-of-type {\n",
       "        vertical-align: middle;\n",
       "    }\n",
       "\n",
       "    .dataframe tbody tr th {\n",
       "        vertical-align: top;\n",
       "    }\n",
       "\n",
       "    .dataframe thead th {\n",
       "        text-align: right;\n",
       "    }\n",
       "</style>\n",
       "<table border=\"1\" class=\"dataframe\">\n",
       "  <thead>\n",
       "    <tr style=\"text-align: right;\">\n",
       "      <th></th>\n",
       "      <th>CLIENT_CATEGORY</th>\n",
       "      <th>_NET_DEMAND_2017</th>\n",
       "      <th>_NET_DEMAND_2018</th>\n",
       "      <th>_NET_DEMAND_2019</th>\n",
       "      <th>_NET_DEMAND_2020</th>\n",
       "      <th>_NET_DEMAND_2021</th>\n",
       "    </tr>\n",
       "  </thead>\n",
       "  <tbody>\n",
       "    <tr>\n",
       "      <th>0</th>\n",
       "      <td>One-timer</td>\n",
       "      <td>5.671230e+06</td>\n",
       "      <td>6.792149e+06</td>\n",
       "      <td>7.865800e+06</td>\n",
       "      <td>1.094624e+07</td>\n",
       "      <td>3.848643e+04</td>\n",
       "    </tr>\n",
       "    <tr>\n",
       "      <th>1</th>\n",
       "      <td>Recurring</td>\n",
       "      <td>9.839625e+06</td>\n",
       "      <td>1.471829e+07</td>\n",
       "      <td>1.590814e+07</td>\n",
       "      <td>2.163536e+07</td>\n",
       "      <td>1.741998e+07</td>\n",
       "    </tr>\n",
       "    <tr>\n",
       "      <th>2</th>\n",
       "      <td>Two-timer</td>\n",
       "      <td>3.522414e+06</td>\n",
       "      <td>4.598461e+06</td>\n",
       "      <td>5.124417e+06</td>\n",
       "      <td>7.222721e+06</td>\n",
       "      <td>3.439103e+06</td>\n",
       "    </tr>\n",
       "  </tbody>\n",
       "</table>\n",
       "</div>"
      ],
      "text/plain": [
       "  CLIENT_CATEGORY  _NET_DEMAND_2017  _NET_DEMAND_2018  _NET_DEMAND_2019  \\\n",
       "0       One-timer      5.671230e+06      6.792149e+06      7.865800e+06   \n",
       "1       Recurring      9.839625e+06      1.471829e+07      1.590814e+07   \n",
       "2       Two-timer      3.522414e+06      4.598461e+06      5.124417e+06   \n",
       "\n",
       "   _NET_DEMAND_2020  _NET_DEMAND_2021  \n",
       "0      1.094624e+07      3.848643e+04  \n",
       "1      2.163536e+07      1.741998e+07  \n",
       "2      7.222721e+06      3.439103e+06  "
      ]
     },
     "execution_count": 21,
     "metadata": {},
     "output_type": "execute_result"
    }
   ],
   "source": [
    "DN_cat = df.groupby(['CLIENT_CATEGORY','YEAR_ORDER']).agg({'NET_DEMAND': sum})\n",
    "DN_cat = flatten_soft(DN_cat.unstack('YEAR_ORDER',fill_value=0))\n",
    "DN_cat"
   ]
  },
  {
   "cell_type": "code",
   "execution_count": 22,
   "metadata": {},
   "outputs": [],
   "source": [
    "DN_cat.to_csv(os.path.join(output_rep,'rep_DN_cat_GER.csv'),sep=\";\")"
   ]
  },
  {
   "cell_type": "markdown",
   "metadata": {},
   "source": [
    "<h3> Etude par mois de recrutement : </h3> "
   ]
  },
  {
   "cell_type": "markdown",
   "metadata": {},
   "source": [
    "- Etude par année ?"
   ]
  },
  {
   "cell_type": "code",
   "execution_count": 22,
   "metadata": {},
   "outputs": [],
   "source": [
    "per_year = True"
   ]
  },
  {
   "cell_type": "code",
   "execution_count": 23,
   "metadata": {},
   "outputs": [],
   "source": [
    "if per_year:\n",
    "    for year in df.COHORT.unique():\n",
    "        month_distrib = df.loc[df.COHORT == year].groupby(['CLIENT_CATEGORY','MONTH_RECRUITMENT']).agg({'KDNR': pd.Series.nunique})\n",
    "        month_distrib = flatten_soft(month_distrib.unstack('CLIENT_CATEGORY',fill_value=0))\n",
    "        name = str('month_recrut_client_category_GER_'+str(year)+'.csv')\n",
    "        month_distrib.to_csv(os.path.join(output_rep,name),sep=\";\")\n",
    "        month_distrib\n",
    "        \n",
    "else :\n",
    "    month_distrib = df.groupby(['CLIENT_CATEGORY','MONTH_RECRUITMENT']).agg({'KDNR': pd.Series.nunique})\n",
    "    month_distrib = flatten_soft(month_distrib.unstack('CLIENT_CATEGORY',fill_value=0))\n",
    "    month_distrib.to_csv(os.path.join(output_rep,'month_recrut_client_category_GER.csv'),sep=\";\")\n",
    "    month_distrib"
   ]
  },
  {
   "cell_type": "markdown",
   "metadata": {},
   "source": [
    "<h3> Etude des univers d'achat pour le 1er achat : </h3> "
   ]
  },
  {
   "cell_type": "code",
   "execution_count": 42,
   "metadata": {},
   "outputs": [],
   "source": [
    "df_1_purchase = df.loc[df.DATERF == df.DATAUFTRAG1]"
   ]
  },
  {
   "cell_type": "code",
   "execution_count": 25,
   "metadata": {},
   "outputs": [],
   "source": [
    "res_univ_1 = df_1_purchase.groupby(['CLIENT_CATEGORY','DEPARTEMENT']).agg({'NET_DEMAND': sum})\n",
    "res_univ_1 = flatten_soft(res_univ_1.unstack('DEPARTEMENT',fill_value=0))\n",
    "res_univ_1.to_csv(os.path.join(output_rep,'1stPurchase_PerCAt_GER.csv'),sep=\";\")"
   ]
  },
  {
   "cell_type": "markdown",
   "metadata": {},
   "source": [
    "<h3> Etude des univers d'achat (net demand) : </h3> "
   ]
  },
  {
   "cell_type": "code",
   "execution_count": 26,
   "metadata": {},
   "outputs": [],
   "source": [
    "res_univ = df.groupby(['CLIENT_CATEGORY','DEPARTEMENT']).agg({'NET_DEMAND': sum})\n",
    "res_univ = flatten_soft(res_univ.unstack('DEPARTEMENT',fill_value=0))"
   ]
  },
  {
   "cell_type": "code",
   "execution_count": 27,
   "metadata": {},
   "outputs": [],
   "source": [
    "res_univ.to_csv(os.path.join(output_rep,'Purchase_perUnivers_perCategory_GER.csv'),sep=\";\")"
   ]
  },
  {
   "cell_type": "markdown",
   "metadata": {},
   "source": [
    "<h3> Etude des univers d'achat (% client) : </h3> "
   ]
  },
  {
   "cell_type": "code",
   "execution_count": 21,
   "metadata": {},
   "outputs": [],
   "source": [
    "res_univ = df.groupby(['CLIENT_CATEGORY','DEPARTEMENT_FIRST']).agg({'KDNR': pd.Series.nunique})\n",
    "res_univ = flatten_soft(res_univ.unstack('DEPARTEMENT_FIRST',fill_value=0))"
   ]
  },
  {
   "cell_type": "code",
   "execution_count": 22,
   "metadata": {},
   "outputs": [],
   "source": [
    "res_univ.to_csv(os.path.join(output_rep,'Purchase_perUnivers_perCategory_percentage_GER.csv'),sep=\";\")"
   ]
  },
  {
   "cell_type": "markdown",
   "metadata": {},
   "source": [
    "<h3> Etudes des discount :</h3>"
   ]
  },
  {
   "cell_type": "markdown",
   "metadata": {},
   "source": [
    "<h4> Premier achat :</h4>"
   ]
  },
  {
   "cell_type": "markdown",
   "metadata": {},
   "source": [
    "- Merge du prix de base:"
   ]
  },
  {
   "cell_type": "code",
   "execution_count": 72,
   "metadata": {},
   "outputs": [
    {
     "name": "stdout",
     "output_type": "stream",
     "text": [
      "% Lines where discount computation is impossible :6.6%\n"
     ]
    }
   ],
   "source": [
    "df_1_purchase = pd.merge(df_1_purchase,df_base_price[['ARTNR','VKP']],\n",
    "                         left_on='ARTNRERF',right_on='ARTNR',how='left',suffixes=(False,False))\n",
    "\n",
    "KPI_to_print = sum(df_1_purchase.ARTNR.isnull())/len(df_1_purchase)*100\n",
    "print('% Lines where discount computation is impossible :' +str(round(KPI_to_print,1))+'%')"
   ]
  },
  {
   "cell_type": "markdown",
   "metadata": {},
   "source": [
    "- Calcul du discount:"
   ]
  },
  {
   "cell_type": "code",
   "execution_count": 60,
   "metadata": {},
   "outputs": [],
   "source": [
    "df_1_purchase['DISCOUNT'] = (1 -  df_1_purchase.PREIS/df_1_purchase.VKP)*100\n",
    "df_1_purchase['CAT_DISCOUNT'] = df_1_purchase.DISCOUNT.apply(lambda x :describe_discount(x) )"
   ]
  },
  {
   "cell_type": "markdown",
   "metadata": {},
   "source": [
    "- Vérification:"
   ]
  },
  {
   "cell_type": "code",
   "execution_count": 76,
   "metadata": {},
   "outputs": [
    {
     "name": "stdout",
     "output_type": "stream",
     "text": [
      "% Lines with negative discount :1.9%\n",
      "% Average discount :14.4%\n"
     ]
    }
   ],
   "source": [
    "KPI_to_print = len(df_1_purchase.loc[df_1_purchase.DISCOUNT<0])/len(df_1_purchase)*100\n",
    "print('% Lines with negative discount :' +str(round(KPI_to_print,1))+'%')\n",
    "\n",
    "KPI_to_print = df_1_purchase.DISCOUNT.mean()\n",
    "print('% Average discount :' +str(round(KPI_to_print,1))+'%')"
   ]
  },
  {
   "cell_type": "markdown",
   "metadata": {},
   "source": [
    "- Etude des discount:"
   ]
  },
  {
   "cell_type": "code",
   "execution_count": 62,
   "metadata": {},
   "outputs": [],
   "source": [
    "res_discount_1st = df_1_purchase.groupby(['CAT_DISCOUNT','CLIENT_CATEGORY']).agg({'ARTNRERF':'count'})\n",
    "res_discount_1st = flatten_soft(res_discount_1st.unstack('CLIENT_CATEGORY',fill_value=0))\n",
    "res_discount_1st.to_csv(os.path.join(output_rep,'Discount_perCategory_GER_1st_purchase.csv'),sep=\";\")\n",
    "res_discount_1st"
   ]
  },
  {
   "cell_type": "markdown",
   "metadata": {},
   "source": [
    "<h4> Toute la base :</h4>"
   ]
  },
  {
   "cell_type": "markdown",
   "metadata": {},
   "source": [
    "- Merge du prix de base:"
   ]
  },
  {
   "cell_type": "code",
   "execution_count": 77,
   "metadata": {},
   "outputs": [
    {
     "name": "stdout",
     "output_type": "stream",
     "text": [
      "% Lines where discount computation is impossible :10.1%\n"
     ]
    }
   ],
   "source": [
    "df = pd.merge(df,df_base_price[['ARTNR','VKP']],\n",
    "                         left_on='ARTNRERF',right_on='ARTNR',how='left',suffixes=(False,False))\n",
    "\n",
    "KPI_to_print = sum(df.ARTNR.isnull())/len(df)*100\n",
    "print('% Lines where discount computation is impossible :' +str(round(KPI_to_print,1))+'%')"
   ]
  },
  {
   "cell_type": "markdown",
   "metadata": {},
   "source": [
    "- Calcul du discount:"
   ]
  },
  {
   "cell_type": "code",
   "execution_count": 78,
   "metadata": {},
   "outputs": [],
   "source": [
    "df['DISCOUNT'] = (1 -  df.PREIS/df.VKP)*100\n",
    "df['CAT_DISCOUNT'] = df.DISCOUNT.apply(lambda x :describe_discount(x))"
   ]
  },
  {
   "cell_type": "markdown",
   "metadata": {},
   "source": [
    "- Vérification:"
   ]
  },
  {
   "cell_type": "code",
   "execution_count": 79,
   "metadata": {},
   "outputs": [
    {
     "name": "stdout",
     "output_type": "stream",
     "text": [
      "% Lines with negative discount :1.7%\n",
      "% Average discount :15.0%\n"
     ]
    }
   ],
   "source": [
    "KPI_to_print = len(df.loc[df.DISCOUNT<0])/len(df)*100\n",
    "print('% Lines with negative discount :' +str(round(KPI_to_print,1))+'%')\n",
    "\n",
    "KPI_to_print = df.DISCOUNT.mean()\n",
    "print('% Average discount :' +str(round(KPI_to_print,1))+'%')"
   ]
  },
  {
   "cell_type": "markdown",
   "metadata": {},
   "source": [
    "- Etude des discount:"
   ]
  },
  {
   "cell_type": "code",
   "execution_count": 80,
   "metadata": {},
   "outputs": [
    {
     "data": {
      "text/html": [
       "<div>\n",
       "<style scoped>\n",
       "    .dataframe tbody tr th:only-of-type {\n",
       "        vertical-align: middle;\n",
       "    }\n",
       "\n",
       "    .dataframe tbody tr th {\n",
       "        vertical-align: top;\n",
       "    }\n",
       "\n",
       "    .dataframe thead th {\n",
       "        text-align: right;\n",
       "    }\n",
       "</style>\n",
       "<table border=\"1\" class=\"dataframe\">\n",
       "  <thead>\n",
       "    <tr style=\"text-align: right;\">\n",
       "      <th></th>\n",
       "      <th>CAT_DISCOUNT</th>\n",
       "      <th>_ARTNRERF_One-timer</th>\n",
       "      <th>_ARTNRERF_Recurring</th>\n",
       "      <th>_ARTNRERF_Two-timer</th>\n",
       "    </tr>\n",
       "  </thead>\n",
       "  <tbody>\n",
       "    <tr>\n",
       "      <th>0</th>\n",
       "      <td>10-20%</td>\n",
       "      <td>154818</td>\n",
       "      <td>449367</td>\n",
       "      <td>124366</td>\n",
       "    </tr>\n",
       "    <tr>\n",
       "      <th>1</th>\n",
       "      <td>20-30%</td>\n",
       "      <td>144603</td>\n",
       "      <td>412683</td>\n",
       "      <td>113752</td>\n",
       "    </tr>\n",
       "    <tr>\n",
       "      <th>2</th>\n",
       "      <td>30-40%</td>\n",
       "      <td>97181</td>\n",
       "      <td>316156</td>\n",
       "      <td>82009</td>\n",
       "    </tr>\n",
       "    <tr>\n",
       "      <th>3</th>\n",
       "      <td>40-50%</td>\n",
       "      <td>67041</td>\n",
       "      <td>227585</td>\n",
       "      <td>56301</td>\n",
       "    </tr>\n",
       "    <tr>\n",
       "      <th>4</th>\n",
       "      <td>5-10%</td>\n",
       "      <td>15809</td>\n",
       "      <td>34789</td>\n",
       "      <td>9965</td>\n",
       "    </tr>\n",
       "    <tr>\n",
       "      <th>5</th>\n",
       "      <td>50-60%</td>\n",
       "      <td>39637</td>\n",
       "      <td>138280</td>\n",
       "      <td>33870</td>\n",
       "    </tr>\n",
       "    <tr>\n",
       "      <th>6</th>\n",
       "      <td>60-70%</td>\n",
       "      <td>32819</td>\n",
       "      <td>98733</td>\n",
       "      <td>25178</td>\n",
       "    </tr>\n",
       "    <tr>\n",
       "      <th>7</th>\n",
       "      <td>&lt;5%</td>\n",
       "      <td>598090</td>\n",
       "      <td>1730918</td>\n",
       "      <td>479562</td>\n",
       "    </tr>\n",
       "    <tr>\n",
       "      <th>8</th>\n",
       "      <td>&gt;70%</td>\n",
       "      <td>28371</td>\n",
       "      <td>73451</td>\n",
       "      <td>20931</td>\n",
       "    </tr>\n",
       "  </tbody>\n",
       "</table>\n",
       "</div>"
      ],
      "text/plain": [
       "  CAT_DISCOUNT  _ARTNRERF_One-timer  _ARTNRERF_Recurring  _ARTNRERF_Two-timer\n",
       "0       10-20%               154818               449367               124366\n",
       "1       20-30%               144603               412683               113752\n",
       "2       30-40%                97181               316156                82009\n",
       "3       40-50%                67041               227585                56301\n",
       "4        5-10%                15809                34789                 9965\n",
       "5       50-60%                39637               138280                33870\n",
       "6       60-70%                32819                98733                25178\n",
       "7          <5%               598090              1730918               479562\n",
       "8         >70%                28371                73451                20931"
      ]
     },
     "execution_count": 80,
     "metadata": {},
     "output_type": "execute_result"
    }
   ],
   "source": [
    "res_discount = df.groupby(['CAT_DISCOUNT','CLIENT_CATEGORY']).agg({'ARTNRERF':'count'})\n",
    "res_discount = flatten_soft(res_discount.unstack('CLIENT_CATEGORY',fill_value=0))\n",
    "res_discount.to_csv(os.path.join(output_rep,'Discount_perCategory_GER.csv'),sep=\";\")\n",
    "res_discount"
   ]
  },
  {
   "cell_type": "markdown",
   "metadata": {},
   "source": [
    "<h3> Etudes des marques :</h3>"
   ]
  },
  {
   "cell_type": "markdown",
   "metadata": {},
   "source": [
    "- Pour le 1er achat:"
   ]
  },
  {
   "cell_type": "code",
   "execution_count": 31,
   "metadata": {},
   "outputs": [
    {
     "data": {
      "text/html": [
       "<div>\n",
       "<style scoped>\n",
       "    .dataframe tbody tr th:only-of-type {\n",
       "        vertical-align: middle;\n",
       "    }\n",
       "\n",
       "    .dataframe tbody tr th {\n",
       "        vertical-align: top;\n",
       "    }\n",
       "\n",
       "    .dataframe thead th {\n",
       "        text-align: right;\n",
       "    }\n",
       "</style>\n",
       "<table border=\"1\" class=\"dataframe\">\n",
       "  <thead>\n",
       "    <tr style=\"text-align: right;\">\n",
       "      <th></th>\n",
       "      <th>MARQUE_NATIO</th>\n",
       "      <th>_NET_DEMAND_One-timer</th>\n",
       "      <th>_NET_DEMAND_Recurring</th>\n",
       "      <th>_NET_DEMAND_Two-timer</th>\n",
       "    </tr>\n",
       "  </thead>\n",
       "  <tbody>\n",
       "    <tr>\n",
       "      <th>0</th>\n",
       "      <td>National Brand</td>\n",
       "      <td>1.774911e+06</td>\n",
       "      <td>1.317232e+06</td>\n",
       "      <td>8.026927e+05</td>\n",
       "    </tr>\n",
       "    <tr>\n",
       "      <th>1</th>\n",
       "      <td>Vertbaudet</td>\n",
       "      <td>2.909650e+07</td>\n",
       "      <td>1.616511e+07</td>\n",
       "      <td>1.199061e+07</td>\n",
       "    </tr>\n",
       "  </tbody>\n",
       "</table>\n",
       "</div>"
      ],
      "text/plain": [
       "     MARQUE_NATIO  _NET_DEMAND_One-timer  _NET_DEMAND_Recurring  \\\n",
       "0  National Brand           1.774911e+06           1.317232e+06   \n",
       "1      Vertbaudet           2.909650e+07           1.616511e+07   \n",
       "\n",
       "   _NET_DEMAND_Two-timer  \n",
       "0           8.026927e+05  \n",
       "1           1.199061e+07  "
      ]
     },
     "execution_count": 31,
     "metadata": {},
     "output_type": "execute_result"
    }
   ],
   "source": [
    "res_brand_1_purch = df_1_purchase.groupby(['MARQUE_NATIO','CLIENT_CATEGORY']).agg({'NET_DEMAND':sum})\n",
    "res_brand_1_purch = flatten_soft(res_brand_1_purch.unstack('CLIENT_CATEGORY',fill_value=0))\n",
    "res_brand_1_purch"
   ]
  },
  {
   "cell_type": "code",
   "execution_count": 32,
   "metadata": {},
   "outputs": [],
   "source": [
    "res_brand_1_purch.to_csv(os.path.join(output_rep,'Brand_distrib_1stpurch__GER.csv'),sep=\";\")"
   ]
  },
  {
   "cell_type": "markdown",
   "metadata": {},
   "source": [
    "- En général : "
   ]
  },
  {
   "cell_type": "code",
   "execution_count": 23,
   "metadata": {},
   "outputs": [],
   "source": [
    "df['MARQUE_NATIO'] = df.CODMARQ.apply(lambda x: 'Vertbaudet' if x=='VB'\n",
    "                                     else 'National Brand')"
   ]
  },
  {
   "cell_type": "code",
   "execution_count": 26,
   "metadata": {},
   "outputs": [
    {
     "data": {
      "text/html": [
       "<div>\n",
       "<style scoped>\n",
       "    .dataframe tbody tr th:only-of-type {\n",
       "        vertical-align: middle;\n",
       "    }\n",
       "\n",
       "    .dataframe tbody tr th {\n",
       "        vertical-align: top;\n",
       "    }\n",
       "\n",
       "    .dataframe thead th {\n",
       "        text-align: right;\n",
       "    }\n",
       "</style>\n",
       "<table border=\"1\" class=\"dataframe\">\n",
       "  <thead>\n",
       "    <tr style=\"text-align: right;\">\n",
       "      <th></th>\n",
       "      <th>MARQUE_NATIO</th>\n",
       "      <th>_NET_DEMAND_One-timer</th>\n",
       "      <th>_NET_DEMAND_Recurring</th>\n",
       "      <th>_NET_DEMAND_Two-timer</th>\n",
       "    </tr>\n",
       "  </thead>\n",
       "  <tbody>\n",
       "    <tr>\n",
       "      <th>0</th>\n",
       "      <td>National Brand</td>\n",
       "      <td>1.795251e+06</td>\n",
       "      <td>3.989086e+06</td>\n",
       "      <td>1.307805e+06</td>\n",
       "    </tr>\n",
       "    <tr>\n",
       "      <th>1</th>\n",
       "      <td>Vertbaudet</td>\n",
       "      <td>2.951866e+07</td>\n",
       "      <td>7.553230e+07</td>\n",
       "      <td>2.259931e+07</td>\n",
       "    </tr>\n",
       "  </tbody>\n",
       "</table>\n",
       "</div>"
      ],
      "text/plain": [
       "     MARQUE_NATIO  _NET_DEMAND_One-timer  _NET_DEMAND_Recurring  \\\n",
       "0  National Brand           1.795251e+06           3.989086e+06   \n",
       "1      Vertbaudet           2.951866e+07           7.553230e+07   \n",
       "\n",
       "   _NET_DEMAND_Two-timer  \n",
       "0           1.307805e+06  \n",
       "1           2.259931e+07  "
      ]
     },
     "execution_count": 26,
     "metadata": {},
     "output_type": "execute_result"
    }
   ],
   "source": [
    "res_brand = df.groupby(['MARQUE_NATIO','CLIENT_CATEGORY']).agg({'NET_DEMAND':sum})\n",
    "res_brand = flatten_soft(res_brand.unstack('CLIENT_CATEGORY',fill_value=0))\n",
    "res_brand                      "
   ]
  },
  {
   "cell_type": "code",
   "execution_count": 27,
   "metadata": {},
   "outputs": [],
   "source": [
    "res_brand.to_csv(os.path.join(output_rep,'Brand_distrib_GER.csv'),sep=\";\")"
   ]
  },
  {
   "cell_type": "markdown",
   "metadata": {},
   "source": [
    "<h3> Etudes des canaux :</h3>"
   ]
  },
  {
   "cell_type": "code",
   "execution_count": 51,
   "metadata": {},
   "outputs": [
    {
     "data": {
      "text/html": [
       "<div>\n",
       "<style scoped>\n",
       "    .dataframe tbody tr th:only-of-type {\n",
       "        vertical-align: middle;\n",
       "    }\n",
       "\n",
       "    .dataframe tbody tr th {\n",
       "        vertical-align: top;\n",
       "    }\n",
       "\n",
       "    .dataframe thead th {\n",
       "        text-align: right;\n",
       "    }\n",
       "</style>\n",
       "<table border=\"1\" class=\"dataframe\">\n",
       "  <thead>\n",
       "    <tr style=\"text-align: right;\">\n",
       "      <th></th>\n",
       "      <th>BELEGSTAPELNR</th>\n",
       "      <th>LEVIER</th>\n",
       "      <th>CAMPAGNE</th>\n",
       "    </tr>\n",
       "  </thead>\n",
       "  <tbody>\n",
       "    <tr>\n",
       "      <th>0</th>\n",
       "      <td>201848977</td>\n",
       "      <td>SEA</td>\n",
       "      <td>SEA Marque</td>\n",
       "    </tr>\n",
       "    <tr>\n",
       "      <th>1</th>\n",
       "      <td>201848979</td>\n",
       "      <td>SEA</td>\n",
       "      <td>SEA Marque</td>\n",
       "    </tr>\n",
       "    <tr>\n",
       "      <th>2</th>\n",
       "      <td>201848991</td>\n",
       "      <td>SEA</td>\n",
       "      <td>FS 10</td>\n",
       "    </tr>\n",
       "    <tr>\n",
       "      <th>3</th>\n",
       "      <td>201848994</td>\n",
       "      <td>SEA</td>\n",
       "      <td>SEA Marque</td>\n",
       "    </tr>\n",
       "    <tr>\n",
       "      <th>4</th>\n",
       "      <td>201849000</td>\n",
       "      <td>SEA</td>\n",
       "      <td>SEA Marque</td>\n",
       "    </tr>\n",
       "    <tr>\n",
       "      <th>...</th>\n",
       "      <td>...</td>\n",
       "      <td>...</td>\n",
       "      <td>...</td>\n",
       "    </tr>\n",
       "    <tr>\n",
       "      <th>2394121</th>\n",
       "      <td>201784986</td>\n",
       "      <td>SEA</td>\n",
       "      <td>SEA Marque</td>\n",
       "    </tr>\n",
       "    <tr>\n",
       "      <th>2394122</th>\n",
       "      <td>201784987</td>\n",
       "      <td>SEA</td>\n",
       "      <td>SEA Marque</td>\n",
       "    </tr>\n",
       "    <tr>\n",
       "      <th>2394123</th>\n",
       "      <td>201784988</td>\n",
       "      <td>SEA</td>\n",
       "      <td>SEA Marque</td>\n",
       "    </tr>\n",
       "    <tr>\n",
       "      <th>2394124</th>\n",
       "      <td>201784989</td>\n",
       "      <td>SEA</td>\n",
       "      <td>SEA Hors Marque</td>\n",
       "    </tr>\n",
       "    <tr>\n",
       "      <th>2394125</th>\n",
       "      <td>201784990</td>\n",
       "      <td>Unspecified</td>\n",
       "      <td>Unspecified</td>\n",
       "    </tr>\n",
       "  </tbody>\n",
       "</table>\n",
       "<p>2394126 rows × 3 columns</p>\n",
       "</div>"
      ],
      "text/plain": [
       "         BELEGSTAPELNR       LEVIER         CAMPAGNE\n",
       "0            201848977          SEA       SEA Marque\n",
       "1            201848979          SEA       SEA Marque\n",
       "2            201848991          SEA            FS 10\n",
       "3            201848994          SEA       SEA Marque\n",
       "4            201849000          SEA       SEA Marque\n",
       "...                ...          ...              ...\n",
       "2394121      201784986          SEA       SEA Marque\n",
       "2394122      201784987          SEA       SEA Marque\n",
       "2394123      201784988          SEA       SEA Marque\n",
       "2394124      201784989          SEA  SEA Hors Marque\n",
       "2394125      201784990  Unspecified      Unspecified\n",
       "\n",
       "[2394126 rows x 3 columns]"
      ]
     },
     "execution_count": 51,
     "metadata": {},
     "output_type": "execute_result"
    }
   ],
   "source": [
    "df_canal = pd.read_csv(\"C:/Users/UgoMANTEL/Work/Github/Vertbaudet_2021/data/3. Other/20210928_Order_chanel_GER.tab\",sep=\"\\t\",encoding= \"unicode_escape\")\n",
    "df_canal.columns =['BELEGSTAPELNR','LEVIER','CAMPAGNE']\n",
    "df_canal"
   ]
  },
  {
   "cell_type": "code",
   "execution_count": 59,
   "metadata": {},
   "outputs": [],
   "source": [
    "df_1_purchase = df_1_purchase.loc[df_1_purchase.BELEGSTAPELNR!='$null$']\n",
    "df_1_purchase.BELEGSTAPELNR = df_1_purchase.BELEGSTAPELNR .astype(int)"
   ]
  },
  {
   "cell_type": "code",
   "execution_count": 60,
   "metadata": {},
   "outputs": [],
   "source": [
    "df_1_purchase = pd.merge(df_1_purchase,df_canal[['BELEGSTAPELNR','LEVIER']],on='BELEGSTAPELNR',how='left',suffixes=(False,False))"
   ]
  },
  {
   "cell_type": "code",
   "execution_count": 63,
   "metadata": {},
   "outputs": [],
   "source": [
    "res_canal = df_1_purchase.groupby(['CLIENT_CATEGORY','LEVIER']).agg({'KDNR': pd.Series.nunique})\n",
    "res_canal = flatten_soft(res_canal.unstack('CLIENT_CATEGORY',fill_value=0))\n",
    "res_canal\n",
    "res_canal.to_csv(os.path.join(output_rep,'CanalAcquisition_GER.csv'),sep=\";\")"
   ]
  },
  {
   "cell_type": "markdown",
   "metadata": {},
   "source": [
    "<h3> Etudes des délais de livraison :</h3>"
   ]
  },
  {
   "cell_type": "markdown",
   "metadata": {},
   "source": [
    "- Import des dates de livraison:"
   ]
  },
  {
   "cell_type": "code",
   "execution_count": 21,
   "metadata": {},
   "outputs": [],
   "source": [
    "df_delivery = pd.read_csv(\"C:/Users/UgoMANTEL/Work/Github/Vertbaudet_2021/data/3. Other/20211004_Delivery_Germany.csv\",sep=\",\")"
   ]
  },
  {
   "cell_type": "code",
   "execution_count": 22,
   "metadata": {},
   "outputs": [
    {
     "data": {
      "text/html": [
       "<div>\n",
       "<style scoped>\n",
       "    .dataframe tbody tr th:only-of-type {\n",
       "        vertical-align: middle;\n",
       "    }\n",
       "\n",
       "    .dataframe tbody tr th {\n",
       "        vertical-align: top;\n",
       "    }\n",
       "\n",
       "    .dataframe thead th {\n",
       "        text-align: right;\n",
       "    }\n",
       "</style>\n",
       "<table border=\"1\" class=\"dataframe\">\n",
       "  <thead>\n",
       "    <tr style=\"text-align: right;\">\n",
       "      <th></th>\n",
       "      <th>KDNR</th>\n",
       "      <th>AUFTNR</th>\n",
       "      <th>LIEFERDAT</th>\n",
       "      <th>ID_ORDER</th>\n",
       "    </tr>\n",
       "  </thead>\n",
       "  <tbody>\n",
       "    <tr>\n",
       "      <th>0</th>\n",
       "      <td>6478</td>\n",
       "      <td>4</td>\n",
       "      <td>2017-01-02</td>\n",
       "      <td>4_6478</td>\n",
       "    </tr>\n",
       "    <tr>\n",
       "      <th>1</th>\n",
       "      <td>127</td>\n",
       "      <td>87</td>\n",
       "      <td>2017-01-03</td>\n",
       "      <td>87_127</td>\n",
       "    </tr>\n",
       "    <tr>\n",
       "      <th>2</th>\n",
       "      <td>59032</td>\n",
       "      <td>113</td>\n",
       "      <td>2017-01-03</td>\n",
       "      <td>113_59032</td>\n",
       "    </tr>\n",
       "    <tr>\n",
       "      <th>3</th>\n",
       "      <td>59032</td>\n",
       "      <td>113</td>\n",
       "      <td>2017-01-03</td>\n",
       "      <td>113_59032</td>\n",
       "    </tr>\n",
       "    <tr>\n",
       "      <th>4</th>\n",
       "      <td>59032</td>\n",
       "      <td>113</td>\n",
       "      <td>2017-01-03</td>\n",
       "      <td>113_59032</td>\n",
       "    </tr>\n",
       "    <tr>\n",
       "      <th>...</th>\n",
       "      <td>...</td>\n",
       "      <td>...</td>\n",
       "      <td>...</td>\n",
       "      <td>...</td>\n",
       "    </tr>\n",
       "    <tr>\n",
       "      <th>18386465</th>\n",
       "      <td>33703408</td>\n",
       "      <td>2</td>\n",
       "      <td>2021-09-22</td>\n",
       "      <td>2_33703408</td>\n",
       "    </tr>\n",
       "    <tr>\n",
       "      <th>18386466</th>\n",
       "      <td>33703408</td>\n",
       "      <td>2</td>\n",
       "      <td>2021-09-22</td>\n",
       "      <td>2_33703408</td>\n",
       "    </tr>\n",
       "    <tr>\n",
       "      <th>18386467</th>\n",
       "      <td>33703408</td>\n",
       "      <td>2</td>\n",
       "      <td>2021-09-22</td>\n",
       "      <td>2_33703408</td>\n",
       "    </tr>\n",
       "    <tr>\n",
       "      <th>18386468</th>\n",
       "      <td>33703408</td>\n",
       "      <td>2</td>\n",
       "      <td>2021-09-27</td>\n",
       "      <td>2_33703408</td>\n",
       "    </tr>\n",
       "    <tr>\n",
       "      <th>18386469</th>\n",
       "      <td>36873713</td>\n",
       "      <td>1</td>\n",
       "      <td>2021-09-27</td>\n",
       "      <td>1_36873713</td>\n",
       "    </tr>\n",
       "  </tbody>\n",
       "</table>\n",
       "<p>18386470 rows × 4 columns</p>\n",
       "</div>"
      ],
      "text/plain": [
       "              KDNR  AUFTNR  LIEFERDAT    ID_ORDER\n",
       "0             6478       4 2017-01-02      4_6478\n",
       "1              127      87 2017-01-03      87_127\n",
       "2            59032     113 2017-01-03   113_59032\n",
       "3            59032     113 2017-01-03   113_59032\n",
       "4            59032     113 2017-01-03   113_59032\n",
       "...            ...     ...        ...         ...\n",
       "18386465  33703408       2 2021-09-22  2_33703408\n",
       "18386466  33703408       2 2021-09-22  2_33703408\n",
       "18386467  33703408       2 2021-09-22  2_33703408\n",
       "18386468  33703408       2 2021-09-27  2_33703408\n",
       "18386469  36873713       1 2021-09-27  1_36873713\n",
       "\n",
       "[18386470 rows x 4 columns]"
      ]
     },
     "execution_count": 22,
     "metadata": {},
     "output_type": "execute_result"
    }
   ],
   "source": [
    "df_delivery['ID_ORDER'] = df_delivery.AUFTNR.astype(str) + '_'+ df_delivery.KDNR.astype(str)\n",
    "df_delivery['LIEFERDAT'] = pd.to_datetime(df_delivery.LIEFERDAT)\n",
    "df_delivery"
   ]
  },
  {
   "cell_type": "markdown",
   "metadata": {},
   "source": [
    "- Ajout dans le dataset : "
   ]
  },
  {
   "cell_type": "code",
   "execution_count": 23,
   "metadata": {},
   "outputs": [],
   "source": [
    "df = pd.merge(df,df_delivery[['ID_ORDER','LIEFERDAT']],on='ID_ORDER',how='left',suffixes=(False,False))\n",
    "del(df_delivery)"
   ]
  },
  {
   "cell_type": "markdown",
   "metadata": {},
   "source": [
    "- Cleaning :"
   ]
  },
  {
   "cell_type": "code",
   "execution_count": 37,
   "metadata": {},
   "outputs": [],
   "source": [
    "df = df.loc[df.LIEFERDAT.isnull()==False]\n",
    "df['DELAY'] = ( df.LIEFERDAT - df.DATERF)\n",
    "df['DELAY_DAYS'] = df.DELAY.dt.days"
   ]
  },
  {
   "cell_type": "markdown",
   "metadata": {},
   "source": [
    "- Obtention data :"
   ]
  },
  {
   "cell_type": "code",
   "execution_count": 39,
   "metadata": {},
   "outputs": [],
   "source": [
    "res_delay = df.groupby(['CLIENT_CATEGORY','DELAY_DAYS']).agg({'KDNR': pd.Series.nunique})\n",
    "res_delay = flatten_soft(res_delay.unstack('DELAY_DAYS',fill_value=0))\n",
    "res_delay.to_csv(os.path.join(output_rep,'delays_GERM.csv'),sep=\";\")"
   ]
  },
  {
   "cell_type": "markdown",
   "metadata": {},
   "source": [
    "<h3> Sankey par catégorie :</h3>"
   ]
  },
  {
   "cell_type": "markdown",
   "metadata": {},
   "source": [
    "- Ajouter le nombre de commandes :"
   ]
  },
  {
   "cell_type": "code",
   "execution_count": 40,
   "metadata": {},
   "outputs": [],
   "source": [
    "nb_order =  flatten(df.sort_values(by='DATERF',ascending=True).groupby(['ID_ORDER']).agg({'KDNR':'last'}))\n",
    "nb_order['ORDER_NUMBER'] = nb_order.groupby(['KDNR']).cumcount()+1\n",
    "df = pd.merge(df,nb_order[['ID_ORDER','ORDER_NUMBER']],on='ID_ORDER',how='left')"
   ]
  },
  {
   "cell_type": "markdown",
   "metadata": {},
   "source": [
    "- One timers :"
   ]
  },
  {
   "cell_type": "code",
   "execution_count": 46,
   "metadata": {},
   "outputs": [],
   "source": [
    "# df_to_graph = df.loc[(df.CLIENT_CATEGORY == 'One-timer') & (df.ORDER_NUMBER<=1)]\n",
    "# res_sankey = df_to_graph.groupby(['DEPARTEMENT_CMD']).agg({'KDNR':pd.Series.nunique})\n",
    "# res_sankey.to_csv(os.path.join(output_rep,str('sankey_GER_one_timers.csv')),sep=\";\")"
   ]
  },
  {
   "cell_type": "markdown",
   "metadata": {},
   "source": [
    "- Two timers :"
   ]
  },
  {
   "cell_type": "code",
   "execution_count": 44,
   "metadata": {},
   "outputs": [],
   "source": [
    "res_final = pd.DataFrame(columns=['OrderInitial','Count','OrderTarget'])\n",
    "\n",
    "df_to_graph = df.loc[(df.CLIENT_CATEGORY == 'Two-timer') & (df.ORDER_NUMBER<=2)]\n",
    "res_sankey = df_to_graph.groupby(['KDNR','ORDER_NUMBER']).agg({'DEPARTEMENT_CMD':'last'})\n",
    "res_sankey = flatten_soft(res_sankey.unstack('ORDER_NUMBER',fill_value='CHURN').dropna(how='any'))\n",
    "res_sankey = res_sankey.loc[res_sankey['_DEPARTEMENT_CMD_2']!='CHURN']\n",
    "res_sankey.columns\n",
    "\n",
    "for i in range(1, 2):\n",
    "    dep_n = str('_DEPARTEMENT_CMD_'+str(i))\n",
    "    dep_n_1 = str('_DEPARTEMENT_CMD_'+str(i+1))\n",
    "    res_sankey_tmp = res_sankey.groupby([dep_n,dep_n_1]).agg({'KDNR':pd.Series.nunique})\n",
    "    res_sankey_tmp = flatten(res_sankey_tmp)\n",
    "    res_sankey_tmp = res_sankey_tmp.reset_index(inplace=False)\n",
    "\n",
    "    res_sankey_tmp.columns = ['OrderTarget','OrderInitial','Count']\n",
    "    res_sankey_tmp = res_sankey_tmp.loc[(res_sankey_tmp['OrderInitial']!='CHURN')]\n",
    "    res_sankey_tmp['OrderInitial']= res_sankey_tmp['OrderInitial'].apply(lambda x: str(x+'_'+str(i)))\n",
    "    res_sankey_tmp['OrderTarget']= res_sankey_tmp['OrderTarget'].apply(lambda x: str(x+'_'+str(i+1)))\n",
    "    res_sankey_tmp['Count']= res_sankey_tmp['Count'].apply(lambda x: str('['+str(x)+']'))\n",
    "    res_sankey_tmp = res_sankey_tmp[['OrderInitial','Count','OrderTarget']]\n",
    "    res_final = pd.concat([res_final,res_sankey_tmp])\n",
    "    res_final.to_csv(os.path.join(output_rep,str('sankey_GER_two_timers.csv')),sep=\";\")"
   ]
  },
  {
   "cell_type": "markdown",
   "metadata": {},
   "source": [
    "- Reccurings :"
   ]
  },
  {
   "cell_type": "code",
   "execution_count": 45,
   "metadata": {},
   "outputs": [],
   "source": [
    "res_final = pd.DataFrame(columns=['OrderInitial','Count','OrderTarget'])\n",
    "\n",
    "df_to_graph = df.loc[(df.CLIENT_CATEGORY == 'Recurring') & (df.ORDER_NUMBER<=5)]\n",
    "res_sankey = df_to_graph.groupby(['KDNR','ORDER_NUMBER']).agg({'DEPARTEMENT_CMD':'last'})\n",
    "res_sankey = flatten_soft(res_sankey.unstack('ORDER_NUMBER',fill_value='CHURN').dropna(how='any'))\n",
    "res_sankey = res_sankey.loc[res_sankey['_DEPARTEMENT_CMD_2']!='CHURN']\n",
    "res_sankey = res_sankey.loc[res_sankey['_DEPARTEMENT_CMD_3']!='CHURN']\n",
    "res_sankey.columns\n",
    "\n",
    "for i in range(1, 5):\n",
    "    dep_n = str('_DEPARTEMENT_CMD_'+str(i))\n",
    "    dep_n_1 = str('_DEPARTEMENT_CMD_'+str(i+1))\n",
    "    res_sankey_tmp = res_sankey.groupby([dep_n,dep_n_1]).agg({'KDNR':pd.Series.nunique})\n",
    "    res_sankey_tmp = flatten(res_sankey_tmp)\n",
    "    res_sankey_tmp = res_sankey_tmp.reset_index(inplace=False)\n",
    "\n",
    "    res_sankey_tmp.columns = ['OrderTarget','OrderInitial','Count']\n",
    "    res_sankey_tmp = res_sankey_tmp.loc[(res_sankey_tmp['OrderInitial']!='CHURN')]\n",
    "    res_sankey_tmp['OrderInitial']= res_sankey_tmp['OrderInitial'].apply(lambda x: str(x+'_'+str(i)))\n",
    "    res_sankey_tmp['OrderTarget']= res_sankey_tmp['OrderTarget'].apply(lambda x: str(x+'_'+str(i+1)))\n",
    "    res_sankey_tmp['Count']= res_sankey_tmp['Count'].apply(lambda x: str('['+str(x)+']'))\n",
    "    res_sankey_tmp = res_sankey_tmp[['OrderInitial','Count','OrderTarget']]\n",
    "    res_final = pd.concat([res_final,res_sankey_tmp])\n",
    "    res_final.to_csv(os.path.join(output_rep,str('sankey_GER_recurrins.csv')),sep=\";\")"
   ]
  },
  {
   "cell_type": "code",
   "execution_count": null,
   "metadata": {},
   "outputs": [],
   "source": []
  }
 ],
 "metadata": {
  "kernelspec": {
   "display_name": "Python 3",
   "language": "python",
   "name": "python3"
  },
  "language_info": {
   "codemirror_mode": {
    "name": "ipython",
    "version": 3
   },
   "file_extension": ".py",
   "mimetype": "text/x-python",
   "name": "python",
   "nbconvert_exporter": "python",
   "pygments_lexer": "ipython3",
   "version": "3.7.7"
  }
 },
 "nbformat": 4,
 "nbformat_minor": 4
}
