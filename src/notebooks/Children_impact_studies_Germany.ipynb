{
 "cells": [
  {
   "cell_type": "code",
   "execution_count": 1,
   "metadata": {},
   "outputs": [],
   "source": [
    "import os\n",
    "import pandas as pd\n",
    "import numpy as np\n",
    "import matplotlib.pyplot as plt\n",
    "from matplotlib import ticker\n",
    "import matplotlib.dates as mdates\n",
    "from datetime import datetime, time ,date ,timedelta\n",
    "from dateutil.relativedelta import relativedelta\n",
    "import seaborn as sns\n",
    "pd.options.mode.chained_assignment = None"
   ]
  },
  {
   "cell_type": "code",
   "execution_count": 2,
   "metadata": {},
   "outputs": [],
   "source": [
    "import warnings\n",
    "warnings.filterwarnings(\"ignore\")"
   ]
  },
  {
   "cell_type": "markdown",
   "metadata": {},
   "source": [
    "<h1> Functions </h1>"
   ]
  },
  {
   "cell_type": "markdown",
   "metadata": {},
   "source": [
    "<h3> Fonctions générales </h3>"
   ]
  },
  {
   "cell_type": "code",
   "execution_count": 3,
   "metadata": {},
   "outputs": [],
   "source": [
    "def floatise (df, list_columns_to_floatise):\n",
    "    for i in list_columns_to_floatise:\n",
    "        df[i] = df[i].apply(lambda x: float(x.replace(',','.')))\n",
    "    return (df)"
   ]
  },
  {
   "cell_type": "code",
   "execution_count": 4,
   "metadata": {},
   "outputs": [],
   "source": [
    "def intise (df, list_columns_to_floatise):\n",
    "    for i in list_columns_to_floatise:\n",
    "        df[i] = df[i].astype(int)\n",
    "    return (df)"
   ]
  },
  {
   "cell_type": "code",
   "execution_count": 5,
   "metadata": {},
   "outputs": [],
   "source": [
    "def flatten (table):\n",
    "    if type(table.columns)==pd.MultiIndex:\n",
    "        columns_to_look = [name_tmp for name_tmp in table.columns]\n",
    "\n",
    "        columns_df = [ str(t[0])+'_'+str(t[1]) for t in columns_to_look]\n",
    "        columns_df.insert(0,table.index.name)\n",
    "\n",
    "        df = pd.DataFrame(columns = columns_df)\n",
    "\n",
    "        index = 0\n",
    "        for i in table.index:\n",
    "            row = [table[r][i] for r in columns_to_look]\n",
    "            row.insert(0,i)\n",
    "            df.loc[index] = row\n",
    "            index = index + 1\n",
    "        return(df)\n",
    "    else :\n",
    "        table = pd.DataFrame(table)\n",
    "        table.reset_index(level=0, inplace=True)\n",
    "        return table"
   ]
  },
  {
   "cell_type": "code",
   "execution_count": 6,
   "metadata": {},
   "outputs": [],
   "source": [
    "def flatten_soft(dataframe):\n",
    "    res = pd.DataFrame()\n",
    "    res[dataframe.index.name] = dataframe.index\n",
    "    for col in dataframe.columns:\n",
    "        name_tmp=\"\"\n",
    "        for i in range(len(dataframe.columns[0])):\n",
    "            name_tmp = name_tmp +'_'+str(col[i])\n",
    "        res[str(name_tmp)] = dataframe[col].values\n",
    "    return res"
   ]
  },
  {
   "cell_type": "markdown",
   "metadata": {},
   "source": [
    "<h3> Fonctions particulières </h3>"
   ]
  },
  {
   "cell_type": "code",
   "execution_count": 7,
   "metadata": {},
   "outputs": [],
   "source": [
    "def cohort_attribution (x):\n",
    "    if (x<2017):\n",
    "        return 2016\n",
    "    else :\n",
    "        return x"
   ]
  },
  {
   "cell_type": "markdown",
   "metadata": {},
   "source": [
    "<h1> Dataset creation </h1>"
   ]
  },
  {
   "cell_type": "markdown",
   "metadata": {},
   "source": [
    "<h3> Import de la data </h3>"
   ]
  },
  {
   "cell_type": "code",
   "execution_count": 8,
   "metadata": {},
   "outputs": [
    {
     "name": "stdout",
     "output_type": "stream",
     "text": [
      "C:\\Users\\UgoMANTEL\\Work\\Github\\Vertbaudet_2021\\src\\notebooks\n"
     ]
    }
   ],
   "source": [
    "src_root = os.getcwd()\n",
    "print(src_root)"
   ]
  },
  {
   "cell_type": "markdown",
   "metadata": {},
   "source": [
    "- Préparation des colonnes:"
   ]
  },
  {
   "cell_type": "code",
   "execution_count": 9,
   "metadata": {},
   "outputs": [],
   "source": [
    "col_names = ['AUFTRNR','KDNR','ARTNRERF','WTR','ARTGRERF','DATERF','PREISERF','PREIS','EKP','PREISNET','RABATT','RABATTSATZ',\n",
    "             'MENGE','MENGERET','DEPARTEMENT','CAUFTRAGSPOS','MWST','MWSTRABATT','ANZKINDER','ANLAGEDAT',\n",
    "             'DATAUFTRAG1','STRASSE','PLZ','ORT','BUNDESLAND','CLAND','CWERBESP','DATWERBESP','CLIEFERSP','DATLIEFERSP',\n",
    "             'CADRESSSP','DATADRESSSP','UMSATZ1','DATLETZTAUFTR','UMSLETZTAUFTR','ANZKATLETZTAUFTR','WKOSTLETZTAUFTR',\n",
    "             'DBKDNR','WKOSTENKUM','UMSATZKUM','UMSATZKUMTEL','UMSATZKUMFAX','UMSATZKUMWEB','UMSATZLIEFKUM','RUECKSTAUFTR',\n",
    "             'ANZAUFTR','REFPRES','REFSTK','CODDOC','PLANEKP','RAYON','FAMILLE','DEPART','CODMARQ','ARTGROESSE','DATAUFTRAG',\n",
    "             'DATERFASSUNG','DATVERARB','GUTSCHEINWERT']"
   ]
  },
  {
   "cell_type": "code",
   "execution_count": 10,
   "metadata": {},
   "outputs": [],
   "source": [
    "dict_department = {'B':'BEBE','N':'PAP FILLE','U':'PAP GARCON','D':'CHAUSSURE','F':'FEMME',\n",
    "'T':'TEXTILE HOME','P':'PUERICULTURE','W':'NON PAP ENFANT','K':'DECO','M':'CHAMBRE ET LITERIE','R':'JOUETS'}"
   ]
  },
  {
   "cell_type": "markdown",
   "metadata": {},
   "source": [
    "<h3> Création du data </h3>"
   ]
  },
  {
   "cell_type": "markdown",
   "metadata": {},
   "source": [
    "- Définition des répertoires :"
   ]
  },
  {
   "cell_type": "code",
   "execution_count": 11,
   "metadata": {},
   "outputs": [],
   "source": [
    "repertoire = \"C:/Users/UgoMANTEL/Work/Github/Vertbaudet_2021/data/1. Germany\"\n"
   ]
  },
  {
   "cell_type": "code",
   "execution_count": 12,
   "metadata": {},
   "outputs": [],
   "source": [
    "output_rep = \"C:/Users/UgoMANTEL/eleven/Engagements - Vertbaudet/5. Analyses/3. Outputs python\""
   ]
  },
  {
   "cell_type": "markdown",
   "metadata": {},
   "source": [
    "- Création de la donnée:"
   ]
  },
  {
   "cell_type": "code",
   "execution_count": 13,
   "metadata": {},
   "outputs": [],
   "source": [
    "df = pd.DataFrame()\n",
    "for file in os.listdir(repertoire):\n",
    "    file_name_tmp = os.path.join(repertoire,file)\n",
    "    df_tmp = pd.read_csv(file_name_tmp,sep=\",\",encoding= \"unicode_escape\", usecols=col_names)\n",
    "    \n",
    "    df_tmp = df_tmp.loc[df_tmp.CAUFTRAGSPOS!='$null$']\n",
    "    df_tmp.CAUFTRAGSPOS = df_tmp.CAUFTRAGSPOS.astype(int)\n",
    "    df_tmp = df_tmp.loc[df_tmp.CAUFTRAGSPOS <= 7]\n",
    "    \n",
    "    ################### CONVERSION DES CHAMPS ###################\n",
    "    df_tmp['DATERF'] = pd.to_datetime(df_tmp.DATERF)\n",
    "    df_tmp['DATAUFTRAG1'] = pd.to_datetime(df_tmp.DATAUFTRAG1)\n",
    "    df_tmp.DEPARTEMENT = df_tmp.DEPARTEMENT.map(dict_department) \n",
    "    \n",
    "    ################### CREATION DES CHAMPS ###################\n",
    "    df_tmp['TOT_SALES'] = (df_tmp.PREIS - df_tmp.RABATT)*(df_tmp.MENGE - df_tmp.MENGERET)\n",
    "    df_tmp['NET_DEMAND'] = (df_tmp.PREIS - df_tmp.RABATT) * df_tmp.MENGE\n",
    "    df_tmp['GROSS_DEMAND'] = df_tmp.PREIS * df_tmp.MENGE\n",
    "    df_tmp['YEAR_FIRST_ORDER'] = df_tmp.DATAUFTRAG1.dt.year\n",
    "    df_tmp['YEAR_ORDER'] = df_tmp.DATERF.dt.year\n",
    "    df_tmp['COHORT'] = df_tmp.YEAR_FIRST_ORDER.apply(lambda x: cohort_attribution(x))\n",
    "    df_tmp['MONTH_RECRUITMENT'] = df_tmp.DATAUFTRAG1.dt.month\n",
    "    df_tmp['ID_ORDER'] = df_tmp.AUFTRNR.astype(str) + '_'+ df_tmp.KDNR.astype(str)\n",
    "    \n",
    "    cat_order =  df_tmp.groupby(['ID_ORDER','DEPARTEMENT']).agg({'NET_DEMAND':sum}).reset_index().sort_values(by='NET_DEMAND',\n",
    "    cat_order = cat_order.drop_duplicates(subset=['ID_ORDER'],keep='first')\n",
    "    cat_order.columns = ['ID_ORDER','DEPARTEMENT_CMD','NET_DEMAND']\n",
    "    df_tmp = pd.merge(df_tmp,cat_order[['ID_ORDER','DEPARTEMENT_CMD']], on='ID_ORDER', how='left', suffixes=(False,False))\n",
    "    \n",
    "    df_tmp = df_tmp[['DATERF','DATAUFTRAG1','DEPARTEMENT','TOT_SALES','NET_DEMAND','GROSS_DEMAND',\n",
    "                    'YEAR_FIRST_ORDER','YEAR_ORDER','COHORT','MONTH_RECRUITMENT','ID_ORDER','KDNR','ARTNRERF',\n",
    "                     'DEPARTEMENT_CMD','RABATT','RABATTSATZ','PREIS','ANZKINDER','ARTGRERF','ARTGROESSE']]\n",
    "    df = pd.concat([df,df_tmp])\n",
    "    del(df_tmp)\n",
    "\n",
    "################### CREATION DE CHAMPS ###################\n",
    "################### UNIVERS RECRUTEMENT\n",
    "cat_rec = df.sort_values(by='DATERF',ascending=True).drop_duplicates(subset='KDNR', keep='first', inplace=False)[['KDNR','DEPARTEMENT_CMD']] \n",
    "cat_rec.columns = ['KDNR','DEPARTEMENT_FIRST']\n",
    "df = pd.merge(df,cat_rec,on='KDNR',how='left',suffixes=(False,False))\n",
    "\n",
    "################### DATE POUR LTV 12/24 MOIS\n",
    "df['DATAUFTRAG1_12MONTH'] = df['DATAUFTRAG1']+ timedelta(days=365)\n",
    "df['DATAUFTRAG1_24MONTH'] = df['DATAUFTRAG1']+ timedelta(days=730)"
   ]
  },
  {
   "cell_type": "code",
   "execution_count": 24,
   "metadata": {
    "scrolled": true
   },
   "outputs": [
    {
     "data": {
      "text/html": [
       "<div>\n",
       "<style scoped>\n",
       "    .dataframe tbody tr th:only-of-type {\n",
       "        vertical-align: middle;\n",
       "    }\n",
       "\n",
       "    .dataframe tbody tr th {\n",
       "        vertical-align: top;\n",
       "    }\n",
       "\n",
       "    .dataframe thead th {\n",
       "        text-align: right;\n",
       "    }\n",
       "</style>\n",
       "<table border=\"1\" class=\"dataframe\">\n",
       "  <thead>\n",
       "    <tr style=\"text-align: right;\">\n",
       "      <th></th>\n",
       "      <th>GROSS_DEMAND</th>\n",
       "    </tr>\n",
       "    <tr>\n",
       "      <th>YEAR_ORDER</th>\n",
       "      <th></th>\n",
       "    </tr>\n",
       "  </thead>\n",
       "  <tbody>\n",
       "    <tr>\n",
       "      <th>2017</th>\n",
       "      <td>8.630089e+07</td>\n",
       "    </tr>\n",
       "    <tr>\n",
       "      <th>2018</th>\n",
       "      <td>7.610053e+07</td>\n",
       "    </tr>\n",
       "    <tr>\n",
       "      <th>2019</th>\n",
       "      <td>6.114711e+07</td>\n",
       "    </tr>\n",
       "    <tr>\n",
       "      <th>2020</th>\n",
       "      <td>7.100106e+07</td>\n",
       "    </tr>\n",
       "    <tr>\n",
       "      <th>2021</th>\n",
       "      <td>7.644318e+07</td>\n",
       "    </tr>\n",
       "  </tbody>\n",
       "</table>\n",
       "</div>"
      ],
      "text/plain": [
       "            GROSS_DEMAND\n",
       "YEAR_ORDER              \n",
       "2017        8.630089e+07\n",
       "2018        7.610053e+07\n",
       "2019        6.114711e+07\n",
       "2020        7.100106e+07\n",
       "2021        7.644318e+07"
      ]
     },
     "execution_count": 24,
     "metadata": {},
     "output_type": "execute_result"
    }
   ],
   "source": [
    "df.groupby(['YEAR_ORDER']).agg({'GROSS_DEMAND' : sum})"
   ]
  },
  {
   "cell_type": "code",
   "execution_count": 38,
   "metadata": {},
   "outputs": [],
   "source": [
    "file_name = 'data_LTV_Germany.csv'\n",
    "df.to_csv(os.path.join(output_rep,file_name),sep=\";\")"
   ]
  },
  {
   "cell_type": "markdown",
   "metadata": {},
   "source": [
    "<h1> Sales according the product size </h1>"
   ]
  },
  {
   "cell_type": "markdown",
   "metadata": {},
   "source": [
    "- Import du dataset:"
   ]
  },
  {
   "cell_type": "code",
   "execution_count": 31,
   "metadata": {},
   "outputs": [],
   "source": [
    "df_size = pd.read_csv(\"C:/Users/UgoMANTEL/Work/Github/Vertbaudet_2021/data/3. Other/20210928_SIZE_ARTICLE_GER.tab\",sep=\"\\t\",encoding= \"unicode_escape\")"
   ]
  },
  {
   "cell_type": "code",
   "execution_count": 34,
   "metadata": {},
   "outputs": [
    {
     "data": {
      "text/html": [
       "<div>\n",
       "<style scoped>\n",
       "    .dataframe tbody tr th:only-of-type {\n",
       "        vertical-align: middle;\n",
       "    }\n",
       "\n",
       "    .dataframe tbody tr th {\n",
       "        vertical-align: top;\n",
       "    }\n",
       "\n",
       "    .dataframe thead th {\n",
       "        text-align: right;\n",
       "    }\n",
       "</style>\n",
       "<table border=\"1\" class=\"dataframe\">\n",
       "  <thead>\n",
       "    <tr style=\"text-align: right;\">\n",
       "      <th></th>\n",
       "      <th>PRODUCT_ID</th>\n",
       "      <th>PRODUCT_SIZE</th>\n",
       "      <th>PRODUCT_ATTRIBUTE</th>\n",
       "      <th>PRODUCT_ATTRIBUTE_TEXT</th>\n",
       "      <th>TRANSLATION EN</th>\n",
       "    </tr>\n",
       "  </thead>\n",
       "  <tbody>\n",
       "    <tr>\n",
       "      <th>0</th>\n",
       "      <td>1027384.0</td>\n",
       "      <td>92</td>\n",
       "      <td>$null$</td>\n",
       "      <td>KEIN MERKMAL</td>\n",
       "      <td>NO ATTRIBUTE</td>\n",
       "    </tr>\n",
       "    <tr>\n",
       "      <th>1</th>\n",
       "      <td>1027399.0</td>\n",
       "      <td>21</td>\n",
       "      <td>14</td>\n",
       "      <td>Schuhgrößen Gr. 012-040</td>\n",
       "      <td>Shoe sizes size 012-040</td>\n",
       "    </tr>\n",
       "    <tr>\n",
       "      <th>2</th>\n",
       "      <td>1027399.0</td>\n",
       "      <td>22</td>\n",
       "      <td>14</td>\n",
       "      <td>Schuhgrößen Gr. 012-040</td>\n",
       "      <td>Shoe sizes size 012-040</td>\n",
       "    </tr>\n",
       "    <tr>\n",
       "      <th>3</th>\n",
       "      <td>1027399.0</td>\n",
       "      <td>23</td>\n",
       "      <td>14</td>\n",
       "      <td>Schuhgrößen Gr. 012-040</td>\n",
       "      <td>Shoe sizes size 012-040</td>\n",
       "    </tr>\n",
       "    <tr>\n",
       "      <th>4</th>\n",
       "      <td>1027399.0</td>\n",
       "      <td>25</td>\n",
       "      <td>14</td>\n",
       "      <td>Schuhgrößen Gr. 012-040</td>\n",
       "      <td>Shoe sizes size 012-040</td>\n",
       "    </tr>\n",
       "    <tr>\n",
       "      <th>...</th>\n",
       "      <td>...</td>\n",
       "      <td>...</td>\n",
       "      <td>...</td>\n",
       "      <td>...</td>\n",
       "      <td>...</td>\n",
       "    </tr>\n",
       "    <tr>\n",
       "      <th>228256</th>\n",
       "      <td>9999537.0</td>\n",
       "      <td>071</td>\n",
       "      <td>$null$</td>\n",
       "      <td>KEIN MERKMAL</td>\n",
       "      <td>NO ATTRIBUTE</td>\n",
       "    </tr>\n",
       "    <tr>\n",
       "      <th>228257</th>\n",
       "      <td>9999537.0</td>\n",
       "      <td>074</td>\n",
       "      <td>$null$</td>\n",
       "      <td>KEIN MERKMAL</td>\n",
       "      <td>NO ATTRIBUTE</td>\n",
       "    </tr>\n",
       "    <tr>\n",
       "      <th>228258</th>\n",
       "      <td>9999537.0</td>\n",
       "      <td>080</td>\n",
       "      <td>$null$</td>\n",
       "      <td>KEIN MERKMAL</td>\n",
       "      <td>NO ATTRIBUTE</td>\n",
       "    </tr>\n",
       "    <tr>\n",
       "      <th>228259</th>\n",
       "      <td>9999537.0</td>\n",
       "      <td>086</td>\n",
       "      <td>$null$</td>\n",
       "      <td>KEIN MERKMAL</td>\n",
       "      <td>NO ATTRIBUTE</td>\n",
       "    </tr>\n",
       "    <tr>\n",
       "      <th>228260</th>\n",
       "      <td>9999537.0</td>\n",
       "      <td>092</td>\n",
       "      <td>$null$</td>\n",
       "      <td>KEIN MERKMAL</td>\n",
       "      <td>NO ATTRIBUTE</td>\n",
       "    </tr>\n",
       "  </tbody>\n",
       "</table>\n",
       "<p>228261 rows × 5 columns</p>\n",
       "</div>"
      ],
      "text/plain": [
       "        PRODUCT_ID PRODUCT_SIZE PRODUCT_ATTRIBUTE  \\\n",
       "0        1027384.0           92            $null$   \n",
       "1        1027399.0           21                14   \n",
       "2        1027399.0           22                14   \n",
       "3        1027399.0           23                14   \n",
       "4        1027399.0           25                14   \n",
       "...            ...          ...               ...   \n",
       "228256   9999537.0         071             $null$   \n",
       "228257   9999537.0         074             $null$   \n",
       "228258   9999537.0         080             $null$   \n",
       "228259   9999537.0         086             $null$   \n",
       "228260   9999537.0         092             $null$   \n",
       "\n",
       "                          PRODUCT_ATTRIBUTE_TEXT           TRANSLATION EN  \n",
       "0       KEIN MERKMAL                                         NO ATTRIBUTE  \n",
       "1       Schuhgrößen Gr. 012-040                   Shoe sizes size 012-040  \n",
       "2       Schuhgrößen Gr. 012-040                   Shoe sizes size 012-040  \n",
       "3       Schuhgrößen Gr. 012-040                   Shoe sizes size 012-040  \n",
       "4       Schuhgrößen Gr. 012-040                   Shoe sizes size 012-040  \n",
       "...                                          ...                      ...  \n",
       "228256  KEIN MERKMAL                                         NO ATTRIBUTE  \n",
       "228257  KEIN MERKMAL                                         NO ATTRIBUTE  \n",
       "228258  KEIN MERKMAL                                         NO ATTRIBUTE  \n",
       "228259  KEIN MERKMAL                                         NO ATTRIBUTE  \n",
       "228260  KEIN MERKMAL                                         NO ATTRIBUTE  \n",
       "\n",
       "[228261 rows x 5 columns]"
      ]
     },
     "execution_count": 34,
     "metadata": {},
     "output_type": "execute_result"
    }
   ],
   "source": [
    "df_size"
   ]
  },
  {
   "cell_type": "code",
   "execution_count": 67,
   "metadata": {},
   "outputs": [
    {
     "data": {
      "text/plain": [
       "array(['146', '122', '116', '128', '134', '158', '092', '110', '098',\n",
       "       '140', '086', '000', 'VB', 116, 0, 140, 128, 146, 110, 86, 122, 92,\n",
       "       98, 134, 158, '004', 74, 1, '001', '002', 37, '074', '044', 44, 48,\n",
       "       '037', '048', '080', 80, '068', 71, 68, 62, '071', 3, 2, '062',\n",
       "       '003', 'U', 'N', 4, 'RN', 5, '070', 70, '005', 'C1', 'AV', 'A5',\n",
       "       'HT', '164', '170', 170, 164, 'ME', 'BM', 'L2', 'CF', 'MY', 'BA',\n",
       "       'PN', 'R2', 'MK', '060', 60, 'DM', 'WD', 'SW'], dtype=object)"
      ]
     },
     "execution_count": 67,
     "metadata": {},
     "output_type": "execute_result"
    }
   ],
   "source": [
    "df.loc[df.DEPARTEMENT.isin(['PAP FILLE','PAP GARCON','PUERICULTURE'])].ARTGROESSE.unique()"
   ]
  },
  {
   "cell_type": "markdown",
   "metadata": {},
   "source": [
    "<h1> Sales according the number of children </h1>"
   ]
  },
  {
   "cell_type": "markdown",
   "metadata": {},
   "source": [
    "- Import du dataset:"
   ]
  },
  {
   "cell_type": "code",
   "execution_count": 19,
   "metadata": {},
   "outputs": [],
   "source": [
    "df_children = pd.read_csv(\"C:/Users/UgoMANTEL/Work/Github/Vertbaudet_2021/data/3. Other/20210927_Number_children_GER.csv\",sep=\",\")"
   ]
  },
  {
   "cell_type": "markdown",
   "metadata": {},
   "source": [
    "- Séléction des colonnes :"
   ]
  },
  {
   "cell_type": "code",
   "execution_count": 20,
   "metadata": {},
   "outputs": [
    {
     "data": {
      "text/html": [
       "<div>\n",
       "<style scoped>\n",
       "    .dataframe tbody tr th:only-of-type {\n",
       "        vertical-align: middle;\n",
       "    }\n",
       "\n",
       "    .dataframe tbody tr th {\n",
       "        vertical-align: top;\n",
       "    }\n",
       "\n",
       "    .dataframe thead th {\n",
       "        text-align: right;\n",
       "    }\n",
       "</style>\n",
       "<table border=\"1\" class=\"dataframe\">\n",
       "  <thead>\n",
       "    <tr style=\"text-align: right;\">\n",
       "      <th></th>\n",
       "      <th>DATERSTELL</th>\n",
       "      <th>BASE</th>\n",
       "      <th>KDNR</th>\n",
       "      <th>ORIGINAL</th>\n",
       "      <th>GESCHLECHT</th>\n",
       "      <th>GEBDATUM</th>\n",
       "      <th>STICHTAG</th>\n",
       "    </tr>\n",
       "  </thead>\n",
       "  <tbody>\n",
       "    <tr>\n",
       "      <th>0</th>\n",
       "      <td>2018-05-03</td>\n",
       "      <td>MPLUS</td>\n",
       "      <td>5242</td>\n",
       "      <td>0</td>\n",
       "      <td>1</td>\n",
       "      <td>2010-05-01 00:00:00</td>\n",
       "      <td>2021-08-31</td>\n",
       "    </tr>\n",
       "    <tr>\n",
       "      <th>2</th>\n",
       "      <td>2018-11-10</td>\n",
       "      <td>MPLUS</td>\n",
       "      <td>5242</td>\n",
       "      <td>0</td>\n",
       "      <td>1</td>\n",
       "      <td>2010-11-01 00:00:00</td>\n",
       "      <td>2021-08-31</td>\n",
       "    </tr>\n",
       "    <tr>\n",
       "      <th>5</th>\n",
       "      <td>2017-01-22</td>\n",
       "      <td>MPLUS</td>\n",
       "      <td>5242</td>\n",
       "      <td>0</td>\n",
       "      <td>1</td>\n",
       "      <td>2011-01-01 00:00:00</td>\n",
       "      <td>2021-08-31</td>\n",
       "    </tr>\n",
       "    <tr>\n",
       "      <th>6</th>\n",
       "      <td>2017-02-15</td>\n",
       "      <td>MPLUS</td>\n",
       "      <td>5242</td>\n",
       "      <td>0</td>\n",
       "      <td>1</td>\n",
       "      <td>2011-02-01 00:00:00</td>\n",
       "      <td>2021-08-31</td>\n",
       "    </tr>\n",
       "    <tr>\n",
       "      <th>7</th>\n",
       "      <td>2018-03-24</td>\n",
       "      <td>MPLUS</td>\n",
       "      <td>5242</td>\n",
       "      <td>0</td>\n",
       "      <td>1</td>\n",
       "      <td>2011-03-01 00:00:00</td>\n",
       "      <td>2021-08-31</td>\n",
       "    </tr>\n",
       "    <tr>\n",
       "      <th>...</th>\n",
       "      <td>...</td>\n",
       "      <td>...</td>\n",
       "      <td>...</td>\n",
       "      <td>...</td>\n",
       "      <td>...</td>\n",
       "      <td>...</td>\n",
       "      <td>...</td>\n",
       "    </tr>\n",
       "    <tr>\n",
       "      <th>11568707</th>\n",
       "      <td>2021-07-16</td>\n",
       "      <td>MPLUS</td>\n",
       "      <td>36398670</td>\n",
       "      <td>0</td>\n",
       "      <td>1</td>\n",
       "      <td>2019-07-01 00:00:00</td>\n",
       "      <td>2021-08-31</td>\n",
       "    </tr>\n",
       "    <tr>\n",
       "      <th>11568708</th>\n",
       "      <td>2021-07-16</td>\n",
       "      <td>MPLUS</td>\n",
       "      <td>36398670</td>\n",
       "      <td>0</td>\n",
       "      <td>2</td>\n",
       "      <td>2011-07-01 00:00:00</td>\n",
       "      <td>2021-08-31</td>\n",
       "    </tr>\n",
       "    <tr>\n",
       "      <th>11568709</th>\n",
       "      <td>2021-07-16</td>\n",
       "      <td>MPLUS</td>\n",
       "      <td>36398670</td>\n",
       "      <td>0</td>\n",
       "      <td>2</td>\n",
       "      <td>2013-07-01 00:00:00</td>\n",
       "      <td>2021-08-31</td>\n",
       "    </tr>\n",
       "    <tr>\n",
       "      <th>11568710</th>\n",
       "      <td>2021-07-16</td>\n",
       "      <td>MPLUS</td>\n",
       "      <td>36398696</td>\n",
       "      <td>0</td>\n",
       "      <td>1</td>\n",
       "      <td>2011-07-01 00:00:00</td>\n",
       "      <td>2021-08-31</td>\n",
       "    </tr>\n",
       "    <tr>\n",
       "      <th>11568711</th>\n",
       "      <td>2021-07-16</td>\n",
       "      <td>MPLUS</td>\n",
       "      <td>36398696</td>\n",
       "      <td>0</td>\n",
       "      <td>1</td>\n",
       "      <td>2013-07-01 00:00:00</td>\n",
       "      <td>2021-08-31</td>\n",
       "    </tr>\n",
       "  </tbody>\n",
       "</table>\n",
       "<p>10246487 rows × 7 columns</p>\n",
       "</div>"
      ],
      "text/plain": [
       "         DATERSTELL   BASE      KDNR  ORIGINAL  GESCHLECHT  \\\n",
       "0        2018-05-03  MPLUS      5242         0           1   \n",
       "2        2018-11-10  MPLUS      5242         0           1   \n",
       "5        2017-01-22  MPLUS      5242         0           1   \n",
       "6        2017-02-15  MPLUS      5242         0           1   \n",
       "7        2018-03-24  MPLUS      5242         0           1   \n",
       "...             ...    ...       ...       ...         ...   \n",
       "11568707 2021-07-16  MPLUS  36398670         0           1   \n",
       "11568708 2021-07-16  MPLUS  36398670         0           2   \n",
       "11568709 2021-07-16  MPLUS  36398670         0           2   \n",
       "11568710 2021-07-16  MPLUS  36398696         0           1   \n",
       "11568711 2021-07-16  MPLUS  36398696         0           1   \n",
       "\n",
       "                     GEBDATUM    STICHTAG  \n",
       "0         2010-05-01 00:00:00  2021-08-31  \n",
       "2         2010-11-01 00:00:00  2021-08-31  \n",
       "5         2011-01-01 00:00:00  2021-08-31  \n",
       "6         2011-02-01 00:00:00  2021-08-31  \n",
       "7         2011-03-01 00:00:00  2021-08-31  \n",
       "...                       ...         ...  \n",
       "11568707  2019-07-01 00:00:00  2021-08-31  \n",
       "11568708  2011-07-01 00:00:00  2021-08-31  \n",
       "11568709  2013-07-01 00:00:00  2021-08-31  \n",
       "11568710  2011-07-01 00:00:00  2021-08-31  \n",
       "11568711  2013-07-01 00:00:00  2021-08-31  \n",
       "\n",
       "[10246487 rows x 7 columns]"
      ]
     },
     "execution_count": 20,
     "metadata": {},
     "output_type": "execute_result"
    }
   ],
   "source": [
    "df_children['DATERSTELL'] = pd.to_datetime(df_children.DATERSTELL)\n",
    "df_children.sort_values(by='DATERSTELL', ascending=True)\n",
    "df_children.drop_duplicates(subset=['KDNR','GEBDATUM'], keep='last')"
   ]
  },
  {
   "cell_type": "code",
   "execution_count": 27,
   "metadata": {},
   "outputs": [],
   "source": [
    "res_children = flatten(df_children.groupby(['KDNR']).agg({'STICHTAG': pd.Series.nunique}))"
   ]
  },
  {
   "cell_type": "code",
   "execution_count": 26,
   "metadata": {},
   "outputs": [
    {
     "data": {
      "text/plain": [
       "count    2.498163e+06\n",
       "mean     4.101609e+00\n",
       "std      4.636346e+00\n",
       "min      1.000000e+00\n",
       "25%      1.000000e+00\n",
       "50%      3.000000e+00\n",
       "75%      5.000000e+00\n",
       "max      1.830000e+02\n",
       "Name: GEBDATUM, dtype: float64"
      ]
     },
     "execution_count": 26,
     "metadata": {},
     "output_type": "execute_result"
    }
   ],
   "source": [
    "res_children.GEBDATUM.describe()"
   ]
  },
  {
   "cell_type": "code",
   "execution_count": 29,
   "metadata": {},
   "outputs": [
    {
     "data": {
      "text/html": [
       "<div>\n",
       "<style scoped>\n",
       "    .dataframe tbody tr th:only-of-type {\n",
       "        vertical-align: middle;\n",
       "    }\n",
       "\n",
       "    .dataframe tbody tr th {\n",
       "        vertical-align: top;\n",
       "    }\n",
       "\n",
       "    .dataframe thead th {\n",
       "        text-align: right;\n",
       "    }\n",
       "</style>\n",
       "<table border=\"1\" class=\"dataframe\">\n",
       "  <thead>\n",
       "    <tr style=\"text-align: right;\">\n",
       "      <th></th>\n",
       "      <th>KDNR</th>\n",
       "      <th>STICHTAG</th>\n",
       "    </tr>\n",
       "  </thead>\n",
       "  <tbody>\n",
       "    <tr>\n",
       "      <th>count</th>\n",
       "      <td>2.498163e+06</td>\n",
       "      <td>2498163.0</td>\n",
       "    </tr>\n",
       "    <tr>\n",
       "      <th>mean</th>\n",
       "      <td>1.741517e+07</td>\n",
       "      <td>1.0</td>\n",
       "    </tr>\n",
       "    <tr>\n",
       "      <th>std</th>\n",
       "      <td>1.054467e+07</td>\n",
       "      <td>0.0</td>\n",
       "    </tr>\n",
       "    <tr>\n",
       "      <th>min</th>\n",
       "      <td>3.800000e+01</td>\n",
       "      <td>1.0</td>\n",
       "    </tr>\n",
       "    <tr>\n",
       "      <th>25%</th>\n",
       "      <td>8.480833e+06</td>\n",
       "      <td>1.0</td>\n",
       "    </tr>\n",
       "    <tr>\n",
       "      <th>50%</th>\n",
       "      <td>1.659225e+07</td>\n",
       "      <td>1.0</td>\n",
       "    </tr>\n",
       "    <tr>\n",
       "      <th>75%</th>\n",
       "      <td>2.694292e+07</td>\n",
       "      <td>1.0</td>\n",
       "    </tr>\n",
       "    <tr>\n",
       "      <th>max</th>\n",
       "      <td>3.674955e+07</td>\n",
       "      <td>1.0</td>\n",
       "    </tr>\n",
       "  </tbody>\n",
       "</table>\n",
       "</div>"
      ],
      "text/plain": [
       "               KDNR   STICHTAG\n",
       "count  2.498163e+06  2498163.0\n",
       "mean   1.741517e+07        1.0\n",
       "std    1.054467e+07        0.0\n",
       "min    3.800000e+01        1.0\n",
       "25%    8.480833e+06        1.0\n",
       "50%    1.659225e+07        1.0\n",
       "75%    2.694292e+07        1.0\n",
       "max    3.674955e+07        1.0"
      ]
     },
     "execution_count": 29,
     "metadata": {},
     "output_type": "execute_result"
    }
   ],
   "source": [
    "res_children.describe()"
   ]
  },
  {
   "cell_type": "code",
   "execution_count": null,
   "metadata": {},
   "outputs": [],
   "source": []
  }
 ],
 "metadata": {
  "kernelspec": {
   "display_name": "Python 3",
   "language": "python",
   "name": "python3"
  },
  "language_info": {
   "codemirror_mode": {
    "name": "ipython",
    "version": 3
   },
   "file_extension": ".py",
   "mimetype": "text/x-python",
   "name": "python",
   "nbconvert_exporter": "python",
   "pygments_lexer": "ipython3",
   "version": "3.7.7"
  }
 },
 "nbformat": 4,
 "nbformat_minor": 4
}
