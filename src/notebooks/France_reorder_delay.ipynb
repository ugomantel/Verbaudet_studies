{
 "cells": [
  {
   "cell_type": "code",
   "execution_count": null,
   "id": "3cb1ff36",
   "metadata": {},
   "outputs": [],
   "source": [
    "import os\n",
    "import pandas as pd\n",
    "import numpy as np\n",
    "from datetime import date, datetime, timedelta\n",
    "today = date.today().strftime(\"%Y%m%d\")\n",
    "\n",
    "import gc"
   ]
  },
  {
   "cell_type": "code",
   "execution_count": null,
   "id": "79a4f06e",
   "metadata": {},
   "outputs": [],
   "source": [
    "### Preliminar functions and imports\n",
    "\n",
    "def customer_category_attribution(x):\n",
    "    if x==1:\n",
    "        return 'One-timer'\n",
    "    if x==2:\n",
    "        return 'Two-timer'\n",
    "    else:\n",
    "        return 'Recurring'\n",
    "\n",
    "def flatten (table):\n",
    "    if type(table.columns)==pd.MultiIndex:\n",
    "        columns_to_look = [name_tmp for name_tmp in table.columns]\n",
    "\n",
    "        columns_df = [ str(t[0])+'_'+str(t[1]) for t in columns_to_look]\n",
    "        columns_df.insert(0,table.index.name)\n",
    "\n",
    "        df = pd.DataFrame(columns = columns_df)\n",
    "\n",
    "        index = 0\n",
    "        for i in table.index:\n",
    "            row = [table[r][i] for r in columns_to_look]\n",
    "            row.insert(0,i)\n",
    "            df.loc[index] = row\n",
    "            index = index + 1\n",
    "        return(df)\n",
    "    else :\n",
    "        table = pd.DataFrame(table)\n",
    "        table.reset_index(level=0, inplace=True)\n",
    "        return table\n",
    "\n",
    "df_articles = pd.read_csv('./Vertbaudet/France/src/Original/Articles/Export_FR_Articles_Julie.csv',\n",
    "                                     usecols = [\"DEPARTEMENT_NIV2\",\"CODSAI\",\"REFSTK\", \"TOP_MN_Max\"])\n",
    "\n",
    "df_codsoc = pd.read_csv('./Vertbaudet/France/src/20210921_CODSOC.csv')\n",
    "\n",
    "df_client_dept = pd.read_csv('./20210923_Export_tab_FR/20210921_INDIVIDUS.tab', sep = '\\t',\n",
    "                 usecols = ['IDIND', 'CODPOST', \"DATPREMCDEWEB\"])\n",
    "\n",
    "clients_mag = pd.read_csv(\"./Vertbaudet/France/src/20211004_UNIQUE_IDIND_TICKET.csv\",sep=\",\")\n",
    "\n",
    "df_client = pd.read_csv('./Vertbaudet/France/Output_old/iris_med_rev_clients.csv', usecols = ['IDIND', 'Mediane'])\n",
    "\n",
    "df_IRIS_by_dep = pd.read_excel('./Vertbaudet/France/INSEE_data/INSEE_IRIS_by_dep.xlsx', usecols = ['CODGEO','MED18'])"
   ]
  },
  {
   "cell_type": "markdown",
   "id": "cfa2daee",
   "metadata": {},
   "source": [
    "# Load datas"
   ]
  },
  {
   "cell_type": "code",
   "execution_count": null,
   "id": "3b45396e",
   "metadata": {},
   "outputs": [],
   "source": [
    "gc.collect()\n",
    "df = pd.DataFrame()\n",
    "for year in range(2017,2022):\n",
    "    print(year)\n",
    "    gc.collect()\n",
    "    df_tmp = pd.read_csv('./Vertbaudet/France/src/Original/Lignes_commandes/Export_FR_LIGNECOMMANDE_'+str(year)+'.csv', \n",
    "                              encoding = 'unicode_escape', \n",
    "                              usecols = ['IDIND', 'IDCLI', 'IDFOYER', 'DATCDE', 'DN', 'DBI', 'QTE', 'NUMCDE', 'CODSAI','REFSTK'])\n",
    "\n",
    "    ### Merge with article table to get DEPARTEMENT_NIV2\n",
    "    df_tmp = df_tmp.merge(df_articles, how = 'left', on = [\"CODSAI\",\"REFSTK\"])\n",
    "    \n",
    "    ### Replace $null$\n",
    "    df_tmp = df_tmp.replace({'$null$': np.nan})\n",
    "    ### Clean IDIND index \n",
    "    df_tmp.IDIND = df_tmp.IDIND.astype(float)\n",
    "    df_tmp.IDFOYER = df_tmp.IDFOYER.astype(float)\n",
    "    \n",
    "    ### Filter mag clients\n",
    "    df_tmp = df_tmp[~df_tmp.IDIND.isin(clients_mag.IDIND)]\n",
    "\n",
    "    ### Filter non-french command with CODSOC\n",
    "    df_tmp = df_tmp.merge(df_codsoc, how = 'left', on = 'NUMCDE')\n",
    "    df_tmp = df_tmp[df_tmp.CODSOC==0]\n",
    "\n",
    "    #### Merge to get Mediane rev\n",
    "    df_tmp = df_tmp.merge(df_client, how = 'left', on = 'IDIND')\n",
    "\n",
    "    ### add departments and cohort\n",
    "    df_tmp = df_tmp.merge(df_client_dept.replace({'$null$': np.nan}), how = 'left', on = 'IDIND')\n",
    "    df_tmp = df_tmp[df_tmp.DATPREMCDEWEB != '$null$']\n",
    "    df_tmp['DATCDE'] = pd.to_datetime(df_tmp[\"DATCDE\"])\n",
    "    df_tmp['DATPREMCDEWEB'] = pd.to_datetime(df_tmp[\"DATPREMCDEWEB\"])\n",
    "    #df_tmp['DEPARTEMENT'] = df_tmp['CODPOST'].apply(lambda x : str(x)[:2])\n",
    "    df_tmp['COHORT'] = pd.to_datetime(df_tmp[\"DATPREMCDEWEB\"]).dt.year\n",
    "    \n",
    "    ### filter cohort\n",
    "    df_tmp = df_tmp[(df_tmp['COHORT'] >= 2017) & (df_tmp['COHORT'] < 2021)]\n",
    "    \n",
    "    ### filter on DN <= DB\n",
    "    df_tmp = df_tmp[df_tmp.DN <= df_tmp.DBI]\n",
    "    df_tmp = df_tmp[df_tmp.DN >= 0]\n",
    "\n",
    "    df = pd.concat([df,df_tmp[['IDIND', 'DN', 'DBI', 'NUMCDE', 'DATCDE', 'DATPREMCDEWEB', 'DEPARTEMENT_NIV2', 'QTE', 'Mediane', 'COHORT', 'TOP_MN_Max']]])\n",
    "  \n",
    "    del df_tmp\n",
    "    gc.collect()"
   ]
  },
  {
   "cell_type": "markdown",
   "id": "dff68132",
   "metadata": {},
   "source": [
    "### Adding fields"
   ]
  },
  {
   "cell_type": "code",
   "execution_count": 8,
   "id": "eb1e6728",
   "metadata": {},
   "outputs": [],
   "source": [
    "# Exclude B2B clients\n",
    "df_b2b = pd.read_csv('./Vertbaudet/France/src/20211012_TB2B.csv')\n",
    "df_b2b[['IDIND', 'TB2B']] = df_b2b[['IDIND', 'TB2B']].astype(float)\n",
    "df = df.merge(df_b2b, how = 'left', on = 'IDIND')\n",
    "df = df[df['TB2B']==0]\n",
    "df = df.drop(columns = ['TB2B'])\n",
    "del df_b2b"
   ]
  },
  {
   "cell_type": "code",
   "execution_count": 9,
   "id": "7e66bbeb",
   "metadata": {},
   "outputs": [],
   "source": [
    "### Add CLIENT_CATEGORY\n",
    "nb_commande = flatten(df.groupby(['IDIND']).agg({'NUMCDE':pd.Series.nunique}))\n",
    "nb_commande.columns = ['IDIND','NB_ORDERS']\n",
    "df = pd.merge(df,nb_commande,on='IDIND',how='left',suffixes=(False,False))\n",
    "df['CLIENT_CATEGORY'] = df.NB_ORDERS.apply(lambda x: customer_category_attribution(x))"
   ]
  },
  {
   "cell_type": "code",
   "execution_count": 29,
   "id": "327d40bf",
   "metadata": {
    "scrolled": true
   },
   "outputs": [
    {
     "data": {
      "text/plain": [
       "93"
      ]
     },
     "execution_count": 29,
     "metadata": {},
     "output_type": "execute_result"
    }
   ],
   "source": [
    "### Add DEPARTEMENT_CMD field\n",
    "cat_order = df.groupby(['NUMCDE', 'DEPARTEMENT_NIV2']).agg({'DN': sum, 'DEPARTEMENT_NIV2': 'first'})\n",
    "cat_order = cat_order.sort_values(by='DN',ascending=False).groupby('NUMCDE').agg({'DEPARTEMENT_NIV2': 'first'})\n",
    "cat_order = cat_order.rename(columns = {'DEPARTEMENT_NIV2': 'DEPARTEMENT_CMD'})\n",
    "\n",
    "df = pd.merge(df,cat_order, how='left', on='NUMCDE', right_index = False,  suffixes=(False,False))\n",
    "\n",
    "del cat_order\n",
    "gc.collect()"
   ]
  },
  {
   "cell_type": "code",
   "execution_count": 30,
   "id": "72522b38",
   "metadata": {},
   "outputs": [],
   "source": [
    "### Add DEPARTEMENT_FIRST (majority department of first command)\n",
    "cat_rec = df.sort_values(by='DATCDE',ascending=True).drop_duplicates(subset='IDIND', keep='first', inplace=False)[['IDIND','DEPARTEMENT_CMD']]\n",
    "cat_rec.columns = ['IDIND','DEPARTEMENT_FIRST']\n",
    "df = pd.merge(df,cat_rec,on='IDIND',how='left',suffixes=(False,False))"
   ]
  },
  {
   "cell_type": "code",
   "execution_count": 9,
   "id": "c3e6690e",
   "metadata": {},
   "outputs": [],
   "source": [
    "### Add DEPARTMENT_MAJORITAIRE\n",
    "\n",
    "univ_maj = df.groupby(['IDIND','DEPARTEMENT_NIV2']).agg({'DN' : 'sum'})\n",
    "univ_maj.reset_index(inplace=True)\n",
    "\n",
    "\n",
    "univ_maj = univ_maj.sort_values(by='DN',ascending=False).drop_duplicates(subset='IDIND', keep='first',inplace=False)\n",
    "univ_maj.columns =['IDIND','DEPARTEMENT_MAJORITAIRE','DN']\n",
    "\n",
    "\n",
    "df = pd.merge(df,univ_maj[['IDIND','DEPARTEMENT_MAJORITAIRE']],on='IDIND',how='left')\n",
    "\n",
    "del univ_maj"
   ]
  },
  {
   "cell_type": "markdown",
   "id": "55a2f3cf",
   "metadata": {},
   "source": [
    "- NB UNIV"
   ]
  },
  {
   "cell_type": "code",
   "execution_count": null,
   "id": "08019fca",
   "metadata": {},
   "outputs": [],
   "source": [
    "def map_nb_univ(x):\n",
    "    if x == 1:\n",
    "        return '1'\n",
    "    if x == 2:\n",
    "        return '2'\n",
    "    if x == 3:\n",
    "        return '3'\n",
    "    if x >= 4:\n",
    "        return '4+'\n",
    "\n",
    "### Create nb_univ field\n",
    "df_nb_univ = df.groupby('IDIND').agg({'DEPARTEMENT_NIV2': pd.Series.nunique}).rename(columns = {'DEPARTEMENT_NIV2': 'NB_UNIV'})\n",
    "df = df.merge(df_nb_univ, how = 'left', on = 'IDIND')\n",
    "\n",
    "del df_nb_univ\n",
    "gc.collect()\n",
    "\n",
    "df['NB_UNIV_CAT'] = df['NB_UNIV'].apply(map_nb_univ)"
   ]
  },
  {
   "cell_type": "markdown",
   "id": "62f91f79",
   "metadata": {},
   "source": [
    "- Compte de commande"
   ]
  },
  {
   "cell_type": "code",
   "execution_count": 11,
   "id": "054463a0",
   "metadata": {},
   "outputs": [],
   "source": [
    "nb_order =  flatten(df.sort_values(by='DATCDE',ascending=True).groupby(['NUMCDE']).agg({'IDIND':'first', 'DATCDE': 'first'}))\n",
    "nb_order['ORDER_NUMBER'] = nb_order.sort_values(by='DATCDE',ascending=True).groupby(['IDIND']).cumcount()+1\n",
    "df = pd.merge(df,nb_order[['NUMCDE','ORDER_NUMBER']],on='NUMCDE',how='left')"
   ]
  },
  {
   "cell_type": "markdown",
   "id": "e447a3f4",
   "metadata": {},
   "source": [
    "- LTV"
   ]
  },
  {
   "cell_type": "code",
   "execution_count": 17,
   "id": "57710718",
   "metadata": {},
   "outputs": [
    {
     "name": "stdout",
     "output_type": "stream",
     "text": [
      "118.4290346331584\n",
      "145.9997675242216\n"
     ]
    },
    {
     "data": {
      "text/plain": [
       "0"
      ]
     },
     "execution_count": 17,
     "metadata": {},
     "output_type": "execute_result"
    }
   ],
   "source": [
    "import datetime\n",
    "from datetime import datetime, time ,date ,timedelta\n",
    "\n",
    "# Add DAT_12 and DAT_14 column\n",
    "df['DAT_12'] = df['DATPREMCDEWEB'] + timedelta(days=365)\n",
    "df['DAT_24'] = df['DATPREMCDEWEB'] + timedelta(days=730)\n",
    "\n",
    "### Add LTV_12 column\n",
    "df_ltv_12 = df[df['DATCDE']<=df['DAT_12']][['IDIND', 'DN']]\n",
    "df_ltv_12 = df_ltv_12.groupby('IDIND').agg({'DN': sum})\n",
    "df_ltv_12 = df_ltv_12.rename(columns = {'DN': 'LTV_12'})\n",
    "print(df_ltv_12['LTV_12'].mean())\n",
    "df = df.merge(df_ltv_12, how = 'left', on = 'IDIND')\n",
    "\n",
    "del df_ltv_12\n",
    "\n",
    "### Add LTV_24 column\n",
    "df_ltv_24 = df[df['DATCDE']<=df['DAT_24']][['IDIND', 'DN']]\n",
    "df_ltv_24 = df_ltv_24.groupby('IDIND').agg({'DN': sum})\n",
    "df_ltv_24 = df_ltv_24.rename(columns = {'DN': 'LTV_24'})\n",
    "print(df_ltv_24['LTV_24'].mean())\n",
    "df = df.merge(df_ltv_24, how = 'left', on = 'IDIND')\n",
    "\n",
    "del df_ltv_24\n",
    "\n",
    "gc.collect()"
   ]
  },
  {
   "cell_type": "markdown",
   "id": "623ae534",
   "metadata": {},
   "source": [
    "- Churn delay"
   ]
  },
  {
   "cell_type": "code",
   "execution_count": 28,
   "id": "8e27ef2c",
   "metadata": {},
   "outputs": [
    {
     "data": {
      "text/plain": [
       "0"
      ]
     },
     "execution_count": 28,
     "metadata": {},
     "output_type": "execute_result"
    }
   ],
   "source": [
    "### Add churn_delay field\n",
    "df_churn = df.sort_values(by = 'DATCDE', ascending = True).groupby('IDIND').agg({'DATCDE': 'last', 'DATPREMCDEWEB': 'last', 'IDIND':'last'})\n",
    "df_second = df[df['ORDER_NUMBER'] == 2].drop_duplicates('IDIND')[['IDIND', 'DATCDE']].rename(columns = {'DATCDE': 'DATCDE_2'})\n",
    "df_churn = df_churn.merge(df_second, how = 'left', left_index = True,  right_on = 'IDIND')\n",
    "df_churn = df_churn.reset_index()\n",
    "df_churn['CHURN_DELAY'] = (df_churn['DATCDE'] + timedelta(days=365)) - df_churn['DATPREMCDEWEB']\n",
    "df_churn['CHURN_DELAY_2'] = (df_churn['DATCDE'] + timedelta(days=365)) - df_churn['DATCDE_2']\n",
    "df_churn = df_churn.drop(columns = 'index')\n",
    "\n",
    "df = df.merge(df_churn[['IDIND','CHURN_DELAY_2', 'CHURN_DELAY']], how = 'left', left_on = 'IDIND', right_on  = 'IDIND')\n",
    "\n",
    "del df_churn\n",
    "del df_second\n",
    "\n",
    "df['CHURN_DELAY'] = df['CHURN_DELAY'].apply(lambda x : x.days)\n",
    "df['CHURN_DELAY_2'] = df['CHURN_DELAY_2'].apply(lambda x : x.days)\n",
    "\n",
    "gc.collect()\n"
   ]
  },
  {
   "cell_type": "markdown",
   "id": "ebb52a0f",
   "metadata": {},
   "source": [
    "- Discount category"
   ]
  },
  {
   "cell_type": "code",
   "execution_count": 73,
   "id": "e405d398",
   "metadata": {},
   "outputs": [
    {
     "data": {
      "text/plain": [
       "821"
      ]
     },
     "execution_count": 73,
     "metadata": {},
     "output_type": "execute_result"
    }
   ],
   "source": [
    "def categorize_distribution_discount(x):\n",
    "    if x==0.:\n",
    "        return('No discount')\n",
    "    if (x>0) & (x<=0.13):\n",
    "        return('0-13%')\n",
    "    if (x>0.13) & (x<=0.16):\n",
    "        return('13-16%')\n",
    "    if (x>0.16) & (x<=0.3):\n",
    "        return('16-30%')\n",
    "    if (x>0.3) & (x<=0.5):\n",
    "        return('30-50%')\n",
    "    if (x>0.5) & (x<=0.7):\n",
    "        return('50-70%')\n",
    "    if (x>0.7) & (x<=0.9):\n",
    "        return('70-90%')\n",
    "    if x>0.9:\n",
    "        return('>90%')\n",
    "    \n",
    "### Discount by article    \n",
    "df['DISCOUNT'] = df.DBI - df.DN\n",
    "df['DISCOUNT_PCT'] = 1 - df.DN/df.DBI\n",
    "df['DISCOUNT_CAT'] = df[\"DISCOUNT_PCT\"].apply(lambda x: categorize_distribution_discount(x))\n",
    "\n",
    "gc.collect()"
   ]
  },
  {
   "cell_type": "code",
   "execution_count": 76,
   "id": "eb0bacf7",
   "metadata": {},
   "outputs": [
    {
     "data": {
      "text/plain": [
       "37"
      ]
     },
     "execution_count": 76,
     "metadata": {},
     "output_type": "execute_result"
    }
   ],
   "source": [
    "### Add DISCOUNT_CMD_CAT\n",
    "df_discount_cmd = df.groupby('NUMCDE').agg({'DN': sum, 'DBI':sum})\n",
    "df_discount_cmd['DISCOUNT_CMD_PCT'] = 1 - (df_discount_cmd.DN / df_discount_cmd.DBI)\n",
    "df_discount_cmd['DISCOUNT_CMD_CAT'] = df_discount_cmd[\"DISCOUNT_CMD_PCT\"].apply(lambda x: categorize_distribution_discount(x))\n",
    "df = df.merge(df_discount_cmd['DISCOUNT_CAT_CMD'], how = 'left', on = 'NUMCDE')\n",
    "\n",
    "gc.collect()"
   ]
  },
  {
   "cell_type": "markdown",
   "id": "2e9f20f5",
   "metadata": {},
   "source": [
    "- Seniority"
   ]
  },
  {
   "cell_type": "code",
   "execution_count": 14,
   "id": "e963143c",
   "metadata": {},
   "outputs": [],
   "source": [
    "# SENIORITY = Seniority of a client as of today\n",
    "df['SENIORITY'] = (datetime.today() - df['DATPREMCDEWEB']).dt.days"
   ]
  },
  {
   "cell_type": "code",
   "execution_count": 112,
   "id": "91920afb",
   "metadata": {},
   "outputs": [],
   "source": [
    "# SENIORITY_CMD = Seniority of the order\n",
    "df['SENIORITY_CMD'] = (df.DATCDE - df.DATPREMCDEWEB).dt.days"
   ]
  },
  {
   "cell_type": "code",
   "execution_count": 31,
   "id": "e697bda4",
   "metadata": {},
   "outputs": [],
   "source": [
    "df = df.drop(columns = 'SENIORITY_ABS')"
   ]
  },
  {
   "cell_type": "code",
   "execution_count": 32,
   "id": "359386b5",
   "metadata": {},
   "outputs": [
    {
     "data": {
      "text/plain": [
       "0"
      ]
     },
     "execution_count": 32,
     "metadata": {},
     "output_type": "execute_result"
    }
   ],
   "source": [
    "### Seniority abs = Churn date - first web order\n",
    "df_last_cmd = df[['IDIND', 'DATCDE', 'DATPREMCDEWEB']].sort_values(by = 'DATCDE', ascending = False).groupby('IDIND').agg({'DATCDE': 'first', 'DATPREMCDEWEB': 'first'})\n",
    "df_last_cmd['SENIORITY_ABS'] = (df_last_cmd['DATCDE'] - df_last_cmd['DATPREMCDEWEB']).dt.days + 365\n",
    "df = df.merge(df_last_cmd['SENIORITY_ABS'], how = 'left', on = 'IDIND')\n",
    "\n",
    "del df_last_cmd\n",
    "gc.collect()"
   ]
  },
  {
   "cell_type": "markdown",
   "id": "017e233f",
   "metadata": {},
   "source": [
    "- Acquisition channel"
   ]
  },
  {
   "cell_type": "code",
   "execution_count": null,
   "id": "90d08ad7",
   "metadata": {},
   "outputs": [],
   "source": [
    "df_code_tracking = pd.read_csv('./Vertbaudet/France/src/20210928_CodeTracking.tab', sep = '\\t')\n",
    "\n",
    "df_input_code_tracking = pd.read_excel('./Vertbaudet/France/src/INPUT_CODES_TRACKING.xlsx', sheet_name = 'CODES_TRACKING')\n",
    "\n",
    "df_code_tracking = df_code_tracking.merge(df_input_code_tracking, how = 'left', on = 'CODE_TRACKING')\n",
    "\n",
    "df = df.merge(df_code_tracking[['NUMCDE', 'LEVIER', 'NEW_LEVIER']], how = 'left', on = 'NUMCDE')"
   ]
  },
  {
   "cell_type": "markdown",
   "id": "48a2991d",
   "metadata": {},
   "source": [
    "- Opt-in"
   ]
  },
  {
   "cell_type": "code",
   "execution_count": 13,
   "id": "beac3448",
   "metadata": {},
   "outputs": [],
   "source": [
    "def optin_category(x):\n",
    "    if x[0] < x[1]:\n",
    "        return \"Have already been Opt-in\"\n",
    "    elif x[2] == 0.:\n",
    "        return \"Never Opt-in\"\n",
    "    elif x[2] == 1.:\n",
    "        return \"Always Opt-in\"\n",
    "    return x[2]"
   ]
  },
  {
   "cell_type": "code",
   "execution_count": 14,
   "id": "7627c77c",
   "metadata": {},
   "outputs": [],
   "source": [
    "optin = pd.read_csv(os.path.join(\"C:/Users/pierrick/eleven/Engagements - Vertbaudet/3. Data received/3. Extract/1. France/20211025_ADRESSABLITE.csv\"),sep=\",\")\n",
    "\n",
    "\n",
    "\n",
    "optin = optin.replace({\"$null$\": np.nan})\n",
    "optin['DATMAJOPTMMAIL'] = pd.to_datetime(optin['DATMAJOPTMMAIL'], errors=\"coerce\")\n",
    "optin['TOPTINMMAIL'] = optin['TOPTINMMAIL'].astype('float')\n",
    "\n",
    "\n",
    "\n",
    "df = df.merge(optin[['IDIND', 'DATMAJOPTMMAIL', 'TOPTINMMAIL']], on='IDIND', how='left')\n",
    "\n",
    "\n",
    "\n",
    "df['OPTIN'] = df[['DATPREMCDEWEB', 'DATMAJOPTMMAIL', 'TOPTINMMAIL']].apply(lambda x: optin_category(x), axis=1)"
   ]
  },
  {
   "cell_type": "markdown",
   "id": "a9646fca",
   "metadata": {},
   "source": [
    "- Segmentation selon la fréquence"
   ]
  },
  {
   "cell_type": "code",
   "execution_count": 15,
   "id": "4564cbef",
   "metadata": {},
   "outputs": [],
   "source": [
    "def segmentation_freq(x):\n",
    "    if x < 30:\n",
    "        return '< 1 month'\n",
    "    elif x < 90:\n",
    "        return '1-3 months'\n",
    "    elif x < 180:\n",
    "        return '3-6 months'\n",
    "    elif x < 270:\n",
    "        return '6-9 months'\n",
    "    elif x < 365 :\n",
    "        return '9-12 months'\n",
    "    elif x > 365 :\n",
    "        return '> 12 months'"
   ]
  },
  {
   "cell_type": "code",
   "execution_count": 16,
   "id": "e00fdb67",
   "metadata": {},
   "outputs": [],
   "source": [
    "def segmentation_small_freq(x):\n",
    "    if x < 7:\n",
    "        return '< 1 week'\n",
    "    elif x < 14:\n",
    "        return '1-2 weeks'\n",
    "    elif x < 21:\n",
    "        return '2-3 weeks'\n",
    "    elif x < 30:\n",
    "        return '3-4 weeks'\n",
    "    elif x < 90:\n",
    "        return '1-3 months'\n",
    "    elif x < 180:\n",
    "        return '3-6 months'\n",
    "    elif x < 270:\n",
    "        return '6-9 months'\n",
    "    elif x < 365 :\n",
    "        return '9-12 months'\n",
    "    elif x > 365 :\n",
    "        return '> 12 months'"
   ]
  },
  {
   "cell_type": "code",
   "execution_count": 17,
   "id": "134b0901",
   "metadata": {
    "scrolled": true
   },
   "outputs": [
    {
     "name": "stdout",
     "output_type": "stream",
     "text": [
      "(14, 4)\n"
     ]
    },
    {
     "data": {
      "text/plain": [
       "15"
      ]
     },
     "execution_count": 17,
     "metadata": {},
     "output_type": "execute_result"
    }
   ],
   "source": [
    "df_first = df[df['ORDER_NUMBER'] == 1].drop_duplicates('IDIND')[['IDIND', 'DATCDE']]\n",
    "\n",
    "df_second = df[df['ORDER_NUMBER'] == 2].drop_duplicates('IDIND')[['IDIND', 'DATCDE']].rename(columns = {'DATCDE': 'DATCDE_2'})\n",
    "\n",
    "df_first = df_first.merge(df_second, how = 'left', on = 'IDIND')\n",
    "\n",
    "df_first['GAP'] = (df_first['DATCDE_2'] - df_first['DATCDE']).dt.days\n",
    "\n",
    "df_first['FREQ_CAT'] = df_first['GAP'].apply(segmentation_freq)\n",
    "df_first['FREQ_CAT_SMALL'] = df_first['GAP'].apply(segmentation_small_freq)\n",
    "\n",
    "df = df.merge(df_first[['IDIND', 'FREQ_CAT']], how = 'left', on = 'IDIND')\n",
    "df = df.merge(df_first[['IDIND', 'FREQ_CAT_SMALL']], how = 'left', on = 'IDIND')\n",
    "\n",
    "\n",
    "\n",
    "del df_first\n",
    "del df_second\n",
    "gc.collect()"
   ]
  },
  {
   "cell_type": "markdown",
   "id": "99a467ef",
   "metadata": {},
   "source": [
    "# Analysis"
   ]
  },
  {
   "cell_type": "markdown",
   "id": "7f7a54c1",
   "metadata": {},
   "source": [
    "### Opt-in"
   ]
  },
  {
   "cell_type": "code",
   "execution_count": 32,
   "id": "e676792c",
   "metadata": {},
   "outputs": [],
   "source": [
    "df.drop_duplicates('IDIND').groupby(['OPTIN']).agg({'CHURN_DELAY': 'mean'}).unstack().to_excel('./Vertbaudet/France/Output/'+today+'_churn_delay_by_optin.xlsx')"
   ]
  },
  {
   "cell_type": "code",
   "execution_count": 33,
   "id": "6db4ba3a",
   "metadata": {},
   "outputs": [],
   "source": [
    "df.groupby(['FREQ_CAT_SMALL','OPTIN']).agg({'IDIND': pd.Series.nunique}).unstack().to_excel('./Vertbaudet/France/Output/'+today+'_optin_by_feq_cat_small.xlsx')"
   ]
  },
  {
   "cell_type": "markdown",
   "id": "86e04832",
   "metadata": {},
   "source": [
    "### Avg basket, DN, %clients"
   ]
  },
  {
   "cell_type": "code",
   "execution_count": null,
   "id": "15c1748b",
   "metadata": {},
   "outputs": [],
   "source": [
    "df.groupby('FREQ_CAT_SMALL').agg({'IDIND': pd.Series.nunique, 'DN': sum}).to_excel('./Vertbaudet/France/Output/'+today+'_dn_nb_client_by_freq_cat_small.xlsx')"
   ]
  },
  {
   "cell_type": "markdown",
   "id": "f3843b03",
   "metadata": {},
   "source": [
    "### Similarité 1ere / 2nde commande"
   ]
  },
  {
   "cell_type": "code",
   "execution_count": 30,
   "id": "e8e98d66",
   "metadata": {
    "scrolled": false
   },
   "outputs": [],
   "source": [
    "### Create NEW_DEP field: number of departments in the second order that were not in the first order\n",
    "\n",
    "def dif(x,y):\n",
    "    return len(y.difference(x))\n",
    "\n",
    "df_list_dept_by_cmd = df[df['ORDER_NUMBER'].isin(range(1,3))].groupby(['IDIND', 'ORDER_NUMBER']).agg({'ORDER_NUMBER': 'first', 'DEPARTEMENT_NIV2': lambda x: list(pd.Series.unique(x))})\n",
    "df_cmd_1_2 = df_list_dept_by_cmd[df_list_dept_by_cmd['ORDER_NUMBER']==1].merge(df_list_dept_by_cmd[df_list_dept_by_cmd['ORDER_NUMBER']==2], how = 'left', on = 'IDIND').rename(columns = {'DEPARTEMENT_NIV2_x': 'DEPART_1', 'DEPARTEMENT_NIV2_y': 'DEPART_2'})\n",
    "df_cmd_1_2 = df_cmd_1_2[(df_cmd_1_2.DEPART_1.notna()) & (df_cmd_1_2.DEPART_2.notna())]\n",
    "df_cmd_1_2['NEW_DEP'] = df_cmd_1_2.apply(lambda x: dif(set(x.DEPART_1), set(x.DEPART_2)), axis = 1)\n",
    "df = df.merge(df_cmd_1_2['NEW_DEP'], how = 'left', left_on = 'IDIND', right_index = True)"
   ]
  },
  {
   "cell_type": "code",
   "execution_count": 36,
   "id": "aeaf4907",
   "metadata": {},
   "outputs": [],
   "source": [
    "df_new_dep_cat = df.groupby(['FREQ_CAT', 'NEW_DEP']).agg({'IDIND': pd.Series.nunique}).unstack().replace(np.nan, 0)"
   ]
  },
  {
   "cell_type": "code",
   "execution_count": 106,
   "id": "19264c3a",
   "metadata": {},
   "outputs": [],
   "source": [
    "df_new_dep_cat.to_excel('./Vertbaudet/France/Output/'+today+'_new_dep_by_freq_cat.xlsx')"
   ]
  },
  {
   "cell_type": "code",
   "execution_count": 36,
   "id": "2a01bc6b",
   "metadata": {},
   "outputs": [],
   "source": [
    "df_new_dep_cat_small_freq = df.groupby(['FREQ_CAT_SMALL', 'NEW_DEP']).agg({'IDIND': pd.Series.nunique}).unstack().replace(np.nan, 0)"
   ]
  },
  {
   "cell_type": "code",
   "execution_count": 37,
   "id": "11bccbc0",
   "metadata": {},
   "outputs": [],
   "source": [
    "df_new_dep_cat_small_freq.to_excel('./Vertbaudet/France/Output/'+today+'_new_dep_by_freq_cat_small.xlsx')"
   ]
  },
  {
   "cell_type": "markdown",
   "id": "a8b8c722",
   "metadata": {},
   "source": [
    "- Focus on the '0 new dept / <30 days' clients"
   ]
  },
  {
   "cell_type": "code",
   "execution_count": 40,
   "id": "969d6420",
   "metadata": {},
   "outputs": [],
   "source": [
    "df[(df.NEW_DEP == 0) & (df.FREQ_CAT == '< 1 month')].groupby('DEPARTEMENT_MAJORITAIRE').agg({'IDIND': pd.Series.nunique}).to_excel('./Vertbaudet/France/Output/'+today+'_0ninf30_univ.xlsx')"
   ]
  },
  {
   "cell_type": "code",
   "execution_count": 41,
   "id": "4f997bd5",
   "metadata": {},
   "outputs": [],
   "source": [
    "df[(df.NEW_DEP != 0) & (df.FREQ_CAT == '< 1 month')].groupby('DEPARTEMENT_MAJORITAIRE').agg({'IDIND': pd.Series.nunique}).to_excel('./Vertbaudet/France/Output/'+today+'_no0ninf30_univ.xlsx')"
   ]
  },
  {
   "cell_type": "code",
   "execution_count": 42,
   "id": "3e1cab59",
   "metadata": {},
   "outputs": [],
   "source": [
    "df[df.FREQ_CAT != '< 1 month'].groupby('DEPARTEMENT_MAJORITAIRE').agg({'IDIND': pd.Series.nunique}).to_excel('./Vertbaudet/France/Output/'+today+'_plus30_univ.xlsx')"
   ]
  },
  {
   "cell_type": "markdown",
   "id": "12e9261b",
   "metadata": {},
   "source": [
    "### Churn delay"
   ]
  },
  {
   "cell_type": "code",
   "execution_count": null,
   "id": "81dcf21c",
   "metadata": {
    "scrolled": true
   },
   "outputs": [],
   "source": [
    "df_churn_delay = df.drop_duplicates('IDIND').groupby('FREQ_CAT').agg({'CHURN_DELAY': 'mean'})"
   ]
  },
  {
   "cell_type": "code",
   "execution_count": null,
   "id": "18e10fcc",
   "metadata": {},
   "outputs": [],
   "source": [
    "df_churn_delay.to_excel('./Vertbaudet/France/Output/'+today+'_churn_delay_by_freq_cat.xlsx')"
   ]
  },
  {
   "cell_type": "code",
   "execution_count": 18,
   "id": "633003dd",
   "metadata": {},
   "outputs": [],
   "source": [
    "df_churn_delay_2 = df.drop_duplicates('IDIND').groupby('FREQ_CAT').agg({'CHURN_DELAY_2': 'mean'})"
   ]
  },
  {
   "cell_type": "code",
   "execution_count": 20,
   "id": "4a94ea5c",
   "metadata": {},
   "outputs": [],
   "source": [
    "df_churn_delay_2.to_excel('./Vertbaudet/France/Output/'+today+'_churn_delay_2_by_freq_cat.xlsx')"
   ]
  },
  {
   "cell_type": "code",
   "execution_count": 50,
   "id": "268cbc0f",
   "metadata": {},
   "outputs": [],
   "source": [
    "df_churn_delay_2_small = df.drop_duplicates('IDIND').groupby('FREQ_CAT_SMALL').agg({'CHURN_DELAY_2': 'mean'})"
   ]
  },
  {
   "cell_type": "code",
   "execution_count": 51,
   "id": "651501f0",
   "metadata": {},
   "outputs": [],
   "source": [
    "df_churn_delay_2_small.to_excel('./Vertbaudet/France/Output/'+today+'_churn_delay_2_by_freq_cat_small.xlsx')"
   ]
  },
  {
   "cell_type": "markdown",
   "id": "2e3a6820",
   "metadata": {},
   "source": [
    "### Nbr of universes by reorder delay"
   ]
  },
  {
   "cell_type": "code",
   "execution_count": 16,
   "id": "7d36d5ea",
   "metadata": {},
   "outputs": [],
   "source": [
    "### Create output df\n",
    "df_nb_univ_by_freq_cat = df.groupby(['FREQ_CAT', 'NB_UNIV_CAT']).agg({'IDIND': pd.Series.nunique}).unstack()"
   ]
  },
  {
   "cell_type": "code",
   "execution_count": 17,
   "id": "215c4654",
   "metadata": {},
   "outputs": [],
   "source": [
    "### to_excel\n",
    "df_nb_univ_by_freq_cat.to_excel('./Vertbaudet/France/Output/'+today+'_nbr_univ_by_freq_cat.xlsx')"
   ]
  },
  {
   "cell_type": "code",
   "execution_count": 46,
   "id": "f74325b5",
   "metadata": {
    "scrolled": true
   },
   "outputs": [],
   "source": [
    "df_nb_univ_by_freq_cat_small_freq = df.groupby(['FREQ_CAT_SMALL', 'NB_UNIV_CAT']).agg({'IDIND': pd.Series.nunique}).unstack()"
   ]
  },
  {
   "cell_type": "code",
   "execution_count": 47,
   "id": "2b9c0cb9",
   "metadata": {},
   "outputs": [],
   "source": [
    "df_nb_univ_by_freq_cat_small_freq.to_excel('./Vertbaudet/France/Output/'+today+'_nbr_univ_by_freq_cat_small.xlsx')"
   ]
  },
  {
   "cell_type": "markdown",
   "id": "3ae96575",
   "metadata": {},
   "source": [
    "### Recruitment department by reorder delay"
   ]
  },
  {
   "cell_type": "code",
   "execution_count": 22,
   "id": "6e420488",
   "metadata": {},
   "outputs": [],
   "source": [
    "df_entry_dept = df[df['DATCDE']==df['DATPREMCDEWEB']].groupby(['FREQ_CAT', 'DEPARTEMENT_CMD']).agg({'NUMCDE': pd.Series.nunique}).unstack()"
   ]
  },
  {
   "cell_type": "code",
   "execution_count": 23,
   "id": "f43e8bc8",
   "metadata": {},
   "outputs": [],
   "source": [
    "df_entry_dept.to_excel('./Vertbaudet/France/Output/'+today+'_entry_dept_by_reorder_freq.xlsx')"
   ]
  },
  {
   "cell_type": "code",
   "execution_count": 28,
   "id": "6fba8583",
   "metadata": {},
   "outputs": [],
   "source": [
    "df_entry_dept_small_freq = df[df['DATCDE']==df['DATPREMCDEWEB']].groupby(['FREQ_CAT_SMALL', 'DEPARTEMENT_CMD']).agg({'NUMCDE': pd.Series.nunique}).unstack()"
   ]
  },
  {
   "cell_type": "code",
   "execution_count": 29,
   "id": "70bd4e64",
   "metadata": {},
   "outputs": [],
   "source": [
    "df_entry_dept_small_freq.to_excel('./Vertbaudet/France/Output/'+today+'_entry_dept_by_reorder_freq_small_v2.xlsx')"
   ]
  },
  {
   "cell_type": "markdown",
   "id": "fa983d9e",
   "metadata": {},
   "source": [
    "- Seniority churn by entry dept"
   ]
  },
  {
   "cell_type": "code",
   "execution_count": 33,
   "id": "f0c7a5c5",
   "metadata": {},
   "outputs": [],
   "source": [
    "df.drop_duplicates('IDIND').groupby('DEPARTEMENT_FIRST').agg({'SENIORITY_ABS': 'mean'}).to_excel('./Vertbaudet/France/Output/'+today+'_senio_churn_by_dep_first.xlsx')"
   ]
  },
  {
   "cell_type": "markdown",
   "id": "7f55ff6d",
   "metadata": {},
   "source": [
    "### Majority department by reorder frequency"
   ]
  },
  {
   "cell_type": "code",
   "execution_count": 26,
   "id": "99fc7327",
   "metadata": {},
   "outputs": [],
   "source": [
    "df_univ_maj = df.groupby(['FREQ_CAT', 'DEPARTEMENT_MAJORITAIRE']).agg({'IDIND': pd.Series.nunique}).unstack()"
   ]
  },
  {
   "cell_type": "code",
   "execution_count": 27,
   "id": "98596a95",
   "metadata": {},
   "outputs": [],
   "source": [
    "df_univ_maj.columns = df_univ_maj.columns.droplevel()"
   ]
  },
  {
   "cell_type": "code",
   "execution_count": 28,
   "id": "26484eb2",
   "metadata": {},
   "outputs": [],
   "source": [
    "df_univ_maj.to_excel('./Vertbaudet/France/Output/'+today+'_univ_maj_by_reorder_freq.xlsx')"
   ]
  },
  {
   "cell_type": "markdown",
   "id": "8c3e931b",
   "metadata": {},
   "source": [
    "- Seniority by majority department"
   ]
  },
  {
   "cell_type": "code",
   "execution_count": 120,
   "id": "8fb4dfd3",
   "metadata": {},
   "outputs": [],
   "source": [
    "# Moving seniority\n",
    "df.drop_duplicates(subset = ['NUMCDE', 'DEPARTEMENT_NIV2']).groupby('DEPARTEMENT_NIV2').agg({'SENIORITY_CMD': 'mean'}).to_excel('./Vertbaudet/France/Output/'+today+'_senio_by_dep.xlsx')"
   ]
  },
  {
   "cell_type": "code",
   "execution_count": 11,
   "id": "2acb68a6",
   "metadata": {},
   "outputs": [],
   "source": [
    "# Absolute seniority\n",
    "df.drop_duplicates('IDIND').groupby('DEPARTEMENT_MAJORITAIRE').agg({'SENIORITY_ABS': 'mean'}).to_excel('./Vertbaudet/France/Output/'+today+'_senio_abs_by_dep_maj.xlsx')"
   ]
  },
  {
   "cell_type": "code",
   "execution_count": 15,
   "id": "523a5505",
   "metadata": {},
   "outputs": [],
   "source": [
    "# Today seniority\n",
    "df.drop_duplicates('IDIND').groupby('DEPARTEMENT_MAJORITAIRE').agg({'SENIORITY': 'mean'}).to_excel('./Vertbaudet/France/Output/'+today+'_today_senio_by_dep_maj.xlsx')"
   ]
  },
  {
   "cell_type": "markdown",
   "id": "cbad7015",
   "metadata": {},
   "source": [
    "### Entry month by reorder delay"
   ]
  },
  {
   "cell_type": "code",
   "execution_count": 60,
   "id": "0f7dc042",
   "metadata": {},
   "outputs": [],
   "source": [
    "df['MONTH_RECRUITMENT'] = pd.to_datetime(df['DATPREMCDEWEB']).dt.month"
   ]
  },
  {
   "cell_type": "code",
   "execution_count": 30,
   "id": "3652894a",
   "metadata": {},
   "outputs": [],
   "source": [
    "df_entry_month= df.groupby(['FREQ_CAT', 'MONTH_RECRUITMENT']).agg({'IDIND': pd.Series.nunique}).unstack()"
   ]
  },
  {
   "cell_type": "code",
   "execution_count": 31,
   "id": "fd66668a",
   "metadata": {},
   "outputs": [],
   "source": [
    "df_entry_month.to_excel('./Vertbaudet/France/Output/'+today+'_entry_month_by_reorder_freq.xlsx')"
   ]
  },
  {
   "cell_type": "code",
   "execution_count": 61,
   "id": "b7e85d90",
   "metadata": {},
   "outputs": [],
   "source": [
    "df_entry_month_small = df.groupby(['FREQ_CAT_SMALL', 'MONTH_RECRUITMENT']).agg({'IDIND': pd.Series.nunique}).unstack()\n",
    "df_entry_month_small.to_excel('./Vertbaudet/France/Output/'+today+'_entry_month_by_reorder_freq_small.xlsx')"
   ]
  },
  {
   "cell_type": "markdown",
   "id": "3b36695a",
   "metadata": {},
   "source": [
    "- Debiased version, only taking 2017-19 cohorts "
   ]
  },
  {
   "cell_type": "code",
   "execution_count": 32,
   "id": "93de18de",
   "metadata": {},
   "outputs": [],
   "source": [
    "df['COHORT'] = df['DATPREMCDEWEB'].dt.year"
   ]
  },
  {
   "cell_type": "code",
   "execution_count": 33,
   "id": "d1ad90d4",
   "metadata": {},
   "outputs": [],
   "source": [
    "df_entry_month_17_19= df[df['COHORT']<2020].groupby(['FREQ_CAT', 'MONTH_RECRUITMENT']).agg({'IDIND': pd.Series.nunique}).unstack()"
   ]
  },
  {
   "cell_type": "code",
   "execution_count": 34,
   "id": "5eeb1026",
   "metadata": {},
   "outputs": [],
   "source": [
    "df_entry_month_17_19.to_excel('./Vertbaudet/France/Output/'+today+'_entry_month_by_reorder_freq_17_19.xlsx')"
   ]
  },
  {
   "cell_type": "code",
   "execution_count": 35,
   "id": "4774bfe6",
   "metadata": {},
   "outputs": [
    {
     "data": {
      "text/plain": [
       "135"
      ]
     },
     "execution_count": 35,
     "metadata": {},
     "output_type": "execute_result"
    }
   ],
   "source": [
    "gc.collect()"
   ]
  },
  {
   "cell_type": "markdown",
   "id": "056eb17e",
   "metadata": {},
   "source": [
    "### Average nbr command by reorder delay"
   ]
  },
  {
   "cell_type": "code",
   "execution_count": 36,
   "id": "f53190d7",
   "metadata": {},
   "outputs": [],
   "source": [
    "df_avg_nb_cmd = df.groupby(['FREQ_CAT']).agg({'IDIND': pd.Series.nunique, 'NUMCDE': pd.Series.nunique})"
   ]
  },
  {
   "cell_type": "code",
   "execution_count": 37,
   "id": "d5a3a40b",
   "metadata": {},
   "outputs": [],
   "source": [
    "df_avg_nb_cmd['AVG_NB_CMD'] = df_avg_nb_cmd['NUMCDE']/df_avg_nb_cmd['IDIND']"
   ]
  },
  {
   "cell_type": "code",
   "execution_count": 38,
   "id": "a7b6cef3",
   "metadata": {},
   "outputs": [],
   "source": [
    "df_avg_nb_cmd.to_excel('./Vertbaudet/France/Output/'+today+'_avg_nb_cmd_by_freq_cat.xlsx')"
   ]
  },
  {
   "cell_type": "markdown",
   "id": "d9350d09",
   "metadata": {},
   "source": [
    "### Avg basket by reorder delay"
   ]
  },
  {
   "cell_type": "code",
   "execution_count": 40,
   "id": "65faf1ca",
   "metadata": {
    "scrolled": false
   },
   "outputs": [],
   "source": [
    "df_avg_basket = df.groupby('FREQ_CAT').agg({'DN': sum, 'IDIND': pd.Series.nunique})"
   ]
  },
  {
   "cell_type": "code",
   "execution_count": 41,
   "id": "ee98bdf1",
   "metadata": {},
   "outputs": [],
   "source": [
    "df_avg_basket['AVERAGE_BASKET'] = df_avg_basket.DN/df_avg_basket.IDIND"
   ]
  },
  {
   "cell_type": "code",
   "execution_count": 42,
   "id": "27575174",
   "metadata": {},
   "outputs": [],
   "source": [
    "df_avg_basket.to_excel('./Vertbaudet/France/Output/'+today+'_avg_basket_by_freq_cat.xlsx')"
   ]
  },
  {
   "cell_type": "markdown",
   "id": "fd97a836",
   "metadata": {},
   "source": [
    "### OT/TT/Recurring by reorder delay"
   ]
  },
  {
   "cell_type": "code",
   "execution_count": 43,
   "id": "8e783042",
   "metadata": {
    "scrolled": true
   },
   "outputs": [],
   "source": [
    "df_cat_by_freq_cat = df.groupby(['FREQ_CAT', 'CLIENT_CATEGORY']).agg({'IDIND': pd.Series.nunique}).unstack()"
   ]
  },
  {
   "cell_type": "code",
   "execution_count": 44,
   "id": "b80bd6b4",
   "metadata": {},
   "outputs": [],
   "source": [
    "df_cat_by_freq_cat.to_excel('./Vertbaudet/France/Output/'+today+'_cat_client_by_freq_cat.xlsx')"
   ]
  },
  {
   "cell_type": "code",
   "execution_count": 45,
   "id": "323a5c2f",
   "metadata": {},
   "outputs": [],
   "source": [
    "df_cat_by_freq_cat_17_19 = df[df['COHORT']<2020].groupby(['FREQ_CAT', 'CLIENT_CATEGORY']).agg({'IDIND': pd.Series.nunique}).unstack()"
   ]
  },
  {
   "cell_type": "code",
   "execution_count": 46,
   "id": "cbbf7646",
   "metadata": {},
   "outputs": [],
   "source": [
    "df_cat_by_freq_cat_17_19.to_excel('./Vertbaudet/France/Output/'+today+'_cat_client_by_freq_cat_17_19.xlsx')"
   ]
  },
  {
   "cell_type": "code",
   "execution_count": 52,
   "id": "5db2a601",
   "metadata": {},
   "outputs": [],
   "source": [
    "### CAT_SMALL\n",
    "df_cat_by_freq_cat_SMALL = df.groupby(['FREQ_CAT_SMALL', 'CLIENT_CATEGORY']).agg({'IDIND': pd.Series.nunique}).unstack()\n",
    "df_cat_by_freq_cat_SMALL.to_excel('./Vertbaudet/France/Output/'+today+'_cat_client_by_freq_cat_SMALL.xlsx')"
   ]
  },
  {
   "cell_type": "markdown",
   "id": "873fbe26",
   "metadata": {},
   "source": [
    "### Acquisition channel by reorder delay"
   ]
  },
  {
   "cell_type": "markdown",
   "id": "2ee88b7b",
   "metadata": {},
   "source": [
    "- Add LEVIER column"
   ]
  },
  {
   "cell_type": "code",
   "execution_count": null,
   "id": "81e159e0",
   "metadata": {},
   "outputs": [],
   "source": [
    "# filter on cohort 19 and 20"
   ]
  },
  {
   "cell_type": "code",
   "execution_count": 48,
   "id": "3dab473b",
   "metadata": {},
   "outputs": [],
   "source": [
    "df_acqu_chanel = df[(df['COHORT'].isin(range(2019,2021))) & (df['DATCDE']==df['DATPREMCDEWEB'])].groupby(['FREQ_CAT', 'LEVIER']).agg({'IDIND': pd.Series.nunique})"
   ]
  },
  {
   "cell_type": "code",
   "execution_count": 49,
   "id": "2b6e0be2",
   "metadata": {},
   "outputs": [],
   "source": [
    "df_acqu_chanel.unstack().to_excel('./Vertbaudet/France/Output/'+today+'_acqu_channel_by_freq_cat.xlsx')"
   ]
  },
  {
   "cell_type": "code",
   "execution_count": 111,
   "id": "15dc79dc",
   "metadata": {},
   "outputs": [],
   "source": [
    "df_acqu_chanel_new_levier = df[(df['COHORT'].isin(range(2019,2021))) & (df['DATCDE']==df['DATPREMCDEWEB'])].groupby(['FREQ_CAT', 'NEW_LEVIER']).agg({'IDIND': pd.Series.nunique})"
   ]
  },
  {
   "cell_type": "code",
   "execution_count": 112,
   "id": "2661cf0d",
   "metadata": {},
   "outputs": [],
   "source": [
    "df_acqu_chanel_new_levier.unstack().to_excel('./Vertbaudet/France/Output/'+today+'_acqu_channel_new_levier_by_freq_cat.xlsx')"
   ]
  },
  {
   "cell_type": "code",
   "execution_count": 50,
   "id": "48c6be02",
   "metadata": {},
   "outputs": [
    {
     "data": {
      "text/plain": [
       "5999"
      ]
     },
     "execution_count": 50,
     "metadata": {},
     "output_type": "execute_result"
    }
   ],
   "source": [
    "gc.collect()"
   ]
  },
  {
   "cell_type": "code",
   "execution_count": 57,
   "id": "4ed9103e",
   "metadata": {},
   "outputs": [],
   "source": [
    "df_acqu_chanel_small = df[(df['COHORT'].isin(range(2019,2021))) & (df['DATCDE']==df['DATPREMCDEWEB'])].groupby(['FREQ_CAT_SMALL', 'LEVIER']).agg({'IDIND': pd.Series.nunique}).unstack()\n",
    "df_acqu_chanel_small.to_excel('./Vertbaudet/France/Output/'+today+'_acqu_channel_by_freq_cat_small.xlsx')"
   ]
  },
  {
   "cell_type": "code",
   "execution_count": 59,
   "id": "cb7edd56",
   "metadata": {},
   "outputs": [],
   "source": [
    "df_acqu_chanel_small_new_levier = df[(df['COHORT'].isin(range(2019,2021))) & (df['DATCDE']==df['DATPREMCDEWEB'])].groupby(['FREQ_CAT_SMALL', 'NEW_LEVIER']).agg({'IDIND': pd.Series.nunique}).unstack()\n",
    "df_acqu_chanel_small_new_levier.to_excel('./Vertbaudet/France/Output/'+today+'_acqu_channel_new_levier_by_freq_cat_small.xlsx')"
   ]
  },
  {
   "cell_type": "markdown",
   "id": "a25cacf1",
   "metadata": {},
   "source": [
    "### Cat discount by reorder delay"
   ]
  },
  {
   "cell_type": "markdown",
   "id": "79812d75",
   "metadata": {},
   "source": [
    "- Discount article"
   ]
  },
  {
   "cell_type": "code",
   "execution_count": 53,
   "id": "ca644754",
   "metadata": {},
   "outputs": [],
   "source": [
    "df_disc_art = df.groupby(['FREQ_CAT', 'DISCOUNT_CAT']).agg({'QTE': sum}).unstack()"
   ]
  },
  {
   "cell_type": "code",
   "execution_count": 54,
   "id": "4a7ed239",
   "metadata": {},
   "outputs": [],
   "source": [
    "df_disc_art.to_excel('./Vertbaudet/France/Output/'+today+'_discount_article_by_freq_cat.xlsx')"
   ]
  },
  {
   "cell_type": "markdown",
   "id": "621b1fed",
   "metadata": {},
   "source": [
    "- Discount commande"
   ]
  },
  {
   "cell_type": "code",
   "execution_count": 58,
   "id": "99c02b88",
   "metadata": {
    "scrolled": true
   },
   "outputs": [],
   "source": [
    "df_disc_cmd = df.groupby(['FREQ_CAT', 'DISCOUNT_CAT_CMD']).agg({'NUMCDE': pd.Series.nunique}).unstack() "
   ]
  },
  {
   "cell_type": "code",
   "execution_count": 59,
   "id": "6f5180da",
   "metadata": {},
   "outputs": [],
   "source": [
    "df_disc_cmd.to_excel('./Vertbaudet/France/Output/'+today+'_discount_cmd_by_freq_cat.xlsx')"
   ]
  },
  {
   "cell_type": "markdown",
   "id": "aca01004",
   "metadata": {},
   "source": [
    "- Discount premier achat"
   ]
  },
  {
   "cell_type": "code",
   "execution_count": 60,
   "id": "4d5ce84e",
   "metadata": {},
   "outputs": [],
   "source": [
    "df_disc_premha = df[df['DATCDE']==df['DATPREMCDEWEB']].groupby(['FREQ_CAT', 'DISCOUNT_CAT_CMD']).agg({'NUMCDE': pd.Series.nunique}).unstack() "
   ]
  },
  {
   "cell_type": "code",
   "execution_count": 61,
   "id": "a184b032",
   "metadata": {},
   "outputs": [],
   "source": [
    "df_disc_premha.to_excel('./Vertbaudet/France/Output/'+today+'_discount_premha_by_freq_cat.xlsx')"
   ]
  },
  {
   "cell_type": "markdown",
   "id": "cf2b83cd",
   "metadata": {},
   "source": [
    "### LTV by reorder delay"
   ]
  },
  {
   "cell_type": "markdown",
   "id": "1419c09a",
   "metadata": {},
   "source": [
    "- FREQ_CAT_SMALL"
   ]
  },
  {
   "cell_type": "code",
   "execution_count": 25,
   "id": "33847fec",
   "metadata": {},
   "outputs": [],
   "source": [
    "df_ltv_by_freq_cat = df[df['SENIORITY']>365].drop_duplicates('IDIND').groupby('FREQ_CAT_SMALL').agg({'LTV_12': 'mean'})\n",
    "df_ltv_by_freq_cat.to_excel('./Vertbaudet/France/Output/'+today+'_ltv_12_byfreq_cat_small.xlsx')"
   ]
  },
  {
   "cell_type": "code",
   "execution_count": 28,
   "id": "ff96e420",
   "metadata": {},
   "outputs": [],
   "source": [
    "df_ltv_24_by_freq_cat = df[df['SENIORITY']>365].drop_duplicates('IDIND').groupby('FREQ_CAT_SMALL').agg({'LTV_24': 'mean'})\n",
    "df_ltv_24_by_freq_cat.to_excel('./Vertbaudet/France/Output/'+today+'_ltv_24_by_freq_cat_small.xlsx')"
   ]
  },
  {
   "cell_type": "markdown",
   "id": "38e0759e",
   "metadata": {},
   "source": [
    "- FREQ_CAT"
   ]
  },
  {
   "cell_type": "code",
   "execution_count": 36,
   "id": "68a7982d",
   "metadata": {},
   "outputs": [],
   "source": [
    "df_ltv_by_freq_cat = df[df['SENIORITY']>365].drop_duplicates('IDIND').groupby('FREQ_CAT').agg({'LTV_12': 'mean'})\n",
    "df_ltv_by_freq_cat.to_excel('./Vertbaudet/France/Output/'+today+'_ltv_12_byfreq_cat.xlsx')"
   ]
  },
  {
   "cell_type": "code",
   "execution_count": 37,
   "id": "8f28033c",
   "metadata": {},
   "outputs": [],
   "source": [
    "df_ltv_24_by_freq_cat = df[df['SENIORITY']>365].drop_duplicates('IDIND').groupby('FREQ_CAT').agg({'LTV_24': 'mean'})\n",
    "df_ltv_24_by_freq_cat.to_excel('./Vertbaudet/France/Output/'+today+'_ltv_24_by_freq_cat.xlsx')"
   ]
  },
  {
   "cell_type": "markdown",
   "id": "aa1c196b",
   "metadata": {},
   "source": [
    "### LTV by reorder delay"
   ]
  },
  {
   "cell_type": "code",
   "execution_count": 83,
   "id": "8c17a3cb",
   "metadata": {},
   "outputs": [
    {
     "data": {
      "text/plain": [
       "193.05560829940842"
      ]
     },
     "execution_count": 83,
     "metadata": {},
     "output_type": "execute_result"
    }
   ],
   "source": [
    "df[(df['CLIENT_CATEGORY'] != 'One-timer') & (df['SENIORITY'] > 365)].drop_duplicates('IDIND')['LTV_12'].mean()"
   ]
  },
  {
   "cell_type": "code",
   "execution_count": 82,
   "id": "8e61c038",
   "metadata": {},
   "outputs": [],
   "source": [
    "df['SENIORITY'] = (datetime.today() - df['DATPREMCDEWEB']).dt.days"
   ]
  },
  {
   "cell_type": "code",
   "execution_count": 147,
   "id": "aa1598e1",
   "metadata": {},
   "outputs": [],
   "source": [
    "df_ltv_24 = df[df.SENIORITY > 730].drop_duplicates('IDIND').groupby('FREQ_CAT'.agg({'LTV_24': 'mean'})"
   ]
  },
  {
   "cell_type": "code",
   "execution_count": 145,
   "id": "e110d20f",
   "metadata": {},
   "outputs": [],
   "source": [
    "df_ltv_12.to_excel('./Vertbaudet/France/Output/'+today+'_ltv_12_by_freq_cat.xlsx')"
   ]
  },
  {
   "cell_type": "code",
   "execution_count": 148,
   "id": "1fb7f6ad",
   "metadata": {},
   "outputs": [],
   "source": [
    "df_ltv_24.to_excel('./Vertbaudet/France/Output/'+today+'_ltv_24_by_freq_cat.xlsx')"
   ]
  }
 ],
 "metadata": {
  "kernelspec": {
   "display_name": "Python 3",
   "language": "python",
   "name": "python3"
  },
  "language_info": {
   "codemirror_mode": {
    "name": "ipython",
    "version": 3
   },
   "file_extension": ".py",
   "mimetype": "text/x-python",
   "name": "python",
   "nbconvert_exporter": "python",
   "pygments_lexer": "ipython3",
   "version": "3.8.8"
  }
 },
 "nbformat": 4,
 "nbformat_minor": 5
}
