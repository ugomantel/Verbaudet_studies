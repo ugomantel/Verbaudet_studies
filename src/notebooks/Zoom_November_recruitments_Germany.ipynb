{
 "cells": [
  {
   "cell_type": "code",
   "execution_count": 1,
   "metadata": {},
   "outputs": [],
   "source": [
    "import os\n",
    "import pandas as pd\n",
    "import numpy as np\n",
    "import matplotlib.pyplot as plt\n",
    "from matplotlib import ticker\n",
    "import matplotlib.dates as mdates\n",
    "from datetime import datetime, time ,date ,timedelta\n",
    "from dateutil.relativedelta import relativedelta\n",
    "import seaborn as sns\n",
    "from random import randint\n",
    "pd.options.mode.chained_assignment = None"
   ]
  },
  {
   "cell_type": "code",
   "execution_count": 2,
   "metadata": {},
   "outputs": [],
   "source": [
    "import warnings\n",
    "warnings.filterwarnings(\"ignore\")"
   ]
  },
  {
   "cell_type": "markdown",
   "metadata": {},
   "source": [
    "<h1> Functions </h1>"
   ]
  },
  {
   "cell_type": "markdown",
   "metadata": {},
   "source": [
    "<h3> Fonctions générales </h3>"
   ]
  },
  {
   "cell_type": "code",
   "execution_count": 3,
   "metadata": {},
   "outputs": [],
   "source": [
    "def floatise (df, list_columns_to_floatise):\n",
    "    for i in list_columns_to_floatise:\n",
    "        df[i] = df[i].apply(lambda x: float(x.replace(',','.')))\n",
    "    return (df)"
   ]
  },
  {
   "cell_type": "code",
   "execution_count": 4,
   "metadata": {},
   "outputs": [],
   "source": [
    "def intise (df, list_columns_to_floatise):\n",
    "    for i in list_columns_to_floatise:\n",
    "        df[i] = df[i].astype(int)\n",
    "    return (df)"
   ]
  },
  {
   "cell_type": "code",
   "execution_count": 5,
   "metadata": {},
   "outputs": [],
   "source": [
    "def flatten (table):\n",
    "    if type(table.columns)==pd.MultiIndex:\n",
    "        columns_to_look = [name_tmp for name_tmp in table.columns]\n",
    "\n",
    "        columns_df = [ str(t[0])+'_'+str(t[1]) for t in columns_to_look]\n",
    "        columns_df.insert(0,table.index.name)\n",
    "\n",
    "        df = pd.DataFrame(columns = columns_df)\n",
    "\n",
    "        index = 0\n",
    "        for i in table.index:\n",
    "            row = [table[r][i] for r in columns_to_look]\n",
    "            row.insert(0,i)\n",
    "            df.loc[index] = row\n",
    "            index = index + 1\n",
    "        return(df)\n",
    "    else :\n",
    "        table = pd.DataFrame(table)\n",
    "        table.reset_index(level=0, inplace=True)\n",
    "        return table"
   ]
  },
  {
   "cell_type": "code",
   "execution_count": 6,
   "metadata": {},
   "outputs": [],
   "source": [
    "def flatten_soft(dataframe):\n",
    "    res = pd.DataFrame()\n",
    "    res[dataframe.index.name] = dataframe.index\n",
    "    for col in dataframe.columns:\n",
    "        name_tmp=\"\"\n",
    "        for i in range(len(dataframe.columns[0])):\n",
    "            name_tmp = name_tmp +'_'+str(col[i])\n",
    "        res[str(name_tmp)] = dataframe[col].values\n",
    "    return res"
   ]
  },
  {
   "cell_type": "markdown",
   "metadata": {},
   "source": [
    "<h3> Fonctions particulières </h3>"
   ]
  },
  {
   "cell_type": "code",
   "execution_count": 7,
   "metadata": {},
   "outputs": [],
   "source": [
    "def cohort_attribution (x):\n",
    "    if (x<2017):\n",
    "        return 2016\n",
    "    else :\n",
    "        return x"
   ]
  },
  {
   "cell_type": "code",
   "execution_count": 8,
   "metadata": {},
   "outputs": [],
   "source": [
    "def customer_category_attribution(x):\n",
    "    if x==1:\n",
    "        return 'One-timer'\n",
    "    if x==2:\n",
    "        return 'Two-timer'\n",
    "    else:\n",
    "        return 'Recurring'"
   ]
  },
  {
   "cell_type": "code",
   "execution_count": 9,
   "metadata": {},
   "outputs": [],
   "source": [
    "def describe_discount(x):\n",
    "    if x<5:\n",
    "        return '<5%'\n",
    "    elif (x>=5) and (x<10):\n",
    "        return( '5-10%')\n",
    "    elif (x>=10) and (x<20):\n",
    "        return( '10-20%')\n",
    "    elif (x>=20) and (x<30):\n",
    "        return( '20-30%')\n",
    "    elif (x>=30) and (x<40):\n",
    "        return( '30-40%')\n",
    "    elif (x>=40) and (x<50):\n",
    "        return( '40-50%')\n",
    "    elif (x>=50) and (x<60):\n",
    "        return( '50-60%')\n",
    "    elif (x>=60) and (x<70):\n",
    "        return( '60-70%')\n",
    "    elif (x>=70):\n",
    "        return( '>70%')            "
   ]
  },
  {
   "cell_type": "code",
   "execution_count": 10,
   "metadata": {},
   "outputs": [],
   "source": [
    "def attribute_recruitment_customer_type(x):\n",
    "    if (x.month == 11) & (x.year==2020):\n",
    "        return 'Nov 2020'\n",
    "    elif (x.month == 11) & (x.year != 2020):\n",
    "        return 'Other November'\n",
    "    else :\n",
    "        return 'Other'"
   ]
  },
  {
   "cell_type": "markdown",
   "metadata": {},
   "source": [
    "<h1> Dataset creation </h1>"
   ]
  },
  {
   "cell_type": "markdown",
   "metadata": {},
   "source": [
    "<h3> Import de la data </h3>"
   ]
  },
  {
   "cell_type": "code",
   "execution_count": 11,
   "metadata": {},
   "outputs": [
    {
     "name": "stdout",
     "output_type": "stream",
     "text": [
      "C:\\Users\\UgoMANTEL\\Work\\Github\\Vertbaudet_2021\\src\\notebooks\n"
     ]
    }
   ],
   "source": [
    "src_root = os.getcwd()\n",
    "print(src_root)"
   ]
  },
  {
   "cell_type": "markdown",
   "metadata": {},
   "source": [
    "- Préparation des colonnes:"
   ]
  },
  {
   "cell_type": "code",
   "execution_count": 12,
   "metadata": {},
   "outputs": [],
   "source": [
    "dict_department = {'B':'BEBE','N':'PAP FILLE','U':'PAP GARCON','D':'CHAUSSURE','F':'FEMME',\n",
    "'T':'TEXTILE HOME','P':'PUERICULTURE','W':'NON PAP ENFANT','K':'DECO','M':'CHAMBRE ET LITERIE','R':'JOUETS'}"
   ]
  },
  {
   "cell_type": "markdown",
   "metadata": {},
   "source": [
    "<h3> Création du data </h3>"
   ]
  },
  {
   "cell_type": "markdown",
   "metadata": {},
   "source": [
    "- Définition des répertoires :"
   ]
  },
  {
   "cell_type": "code",
   "execution_count": 13,
   "metadata": {},
   "outputs": [],
   "source": [
    "backup_rep = \"C:/Users/UgoMANTEL/Work/Github/Vertbaudet_2021/data/4. Back-up\""
   ]
  },
  {
   "cell_type": "code",
   "execution_count": 14,
   "metadata": {},
   "outputs": [],
   "source": [
    "output_rep = \"C:/Users/UgoMANTEL/eleven/Engagements - Vertbaudet/5. Analyses/3. Outputs python\""
   ]
  },
  {
   "cell_type": "markdown",
   "metadata": {},
   "source": [
    "- Création de la donnée:"
   ]
  },
  {
   "cell_type": "code",
   "execution_count": 15,
   "metadata": {},
   "outputs": [],
   "source": [
    "df = pd.read_csv(os.path.join(backup_rep,'Raw_Data_Germany.csv'),sep=\";\")\n",
    "df.drop(columns=['Unnamed: 0'],inplace=True)"
   ]
  },
  {
   "cell_type": "markdown",
   "metadata": {},
   "source": [
    "- Conversion des champs:"
   ]
  },
  {
   "cell_type": "code",
   "execution_count": 16,
   "metadata": {},
   "outputs": [],
   "source": [
    "df['DATERF'] = pd.to_datetime(df.DATERF)\n",
    "df['DATAUFTRAG1'] = pd.to_datetime(df.DATAUFTRAG1)\n",
    "df['DATAUFTRAG1_12MONTH'] = pd.to_datetime(df.DATAUFTRAG1_12MONTH)\n",
    "df['DATAUFTRAG1_24MONTH'] = pd.to_datetime(df.DATAUFTRAG1_24MONTH)"
   ]
  },
  {
   "cell_type": "code",
   "execution_count": 17,
   "metadata": {},
   "outputs": [
    {
     "data": {
      "text/plain": [
       "Index(['DATERF', 'DATAUFTRAG1', 'DEPARTEMENT', 'TOT_SALES', 'NET_DEMAND',\n",
       "       'GROSS_DEMAND', 'YEAR_FIRST_ORDER', 'YEAR_ORDER', 'COHORT',\n",
       "       'MONTH_RECRUITMENT', 'ID_ORDER', 'KDNR', 'ARTNRERF', 'DEPARTEMENT_CMD',\n",
       "       'RABATT', 'RABATTSATZ', 'PREIS', 'ANZKINDER', 'ARTGRERF', 'ARTGROESSE',\n",
       "       'CODMARQ', 'DEPARTEMENT_FIRST', 'DATAUFTRAG1_12MONTH',\n",
       "       'DATAUFTRAG1_24MONTH', 'NB_ORDERS', 'CLIENT_CATEGORY'],\n",
       "      dtype='object')"
      ]
     },
     "execution_count": 17,
     "metadata": {},
     "output_type": "execute_result"
    }
   ],
   "source": [
    "df.columns"
   ]
  },
  {
   "cell_type": "markdown",
   "metadata": {},
   "source": [
    "- Rajout du numéro de commandes:"
   ]
  },
  {
   "cell_type": "code",
   "execution_count": 18,
   "metadata": {},
   "outputs": [],
   "source": [
    "nb_order =  flatten(df.groupby(['ID_ORDER']).agg({'KDNR':'last','DATERF':'last'})).sort_values(by='DATERF',ascending=True)\n",
    "nb_order['ORDER_NUMBER'] = nb_order.groupby(['KDNR']).cumcount()+1\n",
    "df = pd.merge(df,nb_order[['ID_ORDER','ORDER_NUMBER']],on='ID_ORDER',how='left')"
   ]
  },
  {
   "cell_type": "markdown",
   "metadata": {},
   "source": [
    "- Import du discount:"
   ]
  },
  {
   "cell_type": "code",
   "execution_count": 19,
   "metadata": {},
   "outputs": [],
   "source": [
    "df_base_price = pd.read_csv('C:/Users/UgoMANTEL/Work/Github/Vertbaudet_2021/data/3. Other/20210928_DiscountGER.csv')\n",
    "df_base_price = df_base_price.drop_duplicates(subset=['ARTNR'], keep='last')"
   ]
  },
  {
   "cell_type": "markdown",
   "metadata": {},
   "source": [
    "- Catégorisation des clients:"
   ]
  },
  {
   "cell_type": "code",
   "execution_count": 20,
   "metadata": {},
   "outputs": [],
   "source": [
    "df['CLIENT_RECRUITMENT_CATEGORY'] = df.DATAUFTRAG1.apply(lambda x: attribute_recruitment_customer_type(x) )"
   ]
  },
  {
   "cell_type": "markdown",
   "metadata": {},
   "source": [
    "<h1> Analyses </h1>"
   ]
  },
  {
   "cell_type": "markdown",
   "metadata": {},
   "source": [
    "<h3> Distribution marques nationales : </h3> "
   ]
  },
  {
   "cell_type": "code",
   "execution_count": 21,
   "metadata": {},
   "outputs": [],
   "source": [
    "df['MARQUE_NATIO'] = df.CODMARQ.apply(lambda x: 'Vertbaudet' if x=='VB'\n",
    "                                     else 'National Brand')"
   ]
  },
  {
   "cell_type": "code",
   "execution_count": 23,
   "metadata": {},
   "outputs": [
    {
     "data": {
      "text/html": [
       "<div>\n",
       "<style scoped>\n",
       "    .dataframe tbody tr th:only-of-type {\n",
       "        vertical-align: middle;\n",
       "    }\n",
       "\n",
       "    .dataframe tbody tr th {\n",
       "        vertical-align: top;\n",
       "    }\n",
       "\n",
       "    .dataframe thead th {\n",
       "        text-align: right;\n",
       "    }\n",
       "</style>\n",
       "<table border=\"1\" class=\"dataframe\">\n",
       "  <thead>\n",
       "    <tr style=\"text-align: right;\">\n",
       "      <th></th>\n",
       "      <th>MARQUE_NATIO</th>\n",
       "      <th>_NET_DEMAND_Nov 2020</th>\n",
       "      <th>_NET_DEMAND_Other</th>\n",
       "      <th>_NET_DEMAND_Other November</th>\n",
       "    </tr>\n",
       "  </thead>\n",
       "  <tbody>\n",
       "    <tr>\n",
       "      <th>0</th>\n",
       "      <td>National Brand</td>\n",
       "      <td>1.623904e+05</td>\n",
       "      <td>6.441211e+06</td>\n",
       "      <td>4.885411e+05</td>\n",
       "    </tr>\n",
       "    <tr>\n",
       "      <th>1</th>\n",
       "      <td>Vertbaudet</td>\n",
       "      <td>3.568888e+06</td>\n",
       "      <td>1.144687e+08</td>\n",
       "      <td>9.612708e+06</td>\n",
       "    </tr>\n",
       "  </tbody>\n",
       "</table>\n",
       "</div>"
      ],
      "text/plain": [
       "     MARQUE_NATIO  _NET_DEMAND_Nov 2020  _NET_DEMAND_Other  \\\n",
       "0  National Brand          1.623904e+05       6.441211e+06   \n",
       "1      Vertbaudet          3.568888e+06       1.144687e+08   \n",
       "\n",
       "   _NET_DEMAND_Other November  \n",
       "0                4.885411e+05  \n",
       "1                9.612708e+06  "
      ]
     },
     "execution_count": 23,
     "metadata": {},
     "output_type": "execute_result"
    }
   ],
   "source": [
    "res_brand = df.groupby(['MARQUE_NATIO','CLIENT_RECRUITMENT_CATEGORY']).agg({'NET_DEMAND':sum})\n",
    "res_brand = flatten_soft(res_brand.unstack('CLIENT_RECRUITMENT_CATEGORY',fill_value=0))\n",
    "res_brand.to_csv(os.path.join(output_rep,'recruit_brand_November_GER.csv'),sep=\";\")\n",
    "res_brand    "
   ]
  },
  {
   "cell_type": "markdown",
   "metadata": {},
   "source": [
    "<h3> Distribution des one-timers, two-timers, recurrings : </h3> "
   ]
  },
  {
   "cell_type": "code",
   "execution_count": 34,
   "metadata": {},
   "outputs": [
    {
     "data": {
      "text/html": [
       "<div>\n",
       "<style scoped>\n",
       "    .dataframe tbody tr th:only-of-type {\n",
       "        vertical-align: middle;\n",
       "    }\n",
       "\n",
       "    .dataframe tbody tr th {\n",
       "        vertical-align: top;\n",
       "    }\n",
       "\n",
       "    .dataframe thead th {\n",
       "        text-align: right;\n",
       "    }\n",
       "</style>\n",
       "<table border=\"1\" class=\"dataframe\">\n",
       "  <thead>\n",
       "    <tr style=\"text-align: right;\">\n",
       "      <th></th>\n",
       "      <th>CLIENT_CATEGORY</th>\n",
       "      <th>_KDNR_Nov 2020</th>\n",
       "      <th>_KDNR_Other</th>\n",
       "      <th>_KDNR_Other November</th>\n",
       "    </tr>\n",
       "  </thead>\n",
       "  <tbody>\n",
       "    <tr>\n",
       "      <th>0</th>\n",
       "      <td>One-timer</td>\n",
       "      <td>23784</td>\n",
       "      <td>350947</td>\n",
       "      <td>34561</td>\n",
       "    </tr>\n",
       "    <tr>\n",
       "      <th>1</th>\n",
       "      <td>Recurring</td>\n",
       "      <td>3949</td>\n",
       "      <td>159847</td>\n",
       "      <td>13044</td>\n",
       "    </tr>\n",
       "    <tr>\n",
       "      <th>2</th>\n",
       "      <td>Two-timer</td>\n",
       "      <td>5895</td>\n",
       "      <td>126261</td>\n",
       "      <td>11301</td>\n",
       "    </tr>\n",
       "  </tbody>\n",
       "</table>\n",
       "</div>"
      ],
      "text/plain": [
       "  CLIENT_CATEGORY  _KDNR_Nov 2020  _KDNR_Other  _KDNR_Other November\n",
       "0       One-timer           23784       350947                 34561\n",
       "1       Recurring            3949       159847                 13044\n",
       "2       Two-timer            5895       126261                 11301"
      ]
     },
     "execution_count": 34,
     "metadata": {},
     "output_type": "execute_result"
    }
   ],
   "source": [
    "res_cat = df.groupby(['CLIENT_RECRUITMENT_CATEGORY','CLIENT_CATEGORY']).agg({'KDNR' : pd.Series.nunique})\n",
    "res_cat = flatten_soft(res_cat.unstack('CLIENT_RECRUITMENT_CATEGORY',fill_value=0))\n",
    "res_cat.to_csv(os.path.join(output_rep,'recruit_month_cat_GER.csv'),sep=\";\")\n",
    "res_cat"
   ]
  },
  {
   "cell_type": "markdown",
   "metadata": {},
   "source": [
    "<h3> Distribution des univers d'achat : </h3>"
   ]
  },
  {
   "cell_type": "code",
   "execution_count": 35,
   "metadata": {},
   "outputs": [
    {
     "data": {
      "text/html": [
       "<div>\n",
       "<style scoped>\n",
       "    .dataframe tbody tr th:only-of-type {\n",
       "        vertical-align: middle;\n",
       "    }\n",
       "\n",
       "    .dataframe tbody tr th {\n",
       "        vertical-align: top;\n",
       "    }\n",
       "\n",
       "    .dataframe thead th {\n",
       "        text-align: right;\n",
       "    }\n",
       "</style>\n",
       "<table border=\"1\" class=\"dataframe\">\n",
       "  <thead>\n",
       "    <tr style=\"text-align: right;\">\n",
       "      <th></th>\n",
       "      <th>DEPARTEMENT_FIRST</th>\n",
       "      <th>_KDNR_Nov 2020</th>\n",
       "      <th>_KDNR_Other</th>\n",
       "      <th>_KDNR_Other November</th>\n",
       "    </tr>\n",
       "  </thead>\n",
       "  <tbody>\n",
       "    <tr>\n",
       "      <th>0</th>\n",
       "      <td>BEBE</td>\n",
       "      <td>3885</td>\n",
       "      <td>108255</td>\n",
       "      <td>9178</td>\n",
       "    </tr>\n",
       "    <tr>\n",
       "      <th>1</th>\n",
       "      <td>CHAMBRE ET LITERIE</td>\n",
       "      <td>3022</td>\n",
       "      <td>56976</td>\n",
       "      <td>6836</td>\n",
       "    </tr>\n",
       "    <tr>\n",
       "      <th>2</th>\n",
       "      <td>CHAUSSURE</td>\n",
       "      <td>364</td>\n",
       "      <td>31890</td>\n",
       "      <td>1603</td>\n",
       "    </tr>\n",
       "    <tr>\n",
       "      <th>3</th>\n",
       "      <td>DECO</td>\n",
       "      <td>4294</td>\n",
       "      <td>76722</td>\n",
       "      <td>7830</td>\n",
       "    </tr>\n",
       "    <tr>\n",
       "      <th>4</th>\n",
       "      <td>FEMME</td>\n",
       "      <td>1345</td>\n",
       "      <td>98693</td>\n",
       "      <td>6395</td>\n",
       "    </tr>\n",
       "    <tr>\n",
       "      <th>5</th>\n",
       "      <td>JOUETS</td>\n",
       "      <td>8881</td>\n",
       "      <td>32230</td>\n",
       "      <td>5346</td>\n",
       "    </tr>\n",
       "    <tr>\n",
       "      <th>6</th>\n",
       "      <td>NON PAP ENFANT</td>\n",
       "      <td>1975</td>\n",
       "      <td>23828</td>\n",
       "      <td>2783</td>\n",
       "    </tr>\n",
       "    <tr>\n",
       "      <th>7</th>\n",
       "      <td>PAP FILLE</td>\n",
       "      <td>2447</td>\n",
       "      <td>73087</td>\n",
       "      <td>6450</td>\n",
       "    </tr>\n",
       "    <tr>\n",
       "      <th>8</th>\n",
       "      <td>PAP GARCON</td>\n",
       "      <td>1941</td>\n",
       "      <td>48105</td>\n",
       "      <td>4000</td>\n",
       "    </tr>\n",
       "    <tr>\n",
       "      <th>9</th>\n",
       "      <td>PUERICULTURE</td>\n",
       "      <td>1143</td>\n",
       "      <td>23826</td>\n",
       "      <td>2178</td>\n",
       "    </tr>\n",
       "    <tr>\n",
       "      <th>10</th>\n",
       "      <td>TEXTILE HOME</td>\n",
       "      <td>4331</td>\n",
       "      <td>63432</td>\n",
       "      <td>6307</td>\n",
       "    </tr>\n",
       "  </tbody>\n",
       "</table>\n",
       "</div>"
      ],
      "text/plain": [
       "     DEPARTEMENT_FIRST  _KDNR_Nov 2020  _KDNR_Other  _KDNR_Other November\n",
       "0                 BEBE            3885       108255                  9178\n",
       "1   CHAMBRE ET LITERIE            3022        56976                  6836\n",
       "2            CHAUSSURE             364        31890                  1603\n",
       "3                 DECO            4294        76722                  7830\n",
       "4                FEMME            1345        98693                  6395\n",
       "5               JOUETS            8881        32230                  5346\n",
       "6       NON PAP ENFANT            1975        23828                  2783\n",
       "7            PAP FILLE            2447        73087                  6450\n",
       "8           PAP GARCON            1941        48105                  4000\n",
       "9         PUERICULTURE            1143        23826                  2178\n",
       "10        TEXTILE HOME            4331        63432                  6307"
      ]
     },
     "execution_count": 35,
     "metadata": {},
     "output_type": "execute_result"
    }
   ],
   "source": [
    "res_univ = df.groupby(['CLIENT_RECRUITMENT_CATEGORY','DEPARTEMENT_FIRST']).agg({'KDNR' : pd.Series.nunique})\n",
    "res_univ = flatten_soft(res_univ.unstack('CLIENT_RECRUITMENT_CATEGORY',fill_value=0))\n",
    "res_univ.to_csv(os.path.join(output_rep,'recruit_month_univ_entry_GER.csv'),sep=\";\")\n",
    "res_univ"
   ]
  },
  {
   "cell_type": "markdown",
   "metadata": {},
   "source": [
    "<h3> Distribution du discount : </h3> "
   ]
  },
  {
   "cell_type": "markdown",
   "metadata": {},
   "source": [
    "- Merge du prix de base:"
   ]
  },
  {
   "cell_type": "code",
   "execution_count": 21,
   "metadata": {},
   "outputs": [
    {
     "name": "stdout",
     "output_type": "stream",
     "text": [
      "% Lines where discount computation is impossible :10.1%\n"
     ]
    }
   ],
   "source": [
    "df = pd.merge(df,df_base_price[['ARTNR','VKP']],\n",
    "                         left_on='ARTNRERF',right_on='ARTNR',how='left',suffixes=(False,False))\n",
    "\n",
    "KPI_to_print = sum(df.ARTNR.isnull())/len(df)*100\n",
    "print('% Lines where discount computation is impossible :' +str(round(KPI_to_print,1))+'%')"
   ]
  },
  {
   "cell_type": "markdown",
   "metadata": {},
   "source": [
    "- Calcul du discount:"
   ]
  },
  {
   "cell_type": "code",
   "execution_count": 22,
   "metadata": {},
   "outputs": [],
   "source": [
    "df['DISCOUNT'] = (1 -  df.PREIS/df.VKP)*100\n",
    "df['CAT_DISCOUNT'] = df.DISCOUNT.apply(lambda x :describe_discount(x))"
   ]
  },
  {
   "cell_type": "markdown",
   "metadata": {},
   "source": [
    "- Vérification:"
   ]
  },
  {
   "cell_type": "code",
   "execution_count": 23,
   "metadata": {},
   "outputs": [
    {
     "name": "stdout",
     "output_type": "stream",
     "text": [
      "% Lines with negative discount :1.7%\n",
      "% Average discount :15.0%\n"
     ]
    }
   ],
   "source": [
    "KPI_to_print = len(df.loc[df.DISCOUNT<0])/len(df)*100\n",
    "print('% Lines with negative discount :' +str(round(KPI_to_print,1))+'%')\n",
    "\n",
    "KPI_to_print = df.DISCOUNT.mean()\n",
    "print('% Average discount :' +str(round(KPI_to_print,1))+'%')"
   ]
  },
  {
   "cell_type": "markdown",
   "metadata": {},
   "source": [
    "- Etude des discount 1 er achat:"
   ]
  },
  {
   "cell_type": "code",
   "execution_count": 24,
   "metadata": {},
   "outputs": [
    {
     "data": {
      "text/html": [
       "<div>\n",
       "<style scoped>\n",
       "    .dataframe tbody tr th:only-of-type {\n",
       "        vertical-align: middle;\n",
       "    }\n",
       "\n",
       "    .dataframe tbody tr th {\n",
       "        vertical-align: top;\n",
       "    }\n",
       "\n",
       "    .dataframe thead th {\n",
       "        text-align: right;\n",
       "    }\n",
       "</style>\n",
       "<table border=\"1\" class=\"dataframe\">\n",
       "  <thead>\n",
       "    <tr style=\"text-align: right;\">\n",
       "      <th></th>\n",
       "      <th>CAT_DISCOUNT</th>\n",
       "      <th>_ARTNRERF_Nov 2020</th>\n",
       "      <th>_ARTNRERF_Other</th>\n",
       "      <th>_ARTNRERF_Other November</th>\n",
       "    </tr>\n",
       "  </thead>\n",
       "  <tbody>\n",
       "    <tr>\n",
       "      <th>0</th>\n",
       "      <td>10-20%</td>\n",
       "      <td>4595</td>\n",
       "      <td>294044</td>\n",
       "      <td>16188</td>\n",
       "    </tr>\n",
       "    <tr>\n",
       "      <th>1</th>\n",
       "      <td>20-30%</td>\n",
       "      <td>4116</td>\n",
       "      <td>258056</td>\n",
       "      <td>29667</td>\n",
       "    </tr>\n",
       "    <tr>\n",
       "      <th>2</th>\n",
       "      <td>30-40%</td>\n",
       "      <td>9792</td>\n",
       "      <td>173890</td>\n",
       "      <td>12630</td>\n",
       "    </tr>\n",
       "    <tr>\n",
       "      <th>3</th>\n",
       "      <td>40-50%</td>\n",
       "      <td>3678</td>\n",
       "      <td>122429</td>\n",
       "      <td>12668</td>\n",
       "    </tr>\n",
       "    <tr>\n",
       "      <th>4</th>\n",
       "      <td>5-10%</td>\n",
       "      <td>190</td>\n",
       "      <td>25680</td>\n",
       "      <td>3756</td>\n",
       "    </tr>\n",
       "    <tr>\n",
       "      <th>5</th>\n",
       "      <td>50-60%</td>\n",
       "      <td>170</td>\n",
       "      <td>81346</td>\n",
       "      <td>803</td>\n",
       "    </tr>\n",
       "    <tr>\n",
       "      <th>6</th>\n",
       "      <td>60-70%</td>\n",
       "      <td>16</td>\n",
       "      <td>63640</td>\n",
       "      <td>1026</td>\n",
       "    </tr>\n",
       "    <tr>\n",
       "      <th>7</th>\n",
       "      <td>&lt;5%</td>\n",
       "      <td>59999</td>\n",
       "      <td>1074047</td>\n",
       "      <td>77222</td>\n",
       "    </tr>\n",
       "    <tr>\n",
       "      <th>8</th>\n",
       "      <td>&gt;70%</td>\n",
       "      <td>14</td>\n",
       "      <td>51899</td>\n",
       "      <td>1264</td>\n",
       "    </tr>\n",
       "  </tbody>\n",
       "</table>\n",
       "</div>"
      ],
      "text/plain": [
       "  CAT_DISCOUNT  _ARTNRERF_Nov 2020  _ARTNRERF_Other  _ARTNRERF_Other November\n",
       "0       10-20%                4595           294044                     16188\n",
       "1       20-30%                4116           258056                     29667\n",
       "2       30-40%                9792           173890                     12630\n",
       "3       40-50%                3678           122429                     12668\n",
       "4        5-10%                 190            25680                      3756\n",
       "5       50-60%                 170            81346                       803\n",
       "6       60-70%                  16            63640                      1026\n",
       "7          <5%               59999          1074047                     77222\n",
       "8         >70%                  14            51899                      1264"
      ]
     },
     "execution_count": 24,
     "metadata": {},
     "output_type": "execute_result"
    }
   ],
   "source": [
    "res_discount_1st = df.loc[df.ORDER_NUMBER == 1].groupby(['CAT_DISCOUNT','CLIENT_RECRUITMENT_CATEGORY']).agg({'ARTNRERF':'count'})\n",
    "res_discount_1st = flatten_soft(res_discount_1st.unstack('CLIENT_RECRUITMENT_CATEGORY',fill_value=0))\n",
    "res_discount_1st.to_csv(os.path.join(output_rep,'Discount1stpurch_perRecruitCategory_GER.csv'),sep=\";\")\n",
    "res_discount_1st"
   ]
  },
  {
   "cell_type": "markdown",
   "metadata": {},
   "source": [
    "- Etude des discount:"
   ]
  },
  {
   "cell_type": "code",
   "execution_count": 40,
   "metadata": {},
   "outputs": [
    {
     "data": {
      "text/html": [
       "<div>\n",
       "<style scoped>\n",
       "    .dataframe tbody tr th:only-of-type {\n",
       "        vertical-align: middle;\n",
       "    }\n",
       "\n",
       "    .dataframe tbody tr th {\n",
       "        vertical-align: top;\n",
       "    }\n",
       "\n",
       "    .dataframe thead th {\n",
       "        text-align: right;\n",
       "    }\n",
       "</style>\n",
       "<table border=\"1\" class=\"dataframe\">\n",
       "  <thead>\n",
       "    <tr style=\"text-align: right;\">\n",
       "      <th></th>\n",
       "      <th>CAT_DISCOUNT</th>\n",
       "      <th>_ARTNRERF_Nov 2020</th>\n",
       "      <th>_ARTNRERF_Other</th>\n",
       "      <th>_ARTNRERF_Other November</th>\n",
       "    </tr>\n",
       "  </thead>\n",
       "  <tbody>\n",
       "    <tr>\n",
       "      <th>0</th>\n",
       "      <td>10-20%</td>\n",
       "      <td>9506</td>\n",
       "      <td>674758</td>\n",
       "      <td>44287</td>\n",
       "    </tr>\n",
       "    <tr>\n",
       "      <th>1</th>\n",
       "      <td>20-30%</td>\n",
       "      <td>9051</td>\n",
       "      <td>603652</td>\n",
       "      <td>58335</td>\n",
       "    </tr>\n",
       "    <tr>\n",
       "      <th>2</th>\n",
       "      <td>30-40%</td>\n",
       "      <td>15200</td>\n",
       "      <td>445249</td>\n",
       "      <td>34897</td>\n",
       "    </tr>\n",
       "    <tr>\n",
       "      <th>3</th>\n",
       "      <td>40-50%</td>\n",
       "      <td>6579</td>\n",
       "      <td>314535</td>\n",
       "      <td>29813</td>\n",
       "    </tr>\n",
       "    <tr>\n",
       "      <th>4</th>\n",
       "      <td>5-10%</td>\n",
       "      <td>498</td>\n",
       "      <td>54337</td>\n",
       "      <td>5728</td>\n",
       "    </tr>\n",
       "    <tr>\n",
       "      <th>5</th>\n",
       "      <td>50-60%</td>\n",
       "      <td>1505</td>\n",
       "      <td>200388</td>\n",
       "      <td>9894</td>\n",
       "    </tr>\n",
       "    <tr>\n",
       "      <th>6</th>\n",
       "      <td>60-70%</td>\n",
       "      <td>220</td>\n",
       "      <td>148840</td>\n",
       "      <td>7670</td>\n",
       "    </tr>\n",
       "    <tr>\n",
       "      <th>7</th>\n",
       "      <td>&lt;5%</td>\n",
       "      <td>87906</td>\n",
       "      <td>2535079</td>\n",
       "      <td>185585</td>\n",
       "    </tr>\n",
       "    <tr>\n",
       "      <th>8</th>\n",
       "      <td>&gt;70%</td>\n",
       "      <td>79</td>\n",
       "      <td>116481</td>\n",
       "      <td>6193</td>\n",
       "    </tr>\n",
       "  </tbody>\n",
       "</table>\n",
       "</div>"
      ],
      "text/plain": [
       "  CAT_DISCOUNT  _ARTNRERF_Nov 2020  _ARTNRERF_Other  _ARTNRERF_Other November\n",
       "0       10-20%                9506           674758                     44287\n",
       "1       20-30%                9051           603652                     58335\n",
       "2       30-40%               15200           445249                     34897\n",
       "3       40-50%                6579           314535                     29813\n",
       "4        5-10%                 498            54337                      5728\n",
       "5       50-60%                1505           200388                      9894\n",
       "6       60-70%                 220           148840                      7670\n",
       "7          <5%               87906          2535079                    185585\n",
       "8         >70%                  79           116481                      6193"
      ]
     },
     "execution_count": 40,
     "metadata": {},
     "output_type": "execute_result"
    }
   ],
   "source": [
    "res_discount = df.groupby(['CAT_DISCOUNT','CLIENT_RECRUITMENT_CATEGORY']).agg({'ARTNRERF':'count'})\n",
    "res_discount = flatten_soft(res_discount.unstack('CLIENT_RECRUITMENT_CATEGORY',fill_value=0))\n",
    "res_discount.to_csv(os.path.join(output_rep,'Discount_perRecruitCategory_GER.csv'),sep=\";\")\n",
    "res_discount"
   ]
  },
  {
   "cell_type": "markdown",
   "metadata": {},
   "source": [
    "<h3> Distribution du délai 1er/2eme achat par univers d'entré : </h3> "
   ]
  },
  {
   "cell_type": "code",
   "execution_count": 31,
   "metadata": {},
   "outputs": [],
   "source": [
    "########################### Trop grand biais ###########################\n",
    "# fig, ax = plt.subplots()\n",
    "\n",
    "# colors = []\n",
    "# n = len(df.CLIENT_RECRUITMENT_CATEGORY.unique())\n",
    "\n",
    "# colors = [ 'limegreen','deepskyblue','mediumslateblue']\n",
    "\n",
    "# i = 0\n",
    "# df = df.loc[df.CLIENT_RECRUITMENT_CATEGORY.isnull()==False]\n",
    "# for univ in df.CLIENT_RECRUITMENT_CATEGORY.unique():\n",
    "#     df_tmp = df.loc[(df.NB_ORDERS>=2) \n",
    "#                     & (df.ORDER_NUMBER<=2) & (df.ORDER_NUMBER>=1) & (df.CLIENT_RECRUITMENT_CATEGORY == univ)].sort_values(by='DATERF',\n",
    "#                                                                                  ascending=True).drop_duplicates(subset='ID_ORDER', keep='first',inplace=False)\n",
    "    \n",
    "#     df_tmp = df_tmp.groupby(['KDNR','ORDER_NUMBER']).agg({'DATERF' : 'last'})\n",
    "\n",
    "#     ######## Création du dataset\n",
    "#     res_delay = flatten_soft(df_tmp.unstack('ORDER_NUMBER',fill_value=0))\n",
    "# #     print(univ)\n",
    "# #     print(res_delay.columns)\n",
    "#     res_delay['DELAY'] = ( res_delay._DATERF_2 - res_delay._DATERF_1)\n",
    "#     res_delay['DELAY_days'] = res_delay.DELAY.dt.days\n",
    "#     res_delay = res_delay.loc[(res_delay.DELAY_days > 0) & (res_delay.DELAY_days < 500)]\n",
    "#     plot_delay = res_delay.DELAY_days.sort_values(ascending=True)\n",
    "    \n",
    "#     plt.step(plot_delay, np.arange(plot_delay.size)/len(plot_delay), color = colors[i] ,label=univ,linewidth = 1.5, markersize=1) \n",
    "#     i = i+1\n",
    "\n",
    "# plt.legend(bbox_to_anchor=(0, -0.15, 1, 0), loc=1, ncol=2, mode=\"expand\", borderaxespad=0)\n",
    "\n",
    "\n",
    "# # fig.set_size_inches(18.5, 12)\n",
    "# # plt.rcParams.update({'font.size': 15})\n",
    "# # plt.savefig('delay_univers_GER.png',dpi=300, bbox_inches = \"tight\")\n",
    "\n",
    "# plt.show()\n"
   ]
  }
 ],
 "metadata": {
  "kernelspec": {
   "display_name": "Python 3",
   "language": "python",
   "name": "python3"
  },
  "language_info": {
   "codemirror_mode": {
    "name": "ipython",
    "version": 3
   },
   "file_extension": ".py",
   "mimetype": "text/x-python",
   "name": "python",
   "nbconvert_exporter": "python",
   "pygments_lexer": "ipython3",
   "version": "3.7.7"
  }
 },
 "nbformat": 4,
 "nbformat_minor": 4
}
