{
 "cells": [
  {
   "cell_type": "code",
   "execution_count": 1,
   "metadata": {},
   "outputs": [],
   "source": [
    "import os\n",
    "import pandas as pd\n",
    "import numpy as np\n",
    "import matplotlib.pyplot as plt\n",
    "from matplotlib import ticker\n",
    "import matplotlib.dates as mdates\n",
    "from datetime import datetime, time ,date ,timedelta\n",
    "from dateutil.relativedelta import relativedelta\n",
    "import seaborn as sns\n",
    "pd.options.mode.chained_assignment = None"
   ]
  },
  {
   "cell_type": "markdown",
   "metadata": {},
   "source": [
    "<h1> Fonctions de base </h1>"
   ]
  },
  {
   "cell_type": "code",
   "execution_count": 2,
   "metadata": {},
   "outputs": [],
   "source": [
    "\"\"\"Fonction pour applatir le résultat d'un groupby sur une composante\"\"\"\n",
    "\n",
    "def flatten (table):\n",
    "    if type(table.columns)==pd.MultiIndex:\n",
    "        columns_to_look = [name_tmp for name_tmp in table.columns]\n",
    "\n",
    "        columns_df = [ str(t[0])+'_'+str(t[1]) for t in columns_to_look]\n",
    "        columns_df.insert(0,table.index.name)\n",
    "\n",
    "        df = pd.DataFrame(columns = columns_df)\n",
    "\n",
    "        index = 0\n",
    "        for i in table.index:\n",
    "            row = [table[r][i] for r in columns_to_look]\n",
    "            row.insert(0,i)\n",
    "            df.loc[index] = row\n",
    "            index = index + 1\n",
    "        return(df)\n",
    "    else :\n",
    "        table = pd.DataFrame(table)\n",
    "        table.reset_index(level=0, inplace=True)\n",
    "        return table"
   ]
  },
  {
   "cell_type": "code",
   "execution_count": 3,
   "metadata": {},
   "outputs": [],
   "source": [
    "\"\"\"Fonction pour applatir le résultat d'un groupby sur plusieurs composantes\"\"\"\n",
    "\n",
    "def flatten_soft (dataframe):\n",
    "    res = pd.DataFrame()\n",
    "    res[dataframe.index.name] = dataframe.index\n",
    "    for col in dataframe.columns:\n",
    "        name_tmp=\"\"\n",
    "        for i in range(len(dataframe.columns[0])):\n",
    "            name_tmp = name_tmp +'_'+str(col[i])\n",
    "        res[str(name_tmp)] = dataframe[col].values\n",
    "    return res"
   ]
  },
  {
   "cell_type": "markdown",
   "metadata": {},
   "source": [
    "<h1> Fonctions de création de features </h1>"
   ]
  },
  {
   "cell_type": "code",
   "execution_count": 6,
   "metadata": {},
   "outputs": [],
   "source": [
    "\"\"\"Fonction pour attribuer chaque client à une cohorte.\n",
    "Les paramètres :\n",
    "- df le dataframe de base commandes à la maille ligne = article commandé\n",
    "- id_customer le champ d'identifiant client\n",
    "- id_order le champ d'identifiant commande\n",
    "- order_date le champ de date de commande\n",
    "\"\"\"\n",
    "\n",
    "def get_cohort (df, id_customer, id_order, order_date, first_year=None):\n",
    "    df_cohort = df.sort_values(by=str(order_date),\n",
    "                               ascending=True).drop_duplicates(subset=str(id_customer), keep='first',inplace=False)\n",
    "    df_cohort['COHORT'] = df_cohort[str(order_date)].dt.year\n",
    "\n",
    "    if first_year is not None:\n",
    "        df_cohort['COHORT'] = df_cohort['COHORT'].apply(lambda x: str('Before '+str(first_year-1)) if x<first_year\n",
    "                                                       else x)\n",
    "    df = pd.merge(df, df_cohort[[str(id_customer),'COHORT']], on=str(id_customer), how='outer', suffixes=(False,False))\n",
    "    return df"
   ]
  },
  {
   "cell_type": "code",
   "execution_count": 7,
   "metadata": {},
   "outputs": [],
   "source": [
    "\"\"\"Fonction pour déterminer le nombre de commandes par client.\n",
    "Les paramètres :\n",
    "- df le dataframe de base commandes à la maille ligne = articles\n",
    "- id_customer le champ d'identifiant client\n",
    "- id_order le champ d'identifiant commande\n",
    "\"\"\"\n",
    "\n",
    "def get_order_number_per_customer (df, id_customer, id_order):\n",
    "    nb_order = flatten(df.groupby([str(id_customer)]).agg({str(id_order) : pd.Series.nunique}))\n",
    "    nb_order.columns = [str(id_customer),'NB_ORDERS']\n",
    "    df = pd.merge(df, nb_order[[str(id_customer),'NB_ORDERS']], on=str(id_customer), how='outer', suffixes=(False,False))\n",
    "    return df                                           "
   ]
  },
  {
   "cell_type": "code",
   "execution_count": 2,
   "metadata": {},
   "outputs": [],
   "source": [
    "\"\"\"Fonction pour déterminer le nombre d'articles par commandes.\n",
    "Les paramètres :\n",
    "- df le dataframe de base commandes à la maille ligne = articles\n",
    "- id_order le champ d'identifiant client\n",
    "- id_article le champ d'identifiant article\n",
    "\"\"\"\n",
    "\n",
    "def get_article_number_per_order (df, id_order, id_article):\n",
    "    nb_article = flatten(df.groupby([str(id_order)]).agg({str(id_article) : pd.Series.nunique}))\n",
    "    nb_article.columns = [str(id_order),'NB_ARTICLES']\n",
    "    df = pd.merge(df, nb_article[[str(id_order),'NB_ARTICLES']], on=str(id_order), how='outer', suffixes=(False,False))\n",
    "    return df  "
   ]
  },
  {
   "cell_type": "code",
   "execution_count": 8,
   "metadata": {},
   "outputs": [],
   "source": [
    "\"\"\"Fonction pour déterminer le numéro des commandes.\n",
    "Les paramètres :\n",
    "- df le dataframe de base commandes à la maille ligne = articles\n",
    "- id_customer le champ d'identifiant client\n",
    "- id_order le champ d'identifiant commande\n",
    "\"\"\"\n",
    "\n",
    "def get_order_numero (df, id_customer, id_order, order_date):\n",
    "    nb_order =  flatten(df.groupby([str(id_order)]).agg({str(id_customer):'last',str(order_date):'last'})).sort_values(by=str(order_date),ascending=True)\n",
    "    nb_order['ORDER_NUMBER'] = nb_order.groupby([str(id_customer)]).cumcount()+1\n",
    "    df = pd.merge(df, nb_order[[str(id_order),'ORDER_NUMBER']],on=str(id_order) ,how='left')\n",
    "    return df        \n"
   ]
  },
  {
   "cell_type": "code",
   "execution_count": 1,
   "metadata": {},
   "outputs": [],
   "source": [
    "\"\"\"Fonction pour déterminer l'univers majoritaire (l'univers désignant une catégorie de produits plus macro que la \n",
    "maille produits) d'une commande.\n",
    "\n",
    "Les paramètres :\n",
    "- df le dataframe de base commandes à la maille ligne = articles\n",
    "- id_order le champ d'identifiant commande\n",
    "- id_universe le champ décrivant la catégorie d'un article \n",
    "- value_article le champ de valeur de l'article (en €)\n",
    "\"\"\"\n",
    "\n",
    "def get_order_universe (df, id_order, order_date):  \n",
    "    order_universe = df.groupby([str(id_order),str(id_universe)]).agg({str(value_article):sum}).reset_index().sort_values(by=str(value_article),ascending=False)\n",
    "    order_universe = order_universe.drop_duplicates(subset=[str(id_order)],keep='first')\n",
    "    order_universe.columns = [str(id_order),'MAIN_UNIVERSE',str(value_order)]\n",
    "    df = pd.merge(df,order_universe[[str(id_order),'MAIN_UNIVERSE']],on=str(id_order),how='left',suffixes=(False,False))\n",
    "    return df    "
   ]
  },
  {
   "cell_type": "code",
   "execution_count": 3,
   "metadata": {},
   "outputs": [],
   "source": [
    "\"\"\"Fonction pour attribuer chaque client une date de première commande.\n",
    "Les paramètres :\n",
    "- df le dataframe de base commandes à la maille ligne = article commandé\n",
    "- id_customer le champ d'identifiant client\n",
    "- id_order le champ d'identifiant commande\n",
    "- order_date le champ de date de commande\n",
    "\"\"\"\n",
    "\n",
    "def get_first_order (df, id_customer, id_order, order_date):\n",
    "    df_cohort = df.sort_values(by=str(order_date),\n",
    "                               ascending=True).drop_duplicates(subset=str(id_customer), keep='first',inplace=False)\n",
    "    order_universe.columns = [str(id_customer),'1ST_ORDER_DATE']\n",
    "    df = pd.merge(df, df_cohort[[str(order_date),'1ST_ORDER_DATE']], on=str(id_customer), how='outer', suffixes=(False,False))\n",
    "    return df"
   ]
  },
  {
   "cell_type": "code",
   "execution_count": 4,
   "metadata": {},
   "outputs": [],
   "source": [
    "\"\"\"Fonction pour obtenir la séniorité en base d'un client.\n",
    "Les paramètres :\n",
    "- df le dataframe de base commandes à la maille ligne = article commandé\n",
    "- id_first_order le champs donnant la date de premiere commande d'un client ui peut être obtenu par get_first_order\n",
    "\n",
    "\"\"\"\n",
    "\n",
    "def get_seniority (df, id_customer, id_first_order):\n",
    "    df['SENIORITY'] = (datetime.now() - df[str(id_first_order)]).dt.days\n",
    "    return df"
   ]
  },
  {
   "cell_type": "code",
   "execution_count": 6,
   "metadata": {},
   "outputs": [],
   "source": [
    "\"\"\"Fonction pour déterminer calculer la LTV-X mois d'un client.\n",
    "\n",
    "Les paramètres :\n",
    "- df le dataframe de base commandes à la maille ligne = articles\n",
    "- id_customer le champ d'identifiant client\n",
    "- id_order le champ d'identifiant commande\n",
    "- id_first_order le champs donnant la date de premiere commande d'un client ui peut être obtenu par get_first_order\n",
    "- seniority le champs donnant la séniorité en jour du client dans la base\n",
    "- value_article le champ de valeur de l'article (en €)\n",
    "- time_delta la durée sur laquelle on veut calculer la LTV (en nombre de jours)\n",
    "\n",
    "\n",
    "On renvoit un dataset avec la LTV par client qui peut être ensuite être mergé sur le dataset original pour segmenter la LTV\n",
    "selon des critères prédéfinis.\n",
    "\"\"\"\n",
    "\n",
    "def get_LTV (df, id_customer, id_order, id_first_order, seniority, value_article, time_delta):\n",
    "    df['LTV_DATE'] = df[str(id_first_order)] + timedelta(days = time_delta)\n",
    "    df_ltv = df.loc[( df[str(id_order)] <= df['LTV_DATE'] ) & ( df[str(seniority)] > time_delta)]\n",
    "    df_ltv = flatten(df_ltv.groupby([str(id_customer)]).agg({str(value_article):sum}))\n",
    "    df_ltv.columns = [str(id_customer),'LTV']\n",
    "    return df_ltv"
   ]
  },
  {
   "cell_type": "markdown",
   "metadata": {},
   "source": [
    "<h1> Fonctions d'études </h1>"
   ]
  },
  {
   "cell_type": "markdown",
   "metadata": {},
   "source": [
    "<h4> Analyse cohortes</h4>\n",
    "\n",
    "Construction du dataset pour afficher les cohortes:"
   ]
  },
  {
   "cell_type": "code",
   "execution_count": null,
   "metadata": {},
   "outputs": [],
   "source": [
    "\"\"\"Fonction pour extraire la donnée en cohortes en valeur et volume.\n",
    "\n",
    "Les paramètres :\n",
    "- df le dataframe de base commandes à la maille ligne = article dans la commande \n",
    "- id_customer le champ d'identifiant client\n",
    "- id_order le champ d'identifiant commande\n",
    "- order_date le champ de date de commande\n",
    "- value_article le champ de valeur de l'article (en €)\n",
    "- id_cohort le champ de cohorte qui peut être obtenu par get_cohort\n",
    "\n",
    "\n",
    "La sortie:\n",
    "- Une fois groupé par cohortes, les colonnes ACTIVE_XXXX permettent d'obtenir les cohortes en volume \n",
    "- Une fois groupé par cohortes, les colonnes SALES_XXXX permettent d'obtenir les cohortes en valeur \n",
    "\"\"\"\n",
    "\n",
    "def build_cohort(df, id_order, order_date):\n",
    "    output = pd.DataFrame(columns=[str(id_customer), str(id_cohort)])\n",
    "    \n",
    "    df['YEAR_ORDER'] = df[str(order_date)].dt.year\n",
    "    \n",
    "    for year in df['YEAR_ORDER'].unique():\n",
    "        df_tmp_peryear = df.loc[df.YEAR_ORDER == year]\n",
    "        df_tmp_peryear = flatten(df_tmp_peryear.groupby([str(id_customer)]).agg({str(value_article): sum, str(id_cohort):'last'})\n",
    "        df_tmp_peryear.columns = [str(id_customer),str('SALES_'+str(year)),str('COHORT_'+str(year))]\n",
    "        df_tmp_peryear[str('ACTIVE_'+str(year))] = 1\n",
    "            \n",
    "        output = pd.merge(output,df_tmp_peryear, on=str(id_customer), how='outer', suffixes=(False,False))\n",
    "        output[str(id_cohort)] = output[str(id_cohort)].combine_first(output[str('COHORT_'+str(year))])\n",
    "        output.drop(columns=[str('COHORT_'+str(year))], inplace=True)\n",
    "    \n",
    "    return output    "
   ]
  },
  {
   "cell_type": "markdown",
   "metadata": {},
   "source": [
    "<h4> Analyse bridge</h4>\n",
    "\n",
    "Construction du waterfall pour segmenter la croissance d'une année vers l'autre en new business, churn, LFL, et reactivation:"
   ]
  },
  {
   "cell_type": "code",
   "execution_count": null,
   "metadata": {},
   "outputs": [],
   "source": [
    "\"\"\"Fonction pour construire le waterfall.\n",
    "Les paramètres :\n",
    "- df le dataframe de base commandes à la maille ligne = article dans la commande \n",
    "- id_customer le champ d'identifiant client\n",
    "- id_order le champ d'identifiant commande\n",
    "- order_date le champ de date de commande\n",
    "- value_article le champ de valeur de la commande (en €)\n",
    "- id_cohort le champ de cohorte qui peut être obtenu par get_cohort\n",
    "\n",
    "La sortie:\n",
    "- Une fois sommé sur l'axe=0, les colonnes NEW_BUSINESS_XXXX, LFL_XXXX, CHURN_XXXX et REACTIVATED_XXXX permettent de tracer\n",
    "le waterfall\n",
    "\"\"\"\n",
    "\n",
    "def build_waterfall(df, id_customer, order_date, value_order, id_cohort):\n",
    "    output = pd.DataFrame(columns=[str(id_customer), str(id_cohort)])\n",
    "    \n",
    "    df['YEAR_ORDER'] = df[str(order_date)].dt.year\n",
    "    \n",
    "    for year in df['YEAR_ORDER'].unique():\n",
    "        df_tmp_peryear = df.loc[df.YEAR_ORDER == year]\n",
    "        df_tmp_peryear = flatten(df_tmp_peryear.groupby([str(id_customer)]).agg({str(value_article): sum, str(id_cohort):'last'})\n",
    "        df_tmp_peryear.columns = [str(id_customer),str('SALES_'+str(year)),str('COHORT_'+str(year))]\n",
    "        df_tmp_peryear[str('ACTIVE_'+str(year))] = 1\n",
    "            \n",
    "        output = pd.merge(output,df_tmp_peryear, on=str(id_customer), how='outer', suffixes=(False,False))\n",
    "        output[str(id_cohort)] = output[str(id_cohort)].combine_first(output[str('COHORT_'+str(year))])\n",
    "        output.drop(columns=[str('COHORT_'+str(year))], inplace=True)\n",
    "    \n",
    "\n",
    "    for year in range(int(min(df[str(id_cohort)].unique()))+1,int(max(df[str(id_cohort)].unique()))):\n",
    "        output[str('NEW_BUSINESS_'+str(int(year+1)))] = output.apply(lambda row: row[str('SALES_'+str(year+1))] \n",
    "                                                          if ((row[str('ACTIVE_'+str(year))] == 0) and (row[str('ACTIVE_'+str(year+1))] == 1) and \n",
    "                                                             row[str(id_cohort)]==year+1)\n",
    "                                                          else 0 ,axis=1)\n",
    "        output[str('LFL_'+str(int(year)))] = output.apply(lambda row: row[str('SALES_'+str(year+1))]-row[str('SALES_'+str(year))]\n",
    "                                                          if ((row[str('ACTIVE_'+str(year))] == 1) and (row[str('ACTIVE_'+str(year+1))] == 1))\n",
    "                                                          else 0 ,axis=1)\n",
    "        output[str('CHURN_'+str(int(year+1)))] = output.apply(lambda row: -row[str('SALES_'+str(year))] \n",
    "                                                          if ((row[str('ACTIVE_'+str(year))] == 1) and (row[str('ACTIVE_'+str(year+1))] == 0))\n",
    "                                                          else 0 ,axis=1)\n",
    "        output[str('REACTIVATED_'+str(int(year+1)))] = output.apply(lambda row: row[str('SALES_'+str(year+1))] \n",
    "                                                          if ((row[str('ACTIVE_'+str(year))] == 0) and (row[str('ACTIVE_'+str(year+1))] == 1) \n",
    "                                                              and (row[str(id_cohort)]<year+1))\n",
    "                                                          else 0 ,axis=1)\n",
    "                                 \n",
    "                                 \n",
    "    output.drop(columns=[str(id_customer), str(id_cohort)], inplace=True)\n",
    "    output = output.sum(axis=0)      \n",
    "    return output"
   ]
  },
  {
   "cell_type": "markdown",
   "metadata": {},
   "source": [
    "<h4> Analyse Sankey</h4>\n",
    "\n",
    "Construction d'un Sankey par univers de commmande :"
   ]
  },
  {
   "cell_type": "code",
   "execution_count": null,
   "metadata": {},
   "outputs": [],
   "source": [
    "\"\"\"Fonction pour construire le waterfall.\n",
    "Les paramètres :\n",
    "- df le dataframe de base commandes à la maille ligne = article dans la commande\n",
    "- id_cohort le champ de cohorte qui peut être obtenu par get_cohort\n",
    "\n",
    "\"\"\"\n",
    "\n",
    "def build_sankey(df, id_cohort, zoom_cohort=None ):\n",
    "    if first_year is not None:\n",
    "        df_sankey =  df.loc[df_sankey[str(id_cohort)] == zoom_year]\n",
    "    \n",
    "    "
   ]
  }
 ],
 "metadata": {
  "kernelspec": {
   "display_name": "Python 3",
   "language": "python",
   "name": "python3"
  },
  "language_info": {
   "codemirror_mode": {
    "name": "ipython",
    "version": 3
   },
   "file_extension": ".py",
   "mimetype": "text/x-python",
   "name": "python",
   "nbconvert_exporter": "python",
   "pygments_lexer": "ipython3",
   "version": "3.7.7"
  }
 },
 "nbformat": 4,
 "nbformat_minor": 4
}
